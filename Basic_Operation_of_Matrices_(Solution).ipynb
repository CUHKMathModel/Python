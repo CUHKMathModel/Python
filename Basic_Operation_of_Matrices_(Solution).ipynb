{
  "cells": [
    {
      "cell_type": "markdown",
      "id": "32c7f884",
      "metadata": {
        "id": "32c7f884"
      },
      "source": [
        "# Notes"
      ]
    },
    {
      "cell_type": "code",
      "execution_count": null,
      "id": "6764a248",
      "metadata": {
        "id": "6764a248"
      },
      "outputs": [],
      "source": [
        "import numpy as np                  # \"numpy\" is a library in Python that collects the operations of matrices.\n",
        "from numpy.linalg import inv"
      ]
    },
    {
      "cell_type": "code",
      "execution_count": null,
      "id": "da2b46d6",
      "metadata": {
        "id": "da2b46d6",
        "outputId": "97161928-dc8f-4699-cb65-76794862a4bf"
      },
      "outputs": [
        {
          "data": {
            "text/plain": [
              "array([[1, 2],\n",
              "       [3, 4],\n",
              "       [5, 6]])"
            ]
          },
          "execution_count": 2,
          "metadata": {},
          "output_type": "execute_result"
        }
      ],
      "source": [
        "A = np.array([[1,2], [3,4], [5,6]]) # define matrix in Python\n",
        "A"
      ]
    },
    {
      "cell_type": "code",
      "execution_count": null,
      "id": "a7d1c9ab",
      "metadata": {
        "id": "a7d1c9ab",
        "outputId": "3c351e28-a75a-4d3d-e5bd-b6777714fd22"
      },
      "outputs": [
        {
          "data": {
            "text/plain": [
              "array([[1, 2, 3],\n",
              "       [4, 5, 6]])"
            ]
          },
          "execution_count": 3,
          "metadata": {},
          "output_type": "execute_result"
        }
      ],
      "source": [
        "B = np.array([[1,2,3], [4,5,6]])\n",
        "B"
      ]
    },
    {
      "cell_type": "code",
      "execution_count": null,
      "id": "4c6962f0",
      "metadata": {
        "id": "4c6962f0"
      },
      "outputs": [],
      "source": [
        "C = np.array([[3,-3], [4,-4]])\n",
        "D = np.array([[5,-5], [6,-6]])"
      ]
    },
    {
      "cell_type": "code",
      "execution_count": null,
      "id": "85a38512",
      "metadata": {
        "id": "85a38512",
        "outputId": "1d0f7aac-a34e-4232-ef63-fb3b7c4277ab"
      },
      "outputs": [
        {
          "data": {
            "text/plain": [
              "array([[-3,  3],\n",
              "       [-4,  4]])"
            ]
          },
          "execution_count": 5,
          "metadata": {},
          "output_type": "execute_result"
        }
      ],
      "source": [
        "C@D            # matrix multiplication"
      ]
    },
    {
      "cell_type": "code",
      "execution_count": null,
      "id": "a239ab6a",
      "metadata": {
        "id": "a239ab6a",
        "outputId": "537f0e24-3a60-4c68-8231-6efe589065af"
      },
      "outputs": [
        {
          "data": {
            "text/plain": [
              "array([[-3,  3],\n",
              "       [-4,  4]])"
            ]
          },
          "execution_count": 6,
          "metadata": {},
          "output_type": "execute_result"
        }
      ],
      "source": [
        "from numpy.linalg import matrix_power\n",
        "matrix_power(C, 4)"
      ]
    },
    {
      "cell_type": "code",
      "execution_count": null,
      "id": "9c70bda1",
      "metadata": {
        "id": "9c70bda1",
        "outputId": "e8258767-73d7-4d00-9b61-3d06ed75463e"
      },
      "outputs": [
        {
          "data": {
            "text/plain": [
              "array([[-3,  3],\n",
              "       [-4,  4]])"
            ]
          },
          "execution_count": 7,
          "metadata": {},
          "output_type": "execute_result"
        }
      ],
      "source": [
        "C@C@C@C"
      ]
    },
    {
      "cell_type": "code",
      "execution_count": null,
      "id": "70ce4070",
      "metadata": {
        "id": "70ce4070",
        "outputId": "cecf102d-00a7-46c8-a4e7-26783b72af57"
      },
      "outputs": [
        {
          "data": {
            "text/plain": [
              "array([[15, 15],\n",
              "       [24, 24]])"
            ]
          },
          "execution_count": 8,
          "metadata": {},
          "output_type": "execute_result"
        }
      ],
      "source": [
        "C*D            # element-wise multiplication"
      ]
    },
    {
      "cell_type": "code",
      "execution_count": null,
      "id": "29cad616",
      "metadata": {
        "id": "29cad616",
        "outputId": "504c1129-3db6-43a2-88cf-1452fe347409"
      },
      "outputs": [
        {
          "data": {
            "text/plain": [
              "array([[  8,  -8],\n",
              "       [ 10, -10]])"
            ]
          },
          "execution_count": 9,
          "metadata": {},
          "output_type": "execute_result"
        }
      ],
      "source": [
        "C+D            # matrix addition"
      ]
    },
    {
      "cell_type": "code",
      "execution_count": null,
      "id": "534ddd5b",
      "metadata": {
        "id": "534ddd5b",
        "outputId": "7fc52f49-c01a-4497-8ff4-0c1749657b1d"
      },
      "outputs": [
        {
          "data": {
            "text/plain": [
              "array([[-2,  2],\n",
              "       [-2,  2]])"
            ]
          },
          "execution_count": 10,
          "metadata": {},
          "output_type": "execute_result"
        }
      ],
      "source": [
        "C-D            # matrix subtraction"
      ]
    },
    {
      "cell_type": "code",
      "execution_count": null,
      "id": "93905934",
      "metadata": {
        "id": "93905934",
        "outputId": "d30bc6a9-8c15-449b-cf1e-acf52c560372"
      },
      "outputs": [
        {
          "data": {
            "text/plain": [
              "array([[-0.875, -0.375],\n",
              "       [-0.625, -0.125]])"
            ]
          },
          "execution_count": 11,
          "metadata": {},
          "output_type": "execute_result"
        }
      ],
      "source": [
        "E = np.array([[1,-3], [-5, 7]])\n",
        "inv(E)         # matrix inverse"
      ]
    },
    {
      "cell_type": "code",
      "execution_count": null,
      "id": "01d83651",
      "metadata": {
        "id": "01d83651",
        "outputId": "c9b692e2-eb6f-49f0-8ac4-afb1ecccc642"
      },
      "outputs": [
        {
          "data": {
            "text/plain": [
              "array([[1., 0.],\n",
              "       [0., 1.]])"
            ]
          },
          "execution_count": 12,
          "metadata": {},
          "output_type": "execute_result"
        }
      ],
      "source": [
        "E@inv(E)"
      ]
    },
    {
      "cell_type": "code",
      "execution_count": null,
      "id": "4e7131fe",
      "metadata": {
        "id": "4e7131fe",
        "outputId": "4647c01c-c590-4112-be01-d0010243c68a"
      },
      "outputs": [
        {
          "data": {
            "text/plain": [
              "array([[1., 0.],\n",
              "       [0., 1.]])"
            ]
          },
          "execution_count": 13,
          "metadata": {},
          "output_type": "execute_result"
        }
      ],
      "source": [
        "inv(E)@E"
      ]
    },
    {
      "cell_type": "code",
      "execution_count": null,
      "id": "3bbde618",
      "metadata": {
        "id": "3bbde618",
        "outputId": "63abb4f2-1450-4c6a-a0f8-1ba785270b83"
      },
      "outputs": [
        {
          "data": {
            "text/plain": [
              "array([[ 1, -5],\n",
              "       [-3,  7]])"
            ]
          },
          "execution_count": 14,
          "metadata": {},
          "output_type": "execute_result"
        }
      ],
      "source": [
        "E.T           # matrix transpose"
      ]
    },
    {
      "cell_type": "code",
      "execution_count": null,
      "id": "2d6bd22a",
      "metadata": {
        "id": "2d6bd22a",
        "outputId": "049d2196-36e3-4268-a1be-5dc3d6d2c046"
      },
      "outputs": [
        {
          "data": {
            "text/plain": [
              "array([0, 1, 2, 3, 4, 5, 6, 7, 8, 9])"
            ]
          },
          "execution_count": 15,
          "metadata": {},
          "output_type": "execute_result"
        }
      ],
      "source": [
        "F = np.arange(10)         # define a sequence of 10 numbers starts from 0 to 9\n",
        "F"
      ]
    },
    {
      "cell_type": "code",
      "execution_count": null,
      "id": "6e5758e8",
      "metadata": {
        "id": "6e5758e8",
        "outputId": "cfa0e09b-acf7-465d-cd4b-05d80464a8c7"
      },
      "outputs": [
        {
          "data": {
            "text/plain": [
              "2"
            ]
          },
          "execution_count": 16,
          "metadata": {},
          "output_type": "execute_result"
        }
      ],
      "source": [
        "F[2]          # note that the index of matrix/array in Python starts from 0"
      ]
    },
    {
      "cell_type": "code",
      "execution_count": null,
      "id": "48a70204",
      "metadata": {
        "id": "48a70204",
        "outputId": "4557d573-295e-434a-cb5f-ebfbdc6c61af"
      },
      "outputs": [
        {
          "data": {
            "text/plain": [
              "0"
            ]
          },
          "execution_count": 17,
          "metadata": {},
          "output_type": "execute_result"
        }
      ],
      "source": [
        "F[0]"
      ]
    },
    {
      "cell_type": "markdown",
      "id": "36e58711",
      "metadata": {
        "id": "36e58711"
      },
      "source": [
        "# Exercise"
      ]
    },
    {
      "cell_type": "markdown",
      "id": "cd51f9c1",
      "metadata": {
        "id": "cd51f9c1"
      },
      "source": [
        "1(a). Define a row matrix stores the sequence from 0 to 20."
      ]
    },
    {
      "cell_type": "code",
      "execution_count": null,
      "id": "8c45d8dd",
      "metadata": {
        "id": "8c45d8dd"
      },
      "outputs": [],
      "source": [
        "s = np.arange(21)"
      ]
    },
    {
      "cell_type": "markdown",
      "id": "feba16b1",
      "metadata": {
        "id": "feba16b1"
      },
      "source": [
        "1(b). Find the sum of seventh power of each element in the row matrix in (a)."
      ]
    },
    {
      "cell_type": "code",
      "execution_count": null,
      "id": "eb03911c",
      "metadata": {
        "id": "eb03911c",
        "outputId": "90d81a2b-125e-44d3-e7ee-e37b83894d32"
      },
      "outputs": [
        {
          "data": {
            "text/plain": [
              "417680596"
            ]
          },
          "execution_count": 27,
          "metadata": {},
          "output_type": "execute_result"
        }
      ],
      "source": [
        "abs(np.sum(s**7))"
      ]
    },
    {
      "cell_type": "markdown",
      "id": "392a4398",
      "metadata": {
        "id": "392a4398"
      },
      "source": [
        "2. Let $M = \\left[\\begin{matrix}\n",
        "0 & 1 & 0 & 0 \\\\\n",
        "1 & 0 & 0 & 0 \\\\\n",
        "0 & 0 & 0 & 1 \\\\\n",
        "0 & 0 & 1 & 0 \\end{matrix}\\right]$."
      ]
    },
    {
      "cell_type": "markdown",
      "id": "e5f2ee77",
      "metadata": {
        "id": "e5f2ee77"
      },
      "source": [
        "(a). Find $M^2$ and $M^3$."
      ]
    },
    {
      "cell_type": "code",
      "execution_count": null,
      "id": "58cbee8e",
      "metadata": {
        "id": "58cbee8e"
      },
      "outputs": [],
      "source": [
        "M = np.array([[0,1,0,0], [1,0,0,0], [0,0,0,1], [0,0,1,0]])"
      ]
    },
    {
      "cell_type": "code",
      "execution_count": null,
      "id": "b730c8d0",
      "metadata": {
        "id": "b730c8d0",
        "outputId": "a85a1907-9f5e-41af-c35e-01e9b706bc89"
      },
      "outputs": [
        {
          "name": "stdout",
          "output_type": "stream",
          "text": [
            "M^2 = \n",
            "[[1 0 0 0]\n",
            " [0 1 0 0]\n",
            " [0 0 1 0]\n",
            " [0 0 0 1]]\n",
            "\n",
            "M^3 = \n",
            "[[0 1 0 0]\n",
            " [1 0 0 0]\n",
            " [0 0 0 1]\n",
            " [0 0 1 0]]\n"
          ]
        }
      ],
      "source": [
        "print('M^2 = ')\n",
        "print(M@M)\n",
        "print('')\n",
        "print('M^3 = ')\n",
        "print(M@M@M)"
      ]
    },
    {
      "cell_type": "markdown",
      "id": "31e5baf4",
      "metadata": {
        "id": "31e5baf4"
      },
      "source": [
        "(b) Verify $M^{-1} = M$."
      ]
    },
    {
      "cell_type": "code",
      "execution_count": null,
      "id": "fea17fe9",
      "metadata": {
        "id": "fea17fe9",
        "outputId": "6950b37e-0c0f-431a-c57e-c7f5d3d4f709"
      },
      "outputs": [
        {
          "data": {
            "text/plain": [
              "array([[0., 0., 0., 0.],\n",
              "       [0., 0., 0., 0.],\n",
              "       [0., 0., 0., 0.],\n",
              "       [0., 0., 0., 0.]])"
            ]
          },
          "execution_count": 22,
          "metadata": {},
          "output_type": "execute_result"
        }
      ],
      "source": [
        "inv(M)-M"
      ]
    }
  ],
  "metadata": {
    "kernelspec": {
      "display_name": "Python 3 (ipykernel)",
      "language": "python",
      "name": "python3"
    },
    "language_info": {
      "codemirror_mode": {
        "name": "ipython",
        "version": 3
      },
      "file_extension": ".py",
      "mimetype": "text/x-python",
      "name": "python",
      "nbconvert_exporter": "python",
      "pygments_lexer": "ipython3",
      "version": "3.9.13"
    },
    "colab": {
      "provenance": []
    }
  },
  "nbformat": 4,
  "nbformat_minor": 5
}