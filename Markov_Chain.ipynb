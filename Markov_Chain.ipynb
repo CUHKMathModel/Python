{
  "cells": [
    {
      "cell_type": "markdown",
      "id": "48b47b92",
      "metadata": {
        "id": "48b47b92"
      },
      "source": [
        "# Notes"
      ]
    },
    {
      "cell_type": "markdown",
      "id": "28f8c239",
      "metadata": {
        "id": "28f8c239"
      },
      "source": [
        "Markov chain is a type of probability model that models the probability of random transitions between states. Usually in a Markov chain model, we assume the phenomenon we are modelling only have a few states, then we try to model the probability of any state proceeds to another state. In general, there are two types of Markov chain, discrete and continuous."
      ]
    },
    {
      "cell_type": "markdown",
      "id": "cc2b884a",
      "metadata": {
        "id": "cc2b884a"
      },
      "source": [
        "```Markov Property```"
      ]
    },
    {
      "cell_type": "markdown",
      "id": "f53b068e",
      "metadata": {
        "id": "f53b068e"
      },
      "source": [
        "Both types of Markov chain obeys the Markov property:\n",
        "\n",
        "**_The probability of the next state occurs only depends on the probability of the current state, but not the second, third, fourth... past states._**"
      ]
    },
    {
      "cell_type": "markdown",
      "id": "fd93ff16",
      "metadata": {
        "id": "fd93ff16"
      },
      "source": [
        "### 1. Discrete-Time Markov Chain"
      ]
    },
    {
      "cell_type": "markdown",
      "id": "02e02793",
      "metadata": {
        "id": "02e02793"
      },
      "source": [
        "Discrete-time Markov chain (DTMC) predicts the probability of transition between states directly by its transition matrix. Note that transition happens after a each fixed time interval (e.g. a second, a day, a month etc.)."
      ]
    },
    {
      "cell_type": "markdown",
      "id": "00dde097",
      "metadata": {
        "id": "00dde097"
      },
      "source": [
        "```Example 1 (Simple Weather Model)```"
      ]
    },
    {
      "cell_type": "markdown",
      "id": "5badc0f8",
      "metadata": {
        "id": "5badc0f8"
      },
      "source": [
        "Suppose there are three states, sunny, rainy and cloudy. The number in the diagram is the probability\n",
        "of each day with the corresponding state changes to the other state. We define the time interval to a day, which means the weather will change on each day."
      ]
    },
    {
      "cell_type": "markdown",
      "id": "f05f58c7",
      "metadata": {
        "id": "f05f58c7"
      },
      "source": [
        "<img src='https://drive.google.com/uc?id=1nkw0b4MBLu4rfAsYU9hNPHTzqNxgH02e'>"
      ]
    },
    {
      "cell_type": "markdown",
      "id": "72bc4f7f",
      "metadata": {
        "id": "72bc4f7f"
      },
      "source": [
        "The transition matrix of the model is\n",
        "\n",
        "$$\\left[\\begin{matrix}\n",
        "0.8 & 0.1 & 0.1 \\\\\n",
        "0.2 & 0.5 & 0.3 \\\\\n",
        "0.4 & 0.2 & 0.4\n",
        "\\end{matrix}\\right].$$\n",
        "\n",
        "Note that the row sum of the matrix should be 1. We may compute the stationary state vector by the following codes."
      ]
    },
    {
      "cell_type": "code",
      "execution_count": null,
      "id": "6206d920",
      "metadata": {
        "id": "6206d920"
      },
      "outputs": [],
      "source": [
        "import numpy as np\n",
        "from numpy.linalg import matrix_power, inv"
      ]
    },
    {
      "cell_type": "code",
      "execution_count": null,
      "id": "5b155119",
      "metadata": {
        "id": "5b155119",
        "outputId": "cd69b5a3-8d72-4e29-d266-b731b3bffc00"
      },
      "outputs": [
        {
          "data": {
            "text/plain": [
              "array([[0.8, 0.1, 0.1],\n",
              "       [0.2, 0.5, 0.3],\n",
              "       [0.4, 0.2, 0.4]])"
            ]
          },
          "execution_count": 3,
          "metadata": {},
          "output_type": "execute_result"
        }
      ],
      "source": [
        "P = np.array([[0.8, 0.1, 0.1], [0.2, 0.5, 0.3], [0.4, 0.2, 0.4]])\n",
        "P"
      ]
    },
    {
      "cell_type": "code",
      "execution_count": null,
      "id": "005c4079",
      "metadata": {
        "id": "005c4079",
        "outputId": "8e09eda6-68e1-49f8-dfa7-1035fe63467e"
      },
      "outputs": [
        {
          "data": {
            "text/plain": [
              "array([1, 0, 0])"
            ]
          },
          "execution_count": 4,
          "metadata": {},
          "output_type": "execute_result"
        }
      ],
      "source": [
        "# initial state vector, representing the probability of \"day 0 is sunny\" is 100%\n",
        "# the vector stands for the probability of [Sunny, Rainy, Cloudy]\n",
        "u = np.array([1, 0, 0])\n",
        "u"
      ]
    },
    {
      "cell_type": "code",
      "execution_count": null,
      "id": "7d159588",
      "metadata": {
        "id": "7d159588",
        "outputId": "dc6405f9-6372-4cf7-fcbd-4428e7db30f7"
      },
      "outputs": [
        {
          "data": {
            "text/plain": [
              "array([0.8, 0.1, 0.1])"
            ]
          },
          "execution_count": 5,
          "metadata": {},
          "output_type": "execute_result"
        }
      ],
      "source": [
        "u@P    # day 1"
      ]
    },
    {
      "cell_type": "code",
      "execution_count": null,
      "id": "99ba8884",
      "metadata": {
        "id": "99ba8884",
        "outputId": "103ff272-500d-441b-ece8-177c8673452d"
      },
      "outputs": [
        {
          "data": {
            "text/plain": [
              "array([0.7 , 0.15, 0.15])"
            ]
          },
          "execution_count": 6,
          "metadata": {},
          "output_type": "execute_result"
        }
      ],
      "source": [
        "u@P@P  # day 2"
      ]
    },
    {
      "cell_type": "code",
      "execution_count": null,
      "id": "003a1b39",
      "metadata": {
        "id": "003a1b39",
        "outputId": "6e2eb139-f29b-49ad-bd55-d773969ec268"
      },
      "outputs": [
        {
          "data": {
            "text/plain": [
              "array([0.7 , 0.15, 0.15])"
            ]
          },
          "execution_count": 7,
          "metadata": {},
          "output_type": "execute_result"
        }
      ],
      "source": [
        "u@matrix_power(P, 2)   # another command to compute matrix power"
      ]
    },
    {
      "cell_type": "code",
      "execution_count": null,
      "id": "493e8f8c",
      "metadata": {
        "id": "493e8f8c",
        "outputId": "1feba8ae-ca0d-43ce-b506-ea5ce2c85f2b"
      },
      "outputs": [
        {
          "data": {
            "text/plain": [
              "array([0.6, 0.2, 0.2])"
            ]
          },
          "execution_count": 8,
          "metadata": {},
          "output_type": "execute_result"
        }
      ],
      "source": [
        "u@matrix_power(P, 10000)    # estimate the stationary state vector"
      ]
    },
    {
      "cell_type": "markdown",
      "id": "fef3dc26",
      "metadata": {
        "id": "fef3dc26"
      },
      "source": [
        "### 2. Continuous-Time Markov Chain"
      ]
    },
    {
      "cell_type": "markdown",
      "id": "2082db3c",
      "metadata": {
        "id": "2082db3c"
      },
      "source": [
        "Continuous-time Markov chain (CTMC) estimates the required time until next transition of states. Unlike DTMC, CTMC assumes the change of states occurs at any time but not after a fixed time interval. Hence, we may use CTMC to model stock price, interest rate changes, call arrivals in telecommunication systems, network congestion, genetic mutations, cellular chemical process etc."
      ]
    },
    {
      "cell_type": "markdown",
      "id": "37d84249",
      "metadata": {
        "id": "37d84249"
      },
      "source": [
        "We will represent a CTMC model by a rate matrix."
      ]
    },
    {
      "cell_type": "markdown",
      "id": "24275f3b",
      "metadata": {
        "id": "24275f3b"
      },
      "source": [
        "```Example 2 (Computer System)```"
      ]
    },
    {
      "cell_type": "markdown",
      "id": "e656b235",
      "metadata": {
        "id": "e656b235"
      },
      "source": [
        "**Problem**\n",
        "\n",
        "A computer center has two computers operating continuously. When one of them stops, the average time required to restart the process is exponentially distributed with a mean of 0.6 hours. The average estimated time to stop is also exponentially distributed with a mean of 0.4 hours."
      ]
    },
    {
      "cell_type": "markdown",
      "id": "13938a38",
      "metadata": {
        "id": "13938a38"
      },
      "source": [
        "**Solution**\n",
        "\n",
        "Let $E_0$, $E_1$ and $E_2$ be the states \"both computers are operating\", \"one computer is stopped\" and \"both computers are stopped\". Note that the average time required to restart and to stop are obeying exponential distribution with $1/\\lambda_1 = 0.6$ and $1/\\lambda_2 = 0.4$ respectively. We need to compute the rate of a computer stops and restarts.\n",
        "\n",
        "rate of a computer stops $= \\lambda_1 = 1/0.6 = 1.66$ computer/hr\n",
        "\n",
        "rate of a computer restarts $= \\lambda_2 = 1/0.4 = 2.5$ computer/hr"
      ]
    },
    {
      "cell_type": "markdown",
      "id": "ffd37b8a",
      "metadata": {
        "id": "ffd37b8a"
      },
      "source": [
        "Then from $E_0$ to $E_1$ and from $E_1$ to $E_2$, we have rate 1.66. From $E_2$ to $E_1$ and from $E_1$ to $E_0$, we have rate 2.5. Hence the rate matrix of the CTMC model is\n",
        "$$\n",
        "\\left[\\begin{matrix}\n",
        "-1.66 & 1.66 & 0 \\\\\n",
        "2.5 & -4.16 & 1.66 \\\\\n",
        "0 & 2.5 & -2.5\n",
        "\\end{matrix}\\right].\n",
        "$$\n",
        "Note that the row sum of a rate matrix is 0 but not 1. The diagonal entries are defined by the negative value of the other elements in that row."
      ]
    },
    {
      "cell_type": "markdown",
      "id": "78914f2b",
      "metadata": {
        "id": "78914f2b"
      },
      "source": [
        "We may find the stationary states vector by solving the equation $uQ = 0$, while the row sum of $u$ is 1. We may treat it as a linear programming problem."
      ]
    },
    {
      "cell_type": "code",
      "execution_count": null,
      "id": "0187d6ac",
      "metadata": {
        "id": "0187d6ac"
      },
      "outputs": [],
      "source": [
        "from scipy.optimize import linprog\n",
        "obj_coeff = np.zeros(3)\n",
        "con_coeff = np.array([\n",
        "    [-1.66, 2.5, 0],\n",
        "    [1.66, -4.16, 2.5],\n",
        "    [0, 1.66, -2.5],\n",
        "    [1, 1, 1]\n",
        "])\n",
        "con_bd = np.array([0, 0, 0, 1])\n",
        "v = linprog(obj_coeff, A_eq = con_coeff, b_eq = con_bd, method=\"highs\")"
      ]
    },
    {
      "cell_type": "code",
      "execution_count": null,
      "id": "0caeb49b",
      "metadata": {
        "id": "0caeb49b",
        "outputId": "b9785ab2-6164-4e1c-a073-0d9e8a1148e7"
      },
      "outputs": [
        {
          "name": "stdout",
          "output_type": "stream",
          "text": [
            "Solution:\n",
            "u1 = 0.4751\n",
            "u2 = 0.3155\n",
            "u3 = 0.2095\n"
          ]
        }
      ],
      "source": [
        "if v.success:\n",
        "    u1, u2, u3 = v.x\n",
        "    print(\"Solution:\")\n",
        "    print(f\"u1 = {u1:.4f}\")\n",
        "    print(f\"u2 = {u2:.4f}\")\n",
        "    print(f\"u3 = {u3:.4f}\")\n",
        "else:\n",
        "    print(\"Optimization failed:\", v.message)"
      ]
    },
    {
      "cell_type": "markdown",
      "id": "287dfec8",
      "metadata": {
        "id": "287dfec8"
      },
      "source": [
        "Hence, the stationary state vector is $u = \\left[\\begin{matrix}0.4751 & 0.3155 & 0.2095\\end{matrix}\\right]$. That means in long run, both computers will stop operation for 20.95% of time."
      ]
    },
    {
      "cell_type": "markdown",
      "id": "76c24adc",
      "metadata": {
        "id": "76c24adc"
      },
      "source": [
        "# Exercise"
      ]
    },
    {
      "cell_type": "markdown",
      "id": "214919b3",
      "metadata": {
        "id": "214919b3"
      },
      "source": [
        "1. Suppose in a small town there are only two newspaper, A and B. Assume the population reading the two newspaper will not change. By statistics, 80% of the people who read newspaper A today will keep reading A tomorrow while 60% of the people who read newspaper B today will keep reading B tomorrow. Now we know on 5 June there are 60% of the population reads newspaper A and 40% reads newspaper B."
      ]
    },
    {
      "cell_type": "markdown",
      "id": "ac22ae94",
      "metadata": {
        "id": "ac22ae94"
      },
      "source": [
        "(a). Find the ratio of the population who read newspaper A and B on 3 June."
      ]
    },
    {
      "cell_type": "code",
      "source": [],
      "metadata": {
        "id": "fyQ8plfJKkY9"
      },
      "id": "fyQ8plfJKkY9",
      "execution_count": null,
      "outputs": []
    },
    {
      "cell_type": "markdown",
      "id": "eac84190",
      "metadata": {
        "id": "eac84190"
      },
      "source": [
        "(b). Consider from 5 June, will the population of reading A and B converges to a constant ratio?"
      ]
    },
    {
      "cell_type": "code",
      "source": [],
      "metadata": {
        "id": "puBci89OKkse"
      },
      "id": "puBci89OKkse",
      "execution_count": null,
      "outputs": []
    },
    {
      "cell_type": "markdown",
      "id": "9f990aaa",
      "metadata": {
        "id": "9f990aaa"
      },
      "source": [
        "2. A man has two bag, denote them by A and B. There are two 10-dollar coins in bag A while three 5-dollar coins are in bag B. We define the states of bag A by $A_1$, $A_2$ and $A_3$, representing \"two 10_dollar coins\", \"one 10_dollar coin\" and \"no 10-dollar coins\". The man pick one coin from each bag at the same time and put them in the other bag. This process is repeated five times."
      ]
    },
    {
      "cell_type": "markdown",
      "id": "d1e74050",
      "metadata": {
        "id": "d1e74050"
      },
      "source": [
        "(a). Find the probability of $A_1$."
      ]
    },
    {
      "cell_type": "code",
      "source": [],
      "metadata": {
        "id": "n-GoxwlqKlVp"
      },
      "id": "n-GoxwlqKlVp",
      "execution_count": null,
      "outputs": []
    },
    {
      "cell_type": "markdown",
      "id": "a8dc8954",
      "metadata": {
        "id": "a8dc8954"
      },
      "source": [
        "(b). Find the expected value in bag A."
      ]
    },
    {
      "cell_type": "code",
      "source": [],
      "metadata": {
        "id": "FqJpEwiZKlqx"
      },
      "id": "FqJpEwiZKlqx",
      "execution_count": null,
      "outputs": []
    },
    {
      "cell_type": "markdown",
      "id": "5bc21f40",
      "metadata": {
        "id": "5bc21f40"
      },
      "source": [
        "3. Consider a machine that works for an exponential amount of time having mean 2 before breaking down; and suppose that it takes an exponential amount of time having mean 0.3 to repair the machine. If the machine is in working condition at $t = 0$, find the stationary state vector of the scenario."
      ]
    },
    {
      "cell_type": "code",
      "execution_count": null,
      "id": "ad7bd91e",
      "metadata": {
        "id": "ad7bd91e"
      },
      "outputs": [],
      "source": []
    }
  ],
  "metadata": {
    "kernelspec": {
      "display_name": "Python 3 (ipykernel)",
      "language": "python",
      "name": "python3"
    },
    "language_info": {
      "codemirror_mode": {
        "name": "ipython",
        "version": 3
      },
      "file_extension": ".py",
      "mimetype": "text/x-python",
      "name": "python",
      "nbconvert_exporter": "python",
      "pygments_lexer": "ipython3",
      "version": "3.9.13"
    },
    "colab": {
      "provenance": []
    }
  },
  "nbformat": 4,
  "nbformat_minor": 5
}