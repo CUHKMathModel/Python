{
  "nbformat": 4,
  "nbformat_minor": 0,
  "metadata": {
    "colab": {
      "provenance": []
    },
    "kernelspec": {
      "name": "python3",
      "display_name": "Python 3"
    },
    "language_info": {
      "name": "python"
    }
  },
  "cells": [
    {
      "cell_type": "markdown",
      "source": [
        "# Applications of Principal Component Analysis\n",
        "\n"
      ],
      "metadata": {
        "id": "RHdQOsqU48SA"
      }
    },
    {
      "cell_type": "markdown",
      "source": [
        "# Exercise 1: Statistical Computations on Vectors"
      ],
      "metadata": {
        "id": "APD2wU5Ndu8X"
      }
    },
    {
      "cell_type": "markdown",
      "source": [
        "**1.5 Exercise 1** \\\\\n",
        "Let\n",
        "\n",
        "$$\n",
        "\\textbf{x} = \\begin{bmatrix}\n",
        "4 \\\\\n",
        "-2 \\\\\n",
        "7\n",
        "\\end{bmatrix},\n",
        "\\:\\:\\:\\:\\:\n",
        "\\textbf{y} = \\begin{bmatrix}\n",
        "3 \\\\\n",
        "4 \\\\\n",
        "5\n",
        "\\end{bmatrix}.\n",
        "$$\n",
        "\n",
        "Compute the following quantities: \\\\\n",
        "(a) The means $\\bar{x}$ and $\\bar{y}$. \\\\\n",
        "(b) The variances $s_\\textbf{x}^2$ and  $s_\\textbf{y}^2$. \\\\\n",
        "(c) The covariance $\\text{cov}(\\textbf{x},\\textbf{y})$. \\\\\n",
        "(d) The correlation between $\\textbf{x}$ and $\\textbf{y}$."
      ],
      "metadata": {
        "id": "ifkSpAoaeIcg"
      }
    },
    {
      "cell_type": "markdown",
      "source": [
        "**Task 1(a): Compute the means $\\bar{x}$ and $\\bar{y}$** \\\\\n",
        "To do: replace `...` below to input the vectors $\\textbf{x}$ and $\\textbf{y}$ and then compute the means $\\bar{x}$ and $\\bar{y}$ \\\\\n",
        "(Hint: the command `np.mean(a)` returns the arithmetic mean of array `a`)"
      ],
      "metadata": {
        "id": "0-TUyHcYgOqK"
      }
    },
    {
      "cell_type": "code",
      "execution_count": null,
      "metadata": {
        "id": "Ur_o5xju4zWY",
        "colab": {
          "base_uri": "https://localhost:8080/"
        },
        "outputId": "18069a1f-1031-4cb6-f547-016a0c5236a9"
      },
      "outputs": [
        {
          "output_type": "stream",
          "name": "stdout",
          "text": [
            "(a) Sample Means:\n",
            "Mean of x: 3.0\n",
            "Mean of y: 4.0\n"
          ]
        }
      ],
      "source": [
        "import numpy as np\n",
        "\n",
        "# Define the input vectors x and y\n",
        "x = np.array([4, -2, 7])\n",
        "y = np.array([3, 4, 5])\n",
        "\n",
        "# (a) Compute sample means\n",
        "mean_x = np.mean(x)  # Mean of vector x\n",
        "mean_y = np.mean(y)  # Mean of vector y\n",
        "\n",
        "# Output the results\n",
        "print(\"(a) Sample Means:\")\n",
        "print(\"Mean of x:\", mean_x)\n",
        "print(\"Mean of y:\", mean_y)"
      ]
    },
    {
      "cell_type": "markdown",
      "source": [
        "**Task 1(b): Compute the variances $s_\\textbf{x}^2$ and  $s_\\textbf{y}^2$** \\\\\n",
        "To do: replace `...` below to compute the sample variances $s_\\textbf{x}^2$ and  $s_\\textbf{y}^2$ \\\\\n",
        "(Hint: the command `np.var(a, ddof=1)` returns the sample variance of array `a`)"
      ],
      "metadata": {
        "id": "Lj8jUuWJiVOO"
      }
    },
    {
      "cell_type": "code",
      "source": [
        "# (b) Compute sample variances (using ddof=1 for sample variance)\n",
        "var_x = np.var(x, ddof=1)  # Sample variance of x\n",
        "var_y = np.var(y, ddof=1)  # Sample variance of y\n",
        "\n",
        "print(\"(b) Sample Variances:\")\n",
        "print(\"Variance of x:\", var_x)\n",
        "print(\"Variance of y:\", var_y)"
      ],
      "metadata": {
        "colab": {
          "base_uri": "https://localhost:8080/"
        },
        "id": "3x7tdUW6jIge",
        "outputId": "56274c92-5402-45b6-fab3-8e4d1740cc8c"
      },
      "execution_count": null,
      "outputs": [
        {
          "output_type": "stream",
          "name": "stdout",
          "text": [
            "(b) Sample Variances:\n",
            "Variance of x: 21.0\n",
            "Variance of y: 1.0\n"
          ]
        }
      ]
    },
    {
      "cell_type": "markdown",
      "source": [
        "**Task 1(c): Compute the covariance $\\text{cov}(\\textbf{x},\\textbf{y})$** \\\\\n",
        "To do: replace `...` below to compute the sample covariance $\\text{cov}(\\textbf{x},\\textbf{y})$ \\\\\n",
        "(Hint: the command `np.cov(a, b)` returns the covariance matrix of arrays `a` and `b`, in which the (0, 1)-entry is the covariance of arrays `a` and `b`)"
      ],
      "metadata": {
        "id": "MMCoHsE5jwCg"
      }
    },
    {
      "cell_type": "code",
      "source": [
        "# (c) Compute sample covariance\n",
        "# np.cov returns a covariance matrix; we extract the covariance, which is the [0, 1] element\n",
        "cov_matrix = np.cov(x, y)\n",
        "cov_xy = cov_matrix[0, 1]\n",
        "\n",
        "print(\"(c) Sample Covariance:\")\n",
        "print(\"Covariance between x and y:\", cov_xy)"
      ],
      "metadata": {
        "colab": {
          "base_uri": "https://localhost:8080/"
        },
        "id": "f2TUZu9lkDuo",
        "outputId": "02cb52fc-dd31-4019-ec71-f5382261559b"
      },
      "execution_count": null,
      "outputs": [
        {
          "output_type": "stream",
          "name": "stdout",
          "text": [
            "(c) Sample Covariance:\n",
            "Covariance between x and y: 1.5\n"
          ]
        }
      ]
    },
    {
      "cell_type": "markdown",
      "source": [
        "**Task 1(d): Compute the correlation between $\\textbf{x}$ and $\\textbf{y}$** \\\\\n",
        "To do: replace `...` below to compute the sample correlation between $\\textbf{x}$ and $\\textbf{y}$ \\\\\n",
        "(Hint: the command `np.corrcoef(a, b)` returns the Pearson product-moment correlation coefficients matrix of arrays `a` and `b`, in which the (0, 1)-entry is the sample correlation of arrays `a` and `b`)"
      ],
      "metadata": {
        "id": "HAYQWXsZmEKX"
      }
    },
    {
      "cell_type": "code",
      "source": [
        "# (d) Compute sample correlation\n",
        "cor_xy = np.corrcoef(x, y)[0, 1]  # Pearson correlation coefficient\n",
        "\n",
        "print(\"(d) Sample Correlation:\")\n",
        "print(\"Correlation between x and y:\", cor_xy)"
      ],
      "metadata": {
        "colab": {
          "base_uri": "https://localhost:8080/"
        },
        "id": "mabQBQLFmTDo",
        "outputId": "9e986f8f-c2ea-4c63-9e36-8e2bbb3928b9"
      },
      "execution_count": null,
      "outputs": [
        {
          "output_type": "stream",
          "name": "stdout",
          "text": [
            "(d) Sample Correlation:\n",
            "Correlation between x and y: 0.3273268353539886\n"
          ]
        }
      ]
    },
    {
      "cell_type": "markdown",
      "source": [
        "# Exercise 2: Performance of Honors Calculus class students"
      ],
      "metadata": {
        "id": "8ZxEAwdnqV84"
      }
    },
    {
      "cell_type": "markdown",
      "source": [
        "**1.7 Exercise 2** \\\\\n",
        "The set of data in the table below was collected by one of the authors from an Honors Calculus class of 14 students. The four variables are:\n",
        "* ${MT}$: a score from a national test (range 1 to 36)\n",
        "* ${FE}$: final exam score (range 0 to 200)\n",
        "* ${Qav}$: mean of eight quiz scores (range 0 to 100)\n",
        "* ${Tav}$: mean of three test scores (range 0 to 100)\n",
        "\n",
        "**1.7.1 Original Data** \\\\\n",
        "\n",
        "$$\n",
        "\\begin{array}{cccccccc}\n",
        "\\hline\n",
        "Student & MT & FE & Qav & Tav \\\\\n",
        "\\hline\n",
        "1 & 33 & 181 & 95 & 89 \\\\\n",
        "2 & 31 & 169 & 81 & 89 \\\\\n",
        "3 & 21 & 176 & 65 & 68 \\\\\n",
        "4 & 25 & 181 & 66 & 90 \\\\\n",
        "5 & 29 & 169 & 89 & 81 \\\\\n",
        "6 & 24 & 103 & 61 & 57 \\\\\n",
        "7 & 24 & 150 & 81 & 76 \\\\\n",
        "8 & 29 & 147 & 86 & 76 \\\\\n",
        "9 & 36 & 181 & 98 & 102 \\\\\n",
        "10 & 26 & 163 & 72 & 70 \\\\\n",
        "11 & 31 & 163 & 95 & 81 \\\\\n",
        "12 & 29 & 147 & 65 & 67 \\\\\n",
        "13 & 23 & 160 & 62 & 68 \\\\\n",
        "14 & 26 & 100 & 63 & 56 \\\\ \\hline\n",
        "\\end{array}\n",
        "$$\n"
      ],
      "metadata": {
        "id": "hcbTIhuO69J8"
      }
    },
    {
      "cell_type": "markdown",
      "source": [
        "Perferm the following tasks: \\\\\n",
        "1. * **Original Data**: The data is stored in a NumPy array.\n",
        "   * **Compute Column Means**: Calculate the mean for each column using `np.mean`.\n",
        "   *  **Compute Column Standard Deviations**: Calculate the standard deviation for each column using `np.std` with `ddof=1` for sample standard deviation.\n",
        "2. * **Standardize the Data**: Use the formula\n",
        "$$\n",
        "\\textbf{z} = \\frac{\\textbf{x}-\\bar{\\textbf{x}}}{s_\\textbf{x}}\n",
        "$$\n",
        "to standardize the data. (obtaining a scaled variable with mean 0 and standard devation 1)\n",
        "   * **Round the $Z$ Matrix**: Round the standardized values to four decimal places using `np.round`.\n",
        "3. * **Compute the Correlation Matrix**: Calculate the correlation matrix of the standardized data using `np.corrcoef`.\n",
        "   * **Round the $C_0$ Matrix**: Round the values to four decimal places using `np.round`.\n",
        "4. **Perform PCA**: Use PCA from `sklearn.decomposition` to perform principal component analysis.\n",
        "5. * **Extract the Loadings**: Get the eigenvectors (loadings) from the PCA result using `pca.components_`.\n",
        "   * **Extract the Eigenvalues**: Get the eigenvalues from the PCA result using `pca.explained_variance_`.\n",
        "6. * **Compute Specified Sums `y1` and `y2`**: Calculate the specified sums using the loadings and standardized data.\n",
        "  * **Compute Column Means of `y1` and `y2`**: Calculate the mean of the computed sums `y1` and `y2`.\n",
        "  * **Compute Column Standard Deviations of `y1` and `y2`**: Calculate the standard deviation of `y1` and `y2`.\n",
        "  * **Normalize `y1` and `y2`**: Normalize `y1` and `y2` using their respective means and standard deviations.\n",
        "  * **Add `y1_normalized` and `y2_normalized` to Z**: Add the normalized `y1` and `y2` as new columns to the standardized data matrix.\n",
        "  * **Compute Correlation Matrix with `y1_normalized` and `y2_normalized`**: Calculate the correlation matrix including the normalized `y1` and `y2`.\n",
        "  * **Remove Row and Column Labels from `newC0`**: Remove the row and column labels from the new correlation matrix.\n",
        "7. **Compute the Proportion of Variance Explained**: Calculate the proportion of variance explained by each principal component.\n",
        "8. **Compute the Principal Components**: Get the principal components from the PCA result using `pca.transform`.\n",
        "9. * **Print the Results**: Display the correlation matrix, loadings, eigenvalues, proportion of variance explained, and principal components.\n",
        "   * **Plot Principal Axes**: Plot the principal axes (PC1 and PC2) in a scatter plot with different colors.\n"
      ],
      "metadata": {
        "id": "t7y7Esda0PHM"
      }
    },
    {
      "cell_type": "markdown",
      "source": [
        "**Task 2.1: Compute the means and standard deviations of the variables** \\\\\n",
        "To do: replace `...` below to compute the means and standard deviations of the variables $MT, FE, Qav, Tav$ \\\\\n",
        "(Hint: the command `np.mean(a, axis=0)` returns the arithmetic mean of array `a` along the columns and \\\\\n",
        "the command `np.std(a, axis=0, ddof=1)` returns the sample standard deviation of array `a` along the columns)"
      ],
      "metadata": {
        "id": "OZBS_MNHDie4"
      }
    },
    {
      "cell_type": "code",
      "source": [
        "import numpy as np\n",
        "from sklearn.preprocessing import StandardScaler\n",
        "from sklearn.decomposition import PCA\n",
        "import matplotlib.pyplot as plt\n",
        "import pandas as pd\n",
        "\n",
        "# Step 1,1: Original data\n",
        "data = np.array([\n",
        "    [33, 181, 95, 89],\n",
        "    [31, 169, 81, 89],\n",
        "    [21, 176, 65, 68],\n",
        "    [25, 181, 66, 90],\n",
        "    [29, 169, 89, 81],\n",
        "    [24, 103, 61, 57],\n",
        "    [24, 150, 81, 76],\n",
        "    [29, 147, 86, 76],\n",
        "    [36, 181, 98, 102],\n",
        "    [26, 163, 72, 70],\n",
        "    [31, 163, 95, 81],\n",
        "    [29, 147, 65, 67],\n",
        "    [23, 160, 62, 68],\n",
        "    [26, 100, 63, 56]\n",
        "])\n",
        "\n",
        "# Step 1.2: Compute column means\n",
        "mean_values = np.mean(data, axis=0)\n",
        "print(\"Column Means:\", mean_values)\n",
        "\n",
        "# Step 1.3: Compute column standard deviations\n",
        "std_dev_values = np.std(data, axis=0, ddof=1)\n",
        "print(\"Column Standard Deviations:\", std_dev_values)"
      ],
      "metadata": {
        "colab": {
          "base_uri": "https://localhost:8080/"
        },
        "id": "2EcJUG0XDePw",
        "outputId": "b91664e5-a552-4062-b66f-1e0e6082c5ca"
      },
      "execution_count": null,
      "outputs": [
        {
          "output_type": "stream",
          "name": "stdout",
          "text": [
            "Column Means: [ 27.64285714 156.42857143  77.07142857  76.42857143]\n",
            "Column Standard Deviations: [ 4.21731126 26.11723358 13.74752725 13.19507067]\n"
          ]
        }
      ]
    },
    {
      "cell_type": "markdown",
      "source": [
        "**Task 2.2: Find the standardized matrix $Z$ of the data** \\\\\n",
        "To do: replace `...` below to compute the the standardized matrix $Z$ with scaled variables (standard score)"
      ],
      "metadata": {
        "id": "dw4Fkb4BEH_u"
      }
    },
    {
      "cell_type": "code",
      "source": [
        "# Step 2.1: Standardize the data\n",
        "Z = (data - mean_values) / std_dev_values\n",
        "\n",
        "# Step 2.2: Round the Z matrix to four decimal places\n",
        "Z = np.round(Z, 4)\n",
        "print(\"Standardized Data (Z):\\n\", Z)"
      ],
      "metadata": {
        "colab": {
          "base_uri": "https://localhost:8080/"
        },
        "id": "a0PEol4MR7Dc",
        "outputId": "4468d655-09b9-416d-f136-fcb2756bc7a5"
      },
      "execution_count": null,
      "outputs": [
        {
          "output_type": "stream",
          "name": "stdout",
          "text": [
            "Standardized Data (Z):\n",
            " [[ 1.2703  0.9408  1.3041  0.9527]\n",
            " [ 0.796   0.4813  0.2858  0.9527]\n",
            " [-1.5751  0.7494 -0.8781 -0.6388]\n",
            " [-0.6267  0.9408 -0.8053  1.0285]\n",
            " [ 0.3218  0.4813  0.8677  0.3464]\n",
            " [-0.8638 -2.0457 -1.169  -1.4724]\n",
            " [-0.8638 -0.2461  0.2858 -0.0325]\n",
            " [ 0.3218 -0.361   0.6495 -0.0325]\n",
            " [ 1.9816  0.9408  1.5224  1.938 ]\n",
            " [-0.3896  0.2516 -0.3689 -0.4872]\n",
            " [ 0.796   0.2516  1.3041  0.3464]\n",
            " [ 0.3218 -0.361  -0.8781 -0.7146]\n",
            " [-1.1009  0.1367 -1.0963 -0.6388]\n",
            " [-0.3896 -2.1606 -1.0236 -1.5482]]\n"
          ]
        }
      ]
    },
    {
      "cell_type": "markdown",
      "source": [
        "**Task 2.3: Find the correlation matrix $C_0$ of the variables** \\\\\n",
        "To do: replace `...` below to compute the correlation matrix $C_0$ of the variables \\\\\n",
        "(Hint: the command `np.corrcoef(a, rowvar=False)` returns the Pearson product-moment correlation coefficients matrix of `a`, where each column of `a` represents a variable)"
      ],
      "metadata": {
        "id": "85-q2IuZTT59"
      }
    },
    {
      "cell_type": "code",
      "source": [
        "# Step 3: Compute the correlation matrix\n",
        "C0 = np.corrcoef(Z, rowvar=False)\n",
        "C0 = np.round(C0, 4)\n",
        "print(\"Correlation Matrix (C0):\\n\", C0)"
      ],
      "metadata": {
        "colab": {
          "base_uri": "https://localhost:8080/"
        },
        "id": "RFTWC6nzUOdJ",
        "outputId": "3a87ecf8-d5ad-4660-f7d7-d3894ae241ad"
      },
      "execution_count": null,
      "outputs": [
        {
          "output_type": "stream",
          "name": "stdout",
          "text": [
            "Correlation Matrix (C0):\n",
            " [[1.     0.336  0.8111 0.701 ]\n",
            " [0.336  1.     0.4999 0.7958]\n",
            " [0.8111 0.4999 1.     0.7487]\n",
            " [0.701  0.7958 0.7487 1.    ]]\n"
          ]
        }
      ]
    },
    {
      "cell_type": "markdown",
      "source": [
        "**Task 2.4: Perform PCA** \\\\\n",
        "To do: replace `...` below to perform PCA on $Z$ \\\\\n",
        "(Hint: the command `PCA()` initialize a PCA object and  \\\\\n",
        "the command `pca.fit(X)` compute the principal components based on the dataset `X`)"
      ],
      "metadata": {
        "id": "gX-ZzEqpj6GI"
      }
    },
    {
      "cell_type": "code",
      "source": [
        "# Step 4: Perform PCA\n",
        "pca = PCA()\n",
        "pca.fit(Z)"
      ],
      "metadata": {
        "id": "EdFOfbACaCkI",
        "colab": {
          "base_uri": "https://localhost:8080/",
          "height": 80
        },
        "outputId": "a547c238-9dff-4714-e84b-e632e6f4448a"
      },
      "execution_count": null,
      "outputs": [
        {
          "output_type": "execute_result",
          "data": {
            "text/plain": [
              "PCA()"
            ],
            "text/html": [
              "<style>#sk-container-id-6 {\n",
              "  /* Definition of color scheme common for light and dark mode */\n",
              "  --sklearn-color-text: #000;\n",
              "  --sklearn-color-text-muted: #666;\n",
              "  --sklearn-color-line: gray;\n",
              "  /* Definition of color scheme for unfitted estimators */\n",
              "  --sklearn-color-unfitted-level-0: #fff5e6;\n",
              "  --sklearn-color-unfitted-level-1: #f6e4d2;\n",
              "  --sklearn-color-unfitted-level-2: #ffe0b3;\n",
              "  --sklearn-color-unfitted-level-3: chocolate;\n",
              "  /* Definition of color scheme for fitted estimators */\n",
              "  --sklearn-color-fitted-level-0: #f0f8ff;\n",
              "  --sklearn-color-fitted-level-1: #d4ebff;\n",
              "  --sklearn-color-fitted-level-2: #b3dbfd;\n",
              "  --sklearn-color-fitted-level-3: cornflowerblue;\n",
              "\n",
              "  /* Specific color for light theme */\n",
              "  --sklearn-color-text-on-default-background: var(--sg-text-color, var(--theme-code-foreground, var(--jp-content-font-color1, black)));\n",
              "  --sklearn-color-background: var(--sg-background-color, var(--theme-background, var(--jp-layout-color0, white)));\n",
              "  --sklearn-color-border-box: var(--sg-text-color, var(--theme-code-foreground, var(--jp-content-font-color1, black)));\n",
              "  --sklearn-color-icon: #696969;\n",
              "\n",
              "  @media (prefers-color-scheme: dark) {\n",
              "    /* Redefinition of color scheme for dark theme */\n",
              "    --sklearn-color-text-on-default-background: var(--sg-text-color, var(--theme-code-foreground, var(--jp-content-font-color1, white)));\n",
              "    --sklearn-color-background: var(--sg-background-color, var(--theme-background, var(--jp-layout-color0, #111)));\n",
              "    --sklearn-color-border-box: var(--sg-text-color, var(--theme-code-foreground, var(--jp-content-font-color1, white)));\n",
              "    --sklearn-color-icon: #878787;\n",
              "  }\n",
              "}\n",
              "\n",
              "#sk-container-id-6 {\n",
              "  color: var(--sklearn-color-text);\n",
              "}\n",
              "\n",
              "#sk-container-id-6 pre {\n",
              "  padding: 0;\n",
              "}\n",
              "\n",
              "#sk-container-id-6 input.sk-hidden--visually {\n",
              "  border: 0;\n",
              "  clip: rect(1px 1px 1px 1px);\n",
              "  clip: rect(1px, 1px, 1px, 1px);\n",
              "  height: 1px;\n",
              "  margin: -1px;\n",
              "  overflow: hidden;\n",
              "  padding: 0;\n",
              "  position: absolute;\n",
              "  width: 1px;\n",
              "}\n",
              "\n",
              "#sk-container-id-6 div.sk-dashed-wrapped {\n",
              "  border: 1px dashed var(--sklearn-color-line);\n",
              "  margin: 0 0.4em 0.5em 0.4em;\n",
              "  box-sizing: border-box;\n",
              "  padding-bottom: 0.4em;\n",
              "  background-color: var(--sklearn-color-background);\n",
              "}\n",
              "\n",
              "#sk-container-id-6 div.sk-container {\n",
              "  /* jupyter's `normalize.less` sets `[hidden] { display: none; }`\n",
              "     but bootstrap.min.css set `[hidden] { display: none !important; }`\n",
              "     so we also need the `!important` here to be able to override the\n",
              "     default hidden behavior on the sphinx rendered scikit-learn.org.\n",
              "     See: https://github.com/scikit-learn/scikit-learn/issues/21755 */\n",
              "  display: inline-block !important;\n",
              "  position: relative;\n",
              "}\n",
              "\n",
              "#sk-container-id-6 div.sk-text-repr-fallback {\n",
              "  display: none;\n",
              "}\n",
              "\n",
              "div.sk-parallel-item,\n",
              "div.sk-serial,\n",
              "div.sk-item {\n",
              "  /* draw centered vertical line to link estimators */\n",
              "  background-image: linear-gradient(var(--sklearn-color-text-on-default-background), var(--sklearn-color-text-on-default-background));\n",
              "  background-size: 2px 100%;\n",
              "  background-repeat: no-repeat;\n",
              "  background-position: center center;\n",
              "}\n",
              "\n",
              "/* Parallel-specific style estimator block */\n",
              "\n",
              "#sk-container-id-6 div.sk-parallel-item::after {\n",
              "  content: \"\";\n",
              "  width: 100%;\n",
              "  border-bottom: 2px solid var(--sklearn-color-text-on-default-background);\n",
              "  flex-grow: 1;\n",
              "}\n",
              "\n",
              "#sk-container-id-6 div.sk-parallel {\n",
              "  display: flex;\n",
              "  align-items: stretch;\n",
              "  justify-content: center;\n",
              "  background-color: var(--sklearn-color-background);\n",
              "  position: relative;\n",
              "}\n",
              "\n",
              "#sk-container-id-6 div.sk-parallel-item {\n",
              "  display: flex;\n",
              "  flex-direction: column;\n",
              "}\n",
              "\n",
              "#sk-container-id-6 div.sk-parallel-item:first-child::after {\n",
              "  align-self: flex-end;\n",
              "  width: 50%;\n",
              "}\n",
              "\n",
              "#sk-container-id-6 div.sk-parallel-item:last-child::after {\n",
              "  align-self: flex-start;\n",
              "  width: 50%;\n",
              "}\n",
              "\n",
              "#sk-container-id-6 div.sk-parallel-item:only-child::after {\n",
              "  width: 0;\n",
              "}\n",
              "\n",
              "/* Serial-specific style estimator block */\n",
              "\n",
              "#sk-container-id-6 div.sk-serial {\n",
              "  display: flex;\n",
              "  flex-direction: column;\n",
              "  align-items: center;\n",
              "  background-color: var(--sklearn-color-background);\n",
              "  padding-right: 1em;\n",
              "  padding-left: 1em;\n",
              "}\n",
              "\n",
              "\n",
              "/* Toggleable style: style used for estimator/Pipeline/ColumnTransformer box that is\n",
              "clickable and can be expanded/collapsed.\n",
              "- Pipeline and ColumnTransformer use this feature and define the default style\n",
              "- Estimators will overwrite some part of the style using the `sk-estimator` class\n",
              "*/\n",
              "\n",
              "/* Pipeline and ColumnTransformer style (default) */\n",
              "\n",
              "#sk-container-id-6 div.sk-toggleable {\n",
              "  /* Default theme specific background. It is overwritten whether we have a\n",
              "  specific estimator or a Pipeline/ColumnTransformer */\n",
              "  background-color: var(--sklearn-color-background);\n",
              "}\n",
              "\n",
              "/* Toggleable label */\n",
              "#sk-container-id-6 label.sk-toggleable__label {\n",
              "  cursor: pointer;\n",
              "  display: flex;\n",
              "  width: 100%;\n",
              "  margin-bottom: 0;\n",
              "  padding: 0.5em;\n",
              "  box-sizing: border-box;\n",
              "  text-align: center;\n",
              "  align-items: start;\n",
              "  justify-content: space-between;\n",
              "  gap: 0.5em;\n",
              "}\n",
              "\n",
              "#sk-container-id-6 label.sk-toggleable__label .caption {\n",
              "  font-size: 0.6rem;\n",
              "  font-weight: lighter;\n",
              "  color: var(--sklearn-color-text-muted);\n",
              "}\n",
              "\n",
              "#sk-container-id-6 label.sk-toggleable__label-arrow:before {\n",
              "  /* Arrow on the left of the label */\n",
              "  content: \"▸\";\n",
              "  float: left;\n",
              "  margin-right: 0.25em;\n",
              "  color: var(--sklearn-color-icon);\n",
              "}\n",
              "\n",
              "#sk-container-id-6 label.sk-toggleable__label-arrow:hover:before {\n",
              "  color: var(--sklearn-color-text);\n",
              "}\n",
              "\n",
              "/* Toggleable content - dropdown */\n",
              "\n",
              "#sk-container-id-6 div.sk-toggleable__content {\n",
              "  max-height: 0;\n",
              "  max-width: 0;\n",
              "  overflow: hidden;\n",
              "  text-align: left;\n",
              "  /* unfitted */\n",
              "  background-color: var(--sklearn-color-unfitted-level-0);\n",
              "}\n",
              "\n",
              "#sk-container-id-6 div.sk-toggleable__content.fitted {\n",
              "  /* fitted */\n",
              "  background-color: var(--sklearn-color-fitted-level-0);\n",
              "}\n",
              "\n",
              "#sk-container-id-6 div.sk-toggleable__content pre {\n",
              "  margin: 0.2em;\n",
              "  border-radius: 0.25em;\n",
              "  color: var(--sklearn-color-text);\n",
              "  /* unfitted */\n",
              "  background-color: var(--sklearn-color-unfitted-level-0);\n",
              "}\n",
              "\n",
              "#sk-container-id-6 div.sk-toggleable__content.fitted pre {\n",
              "  /* unfitted */\n",
              "  background-color: var(--sklearn-color-fitted-level-0);\n",
              "}\n",
              "\n",
              "#sk-container-id-6 input.sk-toggleable__control:checked~div.sk-toggleable__content {\n",
              "  /* Expand drop-down */\n",
              "  max-height: 200px;\n",
              "  max-width: 100%;\n",
              "  overflow: auto;\n",
              "}\n",
              "\n",
              "#sk-container-id-6 input.sk-toggleable__control:checked~label.sk-toggleable__label-arrow:before {\n",
              "  content: \"▾\";\n",
              "}\n",
              "\n",
              "/* Pipeline/ColumnTransformer-specific style */\n",
              "\n",
              "#sk-container-id-6 div.sk-label input.sk-toggleable__control:checked~label.sk-toggleable__label {\n",
              "  color: var(--sklearn-color-text);\n",
              "  background-color: var(--sklearn-color-unfitted-level-2);\n",
              "}\n",
              "\n",
              "#sk-container-id-6 div.sk-label.fitted input.sk-toggleable__control:checked~label.sk-toggleable__label {\n",
              "  background-color: var(--sklearn-color-fitted-level-2);\n",
              "}\n",
              "\n",
              "/* Estimator-specific style */\n",
              "\n",
              "/* Colorize estimator box */\n",
              "#sk-container-id-6 div.sk-estimator input.sk-toggleable__control:checked~label.sk-toggleable__label {\n",
              "  /* unfitted */\n",
              "  background-color: var(--sklearn-color-unfitted-level-2);\n",
              "}\n",
              "\n",
              "#sk-container-id-6 div.sk-estimator.fitted input.sk-toggleable__control:checked~label.sk-toggleable__label {\n",
              "  /* fitted */\n",
              "  background-color: var(--sklearn-color-fitted-level-2);\n",
              "}\n",
              "\n",
              "#sk-container-id-6 div.sk-label label.sk-toggleable__label,\n",
              "#sk-container-id-6 div.sk-label label {\n",
              "  /* The background is the default theme color */\n",
              "  color: var(--sklearn-color-text-on-default-background);\n",
              "}\n",
              "\n",
              "/* On hover, darken the color of the background */\n",
              "#sk-container-id-6 div.sk-label:hover label.sk-toggleable__label {\n",
              "  color: var(--sklearn-color-text);\n",
              "  background-color: var(--sklearn-color-unfitted-level-2);\n",
              "}\n",
              "\n",
              "/* Label box, darken color on hover, fitted */\n",
              "#sk-container-id-6 div.sk-label.fitted:hover label.sk-toggleable__label.fitted {\n",
              "  color: var(--sklearn-color-text);\n",
              "  background-color: var(--sklearn-color-fitted-level-2);\n",
              "}\n",
              "\n",
              "/* Estimator label */\n",
              "\n",
              "#sk-container-id-6 div.sk-label label {\n",
              "  font-family: monospace;\n",
              "  font-weight: bold;\n",
              "  display: inline-block;\n",
              "  line-height: 1.2em;\n",
              "}\n",
              "\n",
              "#sk-container-id-6 div.sk-label-container {\n",
              "  text-align: center;\n",
              "}\n",
              "\n",
              "/* Estimator-specific */\n",
              "#sk-container-id-6 div.sk-estimator {\n",
              "  font-family: monospace;\n",
              "  border: 1px dotted var(--sklearn-color-border-box);\n",
              "  border-radius: 0.25em;\n",
              "  box-sizing: border-box;\n",
              "  margin-bottom: 0.5em;\n",
              "  /* unfitted */\n",
              "  background-color: var(--sklearn-color-unfitted-level-0);\n",
              "}\n",
              "\n",
              "#sk-container-id-6 div.sk-estimator.fitted {\n",
              "  /* fitted */\n",
              "  background-color: var(--sklearn-color-fitted-level-0);\n",
              "}\n",
              "\n",
              "/* on hover */\n",
              "#sk-container-id-6 div.sk-estimator:hover {\n",
              "  /* unfitted */\n",
              "  background-color: var(--sklearn-color-unfitted-level-2);\n",
              "}\n",
              "\n",
              "#sk-container-id-6 div.sk-estimator.fitted:hover {\n",
              "  /* fitted */\n",
              "  background-color: var(--sklearn-color-fitted-level-2);\n",
              "}\n",
              "\n",
              "/* Specification for estimator info (e.g. \"i\" and \"?\") */\n",
              "\n",
              "/* Common style for \"i\" and \"?\" */\n",
              "\n",
              ".sk-estimator-doc-link,\n",
              "a:link.sk-estimator-doc-link,\n",
              "a:visited.sk-estimator-doc-link {\n",
              "  float: right;\n",
              "  font-size: smaller;\n",
              "  line-height: 1em;\n",
              "  font-family: monospace;\n",
              "  background-color: var(--sklearn-color-background);\n",
              "  border-radius: 1em;\n",
              "  height: 1em;\n",
              "  width: 1em;\n",
              "  text-decoration: none !important;\n",
              "  margin-left: 0.5em;\n",
              "  text-align: center;\n",
              "  /* unfitted */\n",
              "  border: var(--sklearn-color-unfitted-level-1) 1pt solid;\n",
              "  color: var(--sklearn-color-unfitted-level-1);\n",
              "}\n",
              "\n",
              ".sk-estimator-doc-link.fitted,\n",
              "a:link.sk-estimator-doc-link.fitted,\n",
              "a:visited.sk-estimator-doc-link.fitted {\n",
              "  /* fitted */\n",
              "  border: var(--sklearn-color-fitted-level-1) 1pt solid;\n",
              "  color: var(--sklearn-color-fitted-level-1);\n",
              "}\n",
              "\n",
              "/* On hover */\n",
              "div.sk-estimator:hover .sk-estimator-doc-link:hover,\n",
              ".sk-estimator-doc-link:hover,\n",
              "div.sk-label-container:hover .sk-estimator-doc-link:hover,\n",
              ".sk-estimator-doc-link:hover {\n",
              "  /* unfitted */\n",
              "  background-color: var(--sklearn-color-unfitted-level-3);\n",
              "  color: var(--sklearn-color-background);\n",
              "  text-decoration: none;\n",
              "}\n",
              "\n",
              "div.sk-estimator.fitted:hover .sk-estimator-doc-link.fitted:hover,\n",
              ".sk-estimator-doc-link.fitted:hover,\n",
              "div.sk-label-container:hover .sk-estimator-doc-link.fitted:hover,\n",
              ".sk-estimator-doc-link.fitted:hover {\n",
              "  /* fitted */\n",
              "  background-color: var(--sklearn-color-fitted-level-3);\n",
              "  color: var(--sklearn-color-background);\n",
              "  text-decoration: none;\n",
              "}\n",
              "\n",
              "/* Span, style for the box shown on hovering the info icon */\n",
              ".sk-estimator-doc-link span {\n",
              "  display: none;\n",
              "  z-index: 9999;\n",
              "  position: relative;\n",
              "  font-weight: normal;\n",
              "  right: .2ex;\n",
              "  padding: .5ex;\n",
              "  margin: .5ex;\n",
              "  width: min-content;\n",
              "  min-width: 20ex;\n",
              "  max-width: 50ex;\n",
              "  color: var(--sklearn-color-text);\n",
              "  box-shadow: 2pt 2pt 4pt #999;\n",
              "  /* unfitted */\n",
              "  background: var(--sklearn-color-unfitted-level-0);\n",
              "  border: .5pt solid var(--sklearn-color-unfitted-level-3);\n",
              "}\n",
              "\n",
              ".sk-estimator-doc-link.fitted span {\n",
              "  /* fitted */\n",
              "  background: var(--sklearn-color-fitted-level-0);\n",
              "  border: var(--sklearn-color-fitted-level-3);\n",
              "}\n",
              "\n",
              ".sk-estimator-doc-link:hover span {\n",
              "  display: block;\n",
              "}\n",
              "\n",
              "/* \"?\"-specific style due to the `<a>` HTML tag */\n",
              "\n",
              "#sk-container-id-6 a.estimator_doc_link {\n",
              "  float: right;\n",
              "  font-size: 1rem;\n",
              "  line-height: 1em;\n",
              "  font-family: monospace;\n",
              "  background-color: var(--sklearn-color-background);\n",
              "  border-radius: 1rem;\n",
              "  height: 1rem;\n",
              "  width: 1rem;\n",
              "  text-decoration: none;\n",
              "  /* unfitted */\n",
              "  color: var(--sklearn-color-unfitted-level-1);\n",
              "  border: var(--sklearn-color-unfitted-level-1) 1pt solid;\n",
              "}\n",
              "\n",
              "#sk-container-id-6 a.estimator_doc_link.fitted {\n",
              "  /* fitted */\n",
              "  border: var(--sklearn-color-fitted-level-1) 1pt solid;\n",
              "  color: var(--sklearn-color-fitted-level-1);\n",
              "}\n",
              "\n",
              "/* On hover */\n",
              "#sk-container-id-6 a.estimator_doc_link:hover {\n",
              "  /* unfitted */\n",
              "  background-color: var(--sklearn-color-unfitted-level-3);\n",
              "  color: var(--sklearn-color-background);\n",
              "  text-decoration: none;\n",
              "}\n",
              "\n",
              "#sk-container-id-6 a.estimator_doc_link.fitted:hover {\n",
              "  /* fitted */\n",
              "  background-color: var(--sklearn-color-fitted-level-3);\n",
              "}\n",
              "</style><div id=\"sk-container-id-6\" class=\"sk-top-container\"><div class=\"sk-text-repr-fallback\"><pre>PCA()</pre><b>In a Jupyter environment, please rerun this cell to show the HTML representation or trust the notebook. <br />On GitHub, the HTML representation is unable to render, please try loading this page with nbviewer.org.</b></div><div class=\"sk-container\" hidden><div class=\"sk-item\"><div class=\"sk-estimator fitted sk-toggleable\"><input class=\"sk-toggleable__control sk-hidden--visually\" id=\"sk-estimator-id-6\" type=\"checkbox\" checked><label for=\"sk-estimator-id-6\" class=\"sk-toggleable__label fitted sk-toggleable__label-arrow\"><div><div>PCA</div></div><div><a class=\"sk-estimator-doc-link fitted\" rel=\"noreferrer\" target=\"_blank\" href=\"https://scikit-learn.org/1.6/modules/generated/sklearn.decomposition.PCA.html\">?<span>Documentation for PCA</span></a><span class=\"sk-estimator-doc-link fitted\">i<span>Fitted</span></span></div></label><div class=\"sk-toggleable__content fitted\"><pre>PCA()</pre></div> </div></div></div></div>"
            ]
          },
          "metadata": {},
          "execution_count": 76
        }
      ]
    },
    {
      "cell_type": "markdown",
      "source": [
        "**Task 2.5: Extract the loadings (eigenvectors) and eigenvalues** \\\\\n",
        "To do: replace `...` below to find the loadings (eigenvectors) and eigenvalues from PCA result (SVD of $C_0$) \\\\\n",
        "(Hint: the command `pca.components_.T` extracts the loadings (eigenvectors) and \\\\\n",
        "the command  `pca.explained_variance_` extracts the eigenvalues from the PCA result)\n"
      ],
      "metadata": {
        "id": "8I0OgChzDlzF"
      }
    },
    {
      "cell_type": "code",
      "source": [
        "# Step 5.1: Extract the loadings (eigenvectors)\n",
        "loadings = pca.components_.T\n",
        "loadings = np.round(loadings, 4)\n",
        "print(\"Loadings (Eigenvectors):\\n\", loadings)\n",
        "\n",
        "# Step 5.2: Extract the eigenvalues\n",
        "eigenvalues = pca.explained_variance_\n",
        "eigenvalues = np.round(eigenvalues, 4)\n",
        "print(\"\\nEigenvalues:\\n\", eigenvalues)"
      ],
      "metadata": {
        "colab": {
          "base_uri": "https://localhost:8080/"
        },
        "id": "E0foFlzeDiv8",
        "outputId": "6f5a18d8-8924-4ae6-f83b-f5d674014ad9"
      },
      "execution_count": null,
      "outputs": [
        {
          "output_type": "stream",
          "name": "stdout",
          "text": [
            "Loadings (Eigenvectors):\n",
            " [[ 0.4856 -0.5561 -0.5128 -0.4381]\n",
            " [ 0.4378  0.7317  0.064  -0.5185]\n",
            " [ 0.5209 -0.3275  0.7848  0.0744]\n",
            " [ 0.5489  0.2192 -0.3421  0.7305]]\n",
            "\n",
            "Eigenvalues:\n",
            " [2.9654 0.7592 0.1844 0.091 ]\n"
          ]
        }
      ]
    },
    {
      "cell_type": "markdown",
      "source": [
        "**Task 2.6: Compute specified sums $\\mathbf{y}_1$ and $\\mathbf{y}_2$** \\\\\n",
        "To do: replace `...` below to calculate information about $\\mathbf{y}_1$ and $\\mathbf{y}_2$"
      ],
      "metadata": {
        "id": "KpiIUIBjNftO"
      }
    },
    {
      "cell_type": "code",
      "source": [
        "# Step 6.1: Compute the specified sums\n",
        "y1 = loadings[0, 0] * Z[:, 0] + loadings[1, 0] * Z[:, 1] + loadings[2, 0] * Z[:, 2] + loadings[3, 0] * Z[:, 3]\n",
        "y2 = loadings[0, 1] * Z[:, 0] + loadings[1, 1] * Z[:, 1] + loadings[2, 1] * Z[:, 2] + loadings[3, 1] * Z[:, 3]\n",
        "\n",
        "\n",
        "# Step 6.2: Compute column means of y1 and y2\n",
        "mean_y1 = np.mean(y1)\n",
        "mean_y2 = np.mean(y2)\n",
        "print(\"mean of y1 = \")\n",
        "print(mean_y1)\n",
        "print(\"\\nmean of y2 = \")\n",
        "print(mean_y2)\n",
        "\n",
        "# Step 6.3: Compute column standard deviations of y1 and y2\n",
        "std_dev_y1 = np.std(y1, ddof=1)\n",
        "std_dev_y2 = np.std(y2, ddof=1)\n",
        "print(\"\\nstandard deviation of y1 = \")\n",
        "print(std_dev_y1)\n",
        "print(\"\\nstandard deviation of y2 = \")\n",
        "print(std_dev_y2)\n",
        "\n",
        "# Step 6.4: Normalize y1 and y2\n",
        "y1_normalized = (y1 - mean_y1) / std_dev_y1\n",
        "y2_normalized = (y2 - mean_y2) / std_dev_y2\n",
        "\n",
        "print(\"\\nnormalized y1 : \")\n",
        "print(y1_normalized)\n",
        "print(\"normalized y2 : \")\n",
        "print(y2_normalized)\n",
        "\n",
        "# Step 6.5: Add y1_normalized and y2_normalized to Z as fifth and sixth columns\n",
        "newZ = np.column_stack((Z, y1_normalized, y2_normalized))\n",
        "print(\"\\nnew Z: \")\n",
        "print(newZ)\n",
        "\n",
        "# Step 6.6: Compute the correlation matrix with y1_normalized and y2_normalized\n",
        "newC0 = np.corrcoef(newZ, rowvar=False)\n",
        "newC0 = np.round(newC0, 4)\n",
        "print(\"\\nnew C_0: \")\n",
        "print(newC0)\n",
        "\n",
        "# Step 6.7: Add row and column labels from newC0\n",
        "newC0_df = pd.DataFrame(newC0)\n",
        "newC0_df.index = [\"MT*\", \"FE*\", \"Qav*\", \"Tav*\", \"y1\", \"y2\"]\n",
        "newC0_df.columns = [\"MT*\", \"FE*\", \"Qav*\", \"Tav*\", \"y1\", \"y2\"]\n",
        "print(\"\\nnew C_0 with labels: \")\n",
        "print(newC0_df)"
      ],
      "metadata": {
        "colab": {
          "base_uri": "https://localhost:8080/"
        },
        "id": "89HWCYYlHgbP",
        "outputId": "78431419-a064-4992-a69e-24b78dc55fd3"
      },
      "execution_count": null,
      "outputs": [
        {
          "output_type": "stream",
          "name": "stdout",
          "text": [
            "mean of y1 = \n",
            "-1.8105714285748015e-05\n",
            "\n",
            "mean of y2 = \n",
            "-4.318571428606001e-06\n",
            "\n",
            "standard deviation of y1 = \n",
            "1.7221213603524899\n",
            "\n",
            "standard deviation of y2 = \n",
            "0.8713201138519749\n",
            "\n",
            "normalized y1 : \n",
            "[ 1.29549566  0.73692779 -0.72283102  0.14670145  0.58597567 -1.58652181\n",
            " -0.23003709  0.1850762   1.87614633 -0.31275686  0.79329533 -0.4943948\n",
            " -0.81087878 -1.46219808]\n",
            "normalized y2 : \n",
            "[-0.27118284  0.02840319  1.80393655  1.75145561 -0.04019455 -1.0976193\n",
            "  0.22904169 -0.7608313  -0.55933115  0.47603298 -0.69976283 -0.35825517\n",
            "  1.06878227 -1.57047514]\n",
            "\n",
            "new Z: \n",
            "[[ 1.2703      0.9408      1.3041      0.9527      1.29549566 -0.27118284]\n",
            " [ 0.796       0.4813      0.2858      0.9527      0.73692779  0.02840319]\n",
            " [-1.5751      0.7494     -0.8781     -0.6388     -0.72283102  1.80393655]\n",
            " [-0.6267      0.9408     -0.8053      1.0285      0.14670145  1.75145561]\n",
            " [ 0.3218      0.4813      0.8677      0.3464      0.58597567 -0.04019455]\n",
            " [-0.8638     -2.0457     -1.169      -1.4724     -1.58652181 -1.0976193 ]\n",
            " [-0.8638     -0.2461      0.2858     -0.0325     -0.23003709  0.22904169]\n",
            " [ 0.3218     -0.361       0.6495     -0.0325      0.1850762  -0.7608313 ]\n",
            " [ 1.9816      0.9408      1.5224      1.938       1.87614633 -0.55933115]\n",
            " [-0.3896      0.2516     -0.3689     -0.4872     -0.31275686  0.47603298]\n",
            " [ 0.796       0.2516      1.3041      0.3464      0.79329533 -0.69976283]\n",
            " [ 0.3218     -0.361      -0.8781     -0.7146     -0.4943948  -0.35825517]\n",
            " [-1.1009      0.1367     -1.0963     -0.6388     -0.81087878  1.06878227]\n",
            " [-0.3896     -2.1606     -1.0236     -1.5482     -1.46219808 -1.57047514]]\n",
            "\n",
            "new C_0: \n",
            "[[ 1.      0.336   0.8111  0.701   0.8362 -0.4846]\n",
            " [ 0.336   1.      0.4999  0.7958  0.7539  0.6376]\n",
            " [ 0.8111  0.4999  1.      0.7487  0.8969 -0.2854]\n",
            " [ 0.701   0.7958  0.7487  1.      0.9452  0.191 ]\n",
            " [ 0.8362  0.7539  0.8969  0.9452  1.      0.    ]\n",
            " [-0.4846  0.6376 -0.2854  0.191   0.      1.    ]]\n",
            "\n",
            "new C_0 with labels: \n",
            "         MT*     FE*    Qav*    Tav*      y1      y2\n",
            "MT*   1.0000  0.3360  0.8111  0.7010  0.8362 -0.4846\n",
            "FE*   0.3360  1.0000  0.4999  0.7958  0.7539  0.6376\n",
            "Qav*  0.8111  0.4999  1.0000  0.7487  0.8969 -0.2854\n",
            "Tav*  0.7010  0.7958  0.7487  1.0000  0.9452  0.1910\n",
            "y1    0.8362  0.7539  0.8969  0.9452  1.0000  0.0000\n",
            "y2   -0.4846  0.6376 -0.2854  0.1910  0.0000  1.0000\n"
          ]
        }
      ]
    },
    {
      "cell_type": "markdown",
      "source": [
        "**Task 2.7: Compute the Proportion of Variance Explained** \\\\\n",
        "To do: replace `...` below to calculate the proportion of variance explained (eigenvalues) by each principal component"
      ],
      "metadata": {
        "id": "vRofXxc6QjYL"
      }
    },
    {
      "cell_type": "code",
      "source": [
        "# Step 7: Compute the proportion of variance explained\n",
        "proportion_variance = eigenvalues / np.sum(eigenvalues)\n",
        "proportion_variance = np.round(proportion_variance, 4)\n",
        "print(\"Proportion of Variance Explained:\\n\", proportion_variance)"
      ],
      "metadata": {
        "colab": {
          "base_uri": "https://localhost:8080/"
        },
        "id": "bgL9wB4_Qjqu",
        "outputId": "990497d9-d528-4e3f-a74d-d7dc2d4ca4c8"
      },
      "execution_count": null,
      "outputs": [
        {
          "output_type": "stream",
          "name": "stdout",
          "text": [
            "Proportion of Variance Explained:\n",
            " [0.7413 0.1898 0.0461 0.0228]\n"
          ]
        }
      ]
    },
    {
      "cell_type": "markdown",
      "source": [
        "**Task 2.8: Find the principal components** \\\\\n",
        "To do: replace `...` below to find the principal components from the PCA result \\\\\n",
        "(Hint: the command `pca.transform(X)` returns the principal components from the PCA result)"
      ],
      "metadata": {
        "id": "zMOrOKvmRSn1"
      }
    },
    {
      "cell_type": "code",
      "source": [
        "# Step 8: Compute the principal components\n",
        "principal_components = pca.transform(Z)\n",
        "principal_components = np.round(principal_components, 4)\n",
        "print(\"Principal Components:\\n\", principal_components)"
      ],
      "metadata": {
        "colab": {
          "base_uri": "https://localhost:8080/"
        },
        "id": "kqdLL4IzRvtJ",
        "outputId": "148ef5e6-853b-4d97-848a-9cfadc1c6584"
      },
      "execution_count": null,
      "outputs": [
        {
          "output_type": "stream",
          "name": "stdout",
          "text": [
            "Principal Components:\n",
            " [[ 2.2309 -0.2363  0.1063 -0.2513]\n",
            " [ 1.269   0.0247 -0.479   0.1189]\n",
            " [-1.2448  1.5719  0.3851 -0.2305]\n",
            " [ 0.2526  1.5261 -0.6022  0.4781]\n",
            " [ 1.0091 -0.035   0.4282 -0.0729]\n",
            " [-2.732  -0.9564 -0.1017  0.2766]\n",
            " [-0.3961  0.1996  0.6626  0.5036]\n",
            " [ 0.3187 -0.663   0.3327  0.0708]\n",
            " [ 3.2308 -0.4874 -0.4242  0.1731]\n",
            " [-0.5386  0.4148  0.093  -0.3431]\n",
            " [ 1.3661 -0.6098  0.5128 -0.1291]\n",
            " [-0.8514 -0.3122 -0.6328 -0.5412]\n",
            " [-1.3964  0.9313 -0.0685 -0.1368]\n",
            " [-2.5179 -1.3684 -0.2122  0.0839]]\n"
          ]
        }
      ]
    },
    {
      "cell_type": "markdown",
      "source": [
        "**Task 2.9: Print the results**"
      ],
      "metadata": {
        "id": "QsM4thBnUXaW"
      }
    },
    {
      "cell_type": "code",
      "source": [
        "# Step 9: Print the results\n",
        "print(\"Correlation Matrix (C0):\")\n",
        "print(C0)\n",
        "print(\"\\nLoadings (Eigenvectors)\")\n",
        "print(loadings)\n",
        "print(\"\\nEigenvalues:\")\n",
        "print(eigenvalues)\n",
        "print(\"\\nProportion of Variance Explained:\")\n",
        "print(proportion_variance)\n",
        "print(\"\\nPrincipal Components:\")\n",
        "print(principal_components)\n",
        "print(\"\\nCorrelation Matrix (newC0) with y1 and y2:\")\n",
        "print(newC0_df)"
      ],
      "metadata": {
        "colab": {
          "base_uri": "https://localhost:8080/"
        },
        "id": "Z3NBJH5SUaFK",
        "outputId": "b4752dce-ec9d-4611-ffcd-fae9b6078652"
      },
      "execution_count": null,
      "outputs": [
        {
          "output_type": "stream",
          "name": "stdout",
          "text": [
            "Correlation Matrix (C0):\n",
            "[[1.     0.336  0.8111 0.701 ]\n",
            " [0.336  1.     0.4999 0.7958]\n",
            " [0.8111 0.4999 1.     0.7487]\n",
            " [0.701  0.7958 0.7487 1.    ]]\n",
            "\n",
            "Loadings (Eigenvectors)\n",
            "[[ 0.4856 -0.5561 -0.5128 -0.4381]\n",
            " [ 0.4378  0.7317  0.064  -0.5185]\n",
            " [ 0.5209 -0.3275  0.7848  0.0744]\n",
            " [ 0.5489  0.2192 -0.3421  0.7305]]\n",
            "\n",
            "Eigenvalues:\n",
            "[2.9654 0.7592 0.1844 0.091 ]\n",
            "\n",
            "Proportion of Variance Explained:\n",
            "[0.7413 0.1898 0.0461 0.0228]\n",
            "\n",
            "Principal Components:\n",
            "[[ 2.2309 -0.2363  0.1063 -0.2513]\n",
            " [ 1.269   0.0247 -0.479   0.1189]\n",
            " [-1.2448  1.5719  0.3851 -0.2305]\n",
            " [ 0.2526  1.5261 -0.6022  0.4781]\n",
            " [ 1.0091 -0.035   0.4282 -0.0729]\n",
            " [-2.732  -0.9564 -0.1017  0.2766]\n",
            " [-0.3961  0.1996  0.6626  0.5036]\n",
            " [ 0.3187 -0.663   0.3327  0.0708]\n",
            " [ 3.2308 -0.4874 -0.4242  0.1731]\n",
            " [-0.5386  0.4148  0.093  -0.3431]\n",
            " [ 1.3661 -0.6098  0.5128 -0.1291]\n",
            " [-0.8514 -0.3122 -0.6328 -0.5412]\n",
            " [-1.3964  0.9313 -0.0685 -0.1368]\n",
            " [-2.5179 -1.3684 -0.2122  0.0839]]\n",
            "\n",
            "Correlation Matrix (newC0) with y1 and y2:\n",
            "         MT*     FE*    Qav*    Tav*      y1      y2\n",
            "MT*   1.0000  0.3360  0.8111  0.7010  0.8362 -0.4846\n",
            "FE*   0.3360  1.0000  0.4999  0.7958  0.7539  0.6376\n",
            "Qav*  0.8111  0.4999  1.0000  0.7487  0.8969 -0.2854\n",
            "Tav*  0.7010  0.7958  0.7487  1.0000  0.9452  0.1910\n",
            "y1    0.8362  0.7539  0.8969  0.9452  1.0000  0.0000\n",
            "y2   -0.4846  0.6376 -0.2854  0.1910  0.0000  1.0000\n"
          ]
        }
      ]
    },
    {
      "cell_type": "code",
      "source": [
        "# Plotting the principal axes\n",
        "plt.scatter(principal_components[:, 0], principal_components[:, 1], color='blue')\n",
        "plt.xlabel('PC1')\n",
        "plt.ylabel('PC2')\n",
        "plt.title('Scatter Plot with Principal Axes')\n",
        "plt.axhline(0, color='gray')\n",
        "plt.axvline(0, color='gray')\n",
        "plt.arrow(0, 0, loadings[0, 0], loadings[1, 0], color='red', linewidth=2, label='PC1')\n",
        "plt.arrow(0, 0, loadings[0, 1], loadings[1, 1], color='green', linewidth=2, label='PC2')\n",
        "plt.legend(loc='upper right')\n",
        "plt.show()"
      ],
      "metadata": {
        "colab": {
          "base_uri": "https://localhost:8080/",
          "height": 472
        },
        "id": "CnhH-QwuI6_k",
        "outputId": "bd20f578-37ba-48d9-8400-183c779388ae"
      },
      "execution_count": null,
      "outputs": [
        {
          "output_type": "display_data",
          "data": {
            "text/plain": [
              "<Figure size 640x480 with 1 Axes>"
            ],
            "image/png": "[encoded data removed]"
          },
          "metadata": {}
        }
      ]
    },
    {
      "cell_type": "code",
      "source": [
        "# Step 18: Reconstruct the standardized data using only the first two PCs\n",
        "# Select only the first two principal components\n",
        "PCs_2D = principal_components[:, :2]\n",
        "\n",
        "# Select only the first two eigenvectors (loadings)\n",
        "loadings_2D = pca.components_[:2, :]  # shape (2, 4)\n",
        "\n",
        "# Reconstruct the standardized data (approximation)\n",
        "Z_reconstructed = np.dot(PCs_2D, loadings_2D)\n",
        "\n",
        "# Step 19: Unstandardize to return to original scale\n",
        "X_reconstructed = Z_reconstructed * std_dev_values + mean_values\n",
        "X_reconstructed = np.round(X_reconstructed, 2)\n",
        "\n",
        "# Step 20: Display reconstructed data\n",
        "print(\"Reconstructed Data (using PC1 and PC2):\")\n",
        "print(X_reconstructed)"
      ],
      "metadata": {
        "colab": {
          "base_uri": "https://localhost:8080/"
        },
        "id": "17zykYRYJH0X",
        "outputId": "cbc4199f-1c03-4cbc-e268-ae74cf3ad20c"
      },
      "execution_count": null,
      "outputs": [
        {
          "output_type": "stream",
          "name": "stdout",
          "text": [
            "Reconstructed Data (using PC1 and PC2):\n",
            "[[ 32.77 177.42  94.11  91.9 ]\n",
            " [ 30.18 171.41  86.05  85.69]\n",
            " [ 21.41 172.24  61.08  71.96]\n",
            " [ 24.58 188.48  72.01  82.67]\n",
            " [ 29.79 167.3   84.45  83.64]\n",
            " [ 24.29 106.92  61.82  53.88]\n",
            " [ 26.36 155.71  73.34  74.14]\n",
            " [ 29.85 147.4   82.34  76.82]\n",
            " [ 35.4  184.05 102.4   98.42]\n",
            " [ 25.57 158.2   71.35  73.73]\n",
            " [ 31.87 160.39  89.6   84.56]\n",
            " [ 26.63 140.73  72.38  69.36]\n",
            " [ 22.6  158.26  62.88  69.01]\n",
            " [ 25.7  101.49  65.2   54.23]]\n"
          ]
        }
      ]
    },
    {
      "cell_type": "markdown",
      "source": [
        "# Exercise 3: Tests scores in Algebra, Trigonometry, English Literature and Chinese Literature"
      ],
      "metadata": {
        "id": "KJBo1xnHkwz3"
      }
    },
    {
      "cell_type": "markdown",
      "source": [
        "**1.8 Exercise 3** \\\\\n",
        "Principal Component Analysis: Test Scores in Mathematics, English Literature , and Chinese Literature\n",
        "\n",
        "A group of ten students took four tests: two in mathematics (Algebra (abbreviated as $Alg$) and Trigonometry (abbreviated as $Trig$)), one in English Literature (abbreviated as $Englit$), and one in Chinese Literature (abbreviated as $Chilit$). The following table presents both the original and the scaled scores.\n",
        "\n",
        "**1.8.1 Original and Scaled Test Scores** \\\\\n",
        "\n",
        "$$\n",
        "\\begin{array}{cccccccc}\n",
        "\\hline\n",
        "Student & Alg & Trig & Englit & Chilit \\\\\n",
        "\\hline\n",
        "1  & 95 & 88 & 65 & 68 \\\\\n",
        "2  & 87 & 92 & 70 & 74 \\\\\n",
        "3  & 75 & 78 & 75 & 72 \\\\\n",
        "4  & 74 & 70 & 85 & 81 \\\\\n",
        "5  & 46 & 51 & 92 & 95 \\\\\n",
        "6  & 62 & 55 & 88 & 90 \\\\\n",
        "7  & 82 & 91 & 85 & 90 \\\\\n",
        "8  & 68 & 52 & 55 & 60 \\\\\n",
        "9  & 82 & 78 & 80 & 75 \\\\\n",
        "10 & 65 & 70 & 72 & 70 \\\\\n",
        "\\hline\n",
        "\\end{array}\n",
        "$$"
      ],
      "metadata": {
        "id": "Gcbwanmtl3LP"
      }
    },
    {
      "cell_type": "markdown",
      "source": [
        "Perferm the following tasks: (refer to Exercise 2) \\\\\n",
        "1. * **Original Data**: The data is stored in a NumPy array.\n",
        "   * **Compute Column Means**: Calculate the mean for each column using `np.mean`.\n",
        "   *  **Compute Column Standard Deviations**: Calculate the standard deviation for each column using `np.std` with `ddof=1` for sample standard deviation.\n",
        "2. * **Standardize the Data**: Use the formula\n",
        "$$\n",
        "\\textbf{z} = \\frac{\\textbf{x}-\\bar{\\textbf{x}}}{s_\\textbf{x}}\n",
        "$$\n",
        "to standardize the data. (obtaining a scaled variable with mean 0 and standard devation 1)\n",
        "   * **Round the $Z$ Matrix**: Round the standardized values to four decimal places using `np.round`.\n",
        "3. * **Compute the Correlation Matrix**: Calculate the correlation matrix of the standardized data using `np.corrcoef`.\n",
        "   * **Round the $C_0$ Matrix**: Round the values to four decimal places using `np.round`.\n",
        "4. **Perform PCA**: Use PCA from `sklearn.decomposition` to perform principal component analysis.\n",
        "5. * **Extract the Loadings**: Get the eigenvectors (loadings) from the PCA result using `pca.components_`.\n",
        "   * **Extract the Eigenvalues**: Get the eigenvalues from the PCA result using `pca.explained_variance_`.\n",
        "6. **Compute the Proportion of Variance Explained**: Calculate the proportion of variance explained by each principal component.\n",
        "7. **Compute the Principal Components**: Get the principal components from the PCA result using `pca.transform`.\n",
        "8. **Print the Results**: Display the correlation matrix, loadings, eigenvalues, proportion of variance explained, and principal components.\n"
      ],
      "metadata": {
        "id": "7-cBjAUsn87f"
      }
    },
    {
      "cell_type": "code",
      "source": [
        "import numpy as np\n",
        "from sklearn.preprocessing import StandardScaler\n",
        "from sklearn.decomposition import PCA\n",
        "\n",
        "# Step 1,1: Original data\n",
        "data = np.array([\n",
        "    [95, 88, 65, 68],\n",
        "    [87, 92, 70, 74],\n",
        "    [75, 78, 75, 72],\n",
        "    [74, 70, 85, 81],\n",
        "    [46, 51, 92, 95],\n",
        "    [62, 55, 88, 90],\n",
        "    [82, 91, 85, 90],\n",
        "    [68, 52, 55, 60],\n",
        "    [82, 78, 80, 75],\n",
        "    [65, 70, 72, 70]\n",
        "])\n",
        "\n",
        "# Step 1.2: Compute column means\n",
        "mean_values = np.mean(data, axis=0)\n",
        "print(\"Column Means:\", mean_values)\n",
        "\n",
        "# Step 1.3: Compute column standard deviations\n",
        "std_dev_values = np.std(data, axis=0, ddof=1)\n",
        "print(\"Column Standard Deviations:\", std_dev_values)"
      ],
      "metadata": {
        "colab": {
          "base_uri": "https://localhost:8080/"
        },
        "outputId": "e5cf4703-1078-442d-f2af-36ef50d6b498",
        "id": "BhfzfdDAoa36"
      },
      "execution_count": null,
      "outputs": [
        {
          "output_type": "stream",
          "name": "stdout",
          "text": [
            "Column Means: [73.6 72.5 76.7 77.5]\n",
            "Column Standard Deviations: [14.07282646 15.72153512 11.48960883 11.21754578]\n"
          ]
        }
      ]
    },
    {
      "cell_type": "code",
      "source": [
        "# Step 2.1: Standardize the data\n",
        "Z = (data - mean_values) / std_dev_values\n",
        "\n",
        "# Step 2.2: Round the Z matrix to four decimal places\n",
        "Z = np.round(Z, 4)\n",
        "print(\"Standardized Data (Z):\\n\", Z)"
      ],
      "metadata": {
        "colab": {
          "base_uri": "https://localhost:8080/"
        },
        "outputId": "15abb695-0a38-432b-d8b9-310976792f19",
        "id": "ZUciJylMoa36"
      },
      "execution_count": null,
      "outputs": [
        {
          "output_type": "stream",
          "name": "stdout",
          "text": [
            "Standardized Data (Z):\n",
            " [[ 1.5207  0.9859 -1.0183 -0.8469]\n",
            " [ 0.9522  1.2403 -0.5831 -0.312 ]\n",
            " [ 0.0995  0.3498 -0.148  -0.4903]\n",
            " [ 0.0284 -0.159   0.7224  0.312 ]\n",
            " [-1.9612 -1.3676  1.3316  1.5601]\n",
            " [-0.8243 -1.1131  0.9835  1.1143]\n",
            " [ 0.5969  1.1767  0.7224  1.1143]\n",
            " [-0.3979 -1.3039 -1.8887 -1.5601]\n",
            " [ 0.5969  0.3498  0.2872 -0.2229]\n",
            " [-0.6111 -0.159  -0.4091 -0.6686]]\n"
          ]
        }
      ]
    },
    {
      "cell_type": "code",
      "source": [
        "# Step 3: Compute the correlation matrix\n",
        "C0 = np.corrcoef(Z, rowvar=False)\n",
        "C0 = np.round(C0, 4)\n",
        "print(\"Correlation Matrix (C0):\\n\", C0)"
      ],
      "metadata": {
        "colab": {
          "base_uri": "https://localhost:8080/"
        },
        "outputId": "37e0d044-86db-4132-fcc0-8bf4a9f71359",
        "id": "M0iJVzBloa36"
      },
      "execution_count": null,
      "outputs": [
        {
          "output_type": "stream",
          "name": "stdout",
          "text": [
            "Correlation Matrix (C0):\n",
            " [[ 1.      0.8708 -0.4351 -0.4491]\n",
            " [ 0.8708  1.     -0.1479 -0.1604]\n",
            " [-0.4351 -0.1479  1.      0.9418]\n",
            " [-0.4491 -0.1604  0.9418  1.    ]]\n"
          ]
        }
      ]
    },
    {
      "cell_type": "code",
      "source": [
        "# Step 4: Perform PCA\n",
        "pca = PCA()\n",
        "pca.fit(Z)"
      ],
      "metadata": {
        "colab": {
          "base_uri": "https://localhost:8080/",
          "height": 80
        },
        "outputId": "c86fa2bb-20a8-471c-cd9b-4e3104c1a278",
        "id": "8fFTYz3Goa37"
      },
      "execution_count": null,
      "outputs": [
        {
          "output_type": "execute_result",
          "data": {
            "text/plain": [
              "PCA()"
            ],
            "text/html": [
              "<style>#sk-container-id-7 {\n",
              "  /* Definition of color scheme common for light and dark mode */\n",
              "  --sklearn-color-text: #000;\n",
              "  --sklearn-color-text-muted: #666;\n",
              "  --sklearn-color-line: gray;\n",
              "  /* Definition of color scheme for unfitted estimators */\n",
              "  --sklearn-color-unfitted-level-0: #fff5e6;\n",
              "  --sklearn-color-unfitted-level-1: #f6e4d2;\n",
              "  --sklearn-color-unfitted-level-2: #ffe0b3;\n",
              "  --sklearn-color-unfitted-level-3: chocolate;\n",
              "  /* Definition of color scheme for fitted estimators */\n",
              "  --sklearn-color-fitted-level-0: #f0f8ff;\n",
              "  --sklearn-color-fitted-level-1: #d4ebff;\n",
              "  --sklearn-color-fitted-level-2: #b3dbfd;\n",
              "  --sklearn-color-fitted-level-3: cornflowerblue;\n",
              "\n",
              "  /* Specific color for light theme */\n",
              "  --sklearn-color-text-on-default-background: var(--sg-text-color, var(--theme-code-foreground, var(--jp-content-font-color1, black)));\n",
              "  --sklearn-color-background: var(--sg-background-color, var(--theme-background, var(--jp-layout-color0, white)));\n",
              "  --sklearn-color-border-box: var(--sg-text-color, var(--theme-code-foreground, var(--jp-content-font-color1, black)));\n",
              "  --sklearn-color-icon: #696969;\n",
              "\n",
              "  @media (prefers-color-scheme: dark) {\n",
              "    /* Redefinition of color scheme for dark theme */\n",
              "    --sklearn-color-text-on-default-background: var(--sg-text-color, var(--theme-code-foreground, var(--jp-content-font-color1, white)));\n",
              "    --sklearn-color-background: var(--sg-background-color, var(--theme-background, var(--jp-layout-color0, #111)));\n",
              "    --sklearn-color-border-box: var(--sg-text-color, var(--theme-code-foreground, var(--jp-content-font-color1, white)));\n",
              "    --sklearn-color-icon: #878787;\n",
              "  }\n",
              "}\n",
              "\n",
              "#sk-container-id-7 {\n",
              "  color: var(--sklearn-color-text);\n",
              "}\n",
              "\n",
              "#sk-container-id-7 pre {\n",
              "  padding: 0;\n",
              "}\n",
              "\n",
              "#sk-container-id-7 input.sk-hidden--visually {\n",
              "  border: 0;\n",
              "  clip: rect(1px 1px 1px 1px);\n",
              "  clip: rect(1px, 1px, 1px, 1px);\n",
              "  height: 1px;\n",
              "  margin: -1px;\n",
              "  overflow: hidden;\n",
              "  padding: 0;\n",
              "  position: absolute;\n",
              "  width: 1px;\n",
              "}\n",
              "\n",
              "#sk-container-id-7 div.sk-dashed-wrapped {\n",
              "  border: 1px dashed var(--sklearn-color-line);\n",
              "  margin: 0 0.4em 0.5em 0.4em;\n",
              "  box-sizing: border-box;\n",
              "  padding-bottom: 0.4em;\n",
              "  background-color: var(--sklearn-color-background);\n",
              "}\n",
              "\n",
              "#sk-container-id-7 div.sk-container {\n",
              "  /* jupyter's `normalize.less` sets `[hidden] { display: none; }`\n",
              "     but bootstrap.min.css set `[hidden] { display: none !important; }`\n",
              "     so we also need the `!important` here to be able to override the\n",
              "     default hidden behavior on the sphinx rendered scikit-learn.org.\n",
              "     See: https://github.com/scikit-learn/scikit-learn/issues/21755 */\n",
              "  display: inline-block !important;\n",
              "  position: relative;\n",
              "}\n",
              "\n",
              "#sk-container-id-7 div.sk-text-repr-fallback {\n",
              "  display: none;\n",
              "}\n",
              "\n",
              "div.sk-parallel-item,\n",
              "div.sk-serial,\n",
              "div.sk-item {\n",
              "  /* draw centered vertical line to link estimators */\n",
              "  background-image: linear-gradient(var(--sklearn-color-text-on-default-background), var(--sklearn-color-text-on-default-background));\n",
              "  background-size: 2px 100%;\n",
              "  background-repeat: no-repeat;\n",
              "  background-position: center center;\n",
              "}\n",
              "\n",
              "/* Parallel-specific style estimator block */\n",
              "\n",
              "#sk-container-id-7 div.sk-parallel-item::after {\n",
              "  content: \"\";\n",
              "  width: 100%;\n",
              "  border-bottom: 2px solid var(--sklearn-color-text-on-default-background);\n",
              "  flex-grow: 1;\n",
              "}\n",
              "\n",
              "#sk-container-id-7 div.sk-parallel {\n",
              "  display: flex;\n",
              "  align-items: stretch;\n",
              "  justify-content: center;\n",
              "  background-color: var(--sklearn-color-background);\n",
              "  position: relative;\n",
              "}\n",
              "\n",
              "#sk-container-id-7 div.sk-parallel-item {\n",
              "  display: flex;\n",
              "  flex-direction: column;\n",
              "}\n",
              "\n",
              "#sk-container-id-7 div.sk-parallel-item:first-child::after {\n",
              "  align-self: flex-end;\n",
              "  width: 50%;\n",
              "}\n",
              "\n",
              "#sk-container-id-7 div.sk-parallel-item:last-child::after {\n",
              "  align-self: flex-start;\n",
              "  width: 50%;\n",
              "}\n",
              "\n",
              "#sk-container-id-7 div.sk-parallel-item:only-child::after {\n",
              "  width: 0;\n",
              "}\n",
              "\n",
              "/* Serial-specific style estimator block */\n",
              "\n",
              "#sk-container-id-7 div.sk-serial {\n",
              "  display: flex;\n",
              "  flex-direction: column;\n",
              "  align-items: center;\n",
              "  background-color: var(--sklearn-color-background);\n",
              "  padding-right: 1em;\n",
              "  padding-left: 1em;\n",
              "}\n",
              "\n",
              "\n",
              "/* Toggleable style: style used for estimator/Pipeline/ColumnTransformer box that is\n",
              "clickable and can be expanded/collapsed.\n",
              "- Pipeline and ColumnTransformer use this feature and define the default style\n",
              "- Estimators will overwrite some part of the style using the `sk-estimator` class\n",
              "*/\n",
              "\n",
              "/* Pipeline and ColumnTransformer style (default) */\n",
              "\n",
              "#sk-container-id-7 div.sk-toggleable {\n",
              "  /* Default theme specific background. It is overwritten whether we have a\n",
              "  specific estimator or a Pipeline/ColumnTransformer */\n",
              "  background-color: var(--sklearn-color-background);\n",
              "}\n",
              "\n",
              "/* Toggleable label */\n",
              "#sk-container-id-7 label.sk-toggleable__label {\n",
              "  cursor: pointer;\n",
              "  display: flex;\n",
              "  width: 100%;\n",
              "  margin-bottom: 0;\n",
              "  padding: 0.5em;\n",
              "  box-sizing: border-box;\n",
              "  text-align: center;\n",
              "  align-items: start;\n",
              "  justify-content: space-between;\n",
              "  gap: 0.5em;\n",
              "}\n",
              "\n",
              "#sk-container-id-7 label.sk-toggleable__label .caption {\n",
              "  font-size: 0.6rem;\n",
              "  font-weight: lighter;\n",
              "  color: var(--sklearn-color-text-muted);\n",
              "}\n",
              "\n",
              "#sk-container-id-7 label.sk-toggleable__label-arrow:before {\n",
              "  /* Arrow on the left of the label */\n",
              "  content: \"▸\";\n",
              "  float: left;\n",
              "  margin-right: 0.25em;\n",
              "  color: var(--sklearn-color-icon);\n",
              "}\n",
              "\n",
              "#sk-container-id-7 label.sk-toggleable__label-arrow:hover:before {\n",
              "  color: var(--sklearn-color-text);\n",
              "}\n",
              "\n",
              "/* Toggleable content - dropdown */\n",
              "\n",
              "#sk-container-id-7 div.sk-toggleable__content {\n",
              "  max-height: 0;\n",
              "  max-width: 0;\n",
              "  overflow: hidden;\n",
              "  text-align: left;\n",
              "  /* unfitted */\n",
              "  background-color: var(--sklearn-color-unfitted-level-0);\n",
              "}\n",
              "\n",
              "#sk-container-id-7 div.sk-toggleable__content.fitted {\n",
              "  /* fitted */\n",
              "  background-color: var(--sklearn-color-fitted-level-0);\n",
              "}\n",
              "\n",
              "#sk-container-id-7 div.sk-toggleable__content pre {\n",
              "  margin: 0.2em;\n",
              "  border-radius: 0.25em;\n",
              "  color: var(--sklearn-color-text);\n",
              "  /* unfitted */\n",
              "  background-color: var(--sklearn-color-unfitted-level-0);\n",
              "}\n",
              "\n",
              "#sk-container-id-7 div.sk-toggleable__content.fitted pre {\n",
              "  /* unfitted */\n",
              "  background-color: var(--sklearn-color-fitted-level-0);\n",
              "}\n",
              "\n",
              "#sk-container-id-7 input.sk-toggleable__control:checked~div.sk-toggleable__content {\n",
              "  /* Expand drop-down */\n",
              "  max-height: 200px;\n",
              "  max-width: 100%;\n",
              "  overflow: auto;\n",
              "}\n",
              "\n",
              "#sk-container-id-7 input.sk-toggleable__control:checked~label.sk-toggleable__label-arrow:before {\n",
              "  content: \"▾\";\n",
              "}\n",
              "\n",
              "/* Pipeline/ColumnTransformer-specific style */\n",
              "\n",
              "#sk-container-id-7 div.sk-label input.sk-toggleable__control:checked~label.sk-toggleable__label {\n",
              "  color: var(--sklearn-color-text);\n",
              "  background-color: var(--sklearn-color-unfitted-level-2);\n",
              "}\n",
              "\n",
              "#sk-container-id-7 div.sk-label.fitted input.sk-toggleable__control:checked~label.sk-toggleable__label {\n",
              "  background-color: var(--sklearn-color-fitted-level-2);\n",
              "}\n",
              "\n",
              "/* Estimator-specific style */\n",
              "\n",
              "/* Colorize estimator box */\n",
              "#sk-container-id-7 div.sk-estimator input.sk-toggleable__control:checked~label.sk-toggleable__label {\n",
              "  /* unfitted */\n",
              "  background-color: var(--sklearn-color-unfitted-level-2);\n",
              "}\n",
              "\n",
              "#sk-container-id-7 div.sk-estimator.fitted input.sk-toggleable__control:checked~label.sk-toggleable__label {\n",
              "  /* fitted */\n",
              "  background-color: var(--sklearn-color-fitted-level-2);\n",
              "}\n",
              "\n",
              "#sk-container-id-7 div.sk-label label.sk-toggleable__label,\n",
              "#sk-container-id-7 div.sk-label label {\n",
              "  /* The background is the default theme color */\n",
              "  color: var(--sklearn-color-text-on-default-background);\n",
              "}\n",
              "\n",
              "/* On hover, darken the color of the background */\n",
              "#sk-container-id-7 div.sk-label:hover label.sk-toggleable__label {\n",
              "  color: var(--sklearn-color-text);\n",
              "  background-color: var(--sklearn-color-unfitted-level-2);\n",
              "}\n",
              "\n",
              "/* Label box, darken color on hover, fitted */\n",
              "#sk-container-id-7 div.sk-label.fitted:hover label.sk-toggleable__label.fitted {\n",
              "  color: var(--sklearn-color-text);\n",
              "  background-color: var(--sklearn-color-fitted-level-2);\n",
              "}\n",
              "\n",
              "/* Estimator label */\n",
              "\n",
              "#sk-container-id-7 div.sk-label label {\n",
              "  font-family: monospace;\n",
              "  font-weight: bold;\n",
              "  display: inline-block;\n",
              "  line-height: 1.2em;\n",
              "}\n",
              "\n",
              "#sk-container-id-7 div.sk-label-container {\n",
              "  text-align: center;\n",
              "}\n",
              "\n",
              "/* Estimator-specific */\n",
              "#sk-container-id-7 div.sk-estimator {\n",
              "  font-family: monospace;\n",
              "  border: 1px dotted var(--sklearn-color-border-box);\n",
              "  border-radius: 0.25em;\n",
              "  box-sizing: border-box;\n",
              "  margin-bottom: 0.5em;\n",
              "  /* unfitted */\n",
              "  background-color: var(--sklearn-color-unfitted-level-0);\n",
              "}\n",
              "\n",
              "#sk-container-id-7 div.sk-estimator.fitted {\n",
              "  /* fitted */\n",
              "  background-color: var(--sklearn-color-fitted-level-0);\n",
              "}\n",
              "\n",
              "/* on hover */\n",
              "#sk-container-id-7 div.sk-estimator:hover {\n",
              "  /* unfitted */\n",
              "  background-color: var(--sklearn-color-unfitted-level-2);\n",
              "}\n",
              "\n",
              "#sk-container-id-7 div.sk-estimator.fitted:hover {\n",
              "  /* fitted */\n",
              "  background-color: var(--sklearn-color-fitted-level-2);\n",
              "}\n",
              "\n",
              "/* Specification for estimator info (e.g. \"i\" and \"?\") */\n",
              "\n",
              "/* Common style for \"i\" and \"?\" */\n",
              "\n",
              ".sk-estimator-doc-link,\n",
              "a:link.sk-estimator-doc-link,\n",
              "a:visited.sk-estimator-doc-link {\n",
              "  float: right;\n",
              "  font-size: smaller;\n",
              "  line-height: 1em;\n",
              "  font-family: monospace;\n",
              "  background-color: var(--sklearn-color-background);\n",
              "  border-radius: 1em;\n",
              "  height: 1em;\n",
              "  width: 1em;\n",
              "  text-decoration: none !important;\n",
              "  margin-left: 0.5em;\n",
              "  text-align: center;\n",
              "  /* unfitted */\n",
              "  border: var(--sklearn-color-unfitted-level-1) 1pt solid;\n",
              "  color: var(--sklearn-color-unfitted-level-1);\n",
              "}\n",
              "\n",
              ".sk-estimator-doc-link.fitted,\n",
              "a:link.sk-estimator-doc-link.fitted,\n",
              "a:visited.sk-estimator-doc-link.fitted {\n",
              "  /* fitted */\n",
              "  border: var(--sklearn-color-fitted-level-1) 1pt solid;\n",
              "  color: var(--sklearn-color-fitted-level-1);\n",
              "}\n",
              "\n",
              "/* On hover */\n",
              "div.sk-estimator:hover .sk-estimator-doc-link:hover,\n",
              ".sk-estimator-doc-link:hover,\n",
              "div.sk-label-container:hover .sk-estimator-doc-link:hover,\n",
              ".sk-estimator-doc-link:hover {\n",
              "  /* unfitted */\n",
              "  background-color: var(--sklearn-color-unfitted-level-3);\n",
              "  color: var(--sklearn-color-background);\n",
              "  text-decoration: none;\n",
              "}\n",
              "\n",
              "div.sk-estimator.fitted:hover .sk-estimator-doc-link.fitted:hover,\n",
              ".sk-estimator-doc-link.fitted:hover,\n",
              "div.sk-label-container:hover .sk-estimator-doc-link.fitted:hover,\n",
              ".sk-estimator-doc-link.fitted:hover {\n",
              "  /* fitted */\n",
              "  background-color: var(--sklearn-color-fitted-level-3);\n",
              "  color: var(--sklearn-color-background);\n",
              "  text-decoration: none;\n",
              "}\n",
              "\n",
              "/* Span, style for the box shown on hovering the info icon */\n",
              ".sk-estimator-doc-link span {\n",
              "  display: none;\n",
              "  z-index: 9999;\n",
              "  position: relative;\n",
              "  font-weight: normal;\n",
              "  right: .2ex;\n",
              "  padding: .5ex;\n",
              "  margin: .5ex;\n",
              "  width: min-content;\n",
              "  min-width: 20ex;\n",
              "  max-width: 50ex;\n",
              "  color: var(--sklearn-color-text);\n",
              "  box-shadow: 2pt 2pt 4pt #999;\n",
              "  /* unfitted */\n",
              "  background: var(--sklearn-color-unfitted-level-0);\n",
              "  border: .5pt solid var(--sklearn-color-unfitted-level-3);\n",
              "}\n",
              "\n",
              ".sk-estimator-doc-link.fitted span {\n",
              "  /* fitted */\n",
              "  background: var(--sklearn-color-fitted-level-0);\n",
              "  border: var(--sklearn-color-fitted-level-3);\n",
              "}\n",
              "\n",
              ".sk-estimator-doc-link:hover span {\n",
              "  display: block;\n",
              "}\n",
              "\n",
              "/* \"?\"-specific style due to the `<a>` HTML tag */\n",
              "\n",
              "#sk-container-id-7 a.estimator_doc_link {\n",
              "  float: right;\n",
              "  font-size: 1rem;\n",
              "  line-height: 1em;\n",
              "  font-family: monospace;\n",
              "  background-color: var(--sklearn-color-background);\n",
              "  border-radius: 1rem;\n",
              "  height: 1rem;\n",
              "  width: 1rem;\n",
              "  text-decoration: none;\n",
              "  /* unfitted */\n",
              "  color: var(--sklearn-color-unfitted-level-1);\n",
              "  border: var(--sklearn-color-unfitted-level-1) 1pt solid;\n",
              "}\n",
              "\n",
              "#sk-container-id-7 a.estimator_doc_link.fitted {\n",
              "  /* fitted */\n",
              "  border: var(--sklearn-color-fitted-level-1) 1pt solid;\n",
              "  color: var(--sklearn-color-fitted-level-1);\n",
              "}\n",
              "\n",
              "/* On hover */\n",
              "#sk-container-id-7 a.estimator_doc_link:hover {\n",
              "  /* unfitted */\n",
              "  background-color: var(--sklearn-color-unfitted-level-3);\n",
              "  color: var(--sklearn-color-background);\n",
              "  text-decoration: none;\n",
              "}\n",
              "\n",
              "#sk-container-id-7 a.estimator_doc_link.fitted:hover {\n",
              "  /* fitted */\n",
              "  background-color: var(--sklearn-color-fitted-level-3);\n",
              "}\n",
              "</style><div id=\"sk-container-id-7\" class=\"sk-top-container\"><div class=\"sk-text-repr-fallback\"><pre>PCA()</pre><b>In a Jupyter environment, please rerun this cell to show the HTML representation or trust the notebook. <br />On GitHub, the HTML representation is unable to render, please try loading this page with nbviewer.org.</b></div><div class=\"sk-container\" hidden><div class=\"sk-item\"><div class=\"sk-estimator fitted sk-toggleable\"><input class=\"sk-toggleable__control sk-hidden--visually\" id=\"sk-estimator-id-7\" type=\"checkbox\" checked><label for=\"sk-estimator-id-7\" class=\"sk-toggleable__label fitted sk-toggleable__label-arrow\"><div><div>PCA</div></div><div><a class=\"sk-estimator-doc-link fitted\" rel=\"noreferrer\" target=\"_blank\" href=\"https://scikit-learn.org/1.6/modules/generated/sklearn.decomposition.PCA.html\">?<span>Documentation for PCA</span></a><span class=\"sk-estimator-doc-link fitted\">i<span>Fitted</span></span></div></label><div class=\"sk-toggleable__content fitted\"><pre>PCA()</pre></div> </div></div></div></div>"
            ]
          },
          "metadata": {},
          "execution_count": 87
        }
      ]
    },
    {
      "cell_type": "code",
      "source": [
        "# Step 5.1: Extract the loadings (eigenvectors)\n",
        "loadings = pca.components_.T\n",
        "loadings = np.round(loadings, 4)\n",
        "print(\"Loadings (Eigenvectors):\\n\", loadings)\n",
        "\n",
        "# Step 5.2: Extract the eigenvalues\n",
        "eigenvalues = pca.explained_variance_\n",
        "eigenvalues = np.round(eigenvalues, 4)\n",
        "print(\"\\nEigenvalues:\\n\", eigenvalues)"
      ],
      "metadata": {
        "colab": {
          "base_uri": "https://localhost:8080/"
        },
        "outputId": "1eb71ccb-1d89-4567-93ee-12dce35bd63e",
        "id": "z4s_bbkuoa37"
      },
      "execution_count": null,
      "outputs": [
        {
          "output_type": "stream",
          "name": "stdout",
          "text": [
            "Loadings (Eigenvectors):\n",
            " [[ 0.5381  0.4114  0.7335  0.0564]\n",
            " [ 0.413   0.6321 -0.6544 -0.0396]\n",
            " [-0.517   0.4696  0.1694 -0.6954]\n",
            " [-0.5221  0.459   0.0706  0.7154]]\n",
            "\n",
            "Eigenvalues:\n",
            " [2.5223 1.3403 0.0794 0.058 ]\n"
          ]
        }
      ]
    },
    {
      "cell_type": "code",
      "source": [
        "# Step 6: Compute the proportion of variance explained\n",
        "proportion_variance = eigenvalues / np.sum(eigenvalues)\n",
        "proportion_variance = np.round(proportion_variance, 4)\n",
        "print(\"Proportion of Variance Explained:\\n\", proportion_variance)"
      ],
      "metadata": {
        "colab": {
          "base_uri": "https://localhost:8080/"
        },
        "outputId": "57bc9d10-ee88-4e0d-dd49-c2f700c04ce7",
        "id": "b3Kt50xboa37"
      },
      "execution_count": null,
      "outputs": [
        {
          "output_type": "stream",
          "name": "stdout",
          "text": [
            "Proportion of Variance Explained:\n",
            " [0.6306 0.3351 0.0198 0.0145]\n"
          ]
        }
      ]
    },
    {
      "cell_type": "code",
      "source": [
        "# Step 11: Compute the principal components\n",
        "principal_components = pca.transform(Z)\n",
        "principal_components = np.round(principal_components, 4)\n",
        "print(\"Principal Components:\\n\", principal_components)"
      ],
      "metadata": {
        "colab": {
          "base_uri": "https://localhost:8080/"
        },
        "outputId": "ab0bde73-a590-4bda-c047-1048844d005f",
        "id": "qtcOPvzqoa37"
      },
      "execution_count": null,
      "outputs": [
        {
          "output_type": "stream",
          "name": "stdout",
          "text": [
            "Principal Components:\n",
            " [[ 2.1941  0.3818  0.2381  0.149 ]\n",
            " [ 1.489   0.7587 -0.234   0.1869]\n",
            " [ 0.5305 -0.0325 -0.2156 -0.2561]\n",
            " [-0.5868  0.3936  0.2692 -0.2712]\n",
            " [-3.1231 -0.3298 -0.208   0.1336]\n",
            " [-1.9935 -0.0693  0.369   0.1108]\n",
            " [-0.1481  1.8401 -0.1313  0.2819]\n",
            " [ 1.0383 -2.5909  0.1315  0.2265]\n",
            " [ 0.4336  0.4992  0.2418 -0.3393]\n",
            " [ 0.1661 -0.8509 -0.4607 -0.222 ]]\n"
          ]
        }
      ]
    },
    {
      "cell_type": "code",
      "source": [
        "# Step 8: Print the results\n",
        "print(\"Correlation Matrix (C0):\")\n",
        "print(C0)\n",
        "print(\"\\nLoadings (Eigenvectors)\")\n",
        "print(loadings)\n",
        "print(\"\\nEigenvalues:\")\n",
        "print(eigenvalues)\n",
        "print(\"\\nProportion of Variance Explained:\")\n",
        "print(proportion_variance)\n",
        "print(\"\\nPrincipal Components:\")\n",
        "print(principal_components)"
      ],
      "metadata": {
        "colab": {
          "base_uri": "https://localhost:8080/"
        },
        "outputId": "b71fffa2-8445-4b11-db23-dd49a8b53b9c",
        "id": "B8Mg-sKzoa37"
      },
      "execution_count": null,
      "outputs": [
        {
          "output_type": "stream",
          "name": "stdout",
          "text": [
            "Correlation Matrix (C0):\n",
            "[[ 1.      0.8708 -0.4351 -0.4491]\n",
            " [ 0.8708  1.     -0.1479 -0.1604]\n",
            " [-0.4351 -0.1479  1.      0.9418]\n",
            " [-0.4491 -0.1604  0.9418  1.    ]]\n",
            "\n",
            "Loadings (Eigenvectors)\n",
            "[[ 0.5381  0.4114  0.7335  0.0564]\n",
            " [ 0.413   0.6321 -0.6544 -0.0396]\n",
            " [-0.517   0.4696  0.1694 -0.6954]\n",
            " [-0.5221  0.459   0.0706  0.7154]]\n",
            "\n",
            "Eigenvalues:\n",
            "[2.5223 1.3403 0.0794 0.058 ]\n",
            "\n",
            "Proportion of Variance Explained:\n",
            "[0.6306 0.3351 0.0198 0.0145]\n",
            "\n",
            "Principal Components:\n",
            "[[ 2.1941  0.3818  0.2381  0.149 ]\n",
            " [ 1.489   0.7587 -0.234   0.1869]\n",
            " [ 0.5305 -0.0325 -0.2156 -0.2561]\n",
            " [-0.5868  0.3936  0.2692 -0.2712]\n",
            " [-3.1231 -0.3298 -0.208   0.1336]\n",
            " [-1.9935 -0.0693  0.369   0.1108]\n",
            " [-0.1481  1.8401 -0.1313  0.2819]\n",
            " [ 1.0383 -2.5909  0.1315  0.2265]\n",
            " [ 0.4336  0.4992  0.2418 -0.3393]\n",
            " [ 0.1661 -0.8509 -0.4607 -0.222 ]]\n"
          ]
        }
      ]
    }
  ]
}