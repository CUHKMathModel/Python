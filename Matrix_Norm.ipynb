{
  "cells": [
    {
      "cell_type": "markdown",
      "id": "cec71199",
      "metadata": {
        "id": "cec71199"
      },
      "source": [
        "# Notes"
      ]
    },
    {
      "cell_type": "code",
      "execution_count": 2,
      "id": "0719bfbf",
      "metadata": {
        "id": "0719bfbf"
      },
      "outputs": [],
      "source": [
        "import numpy as np\n",
        "from numpy.linalg import norm, solve"
      ]
    },
    {
      "cell_type": "markdown",
      "source": [
        "# Vector Norm"
      ],
      "metadata": {
        "id": "34P2ByLZ80wa"
      },
      "id": "34P2ByLZ80wa"
    },
    {
      "cell_type": "markdown",
      "source": [
        "For a vector $\\mathbf{x}=(x_1,x_2,\\cdots,x_n)$, its vector $p$-norm is defined as $$\\|\\mathbf{x}\\|_p=(|x_1|^p+|x_2|^p+\\cdots+|x_n|^p)^{\\frac{1}{p}},\\quad 1\\leq p\\leq \\infty.$$"
      ],
      "metadata": {
        "id": "TtyxdCD07DL_"
      },
      "id": "TtyxdCD07DL_"
    },
    {
      "cell_type": "markdown",
      "source": [
        "For example, for $\\mathbf{b} = (7, 24, 0)$, we have\n",
        "$$\\|\\mathbf{b}\\|_1 = |7| + |24| + |0| = 31$$\n",
        "$$\\|\\mathbf{b}\\|_2 = \\sqrt{|7|^2 + |24|^2 + 0^2} = 25$$"
      ],
      "metadata": {
        "id": "WHUZYn1S7iwS"
      },
      "id": "WHUZYn1S7iwS"
    },
    {
      "cell_type": "code",
      "execution_count": 9,
      "id": "fce04976",
      "metadata": {
        "id": "fce04976",
        "outputId": "a7b5822f-c2ed-4ab4-e858-ae2e0cf1dc4a",
        "colab": {
          "base_uri": "https://localhost:8080/"
        }
      },
      "outputs": [
        {
          "output_type": "execute_result",
          "data": {
            "text/plain": [
              "np.float64(31.0)"
            ]
          },
          "metadata": {},
          "execution_count": 9
        }
      ],
      "source": [
        "b = np.array([7, 24, 0])\n",
        "norm(b,1)                       # 1-norm of a row vector"
      ]
    },
    {
      "cell_type": "code",
      "source": [
        "norm(b,2)                       # 2-norm of a row vector"
      ],
      "metadata": {
        "colab": {
          "base_uri": "https://localhost:8080/"
        },
        "id": "qrbjUMtw8o5m",
        "outputId": "fc7aa253-397f-4ccf-f16a-2c96df2a6454"
      },
      "id": "qrbjUMtw8o5m",
      "execution_count": 10,
      "outputs": [
        {
          "output_type": "execute_result",
          "data": {
            "text/plain": [
              "np.float64(25.0)"
            ]
          },
          "metadata": {},
          "execution_count": 10
        }
      ]
    },
    {
      "cell_type": "markdown",
      "source": [
        "For $\\mathbf{c} = \\begin{pmatrix} 5 \\\\ 0 \\\\ -12 \\end{pmatrix}$, we have $\\|\\mathbf{c}\\|_2 = \\sqrt{5^2 + 0^2 + |-12|^2} = 13$"
      ],
      "metadata": {
        "id": "l6X748Y58HNP"
      },
      "id": "l6X748Y58HNP"
    },
    {
      "cell_type": "code",
      "execution_count": 11,
      "id": "1080f5ad",
      "metadata": {
        "id": "1080f5ad",
        "outputId": "69266315-2d9f-46ab-e81e-23602505ddac",
        "colab": {
          "base_uri": "https://localhost:8080/"
        }
      },
      "outputs": [
        {
          "output_type": "execute_result",
          "data": {
            "text/plain": [
              "np.float64(13.0)"
            ]
          },
          "metadata": {},
          "execution_count": 11
        }
      ],
      "source": [
        "c = np.array([[5], [0], [-12]])\n",
        "norm(c,2)                       # 2-norm of a column vector"
      ]
    },
    {
      "cell_type": "markdown",
      "source": [
        "# Matrix Norm"
      ],
      "metadata": {
        "id": "y5XaEZmD87uO"
      },
      "id": "y5XaEZmD87uO"
    },
    {
      "cell_type": "markdown",
      "id": "205f98ab",
      "metadata": {
        "id": "205f98ab"
      },
      "source": [
        "For matrix norm, we usually use the following norms.\n",
        "\n"
      ]
    },
    {
      "cell_type": "markdown",
      "id": "08461fbf",
      "metadata": {
        "id": "08461fbf"
      },
      "source": [
        "(a) 1-norm\n",
        "\n",
        "$||A||_1 = $ maximum absolute column sum of matrix $A$ (i.e. first take the absolute value of each element, and then calculuate the sum of all absolute values for each column, and finally take the maximum of all column sums)"
      ]
    },
    {
      "cell_type": "markdown",
      "id": "34c7fb57",
      "metadata": {
        "id": "34c7fb57"
      },
      "source": [
        "(b) 2-norm\n",
        "\n",
        "$||A||_2 = \\sqrt{\\lambda_{max}(A^TA)}$, where $\\lambda_{max}$ is the maximum eigenvalue of $A^TA$.\n"
      ]
    },
    {
      "cell_type": "markdown",
      "id": "38b19161",
      "metadata": {
        "id": "38b19161"
      },
      "source": [
        "(c) $\\infty$-norm\n",
        "\n",
        "$||A||_\\infty = $ maximum absolute row sum of matrix $A$ (i.e. first take the absolute value of each element, and then calculuate the sum of all absolute values for each row, and finally take the maximum of all row sums)"
      ]
    },
    {
      "cell_type": "markdown",
      "id": "1b726ad4",
      "metadata": {
        "id": "1b726ad4"
      },
      "source": [
        "## ```Example```"
      ]
    },
    {
      "cell_type": "markdown",
      "id": "cc2a5d24",
      "metadata": {
        "id": "cc2a5d24"
      },
      "source": [
        "Let $A = \\left[\\begin{matrix} 1 & -3 \\\\ -2 & 4 \\end{matrix}\\right]$. Then we have"
      ]
    },
    {
      "cell_type": "markdown",
      "id": "60fdf641",
      "metadata": {
        "id": "60fdf641"
      },
      "source": [
        "(a) $||A||_1 = \\max(1+|-2|, |-3|+4) = 7$"
      ]
    },
    {
      "cell_type": "markdown",
      "id": "50f70718",
      "metadata": {
        "id": "50f70718"
      },
      "source": [
        "(b) $||A||_2 = \\sqrt{\\lambda_{max} \\left(\\left[\\begin{matrix} 5 & -11 \\\\ -11 & 25 \\end{matrix}\\right]\\right)} = 5.465$"
      ]
    },
    {
      "cell_type": "markdown",
      "id": "19abda7f",
      "metadata": {
        "id": "19abda7f"
      },
      "source": [
        "(c) $||A||_\\infty = \\max(1+|-3|, |-2|+4) = 6$"
      ]
    },
    {
      "cell_type": "code",
      "source": [
        "A = np.array([[1, -3], [-2, 4]])\n",
        "norm(A,1)                       # matrix 1-norm"
      ],
      "metadata": {
        "colab": {
          "base_uri": "https://localhost:8080/"
        },
        "id": "L2WrFd3854UJ",
        "outputId": "54cf2203-ba6b-4509-bacc-c3e45424dcea"
      },
      "id": "L2WrFd3854UJ",
      "execution_count": 6,
      "outputs": [
        {
          "output_type": "execute_result",
          "data": {
            "text/plain": [
              "np.float64(7.0)"
            ]
          },
          "metadata": {},
          "execution_count": 6
        }
      ]
    },
    {
      "cell_type": "code",
      "source": [
        "norm(A,2)                       # matrix 2-norm"
      ],
      "metadata": {
        "colab": {
          "base_uri": "https://localhost:8080/"
        },
        "id": "66lUTQ7C6ZWz",
        "outputId": "76b40b91-a4bf-479d-9bf8-e6ace551a7b8"
      },
      "id": "66lUTQ7C6ZWz",
      "execution_count": 7,
      "outputs": [
        {
          "output_type": "execute_result",
          "data": {
            "text/plain": [
              "np.float64(5.464985704219042)"
            ]
          },
          "metadata": {},
          "execution_count": 7
        }
      ]
    },
    {
      "cell_type": "code",
      "source": [
        "norm(A,np.inf)                  # matrix inf-norm"
      ],
      "metadata": {
        "colab": {
          "base_uri": "https://localhost:8080/"
        },
        "id": "FiFd3BiV6bHK",
        "outputId": "462d5527-a994-4f65-95d9-619234d85c7c"
      },
      "id": "FiFd3BiV6bHK",
      "execution_count": 8,
      "outputs": [
        {
          "output_type": "execute_result",
          "data": {
            "text/plain": [
              "np.float64(6.0)"
            ]
          },
          "metadata": {},
          "execution_count": 8
        }
      ]
    },
    {
      "cell_type": "markdown",
      "id": "11e60b7f",
      "metadata": {
        "id": "11e60b7f"
      },
      "source": [
        "# Exercise"
      ]
    },
    {
      "cell_type": "markdown",
      "id": "a3b18f96",
      "metadata": {
        "id": "a3b18f96"
      },
      "source": [
        "1. Find the 1-norm, 2-norm and $\\infty$-norm of the following matrix."
      ]
    },
    {
      "cell_type": "markdown",
      "id": "32bc49f5",
      "metadata": {
        "id": "32bc49f5"
      },
      "source": [
        "(a) $\\left[\\begin{matrix}\n",
        "1 & 2 & -3 \\\\\n",
        "4 & -5 & 6 \\\\\n",
        "-7 & 8 & 9\n",
        "\\end{matrix}\\right]$"
      ]
    },
    {
      "cell_type": "code",
      "execution_count": null,
      "id": "73a89bdf",
      "metadata": {
        "id": "73a89bdf"
      },
      "outputs": [],
      "source": []
    },
    {
      "cell_type": "markdown",
      "id": "78aece5f",
      "metadata": {
        "id": "78aece5f"
      },
      "source": [
        "(b) $\\left[\\begin{matrix}\n",
        "-2.9 & 38 & 0.1 & -93 \\\\\n",
        "0 & 12 & 85 & -2 \\\\\n",
        "13 & 13 & -31 & 88.3 \\\\\n",
        "0 & 0 & 45 & 67\n",
        "\\end{matrix}\\right]$"
      ]
    },
    {
      "cell_type": "code",
      "execution_count": null,
      "id": "697a1e4e",
      "metadata": {
        "id": "697a1e4e"
      },
      "outputs": [],
      "source": []
    }
  ],
  "metadata": {
    "kernelspec": {
      "display_name": "Python 3 (ipykernel)",
      "language": "python",
      "name": "python3"
    },
    "language_info": {
      "codemirror_mode": {
        "name": "ipython",
        "version": 3
      },
      "file_extension": ".py",
      "mimetype": "text/x-python",
      "name": "python",
      "nbconvert_exporter": "python",
      "pygments_lexer": "ipython3",
      "version": "3.9.13"
    },
    "colab": {
      "provenance": []
    }
  },
  "nbformat": 4,
  "nbformat_minor": 5
}