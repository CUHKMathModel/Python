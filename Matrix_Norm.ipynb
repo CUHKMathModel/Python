{
  "cells": [
    {
      "cell_type": "markdown",
      "id": "cec71199",
      "metadata": {
        "id": "cec71199"
      },
      "source": [
        "# Notes"
      ]
    },
    {
      "cell_type": "code",
      "execution_count": null,
      "id": "0719bfbf",
      "metadata": {
        "id": "0719bfbf"
      },
      "outputs": [],
      "source": [
        "import numpy as np\n",
        "from numpy.linalg import norm, solve"
      ]
    },
    {
      "cell_type": "code",
      "execution_count": null,
      "id": "fce04976",
      "metadata": {
        "id": "fce04976",
        "outputId": "2b47ecdf-b4ea-433b-b61a-dddf73c932b0"
      },
      "outputs": [
        {
          "data": {
            "text/plain": [
              "25.0"
            ]
          },
          "execution_count": 2,
          "metadata": {},
          "output_type": "execute_result"
        }
      ],
      "source": [
        "b = np.array([7, 24, 0])\n",
        "norm(b)                       # norm of a row vector"
      ]
    },
    {
      "cell_type": "code",
      "execution_count": null,
      "id": "1080f5ad",
      "metadata": {
        "id": "1080f5ad",
        "outputId": "4e5e582e-1fce-4f91-c757-8d0237394b44"
      },
      "outputs": [
        {
          "data": {
            "text/plain": [
              "13.0"
            ]
          },
          "execution_count": 3,
          "metadata": {},
          "output_type": "execute_result"
        }
      ],
      "source": [
        "c = np.array([[5], [0], [-12]])\n",
        "norm(c)                       # norm of a column vector"
      ]
    },
    {
      "cell_type": "markdown",
      "id": "205f98ab",
      "metadata": {
        "id": "205f98ab"
      },
      "source": [
        "For matrix norm, we usually use the following norms.\n",
        "\n"
      ]
    },
    {
      "cell_type": "markdown",
      "id": "08461fbf",
      "metadata": {
        "id": "08461fbf"
      },
      "source": [
        "(a) 1-norm\n",
        "\n",
        "$||A||_1 = $ maximum absolute column sum of matrix $A$ (i.e. first take the absolute value of each element, and then calculuate the sum of all absolute values for each column, and finally take the maximum of all column sums)"
      ]
    },
    {
      "cell_type": "markdown",
      "id": "34c7fb57",
      "metadata": {
        "id": "34c7fb57"
      },
      "source": [
        "(b) 2-norm\n",
        "\n",
        "$||A||_2 = \\sqrt{\\lambda_{max}(A^TA)}$, where $\\lambda_{max}$ is the maximum eigenvalue of $A^TA$.\n"
      ]
    },
    {
      "cell_type": "markdown",
      "id": "38b19161",
      "metadata": {
        "id": "38b19161"
      },
      "source": [
        "(c) $\\infty$-norm\n",
        "\n",
        "$||A||_\\infty = $ maximum absolute row sum of matrix $A$ (i.e. first take the absolute value of each element, and then calculuate the sum of all absolute values for each row, and finally take the maximum of all row sums)"
      ]
    },
    {
      "cell_type": "markdown",
      "id": "1b726ad4",
      "metadata": {
        "id": "1b726ad4"
      },
      "source": [
        "## ```Example```"
      ]
    },
    {
      "cell_type": "markdown",
      "id": "cc2a5d24",
      "metadata": {
        "id": "cc2a5d24"
      },
      "source": [
        "Let $A = \\left[\\begin{matrix} 1 & -3 \\\\ -2 & 4 \\end{matrix}\\right]$. Then we have"
      ]
    },
    {
      "cell_type": "markdown",
      "id": "60fdf641",
      "metadata": {
        "id": "60fdf641"
      },
      "source": [
        "(a) $||A||_1 = \\max(1+|-2|, |-3|+4) = 7$"
      ]
    },
    {
      "cell_type": "markdown",
      "id": "50f70718",
      "metadata": {
        "id": "50f70718"
      },
      "source": [
        "(b) $||A||_2 = \\sqrt{\\lambda_{max} \\left(\\left[\\begin{matrix} 5 & -11 \\\\ -11 & 25 \\end{matrix}\\right]\\right)} = 5.465$"
      ]
    },
    {
      "cell_type": "markdown",
      "id": "19abda7f",
      "metadata": {
        "id": "19abda7f"
      },
      "source": [
        "(c) $||A||_\\infty = \\max(1+|-3|, |-2|+4) = 6$"
      ]
    },
    {
      "cell_type": "markdown",
      "id": "11e60b7f",
      "metadata": {
        "id": "11e60b7f"
      },
      "source": [
        "# Exercise"
      ]
    },
    {
      "cell_type": "markdown",
      "id": "a3b18f96",
      "metadata": {
        "id": "a3b18f96"
      },
      "source": [
        "1. Find the 1-norm, 2-norm and $\\infty$-norm of the following matrix."
      ]
    },
    {
      "cell_type": "markdown",
      "id": "32bc49f5",
      "metadata": {
        "id": "32bc49f5"
      },
      "source": [
        "(a) $\\left[\\begin{matrix}\n",
        "1 & 2 & -3 \\\\\n",
        "4 & -5 & 6 \\\\\n",
        "-7 & 8 & 9\n",
        "\\end{matrix}\\right]$"
      ]
    },
    {
      "cell_type": "code",
      "execution_count": null,
      "id": "73a89bdf",
      "metadata": {
        "id": "73a89bdf"
      },
      "outputs": [],
      "source": []
    },
    {
      "cell_type": "markdown",
      "id": "78aece5f",
      "metadata": {
        "id": "78aece5f"
      },
      "source": [
        "(b) $\\left[\\begin{matrix}\n",
        "-2.9 & 38 & 0.1 & -93 \\\\\n",
        "0 & 12 & 85 & -2 \\\\\n",
        "13 & 13 & -31 & 88.3 \\\\\n",
        "0 & 0 & 45 & 67\n",
        "\\end{matrix}\\right]$"
      ]
    },
    {
      "cell_type": "code",
      "execution_count": null,
      "id": "697a1e4e",
      "metadata": {
        "id": "697a1e4e"
      },
      "outputs": [],
      "source": []
    }
  ],
  "metadata": {
    "kernelspec": {
      "display_name": "Python 3 (ipykernel)",
      "language": "python",
      "name": "python3"
    },
    "language_info": {
      "codemirror_mode": {
        "name": "ipython",
        "version": 3
      },
      "file_extension": ".py",
      "mimetype": "text/x-python",
      "name": "python",
      "nbconvert_exporter": "python",
      "pygments_lexer": "ipython3",
      "version": "3.9.13"
    },
    "colab": {
      "provenance": []
    }
  },
  "nbformat": 4,
  "nbformat_minor": 5
}