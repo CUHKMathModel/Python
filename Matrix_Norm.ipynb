{
  "cells": [
    {
      "cell_type": "markdown",
      "id": "cec71199",
      "metadata": {
        "id": "cec71199"
      },
      "source": [
        "# Notes"
      ]
    },
    {
      "cell_type": "code",
      "execution_count": 2,
      "id": "0719bfbf",
      "metadata": {
        "id": "0719bfbf"
      },
      "outputs": [],
      "source": [
        "import numpy as np\n",
        "from numpy.linalg import norm, solve"
      ]
    },
    {
      "cell_type": "code",
      "execution_count": 3,
      "id": "fce04976",
      "metadata": {
        "id": "fce04976",
        "outputId": "d1bb381d-beda-45bf-f027-907e6b7840fc",
        "colab": {
          "base_uri": "https://localhost:8080/"
        }
      },
      "outputs": [
        {
          "output_type": "execute_result",
          "data": {
            "text/plain": [
              "np.float64(25.0)"
            ]
          },
          "metadata": {},
          "execution_count": 3
        }
      ],
      "source": [
        "b = np.array([7, 24, 0])\n",
        "norm(b)                       # norm of a row vector"
      ]
    },
    {
      "cell_type": "code",
      "execution_count": 4,
      "id": "1080f5ad",
      "metadata": {
        "id": "1080f5ad",
        "outputId": "cea5afb1-0e45-40bb-b1a5-70a88b32caa9",
        "colab": {
          "base_uri": "https://localhost:8080/"
        }
      },
      "outputs": [
        {
          "output_type": "execute_result",
          "data": {
            "text/plain": [
              "np.float64(13.0)"
            ]
          },
          "metadata": {},
          "execution_count": 4
        }
      ],
      "source": [
        "c = np.array([[5], [0], [-12]])\n",
        "norm(c)                       # norm of a column vector"
      ]
    },
    {
      "cell_type": "markdown",
      "id": "205f98ab",
      "metadata": {
        "id": "205f98ab"
      },
      "source": [
        "For matrix norm, we usually use the following norms.\n",
        "\n"
      ]
    },
    {
      "cell_type": "markdown",
      "id": "08461fbf",
      "metadata": {
        "id": "08461fbf"
      },
      "source": [
        "(a) 1-norm\n",
        "\n",
        "$||A||_1 = $ maximum absolute column sum of matrix $A$ (i.e. first take the absolute value of each element, and then calculuate the sum of all absolute values for each column, and finally take the maximum of all column sums)"
      ]
    },
    {
      "cell_type": "markdown",
      "id": "34c7fb57",
      "metadata": {
        "id": "34c7fb57"
      },
      "source": [
        "(b) 2-norm\n",
        "\n",
        "$||A||_2 = \\sqrt{\\lambda_{max}(A^TA)}$, where $\\lambda_{max}$ is the maximum eigenvalue of $A^TA$.\n"
      ]
    },
    {
      "cell_type": "markdown",
      "id": "38b19161",
      "metadata": {
        "id": "38b19161"
      },
      "source": [
        "(c) $\\infty$-norm\n",
        "\n",
        "$||A||_\\infty = $ maximum absolute row sum of matrix $A$ (i.e. first take the absolute value of each element, and then calculuate the sum of all absolute values for each row, and finally take the maximum of all row sums)"
      ]
    },
    {
      "cell_type": "markdown",
      "id": "1b726ad4",
      "metadata": {
        "id": "1b726ad4"
      },
      "source": [
        "## ```Example```"
      ]
    },
    {
      "cell_type": "markdown",
      "id": "cc2a5d24",
      "metadata": {
        "id": "cc2a5d24"
      },
      "source": [
        "Let $A = \\left[\\begin{matrix} 1 & -3 \\\\ -2 & 4 \\end{matrix}\\right]$. Then we have"
      ]
    },
    {
      "cell_type": "markdown",
      "id": "60fdf641",
      "metadata": {
        "id": "60fdf641"
      },
      "source": [
        "(a) $||A||_1 = \\max(1+|-2|, |-3|+4) = 7$"
      ]
    },
    {
      "cell_type": "markdown",
      "id": "50f70718",
      "metadata": {
        "id": "50f70718"
      },
      "source": [
        "(b) $||A||_2 = \\sqrt{\\lambda_{max} \\left(\\left[\\begin{matrix} 5 & -11 \\\\ -11 & 25 \\end{matrix}\\right]\\right)} = 5.465$"
      ]
    },
    {
      "cell_type": "markdown",
      "id": "19abda7f",
      "metadata": {
        "id": "19abda7f"
      },
      "source": [
        "(c) $||A||_\\infty = \\max(1+|-3|, |-2|+4) = 6$"
      ]
    },
    {
      "cell_type": "code",
      "source": [
        "A = np.array([[1, -3], [-2, 4]])\n",
        "norm(A,1)                       # matrix 1-norm"
      ],
      "metadata": {
        "colab": {
          "base_uri": "https://localhost:8080/"
        },
        "id": "L2WrFd3854UJ",
        "outputId": "54cf2203-ba6b-4509-bacc-c3e45424dcea"
      },
      "id": "L2WrFd3854UJ",
      "execution_count": 6,
      "outputs": [
        {
          "output_type": "execute_result",
          "data": {
            "text/plain": [
              "np.float64(7.0)"
            ]
          },
          "metadata": {},
          "execution_count": 6
        }
      ]
    },
    {
      "cell_type": "code",
      "source": [
        "norm(A,2)                       # matrix 2-norm"
      ],
      "metadata": {
        "colab": {
          "base_uri": "https://localhost:8080/"
        },
        "id": "66lUTQ7C6ZWz",
        "outputId": "76b40b91-a4bf-479d-9bf8-e6ace551a7b8"
      },
      "id": "66lUTQ7C6ZWz",
      "execution_count": 7,
      "outputs": [
        {
          "output_type": "execute_result",
          "data": {
            "text/plain": [
              "np.float64(5.464985704219042)"
            ]
          },
          "metadata": {},
          "execution_count": 7
        }
      ]
    },
    {
      "cell_type": "code",
      "source": [
        "norm(A,np.inf)                  # matrix inf-norm"
      ],
      "metadata": {
        "colab": {
          "base_uri": "https://localhost:8080/"
        },
        "id": "FiFd3BiV6bHK",
        "outputId": "462d5527-a994-4f65-95d9-619234d85c7c"
      },
      "id": "FiFd3BiV6bHK",
      "execution_count": 8,
      "outputs": [
        {
          "output_type": "execute_result",
          "data": {
            "text/plain": [
              "np.float64(6.0)"
            ]
          },
          "metadata": {},
          "execution_count": 8
        }
      ]
    },
    {
      "cell_type": "markdown",
      "id": "11e60b7f",
      "metadata": {
        "id": "11e60b7f"
      },
      "source": [
        "# Exercise"
      ]
    },
    {
      "cell_type": "markdown",
      "id": "a3b18f96",
      "metadata": {
        "id": "a3b18f96"
      },
      "source": [
        "1. Find the 1-norm, 2-norm and $\\infty$-norm of the following matrix."
      ]
    },
    {
      "cell_type": "markdown",
      "id": "32bc49f5",
      "metadata": {
        "id": "32bc49f5"
      },
      "source": [
        "(a) $\\left[\\begin{matrix}\n",
        "1 & 2 & -3 \\\\\n",
        "4 & -5 & 6 \\\\\n",
        "-7 & 8 & 9\n",
        "\\end{matrix}\\right]$"
      ]
    },
    {
      "cell_type": "code",
      "execution_count": null,
      "id": "73a89bdf",
      "metadata": {
        "id": "73a89bdf"
      },
      "outputs": [],
      "source": []
    },
    {
      "cell_type": "markdown",
      "id": "78aece5f",
      "metadata": {
        "id": "78aece5f"
      },
      "source": [
        "(b) $\\left[\\begin{matrix}\n",
        "-2.9 & 38 & 0.1 & -93 \\\\\n",
        "0 & 12 & 85 & -2 \\\\\n",
        "13 & 13 & -31 & 88.3 \\\\\n",
        "0 & 0 & 45 & 67\n",
        "\\end{matrix}\\right]$"
      ]
    },
    {
      "cell_type": "code",
      "execution_count": null,
      "id": "697a1e4e",
      "metadata": {
        "id": "697a1e4e"
      },
      "outputs": [],
      "source": []
    }
  ],
  "metadata": {
    "kernelspec": {
      "display_name": "Python 3 (ipykernel)",
      "language": "python",
      "name": "python3"
    },
    "language_info": {
      "codemirror_mode": {
        "name": "ipython",
        "version": 3
      },
      "file_extension": ".py",
      "mimetype": "text/x-python",
      "name": "python",
      "nbconvert_exporter": "python",
      "pygments_lexer": "ipython3",
      "version": "3.9.13"
    },
    "colab": {
      "provenance": []
    }
  },
  "nbformat": 4,
  "nbformat_minor": 5
}