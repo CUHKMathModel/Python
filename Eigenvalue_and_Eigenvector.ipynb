{
  "cells": [
    {
      "cell_type": "markdown",
      "id": "d00ad1d5",
      "metadata": {
        "id": "d00ad1d5"
      },
      "source": [
        "# Notes"
      ]
    },
    {
      "cell_type": "markdown",
      "id": "92757b20",
      "metadata": {
        "id": "92757b20"
      },
      "source": [
        "For a square matrix $A$, the values $\\lambda$ such that $A\\lambda = \\lambda v $ is called the eigenvalues of $A$. The corresponding vector $v$ satisfies the equation $A\\lambda = \\lambda v$ is called the eigenvector."
      ]
    },
    {
      "cell_type": "markdown",
      "id": "7848fca0",
      "metadata": {
        "id": "7848fca0"
      },
      "source": [
        "## ```How to Find Eigenvalue and Its Corresponding Eigenvector```"
      ]
    },
    {
      "cell_type": "markdown",
      "id": "2c2f56b2",
      "metadata": {
        "id": "2c2f56b2"
      },
      "source": [
        "(a) Solve the equation $det(A-\\lambda I) = 0$ for the eigenvalues $\\lambda$."
      ]
    },
    {
      "cell_type": "markdown",
      "id": "79d49b5a",
      "metadata": {
        "id": "79d49b5a"
      },
      "source": [
        "(b) For the eigenvalues found in (a), solve the system $(A-\\lambda I)v = 0$ for the eigenvector $v$."
      ]
    },
    {
      "cell_type": "code",
      "execution_count": null,
      "id": "7fd9740e",
      "metadata": {
        "id": "7fd9740e"
      },
      "outputs": [],
      "source": [
        "import numpy as np\n",
        "from numpy.linalg import inv, eig"
      ]
    },
    {
      "cell_type": "code",
      "execution_count": null,
      "id": "63ded1bb",
      "metadata": {
        "id": "63ded1bb",
        "outputId": "08627831-014c-47fa-b588-fed5357b54d4"
      },
      "outputs": [
        {
          "data": {
            "text/plain": [
              "array([[ 1, -3],\n",
              "       [-5,  7]])"
            ]
          },
          "execution_count": 10,
          "metadata": {},
          "output_type": "execute_result"
        }
      ],
      "source": [
        "E = np.array([[1,-3], [-5, 7]])\n",
        "E"
      ]
    },
    {
      "cell_type": "code",
      "execution_count": null,
      "id": "84a0bb52",
      "metadata": {
        "id": "84a0bb52"
      },
      "outputs": [],
      "source": [
        "value, vector = eig(E)        # eigenvalue and eigenvector of matrix E"
      ]
    },
    {
      "cell_type": "code",
      "execution_count": null,
      "id": "aa8fd122",
      "metadata": {
        "id": "aa8fd122",
        "outputId": "721c2ba7-edda-451a-c515-3e2e1c9197c5"
      },
      "outputs": [
        {
          "data": {
            "text/plain": [
              "array([-0.89897949,  8.89897949])"
            ]
          },
          "execution_count": 4,
          "metadata": {},
          "output_type": "execute_result"
        }
      ],
      "source": [
        "value"
      ]
    },
    {
      "cell_type": "code",
      "execution_count": null,
      "id": "af419235",
      "metadata": {
        "id": "af419235",
        "outputId": "b4b975e6-3b25-443b-8f51-e68a75d99bf1"
      },
      "outputs": [
        {
          "data": {
            "text/plain": [
              "array([[-0.84494897,  0.35505103],\n",
              "       [-0.53484692, -0.93484692]])"
            ]
          },
          "execution_count": 5,
          "metadata": {},
          "output_type": "execute_result"
        }
      ],
      "source": [
        "vector                        # Python will normalized the eigenvectors. (i.e. The eigenvectors computed are unit vectors.)"
      ]
    },
    {
      "cell_type": "code",
      "execution_count": null,
      "id": "f772f089",
      "metadata": {
        "id": "f772f089",
        "outputId": "a746d5d4-d63b-4c72-9fb9-12e53311aebb"
      },
      "outputs": [
        {
          "data": {
            "text/plain": [
              "array([[2, 0, 0],\n",
              "       [0, 3, 4],\n",
              "       [0, 4, 9]])"
            ]
          },
          "execution_count": 9,
          "metadata": {},
          "output_type": "execute_result"
        }
      ],
      "source": [
        "F = np.array([[2,0,0], [0,3,4], [0,4,9]])\n",
        "F"
      ]
    },
    {
      "cell_type": "code",
      "execution_count": null,
      "id": "76cdec4d",
      "metadata": {
        "id": "76cdec4d"
      },
      "outputs": [],
      "source": [
        "value1, vector1 = eig(F)"
      ]
    },
    {
      "cell_type": "code",
      "execution_count": null,
      "id": "a704c088",
      "metadata": {
        "id": "a704c088",
        "outputId": "55934a3f-399b-46b0-cf56-bfe59239bb7e"
      },
      "outputs": [
        {
          "data": {
            "text/plain": [
              "array([11.,  1.,  2.])"
            ]
          },
          "execution_count": 12,
          "metadata": {},
          "output_type": "execute_result"
        }
      ],
      "source": [
        "value1"
      ]
    },
    {
      "cell_type": "code",
      "execution_count": null,
      "id": "c9a3c5e0",
      "metadata": {
        "id": "c9a3c5e0",
        "outputId": "e50942e5-3a6c-46e3-89ac-cdcdd28c01a0"
      },
      "outputs": [
        {
          "data": {
            "text/plain": [
              "array([[ 0.        ,  0.        ,  1.        ],\n",
              "       [ 0.4472136 ,  0.89442719,  0.        ],\n",
              "       [ 0.89442719, -0.4472136 ,  0.        ]])"
            ]
          },
          "execution_count": 13,
          "metadata": {},
          "output_type": "execute_result"
        }
      ],
      "source": [
        "vector1"
      ]
    },
    {
      "cell_type": "markdown",
      "id": "c9e3624d",
      "metadata": {
        "id": "c9e3624d"
      },
      "source": [
        "# Exercise"
      ]
    },
    {
      "cell_type": "markdown",
      "id": "5f5219f3",
      "metadata": {
        "id": "5f5219f3"
      },
      "source": [
        "1. Let $M = \\left[\\begin{matrix}\n",
        "-13 & -8 & -4 \\\\\n",
        "12 & 7 & 4 \\\\\n",
        "24 & 16 & 7\\end{matrix}\\right]$. Find the eigenvalues and eigenvectors of M."
      ]
    },
    {
      "cell_type": "code",
      "execution_count": null,
      "id": "77c03a41",
      "metadata": {
        "id": "77c03a41"
      },
      "outputs": [],
      "source": []
    }
  ],
  "metadata": {
    "kernelspec": {
      "display_name": "Python 3 (ipykernel)",
      "language": "python",
      "name": "python3"
    },
    "language_info": {
      "codemirror_mode": {
        "name": "ipython",
        "version": 3
      },
      "file_extension": ".py",
      "mimetype": "text/x-python",
      "name": "python",
      "nbconvert_exporter": "python",
      "pygments_lexer": "ipython3",
      "version": "3.9.13"
    },
    "colab": {
      "provenance": []
    }
  },
  "nbformat": 4,
  "nbformat_minor": 5
}