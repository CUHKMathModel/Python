{
  "cells": [
    {
      "cell_type": "markdown",
      "id": "32c7f884",
      "metadata": {
        "id": "32c7f884"
      },
      "source": [
        "# Notes"
      ]
    },
    {
      "cell_type": "code",
      "execution_count": null,
      "id": "6764a248",
      "metadata": {
        "id": "6764a248"
      },
      "outputs": [],
      "source": [
        "import numpy as np                  # \"numpy\" is a library in Python that collects the operations of matrices.\n",
        "from numpy.linalg import inv"
      ]
    },
    {
      "cell_type": "code",
      "execution_count": null,
      "id": "da2b46d6",
      "metadata": {
        "id": "da2b46d6",
        "outputId": "b2cf8735-7066-4ff8-d773-e5dc731ce31f"
      },
      "outputs": [
        {
          "data": {
            "text/plain": [
              "array([[1, 2],\n",
              "       [3, 4],\n",
              "       [5, 6]])"
            ]
          },
          "execution_count": 2,
          "metadata": {},
          "output_type": "execute_result"
        }
      ],
      "source": [
        "A = np.array([[1,2], [3,4], [5,6]]) # define matrix in Python\n",
        "A"
      ]
    },
    {
      "cell_type": "code",
      "execution_count": null,
      "id": "a7d1c9ab",
      "metadata": {
        "id": "a7d1c9ab",
        "outputId": "28b87b9a-b54e-483f-ea78-be3ed6c15e13"
      },
      "outputs": [
        {
          "data": {
            "text/plain": [
              "array([[1, 2, 3],\n",
              "       [4, 5, 6]])"
            ]
          },
          "execution_count": 3,
          "metadata": {},
          "output_type": "execute_result"
        }
      ],
      "source": [
        "B = np.array([[1,2,3], [4,5,6]])\n",
        "B"
      ]
    },
    {
      "cell_type": "code",
      "execution_count": null,
      "id": "4c6962f0",
      "metadata": {
        "id": "4c6962f0"
      },
      "outputs": [],
      "source": [
        "C = np.array([[3,-3], [4,-4]])\n",
        "D = np.array([[5,-5], [6,-6]])"
      ]
    },
    {
      "cell_type": "code",
      "execution_count": null,
      "id": "85a38512",
      "metadata": {
        "id": "85a38512",
        "outputId": "0768b327-6f29-4167-de74-491eec3326e5"
      },
      "outputs": [
        {
          "data": {
            "text/plain": [
              "array([[-3,  3],\n",
              "       [-4,  4]])"
            ]
          },
          "execution_count": 5,
          "metadata": {},
          "output_type": "execute_result"
        }
      ],
      "source": [
        "C@D            # matrix multiplication"
      ]
    },
    {
      "cell_type": "code",
      "execution_count": null,
      "id": "a239ab6a",
      "metadata": {
        "id": "a239ab6a",
        "outputId": "65cea2e2-8202-4a1f-dafb-0859220bb45c"
      },
      "outputs": [
        {
          "data": {
            "text/plain": [
              "array([[-3,  3],\n",
              "       [-4,  4]])"
            ]
          },
          "execution_count": 6,
          "metadata": {},
          "output_type": "execute_result"
        }
      ],
      "source": [
        "from numpy.linalg import matrix_power\n",
        "matrix_power(C, 4)"
      ]
    },
    {
      "cell_type": "code",
      "execution_count": null,
      "id": "9c70bda1",
      "metadata": {
        "id": "9c70bda1",
        "outputId": "7f0299ac-d9ff-48ef-c28f-19d896551d24"
      },
      "outputs": [
        {
          "data": {
            "text/plain": [
              "array([[-3,  3],\n",
              "       [-4,  4]])"
            ]
          },
          "execution_count": 7,
          "metadata": {},
          "output_type": "execute_result"
        }
      ],
      "source": [
        "C@C@C@C"
      ]
    },
    {
      "cell_type": "code",
      "execution_count": null,
      "id": "70ce4070",
      "metadata": {
        "id": "70ce4070",
        "outputId": "492223fc-ecd8-4694-d3fd-16610e3e5a12"
      },
      "outputs": [
        {
          "data": {
            "text/plain": [
              "array([[15, 15],\n",
              "       [24, 24]])"
            ]
          },
          "execution_count": 8,
          "metadata": {},
          "output_type": "execute_result"
        }
      ],
      "source": [
        "C*D            # element-wise multiplication"
      ]
    },
    {
      "cell_type": "code",
      "execution_count": null,
      "id": "29cad616",
      "metadata": {
        "id": "29cad616",
        "outputId": "15e5c0fc-23d4-40b0-bb4b-77da488a7f13"
      },
      "outputs": [
        {
          "data": {
            "text/plain": [
              "array([[  8,  -8],\n",
              "       [ 10, -10]])"
            ]
          },
          "execution_count": 9,
          "metadata": {},
          "output_type": "execute_result"
        }
      ],
      "source": [
        "C+D            # matrix addition"
      ]
    },
    {
      "cell_type": "code",
      "execution_count": null,
      "id": "534ddd5b",
      "metadata": {
        "id": "534ddd5b",
        "outputId": "29a67123-c8f0-4c0e-edbf-2a8490336021"
      },
      "outputs": [
        {
          "data": {
            "text/plain": [
              "array([[-2,  2],\n",
              "       [-2,  2]])"
            ]
          },
          "execution_count": 10,
          "metadata": {},
          "output_type": "execute_result"
        }
      ],
      "source": [
        "C-D            # matrix subtraction"
      ]
    },
    {
      "cell_type": "code",
      "execution_count": null,
      "id": "93905934",
      "metadata": {
        "id": "93905934",
        "outputId": "32d07fa0-444c-4a88-88c3-8175643b4853"
      },
      "outputs": [
        {
          "data": {
            "text/plain": [
              "array([[-0.875, -0.375],\n",
              "       [-0.625, -0.125]])"
            ]
          },
          "execution_count": 11,
          "metadata": {},
          "output_type": "execute_result"
        }
      ],
      "source": [
        "E = np.array([[1,-3], [-5, 7]])\n",
        "inv(E)         # matrix inverse"
      ]
    },
    {
      "cell_type": "code",
      "execution_count": null,
      "id": "01d83651",
      "metadata": {
        "id": "01d83651",
        "outputId": "a2da6d80-b317-4483-f251-3698bf1388be"
      },
      "outputs": [
        {
          "data": {
            "text/plain": [
              "array([[1., 0.],\n",
              "       [0., 1.]])"
            ]
          },
          "execution_count": 12,
          "metadata": {},
          "output_type": "execute_result"
        }
      ],
      "source": [
        "E@inv(E)"
      ]
    },
    {
      "cell_type": "code",
      "execution_count": null,
      "id": "4e7131fe",
      "metadata": {
        "id": "4e7131fe",
        "outputId": "16bce68d-d5f9-46ec-f381-83d2e12e244c"
      },
      "outputs": [
        {
          "data": {
            "text/plain": [
              "array([[1., 0.],\n",
              "       [0., 1.]])"
            ]
          },
          "execution_count": 13,
          "metadata": {},
          "output_type": "execute_result"
        }
      ],
      "source": [
        "inv(E)@E"
      ]
    },
    {
      "cell_type": "code",
      "execution_count": null,
      "id": "3bbde618",
      "metadata": {
        "id": "3bbde618",
        "outputId": "10d2ae60-1c04-4741-cff7-ba6003e50b3c"
      },
      "outputs": [
        {
          "data": {
            "text/plain": [
              "array([[ 1, -5],\n",
              "       [-3,  7]])"
            ]
          },
          "execution_count": 14,
          "metadata": {},
          "output_type": "execute_result"
        }
      ],
      "source": [
        "E.T           # matrix transpose"
      ]
    },
    {
      "cell_type": "code",
      "execution_count": null,
      "id": "2d6bd22a",
      "metadata": {
        "id": "2d6bd22a",
        "outputId": "8ed59f4d-8e24-45f2-d567-ad3e493d8e1a"
      },
      "outputs": [
        {
          "data": {
            "text/plain": [
              "array([0, 1, 2, 3, 4, 5, 6, 7, 8, 9])"
            ]
          },
          "execution_count": 15,
          "metadata": {},
          "output_type": "execute_result"
        }
      ],
      "source": [
        "F = np.arange(10)         # define a sequence of 10 numbers starts from 0 to 9\n",
        "F"
      ]
    },
    {
      "cell_type": "code",
      "execution_count": null,
      "id": "6e5758e8",
      "metadata": {
        "id": "6e5758e8",
        "outputId": "5762d4b3-17f8-4fd9-f93c-5ab743bbd328"
      },
      "outputs": [
        {
          "data": {
            "text/plain": [
              "2"
            ]
          },
          "execution_count": 16,
          "metadata": {},
          "output_type": "execute_result"
        }
      ],
      "source": [
        "F[2]          # note that the index of matrix/array in Python starts from 0"
      ]
    },
    {
      "cell_type": "code",
      "execution_count": null,
      "id": "48a70204",
      "metadata": {
        "id": "48a70204",
        "outputId": "caf4bc52-74cf-4cc3-d562-9be78c7a9fbd"
      },
      "outputs": [
        {
          "data": {
            "text/plain": [
              "0"
            ]
          },
          "execution_count": 17,
          "metadata": {},
          "output_type": "execute_result"
        }
      ],
      "source": [
        "F[0]"
      ]
    },
    {
      "cell_type": "markdown",
      "id": "36e58711",
      "metadata": {
        "id": "36e58711"
      },
      "source": [
        "# Exercise"
      ]
    },
    {
      "cell_type": "markdown",
      "id": "cd51f9c1",
      "metadata": {
        "id": "cd51f9c1"
      },
      "source": [
        "1(a). Define a row matrix stores the sequence from 0 to 20."
      ]
    },
    {
      "cell_type": "code",
      "execution_count": null,
      "id": "8c45d8dd",
      "metadata": {
        "id": "8c45d8dd"
      },
      "outputs": [],
      "source": []
    },
    {
      "cell_type": "markdown",
      "id": "feba16b1",
      "metadata": {
        "id": "feba16b1"
      },
      "source": [
        "1(b). Find the sum of seventh power of each element in the row matrix in (a)."
      ]
    },
    {
      "cell_type": "code",
      "execution_count": null,
      "id": "eb03911c",
      "metadata": {
        "id": "eb03911c"
      },
      "outputs": [],
      "source": []
    },
    {
      "cell_type": "markdown",
      "id": "392a4398",
      "metadata": {
        "id": "392a4398"
      },
      "source": [
        "2. Let $M = \\left[\\begin{matrix}\n",
        "0 & 1 & 0 & 0 \\\\\n",
        "1 & 0 & 0 & 0 \\\\\n",
        "0 & 0 & 0 & 1 \\\\\n",
        "0 & 0 & 1 & 0 \\end{matrix}\\right]$."
      ]
    },
    {
      "cell_type": "markdown",
      "id": "e5f2ee77",
      "metadata": {
        "id": "e5f2ee77"
      },
      "source": [
        "(a). Find $M^2$ and $M^3$."
      ]
    },
    {
      "cell_type": "code",
      "execution_count": null,
      "id": "58cbee8e",
      "metadata": {
        "id": "58cbee8e"
      },
      "outputs": [],
      "source": []
    },
    {
      "cell_type": "code",
      "execution_count": null,
      "id": "b730c8d0",
      "metadata": {
        "id": "b730c8d0"
      },
      "outputs": [],
      "source": []
    },
    {
      "cell_type": "markdown",
      "id": "31e5baf4",
      "metadata": {
        "id": "31e5baf4"
      },
      "source": [
        "(b) Verify $M^{-1} = M$."
      ]
    },
    {
      "cell_type": "code",
      "execution_count": null,
      "id": "fea17fe9",
      "metadata": {
        "id": "fea17fe9"
      },
      "outputs": [],
      "source": []
    }
  ],
  "metadata": {
    "kernelspec": {
      "display_name": "Python 3 (ipykernel)",
      "language": "python",
      "name": "python3"
    },
    "language_info": {
      "codemirror_mode": {
        "name": "ipython",
        "version": 3
      },
      "file_extension": ".py",
      "mimetype": "text/x-python",
      "name": "python",
      "nbconvert_exporter": "python",
      "pygments_lexer": "ipython3",
      "version": "3.9.13"
    },
    "colab": {
      "provenance": []
    }
  },
  "nbformat": 4,
  "nbformat_minor": 5
}