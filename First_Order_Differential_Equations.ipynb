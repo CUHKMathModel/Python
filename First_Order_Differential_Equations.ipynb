{
  "cells": [
    {
      "cell_type": "markdown",
      "id": "6db71c33",
      "metadata": {
        "id": "6db71c33"
      },
      "source": [
        "# Notes"
      ]
    },
    {
      "cell_type": "markdown",
      "id": "3d429027",
      "metadata": {
        "id": "3d429027"
      },
      "source": [
        "In many real applications, we need to model the phenomenoa with their rate of change. There are many examples in physics, biology, chemistry, demography etc."
      ]
    },
    {
      "cell_type": "markdown",
      "id": "b5eb3b71",
      "metadata": {
        "id": "b5eb3b71"
      },
      "source": [
        "Besides, most of the models involving differential equations don't have an analytic solution. That means we may not be able to find an explicit formula of the solution $f(x)$. Hence, using numerical methods is a common and essential approach to deal with models with differential equations.\n",
        "\n",
        "In particular, ordinary differential equations (ODEs) are differential equations that depend on only a single independent variable (e.g. time $t$). We will demonstrate the numerical ODE solver in Python below."
      ]
    },
    {
      "cell_type": "markdown",
      "id": "c3912a01",
      "metadata": {
        "id": "c3912a01"
      },
      "source": [
        "## ```Example 1 (1st Order IVP)```"
      ]
    },
    {
      "cell_type": "markdown",
      "id": "cab2e34a",
      "metadata": {
        "id": "cab2e34a"
      },
      "source": [
        "One type of ODE problems are the **initial value problems** (IVP), in which we are given an ordinary differential equation together with an initial condition specifying the value of the function at a certain point."
      ]
    },
    {
      "cell_type": "markdown",
      "id": "6725e739",
      "metadata": {
        "id": "6725e739"
      },
      "source": [
        "The general form of a first order initial value problem (1st order IVP) is as follows.\n",
        "\n",
        "$$\\left\\{\\begin{align*}\n",
        "x'(t) &= f(t, x)\\\\\n",
        "x(t_0) &= x_0\n",
        "\\end{align*}\n",
        "\\right.$$\n",
        "\n",
        "The solution we want is $x(t)$, which is usually a function of $t$ (time). $f(t, x)$ is a given function of $t$ and $x(t)$ (we will just write $x$ afterwards). We also have an initial value $x_0$ when $t = t_0$."
      ]
    },
    {
      "cell_type": "markdown",
      "id": "d0f7170e",
      "metadata": {
        "id": "d0f7170e"
      },
      "source": [
        "Suppose we are going to solve the following 1st order IVP problem.\n",
        "\n",
        "$$\\left\\{\\begin{align*}\n",
        "x'(t) &= 3x^2 - 5\\\\\n",
        "x(0) &= 0\n",
        "\\end{align*}\n",
        "\\right.$$\n",
        "\n",
        "in the time interval $0 \\leq t \\leq 1$."
      ]
    },
    {
      "cell_type": "markdown",
      "id": "012cf123",
      "metadata": {
        "id": "012cf123"
      },
      "source": [
        "### _Step 1: Define the 1st order IVP_"
      ]
    },
    {
      "cell_type": "code",
      "execution_count": null,
      "id": "ad3582bb",
      "metadata": {
        "id": "ad3582bb"
      },
      "outputs": [],
      "source": [
        "import numpy as np\n",
        "import matplotlib.pyplot as plt\n",
        "import scipy as sp\n",
        "from scipy.integrate import odeint"
      ]
    },
    {
      "cell_type": "code",
      "execution_count": null,
      "id": "cdf1f638",
      "metadata": {
        "id": "cdf1f638"
      },
      "outputs": [],
      "source": [
        "def dxdt(t, x):          # This is a self-defined function in Python. You may define your own function using this format\n",
        "    return 3*x**2 - 5\n",
        "x0 = 0                   # the initial value"
      ]
    },
    {
      "cell_type": "code",
      "execution_count": null,
      "id": "c1980321",
      "metadata": {
        "id": "c1980321"
      },
      "outputs": [],
      "source": [
        "t = np.linspace(0, 1, 100) # We define the time interval by splitting the interval into 100 evenly distributed points."
      ]
    },
    {
      "cell_type": "markdown",
      "id": "179089f4",
      "metadata": {
        "id": "179089f4"
      },
      "source": [
        "### _Step 2: Call the numerical ODE solver in Python_"
      ]
    },
    {
      "cell_type": "code",
      "execution_count": null,
      "id": "c54441db",
      "metadata": {
        "id": "c54441db"
      },
      "outputs": [],
      "source": [
        "# The solver will solve the the values of x(t) at all the 100 points in the time interval.\n",
        "sol = odeint(dxdt, x0, t, tfirst = True)\n",
        "\n",
        "# Descriptions:\n",
        "# odeint(<the_IVP>, <initial_value>, <time_interval>, tfirst = True)\n",
        "\n",
        "# About \"tfirst = True\":\n",
        "# When we define the IVP in the previous cell, we type \"dxdt(t, x)\", which we put t first. \"odeint()\" needs to confirm\n",
        "# whether we type \"dxdt(t, x)\" or \"dxdt(x, t)\"."
      ]
    },
    {
      "cell_type": "markdown",
      "id": "e88ca2cb",
      "metadata": {
        "id": "e88ca2cb"
      },
      "source": [
        "### _Step 3: Plot the solution function_"
      ]
    },
    {
      "cell_type": "code",
      "execution_count": null,
      "id": "5b7f727d",
      "metadata": {
        "id": "5b7f727d",
        "outputId": "03d796b3-ff67-4ed5-c494-cb3dd4899936"
      },
      "outputs": [
        {
          "data": {
            "image/png": "[encoded data removed]",
            "text/plain": [
              "<Figure size 640x480 with 1 Axes>"
            ]
          },
          "metadata": {},
          "output_type": "display_data"
        }
      ],
      "source": [
        "# We may plot the 100 points of x(t) with respect to t from 0 to 1.\n",
        "\n",
        "plt.plot(t, sol)\n",
        "plt.ylabel('$x(t)$', fontsize = 20)\n",
        "plt.xlabel('$t$', fontsize = 20)\n",
        "plt.grid()\n",
        "plt.show()"
      ]
    },
    {
      "cell_type": "markdown",
      "id": "3c86510d",
      "metadata": {
        "id": "3c86510d"
      },
      "source": [
        "# Exercises"
      ]
    },
    {
      "cell_type": "markdown",
      "id": "28a542ef",
      "metadata": {
        "id": "28a542ef"
      },
      "source": [
        "1. Find the numerical approximation of the following 1st order IVP for the solution $x(t)$ in the interval $0 \\leq t \\leq 0.5$.\n",
        "\n",
        "$$\n",
        "\\left\\{\\begin{align*}\n",
        "x'(t) &= x^2 + 2t\\sin(\\pi t) \\\\\n",
        "x(0) &= 1\n",
        "\\end{align*}\\right.\n",
        "$$"
      ]
    },
    {
      "cell_type": "code",
      "source": [],
      "metadata": {
        "id": "ZfGRip_zk5ph"
      },
      "id": "ZfGRip_zk5ph",
      "execution_count": null,
      "outputs": []
    },
    {
      "cell_type": "markdown",
      "id": "cad0b1e3",
      "metadata": {
        "id": "cad0b1e3"
      },
      "source": [
        "2. Find the numerical approximation of the following 1st order IVP for the solution $x(t)$ in the interval $1 \\leq t \\leq 3$.\n",
        "\n",
        "$$\n",
        "\\left\\{\\begin{align*}\n",
        "x'(t) &= t^{-2}(tx-x^2) \\\\\n",
        "x(1) &= 2\n",
        "\\end{align*}\\right.\n",
        "$$"
      ]
    },
    {
      "cell_type": "code",
      "source": [],
      "metadata": {
        "id": "Gj8Kn1eSk70G"
      },
      "id": "Gj8Kn1eSk70G",
      "execution_count": null,
      "outputs": []
    },
    {
      "cell_type": "markdown",
      "id": "1cf184fd",
      "metadata": {
        "id": "1cf184fd"
      },
      "source": [
        "3. Consider the following **exponential growth model**, where $k$ is a constant determined by the data set in the applied scenario.\n",
        "\n",
        "$$\n",
        "\\left\\{\\begin{align*}\n",
        "N'(t) &= kN(t)\\\\\n",
        "N(t_0) &= N_0\n",
        "\\end{align*}\\right.\n",
        "$$\n",
        "\n",
        "This IVP has an analytic solution given below.\n",
        "\n",
        "$$N(t) = N_0\\exp[k(t-t_0)]$$"
      ]
    },
    {
      "cell_type": "markdown",
      "id": "3b6b6b24",
      "metadata": {
        "id": "3b6b6b24"
      },
      "source": [
        "(a) Put $k=2$, $t_0 = 1$ and $N_0 = 0.01$. Find the numerical approximation of $N(t)$ in the interval $1 \\leq t \\leq 2$."
      ]
    },
    {
      "cell_type": "code",
      "source": [],
      "metadata": {
        "id": "qfSuvUOQk9rg"
      },
      "id": "qfSuvUOQk9rg",
      "execution_count": null,
      "outputs": []
    },
    {
      "cell_type": "markdown",
      "id": "db029a5d",
      "metadata": {
        "id": "db029a5d"
      },
      "source": [
        "(b) Find the value of $N(t)$ by the analytic solution. Compute the percentage error of the approximation by the Python solver."
      ]
    },
    {
      "cell_type": "code",
      "source": [],
      "metadata": {
        "id": "-wp66sKUk-Jp"
      },
      "id": "-wp66sKUk-Jp",
      "execution_count": null,
      "outputs": []
    },
    {
      "cell_type": "markdown",
      "id": "d2579720",
      "metadata": {
        "id": "d2579720"
      },
      "source": [
        "4. Consider the following **logistic growth model**, where $r$ and $M$ are constants determined by the data set in the applied scenario.\n",
        "\n",
        "$$\n",
        "\\left\\{\\begin{align*}\n",
        "P'(t) &= r(M-P)P\\\\\n",
        "P(t_0) &= P_0\n",
        "\\end{align*}\\right.\n",
        "$$\n",
        "\n",
        "This IVP has an analytic solution given below.\n",
        "\n",
        "$$P(t) = \\frac{MP_0}{P_0 + (M-P_0)\\exp[-rM(t-t_0)]}$$\n",
        "\n",
        "Note that logistic growth model has an important property, having an upper bound $M$, while exponential growth model does not have. Expressing in mathematical symbols, we have\n",
        "\n",
        "$$\\lim_{t\\to\\infty} P(t) = M.$$"
      ]
    },
    {
      "cell_type": "markdown",
      "id": "a5fd40cd",
      "metadata": {
        "id": "a5fd40cd"
      },
      "source": [
        "(a) Put $r = 0.001$, $M = 700$, $t_0 = 0$ and $P_0 = 5$. Find the numerical approximation of $P(t)$ in the time interval $0 \\leq t \\leq 10$. Please divide the interval into more than 100 data points for a better approximation."
      ]
    },
    {
      "cell_type": "code",
      "source": [],
      "metadata": {
        "id": "bbAGuAbBk_pV"
      },
      "id": "bbAGuAbBk_pV",
      "execution_count": null,
      "outputs": []
    },
    {
      "cell_type": "markdown",
      "id": "ddb3fb6d",
      "metadata": {
        "id": "ddb3fb6d"
      },
      "source": [
        "(b) Find the value of $P(t)$ by using the analytic solution. Compute the percentage error of the approximation by the Python solver."
      ]
    },
    {
      "cell_type": "code",
      "source": [],
      "metadata": {
        "id": "_OipbXeYlAb4"
      },
      "id": "_OipbXeYlAb4",
      "execution_count": null,
      "outputs": []
    },
    {
      "cell_type": "markdown",
      "id": "18e522f0",
      "metadata": {
        "id": "18e522f0"
      },
      "source": [
        "(c) The analytic solution of logistic growth model has another form which is more convenient for further analyis,\n",
        "\n",
        "$$P(t) = \\frac{M}{1 + \\exp[-rM(t-t^*)]},$$\n",
        "\n",
        "where $P(t^*) = 0.5M$. That means $t^*$ denote the time when the population $P$ reaches half of the limiting value $M$. By using the original form of $P(t)$, find a general formula of $t^*$. Then compute $t^*$ when $r=0.001$ and $M=700$."
      ]
    },
    {
      "cell_type": "code",
      "source": [],
      "metadata": {
        "id": "3L3V6KwHlBKd"
      },
      "id": "3L3V6KwHlBKd",
      "execution_count": null,
      "outputs": []
    },
    {
      "cell_type": "markdown",
      "id": "191f96b4",
      "metadata": {
        "id": "191f96b4"
      },
      "source": [
        "(d) Plot the graph of $P(t)$ in the interval $0 \\leq t \\leq 200$, the straight line $y=M$ and the point $(t^*, 0.5M)$. This graph should help you understand the nature of parameters mentioned in part (c)."
      ]
    },
    {
      "cell_type": "code",
      "source": [],
      "metadata": {
        "id": "RFiWQaDnlCBw"
      },
      "id": "RFiWQaDnlCBw",
      "execution_count": null,
      "outputs": []
    }
  ],
  "metadata": {
    "kernelspec": {
      "display_name": "Python 3 (ipykernel)",
      "language": "python",
      "name": "python3"
    },
    "language_info": {
      "codemirror_mode": {
        "name": "ipython",
        "version": 3
      },
      "file_extension": ".py",
      "mimetype": "text/x-python",
      "name": "python",
      "nbconvert_exporter": "python",
      "pygments_lexer": "ipython3",
      "version": "3.9.13"
    },
    "colab": {
      "provenance": []
    }
  },
  "nbformat": 4,
  "nbformat_minor": 5
}