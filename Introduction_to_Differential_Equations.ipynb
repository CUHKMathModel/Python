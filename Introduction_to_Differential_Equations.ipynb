{
  "cells": [
    {
      "cell_type": "markdown",
      "id": "44a9d342",
      "metadata": {
        "id": "44a9d342"
      },
      "source": [
        "# Notes"
      ]
    },
    {
      "cell_type": "markdown",
      "id": "b56c9948",
      "metadata": {
        "id": "b56c9948"
      },
      "source": [
        "In many real applications, we need to model the phenomenoa with their rate of change. There are many examples in physics, biology, chemistry, demography etc."
      ]
    },
    {
      "cell_type": "markdown",
      "id": "7266678d",
      "metadata": {
        "id": "7266678d"
      },
      "source": [
        "Besides, most of the models involving differential equations don't have an analytic solution. That means we may not be able to find an explicit formula of the solution $f(x)$. Hence, using numerical methods is a common and essential approach to deal with models with differential equations.\n",
        "\n",
        "In particular, ordinary differential equations (ODEs) are differential equations that depend on only a single independent variable (e.g. time $t$). We will demonstrate the numerical ODE solver in Python below."
      ]
    },
    {
      "cell_type": "markdown",
      "id": "54ca264e",
      "metadata": {
        "id": "54ca264e"
      },
      "source": [
        "## ```Example 1 (1st Order IVP)```"
      ]
    },
    {
      "cell_type": "markdown",
      "id": "cab2e34a",
      "metadata": {
        "id": "cab2e34a"
      },
      "source": [
        "One type of ODE problems are the **initial value problems** (IVP), in which we are given an ordinary differential equation together with an initial condition specifying the value of the function at a certain point."
      ]
    },
    {
      "cell_type": "markdown",
      "id": "e0092d99",
      "metadata": {
        "id": "e0092d99"
      },
      "source": [
        "The general form of a first order initial value problem (1st order IVP) is as follows.\n",
        "\n",
        "$$\\left\\{\\begin{align*}\n",
        "x'(t) &= f(t, x)\\\\\n",
        "x(t_0) &= x_0\n",
        "\\end{align*}\n",
        "\\right.$$\n",
        "\n",
        "The solution we want is $x(t)$, which is usually a function of $t$ (time). $f(t, x)$ is a given function of $t$ and $x(t)$ (we will just write $x$ afterwards). We also have an initial value $x_0$ when $t = t_0$."
      ]
    },
    {
      "cell_type": "markdown",
      "id": "d0f7170e",
      "metadata": {
        "id": "d0f7170e"
      },
      "source": [
        "Suppose we are going to solve the following 1st order IVP problem.\n",
        "\n",
        "$$\\left\\{\\begin{align*}\n",
        "x'(t) &= 3x - 5\\\\\n",
        "x(0) &= 0\n",
        "\\end{align*}\n",
        "\\right.$$\n",
        "\n",
        "in the time interval $0 \\leq t \\leq 1$."
      ]
    },
    {
      "cell_type": "markdown",
      "id": "ce9927d4",
      "metadata": {
        "id": "ce9927d4"
      },
      "source": [
        "### _Step 1: Define the 1st Order IVP_"
      ]
    },
    {
      "cell_type": "code",
      "execution_count": null,
      "id": "d107f3f8",
      "metadata": {
        "id": "d107f3f8"
      },
      "outputs": [],
      "source": [
        "import numpy as np\n",
        "import matplotlib.pyplot as plt\n",
        "import scipy as sp\n",
        "from scipy.integrate import odeint"
      ]
    },
    {
      "cell_type": "code",
      "execution_count": null,
      "id": "4e98860d",
      "metadata": {
        "id": "4e98860d"
      },
      "outputs": [],
      "source": [
        "def dxdt(t, x):          # This is a self-defined function in Python. You may define your own function using this format\n",
        "    return 3*x**2 - 5"
      ]
    },
    {
      "cell_type": "code",
      "execution_count": null,
      "id": "b518de90",
      "metadata": {
        "id": "b518de90"
      },
      "outputs": [],
      "source": [
        "x0 = 0                   # the initial value\n",
        "t = np.linspace(0, 1, 100) # We define the time interval by splitting the interval into 100 evenly distributed points."
      ]
    },
    {
      "cell_type": "markdown",
      "id": "179089f4",
      "metadata": {
        "id": "179089f4"
      },
      "source": [
        "### _Step 2: Call the numerical ODE solver in Python_"
      ]
    },
    {
      "cell_type": "code",
      "execution_count": null,
      "id": "c54441db",
      "metadata": {
        "id": "c54441db"
      },
      "outputs": [],
      "source": [
        "# The solver will solve the the values of x(t) at all the 100 points in the time interval.\n",
        "sol = odeint(dxdt, x0, t, tfirst = True)\n",
        "\n",
        "# Descriptions:\n",
        "# odeint(<the_IVP>, <initial_value>, <time_interval>, tfirst = True)\n",
        "\n",
        "# About \"tfirst = True\":\n",
        "# When we define the IVP in the previous cell, we type \"dxdt(t, x)\", which we put t first. \"odeint()\" needs to confirm\n",
        "# whether we type \"dxdt(t, x)\" or \"dxdt(x, t)\"."
      ]
    },
    {
      "cell_type": "code",
      "execution_count": null,
      "id": "d557f1c8",
      "metadata": {
        "id": "d557f1c8",
        "colab": {
          "base_uri": "https://localhost:8080/"
        },
        "outputId": "9a822e49-b9fb-478e-c0d2-bf5502a6026d"
      },
      "outputs": [
        {
          "output_type": "stream",
          "name": "stdout",
          "text": [
            "[-1.24037122]\n"
          ]
        }
      ],
      "source": [
        "# You may print any of the 100 points\n",
        "print(sol[50])"
      ]
    },
    {
      "cell_type": "code",
      "execution_count": null,
      "id": "b91ac060",
      "metadata": {
        "id": "b91ac060",
        "colab": {
          "base_uri": "https://localhost:8080/"
        },
        "outputId": "c6fe84a2-a9a4-43a0-9336-b3ee8206bc47"
      },
      "outputs": [
        {
          "output_type": "stream",
          "name": "stdout",
          "text": [
            "[[ 0.        ]\n",
            " [-0.05047933]\n",
            " [-0.10080451]\n",
            " [-0.15082334]\n",
            " [-0.20038726]\n",
            " [-0.24935318]\n",
            " [-0.29758502]\n",
            " [-0.34495519]\n",
            " [-0.39134576]\n",
            " [-0.43664948]\n",
            " [-0.48077056]\n",
            " [-0.52362515]\n",
            " [-0.56514164]\n",
            " [-0.60526086]\n",
            " [-0.6439356 ]\n",
            " [-0.68113064]\n",
            " [-0.71682205]\n",
            " [-0.75099661]\n",
            " [-0.78365109]\n",
            " [-0.8147914 ]\n",
            " [-0.84443176]\n",
            " [-0.87259378]\n",
            " [-0.89930556]\n",
            " [-0.92460079]\n",
            " [-0.94851787]\n",
            " [-0.97109913]\n",
            " [-0.99239002]\n",
            " [-1.01243837]\n",
            " [-1.03129376]\n",
            " [-1.04900692]\n",
            " [-1.06562918]\n",
            " [-1.081212  ]\n",
            " [-1.0958066 ]\n",
            " [-1.10946355]\n",
            " [-1.12223249]\n",
            " [-1.13416195]\n",
            " [-1.14529906]\n",
            " [-1.15568941]\n",
            " [-1.16537698]\n",
            " [-1.17440397]\n",
            " [-1.18281086]\n",
            " [-1.19063623]\n",
            " [-1.19791686]\n",
            " [-1.20468768]\n",
            " [-1.21098179]\n",
            " [-1.21683053]\n",
            " [-1.22226349]\n",
            " [-1.22730856]\n",
            " [-1.23199199]\n",
            " [-1.23633849]\n",
            " [-1.24037122]\n",
            " [-1.24411192]\n",
            " [-1.24758094]\n",
            " [-1.25079735]\n",
            " [-1.25377896]\n",
            " [-1.25654241]\n",
            " [-1.25910322]\n",
            " [-1.2614759 ]\n",
            " [-1.26367394]\n",
            " [-1.26570992]\n",
            " [-1.26759557]\n",
            " [-1.26934179]\n",
            " [-1.27095869]\n",
            " [-1.27245574]\n",
            " [-1.27384168]\n",
            " [-1.27512464]\n",
            " [-1.2763122 ]\n",
            " [-1.27741137]\n",
            " [-1.27842865]\n",
            " [-1.27937009]\n",
            " [-1.28024128]\n",
            " [-1.28104744]\n",
            " [-1.28179338]\n",
            " [-1.28248356]\n",
            " [-1.28312213]\n",
            " [-1.28371292]\n",
            " [-1.2842595 ]\n",
            " [-1.28476514]\n",
            " [-1.2852329 ]\n",
            " [-1.28566562]\n",
            " [-1.2860659 ]\n",
            " [-1.28643616]\n",
            " [-1.28677865]\n",
            " [-1.28709545]\n",
            " [-1.28738847]\n",
            " [-1.28765951]\n",
            " [-1.28791021]\n",
            " [-1.28814208]\n",
            " [-1.28835653]\n",
            " [-1.28855487]\n",
            " [-1.28873831]\n",
            " [-1.28890797]\n",
            " [-1.28906488]\n",
            " [-1.28920999]\n",
            " [-1.2893442 ]\n",
            " [-1.28946833]\n",
            " [-1.28958312]\n",
            " [-1.28968929]\n",
            " [-1.28978746]\n",
            " [-1.28987826]]\n"
          ]
        }
      ],
      "source": [
        "# You may also print the enitre set of results\n",
        "print(sol)"
      ]
    },
    {
      "cell_type": "markdown",
      "id": "e88ca2cb",
      "metadata": {
        "id": "e88ca2cb"
      },
      "source": [
        "### _Step 3: Plot the solution function_"
      ]
    },
    {
      "cell_type": "code",
      "execution_count": null,
      "id": "5b7f727d",
      "metadata": {
        "id": "5b7f727d",
        "outputId": "17ce73af-ced1-446a-d31b-1975aadb1f7c",
        "colab": {
          "base_uri": "https://localhost:8080/",
          "height": 463
        }
      },
      "outputs": [
        {
          "output_type": "display_data",
          "data": {
            "text/plain": [
              "<Figure size 640x480 with 1 Axes>"
            ],
            "image/png": "[encoded data removed]"
          },
          "metadata": {}
        }
      ],
      "source": [
        "# We may plot the 100 points of x(t) with respect to t from 0 to 1.\n",
        "\n",
        "plt.plot(t, sol)\n",
        "plt.ylabel('$x(t)$', fontsize = 20)\n",
        "plt.xlabel('$t$', fontsize = 20)\n",
        "plt.show()"
      ]
    },
    {
      "cell_type": "markdown",
      "id": "71c0aaef",
      "metadata": {
        "id": "71c0aaef"
      },
      "source": [
        "# Exercise"
      ]
    },
    {
      "cell_type": "markdown",
      "id": "a620ba3a",
      "metadata": {
        "id": "a620ba3a"
      },
      "source": [
        "1. Use Python to solve the following differential equation for $x(t)$ in the interval $0\\leq t \\leq 5$ and plot the result:\n",
        "$$\n",
        "\\left\\{\\begin{align*}\n",
        "\\frac{dx}{dt} &= 2t \\sin x + 3\\\\\n",
        "x(0) &= 0\n",
        "\\end{align*}\\right.\n",
        "$$\n",
        "(Hint: use np.sin for the sin function.)"
      ]
    },
    {
      "cell_type": "code",
      "source": [],
      "metadata": {
        "id": "wlkZqZp-vXDO"
      },
      "id": "wlkZqZp-vXDO",
      "execution_count": null,
      "outputs": []
    },
    {
      "cell_type": "markdown",
      "source": [
        "2. (a) There are initially 10,000 mosquitoes in a certain area. In the absence of other factors, the population of mosquitoes increases by 10\\% every week. However, there are also some predators of mosquitoes (e.g. birds) in the area, and they eat 500 mosquitos per week. Formulate a differential equation and solve it numerically to find the number of mosquitoes for the coming year (52 weeks).\n"
      ],
      "metadata": {
        "id": "DFNgv5UtUKOV"
      },
      "id": "DFNgv5UtUKOV"
    },
    {
      "cell_type": "code",
      "source": [],
      "metadata": {
        "id": "fL82aSlgvYvl"
      },
      "id": "fL82aSlgvYvl",
      "execution_count": null,
      "outputs": []
    },
    {
      "cell_type": "markdown",
      "source": [
        "2. (b) Some pest control measures have been further introduced, which can reduce the number of mosquitoes by 550 per week. Update your formulation of the differential equation and solve it numerically to find the number of mosquitoes for the coming year (52 weeks). What do you observe?\n"
      ],
      "metadata": {
        "id": "coVH00w1eXMl"
      },
      "id": "coVH00w1eXMl"
    },
    {
      "cell_type": "code",
      "source": [],
      "metadata": {
        "id": "ARJFyfSivaFO"
      },
      "id": "ARJFyfSivaFO",
      "execution_count": null,
      "outputs": []
    }
  ],
  "metadata": {
    "colab": {
      "provenance": []
    },
    "kernelspec": {
      "display_name": "Python 3 (ipykernel)",
      "language": "python",
      "name": "python3"
    },
    "language_info": {
      "codemirror_mode": {
        "name": "ipython",
        "version": 3
      },
      "file_extension": ".py",
      "mimetype": "text/x-python",
      "name": "python",
      "nbconvert_exporter": "python",
      "pygments_lexer": "ipython3",
      "version": "3.9.13"
    }
  },
  "nbformat": 4,
  "nbformat_minor": 5
}