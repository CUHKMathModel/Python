{
  "cells": [
    {
      "cell_type": "markdown",
      "id": "d00ad1d5",
      "metadata": {
        "id": "d00ad1d5"
      },
      "source": [
        "# Notes"
      ]
    },
    {
      "cell_type": "markdown",
      "id": "92757b20",
      "metadata": {
        "id": "92757b20"
      },
      "source": [
        "For a square matrix $A$, the values $\\lambda$ such that $A\\lambda = \\lambda v $ is called the eigenvalues of $A$. The corresponding vector $v$ satisfies the equation $A\\lambda = \\lambda v$ is called the eigenvector."
      ]
    },
    {
      "cell_type": "markdown",
      "id": "7848fca0",
      "metadata": {
        "id": "7848fca0"
      },
      "source": [
        "## ```How to Find Eigenvalue and Its Corresponding Eigenvector```"
      ]
    },
    {
      "cell_type": "markdown",
      "id": "2c2f56b2",
      "metadata": {
        "id": "2c2f56b2"
      },
      "source": [
        "(a) Solve the equation $det(A-\\lambda I) = 0$ for the eigenvalues $\\lambda$."
      ]
    },
    {
      "cell_type": "markdown",
      "id": "79d49b5a",
      "metadata": {
        "id": "79d49b5a"
      },
      "source": [
        "(b) For the eigenvalues found in (a), solve the system $(A-\\lambda I)v = 0$ for the eigenvector $v$."
      ]
    },
    {
      "cell_type": "code",
      "execution_count": null,
      "id": "7fd9740e",
      "metadata": {
        "id": "7fd9740e"
      },
      "outputs": [],
      "source": [
        "import numpy as np\n",
        "from numpy.linalg import inv, eig"
      ]
    },
    {
      "cell_type": "code",
      "execution_count": null,
      "id": "63ded1bb",
      "metadata": {
        "id": "63ded1bb",
        "outputId": "2ea1d982-5a7e-40cd-ac21-efe4af7a633e"
      },
      "outputs": [
        {
          "data": {
            "text/plain": [
              "array([[ 1, -3],\n",
              "       [-5,  7]])"
            ]
          },
          "execution_count": 2,
          "metadata": {},
          "output_type": "execute_result"
        }
      ],
      "source": [
        "E = np.array([[1,-3], [-5, 7]])\n",
        "E"
      ]
    },
    {
      "cell_type": "code",
      "execution_count": null,
      "id": "84a0bb52",
      "metadata": {
        "id": "84a0bb52"
      },
      "outputs": [],
      "source": [
        "value, vector = eig(E)        # eigenvalue and eigenvector of matrix E"
      ]
    },
    {
      "cell_type": "code",
      "execution_count": null,
      "id": "aa8fd122",
      "metadata": {
        "id": "aa8fd122",
        "outputId": "6f16a159-770c-4cae-b6a2-2f6ee9147717"
      },
      "outputs": [
        {
          "data": {
            "text/plain": [
              "array([-0.89897949,  8.89897949])"
            ]
          },
          "execution_count": 4,
          "metadata": {},
          "output_type": "execute_result"
        }
      ],
      "source": [
        "value"
      ]
    },
    {
      "cell_type": "code",
      "execution_count": null,
      "id": "af419235",
      "metadata": {
        "id": "af419235",
        "outputId": "974e9fc9-3b92-44ed-a745-725dcfdb52ff"
      },
      "outputs": [
        {
          "data": {
            "text/plain": [
              "array([[-0.84494897,  0.35505103],\n",
              "       [-0.53484692, -0.93484692]])"
            ]
          },
          "execution_count": 5,
          "metadata": {},
          "output_type": "execute_result"
        }
      ],
      "source": [
        "vector                        # Python will normalized the eigenvectors. (i.e. The eigenvectors computed are unit vectors.)"
      ]
    },
    {
      "cell_type": "code",
      "execution_count": null,
      "id": "f772f089",
      "metadata": {
        "id": "f772f089",
        "outputId": "fead9e62-4d96-4509-db04-c3685f50eebb"
      },
      "outputs": [
        {
          "data": {
            "text/plain": [
              "array([[2, 0, 0],\n",
              "       [0, 3, 4],\n",
              "       [0, 4, 9]])"
            ]
          },
          "execution_count": 6,
          "metadata": {},
          "output_type": "execute_result"
        }
      ],
      "source": [
        "F = np.array([[2,0,0], [0,3,4], [0,4,9]])\n",
        "F"
      ]
    },
    {
      "cell_type": "code",
      "execution_count": null,
      "id": "76cdec4d",
      "metadata": {
        "id": "76cdec4d"
      },
      "outputs": [],
      "source": [
        "value1, vector1 = eig(F)"
      ]
    },
    {
      "cell_type": "code",
      "execution_count": null,
      "id": "a704c088",
      "metadata": {
        "id": "a704c088",
        "outputId": "9a5b68e7-7b73-4bda-dfdb-7f5bdcc37960"
      },
      "outputs": [
        {
          "data": {
            "text/plain": [
              "array([11.,  1.,  2.])"
            ]
          },
          "execution_count": 8,
          "metadata": {},
          "output_type": "execute_result"
        }
      ],
      "source": [
        "value1"
      ]
    },
    {
      "cell_type": "code",
      "execution_count": null,
      "id": "c9a3c5e0",
      "metadata": {
        "id": "c9a3c5e0",
        "outputId": "f290735b-547d-4503-f9a9-179d22979b56"
      },
      "outputs": [
        {
          "data": {
            "text/plain": [
              "array([[ 0.        ,  0.        ,  1.        ],\n",
              "       [ 0.4472136 ,  0.89442719,  0.        ],\n",
              "       [ 0.89442719, -0.4472136 ,  0.        ]])"
            ]
          },
          "execution_count": 9,
          "metadata": {},
          "output_type": "execute_result"
        }
      ],
      "source": [
        "vector1"
      ]
    },
    {
      "cell_type": "markdown",
      "id": "c9e3624d",
      "metadata": {
        "id": "c9e3624d"
      },
      "source": [
        "# Exercise"
      ]
    },
    {
      "cell_type": "markdown",
      "id": "5f5219f3",
      "metadata": {
        "id": "5f5219f3"
      },
      "source": [
        "1. Let $M = \\left[\\begin{matrix}\n",
        "-13 & -8 & -4 \\\\\n",
        "12 & 7 & 4 \\\\\n",
        "24 & 16 & 7\\end{matrix}\\right]$. Find the eigenvalues and eigenvectors of M."
      ]
    },
    {
      "cell_type": "code",
      "execution_count": null,
      "id": "2842a397",
      "metadata": {
        "id": "2842a397"
      },
      "outputs": [],
      "source": [
        "M = np.array([[-13, -8, -4], [12, 7, 4], [24, 16, 7]])"
      ]
    },
    {
      "cell_type": "code",
      "execution_count": null,
      "id": "77c03a41",
      "metadata": {
        "id": "77c03a41"
      },
      "outputs": [],
      "source": [
        "e_vl, e_vec = eig(M)"
      ]
    },
    {
      "cell_type": "code",
      "execution_count": null,
      "id": "cb032ad4",
      "metadata": {
        "id": "cb032ad4",
        "outputId": "6303b6fb-f4ce-40cf-f899-6bf853e6ae98"
      },
      "outputs": [
        {
          "data": {
            "text/plain": [
              "array([ 3., -1., -1.])"
            ]
          },
          "execution_count": 12,
          "metadata": {},
          "output_type": "execute_result"
        }
      ],
      "source": [
        "e_vl"
      ]
    },
    {
      "cell_type": "code",
      "execution_count": null,
      "id": "9b89a601",
      "metadata": {
        "id": "9b89a601",
        "outputId": "386fcab8-3c9d-4af4-a14c-0f622b2fd33f"
      },
      "outputs": [
        {
          "data": {
            "text/plain": [
              "array([[ 0.40824829,  0.57158286,  0.15048813],\n",
              "       [-0.40824829, -0.55534639,  0.25221658],\n",
              "       [-0.81649658, -0.6040558 , -0.95589755]])"
            ]
          },
          "execution_count": 13,
          "metadata": {},
          "output_type": "execute_result"
        }
      ],
      "source": [
        "e_vec                     # each column is an eigencevtor of M"
      ]
    }
  ],
  "metadata": {
    "kernelspec": {
      "display_name": "Python 3 (ipykernel)",
      "language": "python",
      "name": "python3"
    },
    "language_info": {
      "codemirror_mode": {
        "name": "ipython",
        "version": 3
      },
      "file_extension": ".py",
      "mimetype": "text/x-python",
      "name": "python",
      "nbconvert_exporter": "python",
      "pygments_lexer": "ipython3",
      "version": "3.9.13"
    },
    "colab": {
      "provenance": []
    }
  },
  "nbformat": 4,
  "nbformat_minor": 5
}