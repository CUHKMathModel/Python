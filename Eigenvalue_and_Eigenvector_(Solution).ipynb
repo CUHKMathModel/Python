{
  "cells": [
    {
      "cell_type": "markdown",
      "id": "d00ad1d5",
      "metadata": {
        "id": "d00ad1d5"
      },
      "source": [
        "# Notes"
      ]
    },
    {
      "cell_type": "markdown",
      "metadata": {
        "id": "92757b20"
      },
      "source": [
        "For a square matrix $A$, if there exists a scalar $\\lambda$ and a non-zero vector $v$ such that $$Av = \\lambda v, $$ then $\\lambda$ is called an eigenvalue of $A$, and the corresponding vector $v$ is an associated eigenvector."
      ],
      "id": "92757b20"
    },
    {
      "cell_type": "markdown",
      "metadata": {
        "id": "7848fca0"
      },
      "source": [
        "## How to find eigenvalues and eigenvectors mathematically"
      ],
      "id": "7848fca0"
    },
    {
      "cell_type": "markdown",
      "metadata": {
        "id": "2c2f56b2"
      },
      "source": [
        "(a) Solve the equation $det(A-\\lambda I) = 0$ to find all eigenvalues $\\lambda$."
      ],
      "id": "2c2f56b2"
    },
    {
      "cell_type": "markdown",
      "metadata": {
        "id": "79d49b5a"
      },
      "source": [
        "(b) For each eigenvalue found in (a), solve the system $(A-\\lambda I)v = 0$ to find an associated eigenvector $v$."
      ],
      "id": "79d49b5a"
    },
    {
      "cell_type": "markdown",
      "source": [
        "## How to find eigenvalues and eigenvectors using Python"
      ],
      "metadata": {
        "id": "qgk6rFR6kEdy"
      },
      "id": "qgk6rFR6kEdy"
    },
    {
      "cell_type": "code",
      "execution_count": null,
      "id": "7fd9740e",
      "metadata": {
        "id": "7fd9740e"
      },
      "outputs": [],
      "source": [
        "import numpy as np\n",
        "from numpy.linalg import inv, eig"
      ]
    },
    {
      "cell_type": "code",
      "execution_count": null,
      "id": "63ded1bb",
      "metadata": {
        "id": "63ded1bb",
        "outputId": "534d6b61-e2bf-4376-9cfa-56bdd84f9b23"
      },
      "outputs": [
        {
          "data": {
            "text/plain": [
              "array([[ 1, -3],\n",
              "       [-5,  7]])"
            ]
          },
          "execution_count": 2,
          "metadata": {},
          "output_type": "execute_result"
        }
      ],
      "source": [
        "E = np.array([[1,-3], [-5, 7]])\n",
        "E"
      ]
    },
    {
      "cell_type": "code",
      "execution_count": null,
      "id": "84a0bb52",
      "metadata": {
        "id": "84a0bb52"
      },
      "outputs": [],
      "source": [
        "value, vector = eig(E)        # eigenvalue and eigenvector of matrix E"
      ]
    },
    {
      "cell_type": "code",
      "execution_count": null,
      "id": "aa8fd122",
      "metadata": {
        "id": "aa8fd122",
        "outputId": "a4cf5688-1fd7-40c1-8868-703703ab58a8"
      },
      "outputs": [
        {
          "data": {
            "text/plain": [
              "array([-0.89897949,  8.89897949])"
            ]
          },
          "execution_count": 4,
          "metadata": {},
          "output_type": "execute_result"
        }
      ],
      "source": [
        "value"
      ]
    },
    {
      "cell_type": "code",
      "execution_count": null,
      "id": "af419235",
      "metadata": {
        "id": "af419235",
        "outputId": "e724f94c-eba4-46cc-a3b8-d448b906e5e3"
      },
      "outputs": [
        {
          "data": {
            "text/plain": [
              "array([[-0.84494897,  0.35505103],\n",
              "       [-0.53484692, -0.93484692]])"
            ]
          },
          "execution_count": 5,
          "metadata": {},
          "output_type": "execute_result"
        }
      ],
      "source": [
        "vector                        # Python will normalized the eigenvectors. (i.e. The eigenvectors computed are unit vectors.)"
      ]
    },
    {
      "cell_type": "code",
      "execution_count": null,
      "id": "f772f089",
      "metadata": {
        "id": "f772f089",
        "outputId": "bb2fe9b7-ed03-4e0b-c9a2-13349da5f1bf"
      },
      "outputs": [
        {
          "data": {
            "text/plain": [
              "array([[2, 0, 0],\n",
              "       [0, 3, 4],\n",
              "       [0, 4, 9]])"
            ]
          },
          "execution_count": 6,
          "metadata": {},
          "output_type": "execute_result"
        }
      ],
      "source": [
        "F = np.array([[2,0,0], [0,3,4], [0,4,9]])\n",
        "F"
      ]
    },
    {
      "cell_type": "code",
      "execution_count": null,
      "id": "76cdec4d",
      "metadata": {
        "id": "76cdec4d"
      },
      "outputs": [],
      "source": [
        "value1, vector1 = eig(F)"
      ]
    },
    {
      "cell_type": "code",
      "execution_count": null,
      "id": "a704c088",
      "metadata": {
        "id": "a704c088",
        "outputId": "479dd0a3-65da-4f49-da4b-16c82c49af7e"
      },
      "outputs": [
        {
          "data": {
            "text/plain": [
              "array([11.,  1.,  2.])"
            ]
          },
          "execution_count": 8,
          "metadata": {},
          "output_type": "execute_result"
        }
      ],
      "source": [
        "value1"
      ]
    },
    {
      "cell_type": "code",
      "execution_count": null,
      "id": "c9a3c5e0",
      "metadata": {
        "id": "c9a3c5e0",
        "outputId": "002c47e2-1af5-4183-d887-304e9bbcd44b"
      },
      "outputs": [
        {
          "data": {
            "text/plain": [
              "array([[ 0.        ,  0.        ,  1.        ],\n",
              "       [ 0.4472136 ,  0.89442719,  0.        ],\n",
              "       [ 0.89442719, -0.4472136 ,  0.        ]])"
            ]
          },
          "execution_count": 9,
          "metadata": {},
          "output_type": "execute_result"
        }
      ],
      "source": [
        "vector1"
      ]
    },
    {
      "cell_type": "markdown",
      "id": "c9e3624d",
      "metadata": {
        "id": "c9e3624d"
      },
      "source": [
        "# Exercise"
      ]
    },
    {
      "cell_type": "markdown",
      "id": "5f5219f3",
      "metadata": {
        "id": "5f5219f3"
      },
      "source": [
        "1. Let $M = \\left[\\begin{matrix}\n",
        "-13 & -8 & -4 \\\\\n",
        "12 & 7 & 4 \\\\\n",
        "24 & 16 & 7\\end{matrix}\\right]$. Find the eigenvalues and eigenvectors of M."
      ]
    },
    {
      "cell_type": "code",
      "execution_count": null,
      "id": "2842a397",
      "metadata": {
        "id": "2842a397"
      },
      "outputs": [],
      "source": [
        "M = np.array([[-13, -8, -4], [12, 7, 4], [24, 16, 7]])"
      ]
    },
    {
      "cell_type": "code",
      "execution_count": null,
      "id": "77c03a41",
      "metadata": {
        "id": "77c03a41"
      },
      "outputs": [],
      "source": [
        "e_vl, e_vec = eig(M)"
      ]
    },
    {
      "cell_type": "code",
      "execution_count": null,
      "id": "cb032ad4",
      "metadata": {
        "id": "cb032ad4",
        "outputId": "e11a00e3-7a4f-4dce-badb-e280e6e6e32a"
      },
      "outputs": [
        {
          "data": {
            "text/plain": [
              "array([ 3., -1., -1.])"
            ]
          },
          "execution_count": 12,
          "metadata": {},
          "output_type": "execute_result"
        }
      ],
      "source": [
        "e_vl"
      ]
    },
    {
      "cell_type": "code",
      "execution_count": null,
      "id": "9b89a601",
      "metadata": {
        "id": "9b89a601",
        "outputId": "ebb958d8-d334-4ccc-a97c-07cda0d5c1b5"
      },
      "outputs": [
        {
          "data": {
            "text/plain": [
              "array([[ 0.40824829,  0.57158286,  0.15048813],\n",
              "       [-0.40824829, -0.55534639,  0.25221658],\n",
              "       [-0.81649658, -0.6040558 , -0.95589755]])"
            ]
          },
          "execution_count": 13,
          "metadata": {},
          "output_type": "execute_result"
        }
      ],
      "source": [
        "e_vec                     # each column is an eigencevtor of M"
      ]
    }
  ],
  "metadata": {
    "kernelspec": {
      "display_name": "Python 3 (ipykernel)",
      "language": "python",
      "name": "python3"
    },
    "language_info": {
      "codemirror_mode": {
        "name": "ipython",
        "version": 3
      },
      "file_extension": ".py",
      "mimetype": "text/x-python",
      "name": "python",
      "nbconvert_exporter": "python",
      "pygments_lexer": "ipython3",
      "version": "3.9.13"
    },
    "colab": {
      "provenance": []
    }
  },
  "nbformat": 4,
  "nbformat_minor": 5
}