{
  "nbformat": 4,
  "nbformat_minor": 0,
  "metadata": {
    "colab": {
      "provenance": []
    },
    "kernelspec": {
      "name": "python3",
      "display_name": "Python 3"
    },
    "language_info": {
      "name": "python"
    }
  },
  "cells": [
    {
      "cell_type": "markdown",
      "source": [
        "# Applications of Computational Medicine Issues (Markov Chain)"
      ],
      "metadata": {
        "id": "lCQmxGC8upuj"
      }
    },
    {
      "cell_type": "markdown",
      "source": [
        "# Exercise 1: Pandemic Spread Rate-Discrete-Time Case"
      ],
      "metadata": {
        "id": "90CK-K0RxaKa"
      }
    },
    {
      "cell_type": "markdown",
      "source": [
        "**Materials and Methods** \\\\\n",
        "* To construct the **Discrete-Time Markov Chain Process** model, five states are considered:\n",
        "  * $S$: Susceptible\n",
        "  * $Ac$: Active infected\n",
        "  * $I_n$: Inactive infected\n",
        "  * $N_a$: Subject dead by natural causes\n",
        "  * $N_m$: Subject killed by the disease\n",
        "* The conditional probabilities $p_{ij}$ represent the figures found in a region and are expressed as relative frequencies to transition from state $i$ to state $j$ (see the table below).\n",
        "* Assume that the incidences, expressed as conditional probabilities, are provided in the table below.\n",
        "\n",
        "Conditional probabilities for initial-disease (rows) and final-disease (columns).\n",
        "\n",
        "$$\n",
        "\\begin{array}{l|ccccc}\n",
        "\\hline\n",
        "         &  S    &  Ac  &  I_n  &  N_a   &  N_m   \\\\\n",
        "\\hline\n",
        " S       & 0.15  & 0.25  & 0.20  & 0.20  & 0.20  \\\\\n",
        " Ac      & 0.10  & 0.35  & 0.45  & 0.05  & 0.05  \\\\\n",
        " I_n      & 0.05  & 0.15  & 0.30  & 0.40  & 0.10  \\\\\n",
        " N_a      & 0.00  & 0.00  & 0.00  & 0.85  & 0.15  \\\\\n",
        " N_m      & 0.00  & 0.00  & 0.00  & 0.15  & 0.85  \\\\\n",
        "\\hline\n",
        "\\end{array}\n",
        "$$\n",
        "\n",
        "* The conditional probabilities in the table above were generated randomly and used to construct the transition matrix $P$ (Eq. (1)).\n",
        "\n",
        "$$\n",
        "\\begin{equation}\n",
        "P =\n",
        "\\left( \\begin{array}{ccccccccc}\n",
        "0.15 & 0.25 & 0.20 & 0.20 & 0.20 \\\\\n",
        "0.10 & 0.35 & 0.45 & 0.05 & 0.05 \\\\\n",
        "0.05 & 0.15 & 0.30 & 0.40 & 0.10 \\\\\n",
        "0.00 & 0.00 & 0.00 & 0.85 & 0.15 \\\\\n",
        "0.00 & 0.00 & 0.00 & 0.15 & 0.85 \\\\\n",
        "  \\end{array} \\right) \\tag{1}\n",
        "\\end{equation}\n",
        "$$\n",
        "\n",
        "* The initial state vector: (uniform distribution)\n",
        "\n",
        "$$\n",
        "\\mathbf{u}_0 = \\left( \\begin{array}{ccccccc}\n",
        "1/5 & 1/5 & 1/5 & 1/5 & 1/5 \\\\\n",
        "  \\end{array} \\right)\n",
        "$$"
      ],
      "metadata": {
        "id": "Yj_mOovyFg3I"
      }
    },
    {
      "cell_type": "markdown",
      "source": [
        "**Exercise 1** \\\\\n",
        "Perform the following tasks:\n",
        "1. Construt the transition matrix $P$ and verify that the row sum of the transition matrix equals to $1$\n",
        "2. Compute the first $5$ state vectors\n",
        "3. (Power method)\n",
        " * (a) Compute $P^{50}$ and vertify that the row sum still equals to $1$\n",
        " * (b) Compute the state vector after $50$ iterations\n",
        " * (c) Repeat tasks (a) and (b) with different initial state vectors $u_0$\n",
        " * (d) Verify the row sum of $P^{n}$\n",
        " * (e) Compute the steady-state vector\n",
        "4. Repeat task 3(e) above with nested iteration method"
      ],
      "metadata": {
        "id": "ZcyG5xvJJMq5"
      }
    },
    {
      "cell_type": "markdown",
      "source": [
        "**Task 1.1: Construct the transition matrix** \\\\\n",
        "To do: replace `...` below to construct the transition matrix $P$ and verify that the row sum of the transition matrix equals 1 \\\\\n",
        "(Hint: the command `np.sum(a, axis=1)` returns the sum of elements of array `a` along the rows and \\\\\n",
        " the command `np.allclose(a, b)` returns `True` if two arrays `a` and `b` are element-wise equal within a tolerance.)"
      ],
      "metadata": {
        "id": "rYJKl32tLNKl"
      }
    },
    {
      "cell_type": "code",
      "execution_count": 16,
      "metadata": {
        "id": "8ZkRM5PluT7C",
        "colab": {
          "base_uri": "https://localhost:8080/"
        },
        "outputId": "4ed62f9b-2ae1-4df0-951e-3e07c0f454e5"
      },
      "outputs": [
        {
          "output_type": "stream",
          "name": "stdout",
          "text": [
            "Row sums:\n",
            "[1. 1. 1. 1. 1.]\n",
            "\n",
            "All rows sum to 1 — transition matrix is valid.\n"
          ]
        }
      ],
      "source": [
        "import numpy as np\n",
        "\n",
        "# Define the transition matrix P\n",
        "P = np.array([[0.15, 0.25, 0.20, 0.20, 0.20],\n",
        "              [0.10, 0.35, 0.45, 0.05, 0.05],\n",
        "              [0.05, 0.15, 0.30, 0.40, 0.10],\n",
        "              [0.00, 0.00, 0.00, 0.85, 0.15],\n",
        "              [0.00, 0.00, 0.00, 0.15, 0.85]])\n",
        "\n",
        "# Check if each row sums to 1\n",
        "row_sums = np.sum(P, axis=1)\n",
        "print(\"Row sums:\")\n",
        "print(np.round(row_sums, 5))\n",
        "\n",
        "# Optional: Check if all are close to 1\n",
        "if np.allclose(row_sums, 1.0):\n",
        "    print(\"\\nAll rows sum to 1 — transition matrix is valid.\")\n",
        "else:\n",
        "    print(\"\\nWarning: Not all rows sum to 1.\")"
      ]
    },
    {
      "cell_type": "markdown",
      "source": [
        "**Task 1.2: Compute the first $5$ state vectors** \\\\\n",
        "To do: replace `...` below to compute the first $5$ state vectors. (You may test different initial state vectors.) \\\\\n",
        "(Hint:\n",
        "* the command `np.dot(a,b)` returns the dot product or matrix multiplication (depending on the size) of two arrays `a` and `b`\n",
        "*the command `a.append(elmnt)` appends an element `elmnt` to array `a` )\n"
      ],
      "metadata": {
        "id": "gLx_tILQMPDg"
      }
    },
    {
      "cell_type": "code",
      "source": [
        "# Define the initial row vector u0 (uniform distribution)\n",
        "u0 = np.array([1/5, 1/5, 1/5, 1/5, 1/5])\n",
        "\n",
        "# Initialize a list to store the state vectors\n",
        "states = [u0]\n",
        "\n",
        "# Compute state vectors up to u5\n",
        "for _ in range(5):\n",
        "    next_state = np.dot(states[-1], P)\n",
        "    states.append(next_state)\n",
        "\n",
        "# Print the results\n",
        "for i, state in enumerate(states[1:], 1):\n",
        "    print(f\"u{i}:\")\n",
        "    print(state.round(5))  # Rounded for readability\n",
        "    print()"
      ],
      "metadata": {
        "colab": {
          "base_uri": "https://localhost:8080/"
        },
        "id": "bkHgYfBTcTaT",
        "outputId": "5928ab1b-4952-454a-fc9d-2420fe5189e9"
      },
      "execution_count": 17,
      "outputs": [
        {
          "output_type": "stream",
          "name": "stdout",
          "text": [
            "u1:\n",
            "[0.06 0.15 0.19 0.33 0.27]\n",
            "\n",
            "u2:\n",
            "[0.0335 0.096  0.1365 0.4165 0.3175]\n",
            "\n",
            "u3:\n",
            "[0.02145 0.06245 0.09085 0.46775 0.3575 ]\n",
            "\n",
            "u4:\n",
            "[0.01401 0.04085 0.05965 0.49496 0.39054]\n",
            "\n",
            "u5:\n",
            "[0.00917 0.02674 0.03908 0.508   0.41701]\n",
            "\n"
          ]
        }
      ]
    },
    {
      "cell_type": "markdown",
      "source": [
        "**Task 1.3(a): (Power method) Compute $P^{50}$** \\\\\n",
        "To do: replace `...` below to compute $P^{50}$ and verify that the row sum still equals to $1$ \\\\\n",
        "(Hint: the command `np.linalg.matrix_power(a, n)` returns a square matrix `a` to the power n)"
      ],
      "metadata": {
        "id": "LuUpE42BcjC2"
      }
    },
    {
      "cell_type": "code",
      "source": [
        "# Choose the exponent n\n",
        "n = 50  # You can change this to any positive integer\n",
        "\n",
        "# Compute the matrix P^n\n",
        "P_n = np.linalg.matrix_power(P, n)\n",
        "\n",
        "# Print the result\n",
        "print(f\"P^{n} =\")\n",
        "print(np.round(P_n, 5))  # Rounded for better readability\n",
        "\n",
        "# Check if each row sums to 1\n",
        "row_sums = np.sum(P_n, axis=1)\n",
        "is_valid = np.allclose(row_sums, 1.0)\n",
        "\n",
        "# Print result\n",
        "print(f\"Row sums of P^{n}: {np.round(row_sums, 5)}\")\n",
        "print(\"All rows sum to 1:\" , is_valid)"
      ],
      "metadata": {
        "colab": {
          "base_uri": "https://localhost:8080/"
        },
        "id": "DGoJv7CKfVdl",
        "outputId": "5f07df95-2d9d-4d1a-be26-7cd290a66342"
      },
      "execution_count": 18,
      "outputs": [
        {
          "output_type": "stream",
          "name": "stdout",
          "text": [
            "P^50 =\n",
            "[[0.  0.  0.  0.5 0.5]\n",
            " [0.  0.  0.  0.5 0.5]\n",
            " [0.  0.  0.  0.5 0.5]\n",
            " [0.  0.  0.  0.5 0.5]\n",
            " [0.  0.  0.  0.5 0.5]]\n",
            "Row sums of P^50: [1. 1. 1. 1. 1.]\n",
            "All rows sum to 1: True\n"
          ]
        }
      ]
    },
    {
      "cell_type": "markdown",
      "source": [
        "**Task 1.3(b): Compute the state vector after $50$ iterations** \\\\\n",
        "To do: replace `...` below to compute the state vector after $50$ iterations"
      ],
      "metadata": {
        "id": "hoW4jLc4f6Mf"
      }
    },
    {
      "cell_type": "code",
      "source": [
        "# Define the initial row vector u0 (uniform distribution)\n",
        "u0 = np.array([1/5, 1/5, 1/5, 1/5, 1/5]) # You can test different initial state vectors\n",
        "\n",
        "# Compute u_n = u0 * P^n\n",
        "u_n = np.dot(u0, P_n)\n",
        "\n",
        "# Print the final result\n",
        "print(f\"u{n} =\")\n",
        "print(np.round(u_n, 5))"
      ],
      "metadata": {
        "colab": {
          "base_uri": "https://localhost:8080/"
        },
        "id": "0RNTp0PFhMMP",
        "outputId": "d5be6ed3-a42e-4e3c-c716-753e2c63c776"
      },
      "execution_count": 19,
      "outputs": [
        {
          "output_type": "stream",
          "name": "stdout",
          "text": [
            "u50 =\n",
            "[0.  0.  0.  0.5 0.5]\n"
          ]
        }
      ]
    },
    {
      "cell_type": "markdown",
      "source": [
        "**Task 1.3(c): Repeat tasks (a) and (b) above with different $u_0$** \\\\\n",
        "To do: modify the code `u0 = ...` above to test different initial state vector $u_0$\n",
        "\n",
        "* $\\mathbf{u}_0 = \\left( \\begin{array}{ccccccc}\n",
        "1/4 & 1/4 & 0 & 1/4 & 1/4 \\\\\n",
        "  \\end{array} \\right)$\n",
        "\n",
        "* $\\mathbf{u}_0 = \\left( \\begin{array}{ccccccc}\n",
        "0.11 & 0.11 & 0.26 & 0.26 & 0.26 \\\\\n",
        "  \\end{array} \\right)$"
      ],
      "metadata": {
        "id": "7aMv6GbEk8hT"
      }
    },
    {
      "cell_type": "markdown",
      "source": [
        "**Task 1.3(d): Verify the row sum of $P^n$** \\\\\n",
        "To do: modify the code `n = ...` above to verify the row sum is euqal to $1$ for arbitrary large $n$"
      ],
      "metadata": {
        "id": "jPdK4sdlnDYd"
      }
    },
    {
      "cell_type": "markdown",
      "source": [
        "**Task 1.3(e): Compute the steady-state vector** \\\\\n",
        "To do: modify the code `n = ...` above to  test for the steady-state vector"
      ],
      "metadata": {
        "id": "inVHGI-3p8of"
      }
    },
    {
      "cell_type": "markdown",
      "source": [
        "**Task 1.4: Use nested iteration to compute the steady-state vector** \\\\\n",
        "To do: replace `...` below to compute the steady-state vector with nested iteration"
      ],
      "metadata": {
        "id": "2R0aCaYzobcF"
      }
    },
    {
      "cell_type": "code",
      "source": [
        "# Initial state vector\n",
        "u = np.array([1/5] * 5)\n",
        "\n",
        "# Number of iterations\n",
        "n = 50\n",
        "\n",
        "# Iteratively multiply to approximate the steady-state vector\n",
        "for _ in range(n):\n",
        "    u = np.dot(u, P)\n",
        "\n",
        "# Print the result\n",
        "print(f\"u{n} =\")\n",
        "print(np.round(u, 5))"
      ],
      "metadata": {
        "colab": {
          "base_uri": "https://localhost:8080/"
        },
        "id": "6x5f44k1oa9C",
        "outputId": "83564627-acd0-4ba1-bdae-3cbda094c511"
      },
      "execution_count": 20,
      "outputs": [
        {
          "output_type": "stream",
          "name": "stdout",
          "text": [
            "u50 =\n",
            "[0.  0.  0.  0.5 0.5]\n"
          ]
        }
      ]
    },
    {
      "cell_type": "markdown",
      "source": [
        "# Exercise 2: Pandemic Spread Rate – Continuous-Time Case"
      ],
      "metadata": {
        "id": "Ah0EknC7qoW_"
      }
    },
    {
      "cell_type": "markdown",
      "source": [
        "**Model Design and Transition Matrix** \\\\\n",
        "To design the **Continuous-Time Markov Chain Process** model, a forward transition rate of $0.10$ is considered between states (see the table below), considering that $\\lambda_i > \\lambda_{i+1}$ and $\\mu_i < \\mu_{i+1}$.\n",
        "\n",
        "\n",
        "Matrix of transition probabilities $P$ for a model describing the spread of an event with pandemic potential across three states.\n",
        "\n",
        "$$\n",
        "\\begin{array}{lccc}\n",
        "\\hline\n",
        "     &  S  &  I  &  R  \\\\\n",
        "\\hline\n",
        " S  & -\\lambda_1   & \\lambda_1   & 0 \\\\\n",
        " I  & \\mu_1   & -(\\mu_1 + \\lambda_2) & \\lambda_2 \\\\\n",
        " R  & 0 & \\mu_2   & -\\mu_2 \\\\\n",
        "\\hline\n",
        "\\end{array}\n",
        "$$\n",
        "\n",
        "Let the state vector be:\n",
        "\n",
        "$$\n",
        "\\begin{equation}\n",
        "\\mathbf{u}  = \\left( \\begin{array}{ccccccc}\n",
        "u_1 & u_2 & u_3\n",
        "  \\end{array} \\right)  \n",
        "\\end{equation}\n",
        "$$\n",
        "\n",
        "Given the transition information:\n",
        "\n",
        "$$\n",
        "\\left( \\begin{array}{ccccccc}\n",
        "u_1 & u_2 & u_3\n",
        "  \\end{array} \\right) \\left( \\begin{array}{ccccccc}\n",
        "   -0.10   & 0.10  & 0.00 \\\\\n",
        "    0.04   & -( 0.04 + 0.09) & 0.09 \\\\\n",
        "    0.00 & 0.06   & -0.06 \\\\\n",
        "  \\end{array} \\right)  = \\left( \\begin{array}{ccccccc}\n",
        "0 & 0 & 0\n",
        "  \\end{array} \\right)\n",
        "$$\n",
        "\n",
        "The system of equations is derived as:\n",
        "\n",
        "$$\n",
        "\\begin{array}{ccccccc}\n",
        "-&0.10 u_1 &+& 0.04 u_2 & &          &=& 0 \\\\\n",
        " &0.10 u_1 &-& 0.13 u_2 &+& 0.06 u_3 &=& 0 \\\\\n",
        " &         & & 0.09 u_2 &-& 0.06 u_3 &=& 0\n",
        "\\end{array}\n",
        "\\tag{11}\n",
        "$$\n",
        "\n",
        "With the constraint:\n",
        "\n",
        "$$\n",
        "u_1 + u_2 + u_3 = 1\n",
        "\\tag{12}\n",
        "$$"
      ],
      "metadata": {
        "id": "gemEHPxfq-RY"
      }
    },
    {
      "cell_type": "markdown",
      "source": [
        "**Exercise 2** \\\\\n",
        "Perform the following tasks:\n",
        "1. Construct the coefficient matrix $A_{eq}$ and constant matrix $b_{eq}$ of the system (Eqs. (11) and (12))\n",
        "2. Use linear programming method `linprog` to find the steady-state solution $\\mathbf{u}$\n",
        "3. Verify the results in Task 2"
      ],
      "metadata": {
        "id": "yxw_OsWtyy_q"
      }
    },
    {
      "cell_type": "markdown",
      "source": [
        "**Task 2.1: Construct the coefficient matrix $A_{eq}$ and constant matrix $b_{eq}$** \\\\\n",
        "To do: replace `...` below to find $A_{eq}$ and $b_{eq}$"
      ],
      "metadata": {
        "id": "NCkP_6LGzpTR"
      }
    },
    {
      "cell_type": "code",
      "source": [
        "from scipy.optimize import linprog\n",
        "import numpy as np\n",
        "\n",
        "# Define the coefficient matrix A_eq based on the system of equations\n",
        "# Representing:\n",
        "# -0.10*u1 + 0.04*u2           = 0\n",
        "#  0.10*u1 - 0.13*u2 + 0.06*u3 = 0\n",
        "#           0.09*u2 - 0.06*u3 = 0\n",
        "#  u1 + u2 + u3 = 1\n",
        "\n",
        "A_eq = np.array([\n",
        "    [-0.10,  0.04,  0.00],\n",
        "    [ 0.10, -0.13,  0.06],\n",
        "    [ 0.00,  0.09, -0.06],\n",
        "    [ 1.00,  1.00,  1.00]\n",
        "])\n",
        "\n",
        "# Right-hand side vector\n",
        "b_eq = np.array([0, 0, 0, 1])"
      ],
      "metadata": {
        "id": "BRuM5Dw3z5YD"
      },
      "execution_count": 21,
      "outputs": []
    },
    {
      "cell_type": "markdown",
      "source": [
        "**Task 2.2: Use linear programming to find $\\mathbf{u}$** \\\\\n",
        "To do: replace `...` below to find the long-term (steady-state) solution by solving the system using linear programming \\\\\n",
        "(Hint: the command `linprog(c, A_eq=A_eq, b_eq=b_eq, method=\"highs\")` solve the following linear programming problem)\n",
        "\n",
        "$$\n",
        "\\min_x c^Tx \\\\\n",
        "\\text{such that} \\: A_{eq}x = b_{eq}\n",
        "$$"
      ],
      "metadata": {
        "id": "wj8tnmyvrgph"
      }
    },
    {
      "cell_type": "code",
      "source": [
        "# Objective function (dummy, since we're solving feasibility only)\n",
        "c = np.zeros(3)\n",
        "\n",
        "# Solve the system using linear programming\n",
        "result = linprog(c, A_eq=A_eq, b_eq=b_eq, method=\"highs\")\n",
        "\n",
        "# Output results\n",
        "if result.success:\n",
        "    u = result.x\n",
        "    print(\"Steady-state solution:\")\n",
        "    print(f\"u1 = {u[0]:.3f}\")\n",
        "    print(f\"u2 = {u[1]:.3f}\")\n",
        "    print(f\"u3 = {u[2]:.3f}\")\n",
        "\n",
        "else:\n",
        "    print(\"Failed to find solution:\", result.message)"
      ],
      "metadata": {
        "colab": {
          "base_uri": "https://localhost:8080/"
        },
        "id": "MVxaEHAEu58q",
        "outputId": "37fea595-fb05-45a2-fa6e-4996d89b42f9"
      },
      "execution_count": 22,
      "outputs": [
        {
          "output_type": "stream",
          "name": "stdout",
          "text": [
            "Steady-state solution:\n",
            "u1 = 0.138\n",
            "u2 = 0.345\n",
            "u3 = 0.517\n"
          ]
        }
      ]
    },
    {
      "cell_type": "markdown",
      "source": [
        "**Task 2.3: Verify the results** \\\\\n",
        "To do: replace `...` below verify the results in Task 2.2"
      ],
      "metadata": {
        "id": "L1d5FHIW0cBJ"
      }
    },
    {
      "cell_type": "code",
      "source": [
        "if result.success:\n",
        "  # Validate by checking A_eq @ u equals b_eq\n",
        "      print(\"Verifying equations (LHS ≈ RHS):\")\n",
        "      lhs = A_eq @ u\n",
        "      for i, (left, right) in enumerate(zip(lhs, b_eq), 1):\n",
        "          print(f\"Equation {i}: {left:.6f} ≈ {right}\")\n",
        "\n",
        "else:\n",
        "    print(\"Failed to find solution:\", result.message)"
      ],
      "metadata": {
        "colab": {
          "base_uri": "https://localhost:8080/"
        },
        "id": "eOatfqJW0rJJ",
        "outputId": "e711da9a-98cb-4717-9b2e-bf13fce6fdf9"
      },
      "execution_count": 23,
      "outputs": [
        {
          "output_type": "stream",
          "name": "stdout",
          "text": [
            "Verifying equations (LHS ≈ RHS):\n",
            "Equation 1: 0.000000 ≈ 0\n",
            "Equation 2: -0.000000 ≈ 0\n",
            "Equation 3: -0.000000 ≈ 0\n",
            "Equation 4: 1.000000 ≈ 1\n"
          ]
        }
      ]
    }
  ]
}