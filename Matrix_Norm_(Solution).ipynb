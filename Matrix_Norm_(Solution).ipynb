{
  "cells": [
    {
      "cell_type": "markdown",
      "id": "cec71199",
      "metadata": {
        "id": "cec71199"
      },
      "source": [
        "# Notes"
      ]
    },
    {
      "cell_type": "code",
      "execution_count": 2,
      "id": "0719bfbf",
      "metadata": {
        "id": "0719bfbf"
      },
      "outputs": [],
      "source": [
        "import numpy as np\n",
        "from numpy.linalg import norm, solve"
      ]
    },
    {
      "cell_type": "markdown",
      "source": [
        "# Vector Norm"
      ],
      "metadata": {
        "id": "ma1G5jvFs82V"
      },
      "id": "ma1G5jvFs82V"
    },
    {
      "cell_type": "markdown",
      "source": [
        "For a vector $\\mathbf{x}=(x_1,x_2,\\cdots,x_n)$, its vector $p$-norm is defined as $$\\|\\mathbf{x}\\|_p=(|x_1|^p+|x_2|^p+\\cdots+|x_n|^p)^{\\frac{1}{p}},\\quad 1\\leq p\\leq \\infty.$$"
      ],
      "metadata": {
        "id": "XqFMipRMs_IB"
      },
      "id": "XqFMipRMs_IB"
    },
    {
      "cell_type": "markdown",
      "source": [
        "For example, for $\\mathbf{b} = (7, 24, 0)$, we have\n",
        "$$\\|\\mathbf{b}\\|_1 = |7| + |24| + |0| = 31$$\n",
        "$$\\|\\mathbf{b}\\|_2 = \\sqrt{|7|^2 + |24|^2 + 0^2} = 25$$"
      ],
      "metadata": {
        "id": "Mlq9hVjEtCNQ"
      },
      "id": "Mlq9hVjEtCNQ"
    },
    {
      "cell_type": "code",
      "execution_count": 3,
      "id": "fce04976",
      "metadata": {
        "colab": {
          "base_uri": "https://localhost:8080/"
        },
        "id": "fce04976",
        "outputId": "137a5776-b07d-4d20-f5cb-baaa197ea941"
      },
      "outputs": [
        {
          "output_type": "execute_result",
          "data": {
            "text/plain": [
              "np.float64(25.0)"
            ]
          },
          "metadata": {},
          "execution_count": 3
        }
      ],
      "source": [
        "b = np.array([7, 24, 0])\n",
        "norm(b,2)                       # norm of a row vector"
      ]
    },
    {
      "cell_type": "code",
      "execution_count": 4,
      "id": "1080f5ad",
      "metadata": {
        "colab": {
          "base_uri": "https://localhost:8080/"
        },
        "id": "1080f5ad",
        "outputId": "08df0193-0afc-423f-8c13-03b9c344d638"
      },
      "outputs": [
        {
          "output_type": "execute_result",
          "data": {
            "text/plain": [
              "np.float64(13.0)"
            ]
          },
          "metadata": {},
          "execution_count": 4
        }
      ],
      "source": [
        "c = np.array([[5], [0], [-12]])\n",
        "norm(c,2)                       # norm of a column vector"
      ]
    },
    {
      "cell_type": "markdown",
      "id": "205f98ab",
      "metadata": {
        "id": "205f98ab"
      },
      "source": [
        "For matrix norm, we usually use the following norms.\n",
        "\n"
      ]
    },
    {
      "cell_type": "markdown",
      "id": "08461fbf",
      "metadata": {
        "id": "08461fbf"
      },
      "source": [
        "(a) 1-norm\n",
        "\n",
        "$||A||_1 = $ maximum absolute column sum of matrix $A$ (i.e. first take the absolute value of each element, and then calculuate the sum of all absolute values for each column, and finally take the maximum of all column sums)"
      ]
    },
    {
      "cell_type": "markdown",
      "id": "34c7fb57",
      "metadata": {
        "id": "34c7fb57"
      },
      "source": [
        "(b) 2-norm\n",
        "\n",
        "$||A||_2 = \\sqrt{\\lambda_{max}(A^TA)}$, where $\\lambda_{max}$ is the maximum eigenvalue of $A^TA$.\n"
      ]
    },
    {
      "cell_type": "markdown",
      "id": "38b19161",
      "metadata": {
        "id": "38b19161"
      },
      "source": [
        "(c) $\\infty$-norm\n",
        "\n",
        "$||A||_\\infty = $ maximum absolute row sum of matrix $A$ (i.e. first take the absolute value of each element, and then calculuate the sum of all absolute values for each row, and finally take the maximum of all row sums)"
      ]
    },
    {
      "cell_type": "markdown",
      "id": "1b726ad4",
      "metadata": {
        "id": "1b726ad4"
      },
      "source": [
        "## ```Example```"
      ]
    },
    {
      "cell_type": "markdown",
      "id": "cc2a5d24",
      "metadata": {
        "id": "cc2a5d24"
      },
      "source": [
        "Let $A = \\left[\\begin{matrix} 1 & -3 \\\\ -2 & 4 \\end{matrix}\\right]$. Then we have"
      ]
    },
    {
      "cell_type": "markdown",
      "id": "60fdf641",
      "metadata": {
        "id": "60fdf641"
      },
      "source": [
        "(a) $||A||_1 = \\max(1+|-2|, |-3|+4) = 7$"
      ]
    },
    {
      "cell_type": "markdown",
      "id": "50f70718",
      "metadata": {
        "id": "50f70718"
      },
      "source": [
        "(b) $||A||_2 = \\sqrt{\\lambda_{max}} $ of $\\left[\\begin{matrix} 5 & -11 \\\\ -11 & 25 \\end{matrix}\\right] = 5.465$"
      ]
    },
    {
      "cell_type": "markdown",
      "id": "19abda7f",
      "metadata": {
        "id": "19abda7f"
      },
      "source": [
        "(c) $||A||_\\infty = \\max(1+|-3|, |-2|+4) = 6$"
      ]
    },
    {
      "cell_type": "code",
      "source": [
        "A = np.array([[1, -3], [-2, 4]])\n",
        "norm(A,1)                       # matrix 1-norm"
      ],
      "metadata": {
        "colab": {
          "base_uri": "https://localhost:8080/"
        },
        "id": "A0-bjefRtVYA",
        "outputId": "9b210e17-3abc-41b1-c1a1-c662b032f23f"
      },
      "id": "A0-bjefRtVYA",
      "execution_count": 5,
      "outputs": [
        {
          "output_type": "execute_result",
          "data": {
            "text/plain": [
              "np.float64(7.0)"
            ]
          },
          "metadata": {},
          "execution_count": 5
        }
      ]
    },
    {
      "cell_type": "code",
      "source": [
        "norm(A,2)                       # matrix 2-norm"
      ],
      "metadata": {
        "colab": {
          "base_uri": "https://localhost:8080/"
        },
        "id": "Ulnwi-g_tXyk",
        "outputId": "aded616d-fe3f-43e6-bd23-7a24ef282c90"
      },
      "id": "Ulnwi-g_tXyk",
      "execution_count": 6,
      "outputs": [
        {
          "output_type": "execute_result",
          "data": {
            "text/plain": [
              "np.float64(5.464985704219042)"
            ]
          },
          "metadata": {},
          "execution_count": 6
        }
      ]
    },
    {
      "cell_type": "code",
      "source": [
        "norm(A,np.inf)                  # matrix inf-norm"
      ],
      "metadata": {
        "colab": {
          "base_uri": "https://localhost:8080/"
        },
        "id": "OaHH2-mgtZ2Z",
        "outputId": "ee601cc8-0ed3-404d-b044-3ab1aaff3410"
      },
      "id": "OaHH2-mgtZ2Z",
      "execution_count": 7,
      "outputs": [
        {
          "output_type": "execute_result",
          "data": {
            "text/plain": [
              "np.float64(6.0)"
            ]
          },
          "metadata": {},
          "execution_count": 7
        }
      ]
    },
    {
      "cell_type": "markdown",
      "id": "11e60b7f",
      "metadata": {
        "id": "11e60b7f"
      },
      "source": [
        "# Exercise"
      ]
    },
    {
      "cell_type": "markdown",
      "id": "a3b18f96",
      "metadata": {
        "id": "a3b18f96"
      },
      "source": [
        "1. Find the 1-norm, 2-norm and $\\infty$-norm of the following matrix."
      ]
    },
    {
      "cell_type": "markdown",
      "id": "32bc49f5",
      "metadata": {
        "id": "32bc49f5"
      },
      "source": [
        "(a) $\\left[\\begin{matrix}\n",
        "1 & 2 & -3 \\\\\n",
        "4 & -5 & 6 \\\\\n",
        "-7 & 8 & 9\n",
        "\\end{matrix}\\right]$"
      ]
    },
    {
      "cell_type": "code",
      "execution_count": null,
      "id": "73a89bdf",
      "metadata": {
        "id": "73a89bdf"
      },
      "outputs": [],
      "source": [
        "A = np.array([[1,2,-3], [4,-5,6], [-7,8,9]])"
      ]
    },
    {
      "cell_type": "code",
      "execution_count": null,
      "id": "f1f01850",
      "metadata": {
        "id": "f1f01850",
        "outputId": "b850446c-a144-4773-95e7-453f636069c1"
      },
      "outputs": [
        {
          "data": {
            "text/plain": [
              "18.0"
            ]
          },
          "execution_count": 8,
          "metadata": {},
          "output_type": "execute_result"
        }
      ],
      "source": [
        "# 1-norm\n",
        "norm(A, 1)"
      ]
    },
    {
      "cell_type": "code",
      "execution_count": null,
      "id": "b493d504",
      "metadata": {
        "id": "b493d504",
        "outputId": "8dc2bca7-5ce5-44bd-a2ec-4de531d7a157"
      },
      "outputs": [
        {
          "data": {
            "text/plain": [
              "14.033212052727055"
            ]
          },
          "execution_count": 9,
          "metadata": {},
          "output_type": "execute_result"
        }
      ],
      "source": [
        "# 2-norm\n",
        "norm(A, 2)"
      ]
    },
    {
      "cell_type": "code",
      "execution_count": null,
      "id": "d0212886",
      "metadata": {
        "id": "d0212886",
        "outputId": "77ecac5e-9add-4bf7-c47c-70e0ab823f26"
      },
      "outputs": [
        {
          "data": {
            "text/plain": [
              "24.0"
            ]
          },
          "execution_count": 14,
          "metadata": {},
          "output_type": "execute_result"
        }
      ],
      "source": [
        "# inf-norm\n",
        "norm(A, np.inf)"
      ]
    },
    {
      "cell_type": "markdown",
      "id": "78aece5f",
      "metadata": {
        "id": "78aece5f"
      },
      "source": [
        "(b) $\\left[\\begin{matrix}\n",
        "-2.9 & 38 & 0.1 & -93 \\\\\n",
        "0 & 12 & 85 & -2 \\\\\n",
        "13 & 13 & -31 & 88.3 \\\\\n",
        "0 & 0 & 45 & 67\n",
        "\\end{matrix}\\right]$"
      ]
    },
    {
      "cell_type": "code",
      "execution_count": null,
      "id": "697a1e4e",
      "metadata": {
        "id": "697a1e4e"
      },
      "outputs": [],
      "source": [
        "B = np.array([[-2.9, 38, 0.1, -93], [0, 12, 85, -2], [13, 13, -31, 88.3], [0, 0, 45, 67]])"
      ]
    },
    {
      "cell_type": "code",
      "execution_count": null,
      "id": "b7f39eb3",
      "metadata": {
        "id": "b7f39eb3",
        "outputId": "bbc4ee02-c505-45f2-a301-b426b76d4ea3"
      },
      "outputs": [
        {
          "data": {
            "text/plain": [
              "250.3"
            ]
          },
          "execution_count": 12,
          "metadata": {},
          "output_type": "execute_result"
        }
      ],
      "source": [
        "# 1-norm\n",
        "norm(B, 1)"
      ]
    },
    {
      "cell_type": "code",
      "execution_count": null,
      "id": "d43c39fa",
      "metadata": {
        "id": "d43c39fa",
        "outputId": "bc906d16-7636-4175-acd6-91a46a6efbb8"
      },
      "outputs": [
        {
          "data": {
            "text/plain": [
              "146.04691102944344"
            ]
          },
          "execution_count": 15,
          "metadata": {},
          "output_type": "execute_result"
        }
      ],
      "source": [
        "# 2-norm\n",
        "norm(B, 2)"
      ]
    },
    {
      "cell_type": "code",
      "execution_count": null,
      "id": "56bc2872",
      "metadata": {
        "id": "56bc2872",
        "outputId": "2577a562-a8aa-4627-8344-f0df32a1e513"
      },
      "outputs": [
        {
          "data": {
            "text/plain": [
              "145.3"
            ]
          },
          "execution_count": 16,
          "metadata": {},
          "output_type": "execute_result"
        }
      ],
      "source": [
        "# inf-norm\n",
        "norm(B, np.inf)"
      ]
    }
  ],
  "metadata": {
    "kernelspec": {
      "display_name": "Python 3 (ipykernel)",
      "language": "python",
      "name": "python3"
    },
    "language_info": {
      "codemirror_mode": {
        "name": "ipython",
        "version": 3
      },
      "file_extension": ".py",
      "mimetype": "text/x-python",
      "name": "python",
      "nbconvert_exporter": "python",
      "pygments_lexer": "ipython3",
      "version": "3.9.13"
    },
    "colab": {
      "provenance": []
    }
  },
  "nbformat": 4,
  "nbformat_minor": 5
}