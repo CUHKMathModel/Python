{
  "cells": [
    {
      "cell_type": "markdown",
      "id": "734dd000",
      "metadata": {
        "id": "734dd000"
      },
      "source": [
        "# Notes"
      ]
    },
    {
      "cell_type": "markdown",
      "id": "d7d35f5f",
      "metadata": {
        "id": "d7d35f5f"
      },
      "source": [
        "In data anlytics, importing external data set (usually raw data collected by your team) is very common. The commands in package \"pandas\" are often used in the data set preprocessing stage. Here we will illustrate importing .csv/.txt/.xlsx files into Python and some basic preprocessing commands in \"pandas\"."
      ]
    },
    {
      "cell_type": "markdown",
      "id": "91ad8bae",
      "metadata": {
        "id": "91ad8bae"
      },
      "source": [
        "### 1. Importing Dataset"
      ]
    },
    {
      "cell_type": "code",
      "execution_count": null,
      "id": "014c40c8",
      "metadata": {
        "id": "014c40c8"
      },
      "outputs": [],
      "source": [
        "import pandas as pd"
      ]
    },
    {
      "cell_type": "markdown",
      "id": "417e5689",
      "metadata": {
        "id": "417e5689"
      },
      "source": [
        "Before executing the following codes, remember to _**put the file in the same folder of your Python notebook**_. Otherwise, error message will be displayed."
      ]
    },
    {
      "cell_type": "markdown",
      "id": "cab402d7",
      "metadata": {
        "id": "cab402d7"
      },
      "source": [
        "```.csv file```"
      ]
    },
    {
      "cell_type": "code",
      "source": [
        "csv_data = pd.read_csv('sample_data.csv')\n",
        "print(csv_data)"
      ],
      "metadata": {
        "id": "_MsrWT68wCsQ"
      },
      "id": "_MsrWT68wCsQ",
      "execution_count": null,
      "outputs": []
    },
    {
      "cell_type": "markdown",
      "id": "2ee8b2d9",
      "metadata": {
        "id": "2ee8b2d9"
      },
      "source": [
        "```.txt file```"
      ]
    },
    {
      "cell_type": "code",
      "execution_count": null,
      "id": "d8b018ac",
      "metadata": {
        "id": "d8b018ac",
        "outputId": "fad59ad3-eba9-4705-ca79-20220e65a5f3"
      },
      "outputs": [
        {
          "name": "stdout",
          "output_type": "stream",
          "text": [
            "      Name  Age    Country\n",
            "0    Alice   30        USA\n",
            "1      Bob   25     Canada\n",
            "2  Charlie   35         UK\n",
            "3    David   40  Australia\n",
            "4      Eva   28    Germany\n"
          ]
        }
      ],
      "source": [
        "txt_data = pd.read_csv('sample_data.txt', delimiter='\\t')\n",
        "print(txt_data)"
      ]
    },
    {
      "cell_type": "markdown",
      "id": "86d0d641",
      "metadata": {
        "id": "86d0d641"
      },
      "source": [
        "```.xlsx file```"
      ]
    },
    {
      "cell_type": "code",
      "execution_count": null,
      "id": "4a33edf8",
      "metadata": {
        "id": "4a33edf8",
        "outputId": "c8174447-d69b-449e-e9c4-3884e4768253"
      },
      "outputs": [
        {
          "name": "stdout",
          "output_type": "stream",
          "text": [
            "      Name  Age    Country\n",
            "0    Alice   30        USA\n",
            "1      Bob   25     Canada\n",
            "2  Charlie   35         UK\n",
            "3    David   40  Australia\n",
            "4      Eva   28    Germany\n"
          ]
        }
      ],
      "source": [
        "xlsx_data = pd.read_excel('sample_data.xlsx', engine='openpyxl')\n",
        "print(xlsx_data)"
      ]
    },
    {
      "cell_type": "markdown",
      "id": "3b8689db",
      "metadata": {
        "id": "3b8689db"
      },
      "source": [
        "### 2. Preprocessing"
      ]
    },
    {
      "cell_type": "markdown",
      "id": "8f193b45",
      "metadata": {
        "id": "8f193b45"
      },
      "source": [
        "The following are some basic codes in \"pandas\" package to preprocess the data set. The data set storing the daily highest temperature in Shatin from 1-10-1984 to 31-5-2025 will be used for example. It is downloaded from www.data.gov.hk."
      ]
    },
    {
      "cell_type": "code",
      "execution_count": null,
      "id": "24eb4f18",
      "metadata": {
        "id": "24eb4f18"
      },
      "outputs": [],
      "source": [
        "st_ht = pd.read_csv('CLMMAXT_SHA_.csv')    # Import the data set"
      ]
    },
    {
      "cell_type": "code",
      "execution_count": null,
      "id": "bb9c6d3c",
      "metadata": {
        "id": "bb9c6d3c",
        "outputId": "71f6ba96-ad64-42a5-fe83-397b17d911c7"
      },
      "outputs": [
        {
          "data": {
            "text/html": [
              "<div>\n",
              "<style scoped>\n",
              "    .dataframe tbody tr th:only-of-type {\n",
              "        vertical-align: middle;\n",
              "    }\n",
              "\n",
              "    .dataframe tbody tr th {\n",
              "        vertical-align: top;\n",
              "    }\n",
              "\n",
              "    .dataframe thead th {\n",
              "        text-align: right;\n",
              "    }\n",
              "</style>\n",
              "<table border=\"1\" class=\"dataframe\">\n",
              "  <thead>\n",
              "    <tr style=\"text-align: right;\">\n",
              "      <th></th>\n",
              "      <th>Year</th>\n",
              "      <th>Month</th>\n",
              "      <th>Day</th>\n",
              "      <th>Highest Temperature</th>\n",
              "    </tr>\n",
              "  </thead>\n",
              "  <tbody>\n",
              "    <tr>\n",
              "      <th>0</th>\n",
              "      <td>1984</td>\n",
              "      <td>10</td>\n",
              "      <td>1</td>\n",
              "      <td>***</td>\n",
              "    </tr>\n",
              "    <tr>\n",
              "      <th>1</th>\n",
              "      <td>1984</td>\n",
              "      <td>10</td>\n",
              "      <td>2</td>\n",
              "      <td>31.3</td>\n",
              "    </tr>\n",
              "    <tr>\n",
              "      <th>2</th>\n",
              "      <td>1984</td>\n",
              "      <td>10</td>\n",
              "      <td>3</td>\n",
              "      <td>33</td>\n",
              "    </tr>\n",
              "    <tr>\n",
              "      <th>3</th>\n",
              "      <td>1984</td>\n",
              "      <td>10</td>\n",
              "      <td>4</td>\n",
              "      <td>31.8</td>\n",
              "    </tr>\n",
              "    <tr>\n",
              "      <th>4</th>\n",
              "      <td>1984</td>\n",
              "      <td>10</td>\n",
              "      <td>5</td>\n",
              "      <td>28.5</td>\n",
              "    </tr>\n",
              "  </tbody>\n",
              "</table>\n",
              "</div>"
            ],
            "text/plain": [
              "   Year  Month  Day Highest Temperature\n",
              "0  1984     10    1                 ***\n",
              "1  1984     10    2                31.3\n",
              "2  1984     10    3                  33\n",
              "3  1984     10    4                31.8\n",
              "4  1984     10    5                28.5"
            ]
          },
          "execution_count": 6,
          "metadata": {},
          "output_type": "execute_result"
        }
      ],
      "source": [
        "st_ht.head()                               # Display the first five rows in the data set"
      ]
    },
    {
      "cell_type": "markdown",
      "id": "f4e47c09",
      "metadata": {
        "id": "f4e47c09"
      },
      "source": [
        "You may observe that the data \"1-10-1984\" is lost. We may use the following code to replace these lost data by a specific value for building a numerical model later."
      ]
    },
    {
      "cell_type": "code",
      "execution_count": null,
      "id": "4fdc6711",
      "metadata": {
        "id": "4fdc6711"
      },
      "outputs": [],
      "source": [
        "# In general, we may use the following code to replace \"NaN\" by the value k.\n",
        "# <data_set_name>.fillna(value = k, inplace = True)\n",
        "# <data_set_name>.dropna(inplace = True) --> delete the rows with \"NaN\"\n",
        "\n",
        "# \"inplace = True\" means directly amending on the original variable but not generate a new\n",
        "# variable storing the processed data set. The default Python setting is \"inplace = False\"."
      ]
    },
    {
      "cell_type": "code",
      "execution_count": null,
      "id": "cfbd6c38",
      "metadata": {
        "id": "cfbd6c38"
      },
      "outputs": [],
      "source": [
        "st_ht.fillna(value = 0, inplace = True)"
      ]
    },
    {
      "cell_type": "code",
      "execution_count": null,
      "id": "179fe977",
      "metadata": {
        "id": "179fe977"
      },
      "outputs": [],
      "source": [
        "st_ht.replace(\"***\", 0, inplace=True)      # Replace \"***\" by 0"
      ]
    },
    {
      "cell_type": "code",
      "execution_count": null,
      "id": "eccacd5f",
      "metadata": {
        "id": "eccacd5f",
        "outputId": "8008182e-7e13-440c-cf02-1dc0bec28442"
      },
      "outputs": [
        {
          "data": {
            "text/html": [
              "<div>\n",
              "<style scoped>\n",
              "    .dataframe tbody tr th:only-of-type {\n",
              "        vertical-align: middle;\n",
              "    }\n",
              "\n",
              "    .dataframe tbody tr th {\n",
              "        vertical-align: top;\n",
              "    }\n",
              "\n",
              "    .dataframe thead th {\n",
              "        text-align: right;\n",
              "    }\n",
              "</style>\n",
              "<table border=\"1\" class=\"dataframe\">\n",
              "  <thead>\n",
              "    <tr style=\"text-align: right;\">\n",
              "      <th></th>\n",
              "      <th>Year</th>\n",
              "      <th>Month</th>\n",
              "      <th>Day</th>\n",
              "      <th>Highest Temperature</th>\n",
              "    </tr>\n",
              "  </thead>\n",
              "  <tbody>\n",
              "    <tr>\n",
              "      <th>0</th>\n",
              "      <td>1984</td>\n",
              "      <td>10</td>\n",
              "      <td>1</td>\n",
              "      <td>0</td>\n",
              "    </tr>\n",
              "    <tr>\n",
              "      <th>1</th>\n",
              "      <td>1984</td>\n",
              "      <td>10</td>\n",
              "      <td>2</td>\n",
              "      <td>31.3</td>\n",
              "    </tr>\n",
              "    <tr>\n",
              "      <th>2</th>\n",
              "      <td>1984</td>\n",
              "      <td>10</td>\n",
              "      <td>3</td>\n",
              "      <td>33</td>\n",
              "    </tr>\n",
              "    <tr>\n",
              "      <th>3</th>\n",
              "      <td>1984</td>\n",
              "      <td>10</td>\n",
              "      <td>4</td>\n",
              "      <td>31.8</td>\n",
              "    </tr>\n",
              "    <tr>\n",
              "      <th>4</th>\n",
              "      <td>1984</td>\n",
              "      <td>10</td>\n",
              "      <td>5</td>\n",
              "      <td>28.5</td>\n",
              "    </tr>\n",
              "  </tbody>\n",
              "</table>\n",
              "</div>"
            ],
            "text/plain": [
              "   Year  Month  Day Highest Temperature\n",
              "0  1984     10    1                   0\n",
              "1  1984     10    2                31.3\n",
              "2  1984     10    3                  33\n",
              "3  1984     10    4                31.8\n",
              "4  1984     10    5                28.5"
            ]
          },
          "execution_count": 10,
          "metadata": {},
          "output_type": "execute_result"
        }
      ],
      "source": [
        "st_ht.head()"
      ]
    },
    {
      "cell_type": "markdown",
      "id": "33591069",
      "metadata": {
        "id": "33591069"
      },
      "source": [
        "We see that the data in \"Month\" and \"Day\" columns are decimal numbers. The following command can convert the data to \"integer\" type."
      ]
    },
    {
      "cell_type": "code",
      "execution_count": null,
      "id": "42c2d72f",
      "metadata": {
        "id": "42c2d72f"
      },
      "outputs": [],
      "source": [
        "st_ht['Month'] = st_ht['Month'].astype(int)\n",
        "st_ht['Day'] = st_ht['Day'].astype(int)"
      ]
    },
    {
      "cell_type": "markdown",
      "id": "74b6faf0",
      "metadata": {
        "id": "74b6faf0"
      },
      "source": [
        "We may also concatenate the three columns storing years, months and days to a new column called \"Dates\"."
      ]
    },
    {
      "cell_type": "code",
      "execution_count": null,
      "id": "02e80bcd",
      "metadata": {
        "id": "02e80bcd"
      },
      "outputs": [],
      "source": [
        "st_ht['Date'] = st_ht['Year'].astype(str) + \"-\" + st_ht['Month'].astype(str).str.zfill(2) + \"-\" + st_ht['Day'].astype(str).str.zfill(2)"
      ]
    },
    {
      "cell_type": "code",
      "execution_count": null,
      "id": "28227c73",
      "metadata": {
        "id": "28227c73",
        "outputId": "eb7fe0cd-6043-4150-dcc4-05039cd286ac"
      },
      "outputs": [
        {
          "data": {
            "text/html": [
              "<div>\n",
              "<style scoped>\n",
              "    .dataframe tbody tr th:only-of-type {\n",
              "        vertical-align: middle;\n",
              "    }\n",
              "\n",
              "    .dataframe tbody tr th {\n",
              "        vertical-align: top;\n",
              "    }\n",
              "\n",
              "    .dataframe thead th {\n",
              "        text-align: right;\n",
              "    }\n",
              "</style>\n",
              "<table border=\"1\" class=\"dataframe\">\n",
              "  <thead>\n",
              "    <tr style=\"text-align: right;\">\n",
              "      <th></th>\n",
              "      <th>Year</th>\n",
              "      <th>Month</th>\n",
              "      <th>Day</th>\n",
              "      <th>Highest Temperature</th>\n",
              "      <th>Date</th>\n",
              "    </tr>\n",
              "  </thead>\n",
              "  <tbody>\n",
              "    <tr>\n",
              "      <th>0</th>\n",
              "      <td>1984</td>\n",
              "      <td>10</td>\n",
              "      <td>1</td>\n",
              "      <td>0</td>\n",
              "      <td>1984-10-01</td>\n",
              "    </tr>\n",
              "    <tr>\n",
              "      <th>1</th>\n",
              "      <td>1984</td>\n",
              "      <td>10</td>\n",
              "      <td>2</td>\n",
              "      <td>31.3</td>\n",
              "      <td>1984-10-02</td>\n",
              "    </tr>\n",
              "    <tr>\n",
              "      <th>2</th>\n",
              "      <td>1984</td>\n",
              "      <td>10</td>\n",
              "      <td>3</td>\n",
              "      <td>33</td>\n",
              "      <td>1984-10-03</td>\n",
              "    </tr>\n",
              "    <tr>\n",
              "      <th>3</th>\n",
              "      <td>1984</td>\n",
              "      <td>10</td>\n",
              "      <td>4</td>\n",
              "      <td>31.8</td>\n",
              "      <td>1984-10-04</td>\n",
              "    </tr>\n",
              "    <tr>\n",
              "      <th>4</th>\n",
              "      <td>1984</td>\n",
              "      <td>10</td>\n",
              "      <td>5</td>\n",
              "      <td>28.5</td>\n",
              "      <td>1984-10-05</td>\n",
              "    </tr>\n",
              "  </tbody>\n",
              "</table>\n",
              "</div>"
            ],
            "text/plain": [
              "   Year  Month  Day Highest Temperature        Date\n",
              "0  1984     10    1                   0  1984-10-01\n",
              "1  1984     10    2                31.3  1984-10-02\n",
              "2  1984     10    3                  33  1984-10-03\n",
              "3  1984     10    4                31.8  1984-10-04\n",
              "4  1984     10    5                28.5  1984-10-05"
            ]
          },
          "execution_count": 13,
          "metadata": {},
          "output_type": "execute_result"
        }
      ],
      "source": [
        "st_ht.head()"
      ]
    },
    {
      "cell_type": "markdown",
      "id": "f872d581",
      "metadata": {
        "id": "f872d581"
      },
      "source": [
        "Using the following command can delete any column we don't want."
      ]
    },
    {
      "cell_type": "code",
      "execution_count": null,
      "id": "679984cd",
      "metadata": {
        "id": "679984cd"
      },
      "outputs": [],
      "source": [
        "st_ht.drop(columns=['Date'], inplace=True)"
      ]
    },
    {
      "cell_type": "code",
      "execution_count": null,
      "id": "1797aa43",
      "metadata": {
        "id": "1797aa43",
        "outputId": "be460973-ba1f-47c4-d6a8-d223ec9c3974"
      },
      "outputs": [
        {
          "data": {
            "text/html": [
              "<div>\n",
              "<style scoped>\n",
              "    .dataframe tbody tr th:only-of-type {\n",
              "        vertical-align: middle;\n",
              "    }\n",
              "\n",
              "    .dataframe tbody tr th {\n",
              "        vertical-align: top;\n",
              "    }\n",
              "\n",
              "    .dataframe thead th {\n",
              "        text-align: right;\n",
              "    }\n",
              "</style>\n",
              "<table border=\"1\" class=\"dataframe\">\n",
              "  <thead>\n",
              "    <tr style=\"text-align: right;\">\n",
              "      <th></th>\n",
              "      <th>Year</th>\n",
              "      <th>Month</th>\n",
              "      <th>Day</th>\n",
              "      <th>Highest Temperature</th>\n",
              "    </tr>\n",
              "  </thead>\n",
              "  <tbody>\n",
              "    <tr>\n",
              "      <th>0</th>\n",
              "      <td>1984</td>\n",
              "      <td>10</td>\n",
              "      <td>1</td>\n",
              "      <td>0</td>\n",
              "    </tr>\n",
              "    <tr>\n",
              "      <th>1</th>\n",
              "      <td>1984</td>\n",
              "      <td>10</td>\n",
              "      <td>2</td>\n",
              "      <td>31.3</td>\n",
              "    </tr>\n",
              "    <tr>\n",
              "      <th>2</th>\n",
              "      <td>1984</td>\n",
              "      <td>10</td>\n",
              "      <td>3</td>\n",
              "      <td>33</td>\n",
              "    </tr>\n",
              "    <tr>\n",
              "      <th>3</th>\n",
              "      <td>1984</td>\n",
              "      <td>10</td>\n",
              "      <td>4</td>\n",
              "      <td>31.8</td>\n",
              "    </tr>\n",
              "    <tr>\n",
              "      <th>4</th>\n",
              "      <td>1984</td>\n",
              "      <td>10</td>\n",
              "      <td>5</td>\n",
              "      <td>28.5</td>\n",
              "    </tr>\n",
              "  </tbody>\n",
              "</table>\n",
              "</div>"
            ],
            "text/plain": [
              "   Year  Month  Day Highest Temperature\n",
              "0  1984     10    1                   0\n",
              "1  1984     10    2                31.3\n",
              "2  1984     10    3                  33\n",
              "3  1984     10    4                31.8\n",
              "4  1984     10    5                28.5"
            ]
          },
          "execution_count": 15,
          "metadata": {},
          "output_type": "execute_result"
        }
      ],
      "source": [
        "st_ht.head()"
      ]
    },
    {
      "cell_type": "markdown",
      "id": "0fb6f9c7",
      "metadata": {
        "id": "0fb6f9c7"
      },
      "source": [
        "We may also carry out filtering to the data set. The following example extracts the rows in 1990 with highest termperature higher than 30 degree Celcius."
      ]
    },
    {
      "cell_type": "code",
      "execution_count": null,
      "id": "aae6add2",
      "metadata": {
        "id": "aae6add2",
        "outputId": "80dd7778-32eb-4a73-cea7-f66221242ef1"
      },
      "outputs": [
        {
          "data": {
            "text/html": [
              "<div>\n",
              "<style scoped>\n",
              "    .dataframe tbody tr th:only-of-type {\n",
              "        vertical-align: middle;\n",
              "    }\n",
              "\n",
              "    .dataframe tbody tr th {\n",
              "        vertical-align: top;\n",
              "    }\n",
              "\n",
              "    .dataframe thead th {\n",
              "        text-align: right;\n",
              "    }\n",
              "</style>\n",
              "<table border=\"1\" class=\"dataframe\">\n",
              "  <thead>\n",
              "    <tr style=\"text-align: right;\">\n",
              "      <th></th>\n",
              "      <th>Year</th>\n",
              "      <th>Month</th>\n",
              "      <th>Day</th>\n",
              "      <th>Highest Temperature</th>\n",
              "    </tr>\n",
              "  </thead>\n",
              "  <tbody>\n",
              "    <tr>\n",
              "      <th>2029</th>\n",
              "      <td>1990</td>\n",
              "      <td>4</td>\n",
              "      <td>22</td>\n",
              "      <td>30.5</td>\n",
              "    </tr>\n",
              "    <tr>\n",
              "      <th>2036</th>\n",
              "      <td>1990</td>\n",
              "      <td>4</td>\n",
              "      <td>29</td>\n",
              "      <td>30.2</td>\n",
              "    </tr>\n",
              "    <tr>\n",
              "      <th>2038</th>\n",
              "      <td>1990</td>\n",
              "      <td>5</td>\n",
              "      <td>1</td>\n",
              "      <td>30.4</td>\n",
              "    </tr>\n",
              "    <tr>\n",
              "      <th>2039</th>\n",
              "      <td>1990</td>\n",
              "      <td>5</td>\n",
              "      <td>2</td>\n",
              "      <td>30.3</td>\n",
              "    </tr>\n",
              "    <tr>\n",
              "      <th>2040</th>\n",
              "      <td>1990</td>\n",
              "      <td>5</td>\n",
              "      <td>3</td>\n",
              "      <td>30.2</td>\n",
              "    </tr>\n",
              "    <tr>\n",
              "      <th>...</th>\n",
              "      <td>...</td>\n",
              "      <td>...</td>\n",
              "      <td>...</td>\n",
              "      <td>...</td>\n",
              "    </tr>\n",
              "    <tr>\n",
              "      <th>2189</th>\n",
              "      <td>1990</td>\n",
              "      <td>9</td>\n",
              "      <td>29</td>\n",
              "      <td>30.5</td>\n",
              "    </tr>\n",
              "    <tr>\n",
              "      <th>2190</th>\n",
              "      <td>1990</td>\n",
              "      <td>9</td>\n",
              "      <td>30</td>\n",
              "      <td>30.7</td>\n",
              "    </tr>\n",
              "    <tr>\n",
              "      <th>2191</th>\n",
              "      <td>1990</td>\n",
              "      <td>10</td>\n",
              "      <td>1</td>\n",
              "      <td>31.3</td>\n",
              "    </tr>\n",
              "    <tr>\n",
              "      <th>2195</th>\n",
              "      <td>1990</td>\n",
              "      <td>10</td>\n",
              "      <td>5</td>\n",
              "      <td>30.9</td>\n",
              "    </tr>\n",
              "    <tr>\n",
              "      <th>2196</th>\n",
              "      <td>1990</td>\n",
              "      <td>10</td>\n",
              "      <td>6</td>\n",
              "      <td>30.8</td>\n",
              "    </tr>\n",
              "  </tbody>\n",
              "</table>\n",
              "<p>106 rows × 4 columns</p>\n",
              "</div>"
            ],
            "text/plain": [
              "      Year  Month  Day Highest Temperature\n",
              "2029  1990      4   22                30.5\n",
              "2036  1990      4   29                30.2\n",
              "2038  1990      5    1                30.4\n",
              "2039  1990      5    2                30.3\n",
              "2040  1990      5    3                30.2\n",
              "...    ...    ...  ...                 ...\n",
              "2189  1990      9   29                30.5\n",
              "2190  1990      9   30                30.7\n",
              "2191  1990     10    1                31.3\n",
              "2195  1990     10    5                30.9\n",
              "2196  1990     10    6                30.8\n",
              "\n",
              "[106 rows x 4 columns]"
            ]
          },
          "execution_count": 33,
          "metadata": {},
          "output_type": "execute_result"
        }
      ],
      "source": [
        "c1 = st_ht['Year'] == 1990\n",
        "c2 = st_ht['Highest Temperature'].astype(str) > str(30)\n",
        "st_ht[c1 & c2]"
      ]
    },
    {
      "cell_type": "markdown",
      "id": "e126f892",
      "metadata": {
        "id": "e126f892"
      },
      "source": [
        "### 3. Analysis"
      ]
    },
    {
      "cell_type": "markdown",
      "id": "0d2cb7b4",
      "metadata": {
        "id": "0d2cb7b4"
      },
      "source": [
        "Any techniques about modelling can be applied to the data set. In the following exercise, regression will be carried out to the above data set."
      ]
    },
    {
      "cell_type": "markdown",
      "id": "0dc69fb5",
      "metadata": {
        "id": "0dc69fb5"
      },
      "source": [
        "# Exercise"
      ]
    },
    {
      "cell_type": "markdown",
      "id": "a064dccd",
      "metadata": {
        "id": "a064dccd"
      },
      "source": [
        "1. Using the highest temperature in Shatin from 1-10-1984 to 31-5-2025, \"CLMMAXT_SHA_.csv\", carry out regression to the data."
      ]
    },
    {
      "cell_type": "markdown",
      "id": "b4e0876c",
      "metadata": {
        "id": "b4e0876c"
      },
      "source": [
        "(a). Continue using the variable \"st_ht\" which stores the data set. Extract the rows of 1 Januray in all years."
      ]
    },
    {
      "cell_type": "code",
      "execution_count": null,
      "id": "97ff7f52",
      "metadata": {
        "id": "97ff7f52"
      },
      "outputs": [],
      "source": [
        "con1 = st_ht['Month'] < 2\n",
        "con2 = st_ht['Day'] < 2"
      ]
    },
    {
      "cell_type": "code",
      "execution_count": null,
      "id": "5af57481",
      "metadata": {
        "scrolled": true,
        "id": "5af57481",
        "outputId": "ab9f0c37-34a3-441f-a903-bd3d502cb976"
      },
      "outputs": [
        {
          "data": {
            "text/html": [
              "<div>\n",
              "<style scoped>\n",
              "    .dataframe tbody tr th:only-of-type {\n",
              "        vertical-align: middle;\n",
              "    }\n",
              "\n",
              "    .dataframe tbody tr th {\n",
              "        vertical-align: top;\n",
              "    }\n",
              "\n",
              "    .dataframe thead th {\n",
              "        text-align: right;\n",
              "    }\n",
              "</style>\n",
              "<table border=\"1\" class=\"dataframe\">\n",
              "  <thead>\n",
              "    <tr style=\"text-align: right;\">\n",
              "      <th></th>\n",
              "      <th>Year</th>\n",
              "      <th>Month</th>\n",
              "      <th>Day</th>\n",
              "      <th>Highest Temperature</th>\n",
              "    </tr>\n",
              "  </thead>\n",
              "  <tbody>\n",
              "    <tr>\n",
              "      <th>92</th>\n",
              "      <td>1985</td>\n",
              "      <td>1</td>\n",
              "      <td>1</td>\n",
              "      <td>20.2</td>\n",
              "    </tr>\n",
              "    <tr>\n",
              "      <th>457</th>\n",
              "      <td>1986</td>\n",
              "      <td>1</td>\n",
              "      <td>1</td>\n",
              "      <td>0</td>\n",
              "    </tr>\n",
              "    <tr>\n",
              "      <th>822</th>\n",
              "      <td>1987</td>\n",
              "      <td>1</td>\n",
              "      <td>1</td>\n",
              "      <td>20.1</td>\n",
              "    </tr>\n",
              "    <tr>\n",
              "      <th>1187</th>\n",
              "      <td>1988</td>\n",
              "      <td>1</td>\n",
              "      <td>1</td>\n",
              "      <td>24.7</td>\n",
              "    </tr>\n",
              "    <tr>\n",
              "      <th>1553</th>\n",
              "      <td>1989</td>\n",
              "      <td>1</td>\n",
              "      <td>1</td>\n",
              "      <td>17.3</td>\n",
              "    </tr>\n",
              "    <tr>\n",
              "      <th>1918</th>\n",
              "      <td>1990</td>\n",
              "      <td>1</td>\n",
              "      <td>1</td>\n",
              "      <td>17.3</td>\n",
              "    </tr>\n",
              "    <tr>\n",
              "      <th>2283</th>\n",
              "      <td>1991</td>\n",
              "      <td>1</td>\n",
              "      <td>1</td>\n",
              "      <td>26.1</td>\n",
              "    </tr>\n",
              "    <tr>\n",
              "      <th>2648</th>\n",
              "      <td>1992</td>\n",
              "      <td>1</td>\n",
              "      <td>1</td>\n",
              "      <td>15.7</td>\n",
              "    </tr>\n",
              "    <tr>\n",
              "      <th>3014</th>\n",
              "      <td>1993</td>\n",
              "      <td>1</td>\n",
              "      <td>1</td>\n",
              "      <td>19.5</td>\n",
              "    </tr>\n",
              "    <tr>\n",
              "      <th>3379</th>\n",
              "      <td>1994</td>\n",
              "      <td>1</td>\n",
              "      <td>1</td>\n",
              "      <td>18.9</td>\n",
              "    </tr>\n",
              "    <tr>\n",
              "      <th>3744</th>\n",
              "      <td>1995</td>\n",
              "      <td>1</td>\n",
              "      <td>1</td>\n",
              "      <td>18.8</td>\n",
              "    </tr>\n",
              "    <tr>\n",
              "      <th>4109</th>\n",
              "      <td>1996</td>\n",
              "      <td>1</td>\n",
              "      <td>1</td>\n",
              "      <td>21.4</td>\n",
              "    </tr>\n",
              "    <tr>\n",
              "      <th>4475</th>\n",
              "      <td>1997</td>\n",
              "      <td>1</td>\n",
              "      <td>1</td>\n",
              "      <td>25.9</td>\n",
              "    </tr>\n",
              "    <tr>\n",
              "      <th>4840</th>\n",
              "      <td>1998</td>\n",
              "      <td>1</td>\n",
              "      <td>1</td>\n",
              "      <td>25.8</td>\n",
              "    </tr>\n",
              "    <tr>\n",
              "      <th>5205</th>\n",
              "      <td>1999</td>\n",
              "      <td>1</td>\n",
              "      <td>1</td>\n",
              "      <td>21.3</td>\n",
              "    </tr>\n",
              "    <tr>\n",
              "      <th>5570</th>\n",
              "      <td>2000</td>\n",
              "      <td>1</td>\n",
              "      <td>1</td>\n",
              "      <td>25.1</td>\n",
              "    </tr>\n",
              "    <tr>\n",
              "      <th>5936</th>\n",
              "      <td>2001</td>\n",
              "      <td>1</td>\n",
              "      <td>1</td>\n",
              "      <td>18.2</td>\n",
              "    </tr>\n",
              "    <tr>\n",
              "      <th>6301</th>\n",
              "      <td>2002</td>\n",
              "      <td>1</td>\n",
              "      <td>1</td>\n",
              "      <td>23.6</td>\n",
              "    </tr>\n",
              "    <tr>\n",
              "      <th>6666</th>\n",
              "      <td>2003</td>\n",
              "      <td>1</td>\n",
              "      <td>1</td>\n",
              "      <td>16.2</td>\n",
              "    </tr>\n",
              "    <tr>\n",
              "      <th>7031</th>\n",
              "      <td>2004</td>\n",
              "      <td>1</td>\n",
              "      <td>1</td>\n",
              "      <td>22</td>\n",
              "    </tr>\n",
              "    <tr>\n",
              "      <th>7397</th>\n",
              "      <td>2005</td>\n",
              "      <td>1</td>\n",
              "      <td>1</td>\n",
              "      <td>11.9</td>\n",
              "    </tr>\n",
              "    <tr>\n",
              "      <th>7762</th>\n",
              "      <td>2006</td>\n",
              "      <td>1</td>\n",
              "      <td>1</td>\n",
              "      <td>23.8</td>\n",
              "    </tr>\n",
              "    <tr>\n",
              "      <th>8127</th>\n",
              "      <td>2007</td>\n",
              "      <td>1</td>\n",
              "      <td>1</td>\n",
              "      <td>23.1</td>\n",
              "    </tr>\n",
              "    <tr>\n",
              "      <th>8492</th>\n",
              "      <td>2008</td>\n",
              "      <td>1</td>\n",
              "      <td>1</td>\n",
              "      <td>16.4</td>\n",
              "    </tr>\n",
              "    <tr>\n",
              "      <th>8858</th>\n",
              "      <td>2009</td>\n",
              "      <td>1</td>\n",
              "      <td>1</td>\n",
              "      <td>19</td>\n",
              "    </tr>\n",
              "    <tr>\n",
              "      <th>9223</th>\n",
              "      <td>2010</td>\n",
              "      <td>1</td>\n",
              "      <td>1</td>\n",
              "      <td>19.4</td>\n",
              "    </tr>\n",
              "    <tr>\n",
              "      <th>9588</th>\n",
              "      <td>2011</td>\n",
              "      <td>1</td>\n",
              "      <td>1</td>\n",
              "      <td>18.3</td>\n",
              "    </tr>\n",
              "    <tr>\n",
              "      <th>9953</th>\n",
              "      <td>2012</td>\n",
              "      <td>1</td>\n",
              "      <td>1</td>\n",
              "      <td>20.7</td>\n",
              "    </tr>\n",
              "    <tr>\n",
              "      <th>10319</th>\n",
              "      <td>2013</td>\n",
              "      <td>1</td>\n",
              "      <td>1</td>\n",
              "      <td>17.1</td>\n",
              "    </tr>\n",
              "    <tr>\n",
              "      <th>10684</th>\n",
              "      <td>2014</td>\n",
              "      <td>1</td>\n",
              "      <td>1</td>\n",
              "      <td>20.1</td>\n",
              "    </tr>\n",
              "    <tr>\n",
              "      <th>11049</th>\n",
              "      <td>2015</td>\n",
              "      <td>1</td>\n",
              "      <td>1</td>\n",
              "      <td>20.1</td>\n",
              "    </tr>\n",
              "    <tr>\n",
              "      <th>11414</th>\n",
              "      <td>2016</td>\n",
              "      <td>1</td>\n",
              "      <td>1</td>\n",
              "      <td>21.8</td>\n",
              "    </tr>\n",
              "    <tr>\n",
              "      <th>11780</th>\n",
              "      <td>2017</td>\n",
              "      <td>1</td>\n",
              "      <td>1</td>\n",
              "      <td>22.7</td>\n",
              "    </tr>\n",
              "    <tr>\n",
              "      <th>12145</th>\n",
              "      <td>2018</td>\n",
              "      <td>1</td>\n",
              "      <td>1</td>\n",
              "      <td>19.1</td>\n",
              "    </tr>\n",
              "    <tr>\n",
              "      <th>12510</th>\n",
              "      <td>2019</td>\n",
              "      <td>1</td>\n",
              "      <td>1</td>\n",
              "      <td>16.8</td>\n",
              "    </tr>\n",
              "    <tr>\n",
              "      <th>12875</th>\n",
              "      <td>2020</td>\n",
              "      <td>1</td>\n",
              "      <td>1</td>\n",
              "      <td>18.6</td>\n",
              "    </tr>\n",
              "    <tr>\n",
              "      <th>13241</th>\n",
              "      <td>2021</td>\n",
              "      <td>1</td>\n",
              "      <td>1</td>\n",
              "      <td>15.4</td>\n",
              "    </tr>\n",
              "    <tr>\n",
              "      <th>13606</th>\n",
              "      <td>2022</td>\n",
              "      <td>1</td>\n",
              "      <td>1</td>\n",
              "      <td>19.6</td>\n",
              "    </tr>\n",
              "    <tr>\n",
              "      <th>13971</th>\n",
              "      <td>2023</td>\n",
              "      <td>1</td>\n",
              "      <td>1</td>\n",
              "      <td>19</td>\n",
              "    </tr>\n",
              "    <tr>\n",
              "      <th>14336</th>\n",
              "      <td>2024</td>\n",
              "      <td>1</td>\n",
              "      <td>1</td>\n",
              "      <td>23.2</td>\n",
              "    </tr>\n",
              "    <tr>\n",
              "      <th>14702</th>\n",
              "      <td>2025</td>\n",
              "      <td>1</td>\n",
              "      <td>1</td>\n",
              "      <td>18.5</td>\n",
              "    </tr>\n",
              "  </tbody>\n",
              "</table>\n",
              "</div>"
            ],
            "text/plain": [
              "       Year  Month  Day Highest Temperature\n",
              "92     1985      1    1                20.2\n",
              "457    1986      1    1                   0\n",
              "822    1987      1    1                20.1\n",
              "1187   1988      1    1                24.7\n",
              "1553   1989      1    1                17.3\n",
              "1918   1990      1    1                17.3\n",
              "2283   1991      1    1                26.1\n",
              "2648   1992      1    1                15.7\n",
              "3014   1993      1    1                19.5\n",
              "3379   1994      1    1                18.9\n",
              "3744   1995      1    1                18.8\n",
              "4109   1996      1    1                21.4\n",
              "4475   1997      1    1                25.9\n",
              "4840   1998      1    1                25.8\n",
              "5205   1999      1    1                21.3\n",
              "5570   2000      1    1                25.1\n",
              "5936   2001      1    1                18.2\n",
              "6301   2002      1    1                23.6\n",
              "6666   2003      1    1                16.2\n",
              "7031   2004      1    1                  22\n",
              "7397   2005      1    1                11.9\n",
              "7762   2006      1    1                23.8\n",
              "8127   2007      1    1                23.1\n",
              "8492   2008      1    1                16.4\n",
              "8858   2009      1    1                  19\n",
              "9223   2010      1    1                19.4\n",
              "9588   2011      1    1                18.3\n",
              "9953   2012      1    1                20.7\n",
              "10319  2013      1    1                17.1\n",
              "10684  2014      1    1                20.1\n",
              "11049  2015      1    1                20.1\n",
              "11414  2016      1    1                21.8\n",
              "11780  2017      1    1                22.7\n",
              "12145  2018      1    1                19.1\n",
              "12510  2019      1    1                16.8\n",
              "12875  2020      1    1                18.6\n",
              "13241  2021      1    1                15.4\n",
              "13606  2022      1    1                19.6\n",
              "13971  2023      1    1                  19\n",
              "14336  2024      1    1                23.2\n",
              "14702  2025      1    1                18.5"
            ]
          },
          "execution_count": 20,
          "metadata": {},
          "output_type": "execute_result"
        }
      ],
      "source": [
        "X = st_ht[con1 & con2]\n",
        "X"
      ]
    },
    {
      "cell_type": "markdown",
      "id": "327ea4c2",
      "metadata": {
        "id": "327ea4c2"
      },
      "source": [
        "(b). Store the column \"Year\" of the extracted data set to $x$ and the column \"Highest Temperature\" to $y$."
      ]
    },
    {
      "cell_type": "code",
      "execution_count": null,
      "id": "72be4502",
      "metadata": {
        "id": "72be4502"
      },
      "outputs": [],
      "source": [
        "x = X['Year'].to_numpy().reshape(-1, 1)"
      ]
    },
    {
      "cell_type": "code",
      "execution_count": null,
      "id": "cdef15c7",
      "metadata": {
        "id": "cdef15c7"
      },
      "outputs": [],
      "source": [
        "y = pd.to_numeric(X['Highest Temperature'].to_numpy())"
      ]
    },
    {
      "cell_type": "markdown",
      "id": "cd508ca5",
      "metadata": {
        "id": "cd508ca5"
      },
      "source": [
        "(c). Split $x$ and $y$ into training set and testing set."
      ]
    },
    {
      "cell_type": "code",
      "execution_count": null,
      "id": "92be2e8b",
      "metadata": {
        "id": "92be2e8b"
      },
      "outputs": [],
      "source": [
        "import numpy as np\n",
        "import pandas as pd\n",
        "from sklearn.model_selection import train_test_split\n",
        "from sklearn.preprocessing import PolynomialFeatures\n",
        "from sklearn.linear_model import LinearRegression\n",
        "from sklearn.preprocessing import StandardScaler"
      ]
    },
    {
      "cell_type": "code",
      "execution_count": null,
      "id": "4fe626b1",
      "metadata": {
        "scrolled": true,
        "id": "4fe626b1"
      },
      "outputs": [],
      "source": [
        "x_train, x_test, y_train, y_test = train_test_split(x, y, random_state=1)"
      ]
    },
    {
      "cell_type": "markdown",
      "id": "6b5dfbbb",
      "metadata": {
        "id": "6b5dfbbb"
      },
      "source": [
        "(d). Fit a polynomial regression model from degree 1 to 10. Determine which degree should be selected for the final model."
      ]
    },
    {
      "cell_type": "code",
      "execution_count": null,
      "id": "6d3d959b",
      "metadata": {
        "id": "6d3d959b",
        "outputId": "9b634aca-c414-4049-9fdb-fe7fe8e6194e"
      },
      "outputs": [
        {
          "name": "stdout",
          "output_type": "stream",
          "text": [
            "RSS of degree 1 polynomial is 139.66236689637887\n",
            "RSS of degree 2 polynomial is 150.3879570324221\n",
            "RSS of degree 3 polynomial is 164.16101516353487\n",
            "RSS of degree 4 polynomial is 164.0287002716139\n",
            "RSS of degree 5 polynomial is 163.89058355309695\n",
            "RSS of degree 6 polynomial is 163.7513187194397\n",
            "RSS of degree 7 polynomial is 163.61091604815323\n",
            "RSS of degree 8 polynomial is 163.4693865271353\n",
            "RSS of degree 9 polynomial is 163.32674096295307\n",
            "RSS of degree 10 polynomial is 163.18298954322975\n"
          ]
        }
      ],
      "source": [
        "for i in range(1, 11):\n",
        "    poly = PolynomialFeatures(degree = i)\n",
        "    x_poly = poly.fit_transform(x_train)\n",
        "    model = LinearRegression()\n",
        "    model.fit(x_poly, y_train)\n",
        "    x_test_poly = poly.transform(x_test)\n",
        "    y_pred = model.predict(x_test_poly)\n",
        "    rss = ((y_test-y_pred)**2).sum()\n",
        "    print('RSS of degree', i, 'polynomial is', rss)"
      ]
    },
    {
      "cell_type": "code",
      "execution_count": null,
      "id": "32c9b940",
      "metadata": {
        "id": "32c9b940",
        "outputId": "79a43910-cbb7-4b89-db98-2fb743709b88"
      },
      "outputs": [
        {
          "data": {
            "text/plain": [
              "LinearRegression()"
            ]
          },
          "execution_count": 81,
          "metadata": {},
          "output_type": "execute_result"
        }
      ],
      "source": [
        "poly = PolynomialFeatures(degree = 1)    # degree 1 should be selected\n",
        "x_poly = poly.fit_transform(x_train)\n",
        "model = LinearRegression()\n",
        "model.fit(x_poly, y_train)"
      ]
    },
    {
      "cell_type": "markdown",
      "id": "4cc81ab9",
      "metadata": {
        "id": "4cc81ab9"
      },
      "source": [
        "(e). Use the selected model to predict the highest temperature of 1 January from 2026 to 2030. Plot a graph showing the original data points and the polynomial model. Save the plot with .png format."
      ]
    },
    {
      "cell_type": "code",
      "execution_count": null,
      "id": "c42354d3",
      "metadata": {
        "id": "c42354d3"
      },
      "outputs": [],
      "source": [
        "# You may use the following command.\n",
        "# plt.savefig('name_of_the_plot.png', format='png', dpi=300)"
      ]
    },
    {
      "cell_type": "code",
      "execution_count": null,
      "id": "71ac6cf2",
      "metadata": {
        "id": "71ac6cf2",
        "outputId": "6fde8bfc-a323-49b7-9688-87c2a91487c4"
      },
      "outputs": [
        {
          "data": {
            "image/png": "[encoded data removed]",
            "text/plain": [
              "<Figure size 640x480 with 1 Axes>"
            ]
          },
          "metadata": {},
          "output_type": "display_data"
        }
      ],
      "source": [
        "import matplotlib.pyplot as plt\n",
        "x_range = np.linspace(x.min(), x.max()+5, 1000).reshape(-1, 1)\n",
        "x_range_poly = poly.transform(x_range)\n",
        "y_pred = model.predict(x_range_poly)\n",
        "plt.scatter(x, y, color='blue', label='Data Points')\n",
        "plt.plot(x_range, y_pred, color='red', label='Degree 1 Model (Linear Regression)')\n",
        "plt.xlabel('Year')\n",
        "plt.ylabel('Highest Temperature')\n",
        "plt.title('Linear Regression Model')\n",
        "plt.legend()\n",
        "plt.grid()\n",
        "plt.savefig('2030_Shatin_Highest_Temperature_Prediction.png', format='png', dpi=300)\n",
        "plt.show()"
      ]
    }
  ],
  "metadata": {
    "kernelspec": {
      "display_name": "Python 3 (ipykernel)",
      "language": "python",
      "name": "python3"
    },
    "language_info": {
      "codemirror_mode": {
        "name": "ipython",
        "version": 3
      },
      "file_extension": ".py",
      "mimetype": "text/x-python",
      "name": "python",
      "nbconvert_exporter": "python",
      "pygments_lexer": "ipython3",
      "version": "3.9.13"
    },
    "colab": {
      "provenance": []
    }
  },
  "nbformat": 4,
  "nbformat_minor": 5
}