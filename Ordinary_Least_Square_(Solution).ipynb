{
  "cells": [
    {
      "cell_type": "markdown",
      "id": "5f269562",
      "metadata": {
        "id": "5f269562"
      },
      "source": [
        "# Notes"
      ]
    },
    {
      "cell_type": "markdown",
      "id": "144b033a",
      "metadata": {
        "id": "144b033a"
      },
      "source": [
        "The mathematical principle of regression is called $\\textbf{ordinary least squares}$. Suppose we have to solve the model\n",
        "$$X\\theta = y,$$\n",
        "where $X$ is the data matrix and $y$ is the target value of our prediction. We find the parameters $\\theta$ in the regression model by minimizing the error function\n",
        "$$E(\\theta) = ||X\\theta-y||,$$\n",
        "which is a vector norm."
      ]
    },
    {
      "cell_type": "markdown",
      "id": "b0ffa498",
      "metadata": {
        "id": "b0ffa498"
      },
      "source": [
        "In general, any types of regression model are based on the concept of ordinary least squares. For example,"
      ]
    },
    {
      "cell_type": "markdown",
      "source": [
        "(i) $y = ax + b$ (linear model)"
      ],
      "metadata": {
        "id": "SFpaXPACERXH"
      },
      "id": "SFpaXPACERXH"
    },
    {
      "cell_type": "markdown",
      "source": [
        "(ii) $y = a_0 + a_1 x + \\dots + a_n x^n$ (polynomial model)"
      ],
      "metadata": {
        "id": "e3ZnjWz1D_b3"
      },
      "id": "e3ZnjWz1D_b3"
    },
    {
      "cell_type": "markdown",
      "metadata": {
        "id": "fc7577dc"
      },
      "source": [
        "(iii) $y = \\theta_0 + \\theta_1x_1 +...+\\theta_nx_n$ (multiple linear regression)"
      ],
      "id": "fc7577dc"
    },
    {
      "cell_type": "markdown",
      "metadata": {
        "id": "cd61a097"
      },
      "source": [
        "(iv) $y = k x^m$ (power model)"
      ],
      "id": "cd61a097"
    },
    {
      "cell_type": "markdown",
      "metadata": {
        "id": "47fb1fb7"
      },
      "source": [
        "(v) $y = a + k(b^x)$ (exponential model)"
      ],
      "id": "47fb1fb7"
    },
    {
      "cell_type": "markdown",
      "metadata": {
        "id": "bd5e46e8"
      },
      "source": [
        "(vi) $y = m\\log x + c$ (logarithmic model)"
      ],
      "id": "bd5e46e8"
    },
    {
      "cell_type": "markdown",
      "id": "9b25cdb3",
      "metadata": {
        "id": "9b25cdb3"
      },
      "source": [
        "## ```Example (Implementation by Hand)```"
      ]
    },
    {
      "cell_type": "markdown",
      "id": "54ebd966",
      "metadata": {
        "id": "54ebd966"
      },
      "source": [
        "Suppose we are going to model the estimated profit $y$ (in US dollars) for a concert when the charge is $x$ dollars per ticket.  The data points are as follows.\n",
        "$$(2, 2600), (5, 6500), (8, 8600), (11, 8900), (14, 7400), (17, 4100)$$"
      ]
    },
    {
      "cell_type": "markdown",
      "id": "5ee77a12",
      "metadata": {
        "id": "5ee77a12"
      },
      "source": [
        "We want to fit the model $y = \\theta_0 + \\theta_1x + \\theta_2x^2$."
      ]
    },
    {
      "cell_type": "markdown",
      "id": "cd2682a3",
      "metadata": {
        "id": "cd2682a3"
      },
      "source": [
        "### _Step 1: Define the data matrix $X$ and target vector $y$._"
      ]
    },
    {
      "cell_type": "code",
      "execution_count": null,
      "id": "3070c092",
      "metadata": {
        "id": "3070c092"
      },
      "outputs": [],
      "source": [
        "import numpy as np"
      ]
    },
    {
      "cell_type": "code",
      "execution_count": null,
      "id": "8b5dcdf6",
      "metadata": {
        "id": "8b5dcdf6",
        "outputId": "83492b1a-aed0-4c06-e2f5-bd20fa2e6533"
      },
      "outputs": [
        {
          "data": {
            "text/plain": [
              "array([[  1.,   2.,   4.],\n",
              "       [  1.,   5.,  25.],\n",
              "       [  1.,   8.,  64.],\n",
              "       [  1.,  11., 121.],\n",
              "       [  1.,  14., 196.],\n",
              "       [  1.,  17., 289.]])"
            ]
          },
          "execution_count": 2,
          "metadata": {},
          "output_type": "execute_result"
        }
      ],
      "source": [
        "data = np.array([[2],[5],[8],[11],[14],[17]])\n",
        "X = np.hstack((np.ones(data.shape),data,data**2))      # np.hstack() combine the three columns horizontally into X\n",
        "X"
      ]
    },
    {
      "cell_type": "code",
      "execution_count": null,
      "id": "338e5b7a",
      "metadata": {
        "id": "338e5b7a",
        "outputId": "f7a80e16-054f-412d-e71a-53c6a0592632"
      },
      "outputs": [
        {
          "data": {
            "text/plain": [
              "array([[2600],\n",
              "       [6500],\n",
              "       [8600],\n",
              "       [8900],\n",
              "       [7400],\n",
              "       [4100]])"
            ]
          },
          "execution_count": 3,
          "metadata": {},
          "output_type": "execute_result"
        }
      ],
      "source": [
        "y = np.array([[2600], [6500], [8600], [8900], [7400], [4100]])\n",
        "y"
      ]
    },
    {
      "cell_type": "markdown",
      "id": "b95a7d62",
      "metadata": {
        "id": "b95a7d62"
      },
      "source": [
        "### _Step 2: The optimal solution to minimize the error function $E(\\theta)$ is_\n",
        "$$\\theta^* = (X^TX)^{-1}X^Ty.$$"
      ]
    },
    {
      "cell_type": "code",
      "execution_count": null,
      "id": "3efb6152",
      "metadata": {
        "id": "3efb6152"
      },
      "outputs": [],
      "source": [
        "from numpy.linalg import inv"
      ]
    },
    {
      "cell_type": "code",
      "execution_count": null,
      "id": "cf2f6b87",
      "metadata": {
        "id": "cf2f6b87",
        "outputId": "8d66d14e-d7ce-4516-9217-c60c49d9e0a4"
      },
      "outputs": [
        {
          "data": {
            "text/plain": [
              "array([[-1000.],\n",
              "       [ 2000.],\n",
              "       [ -100.]])"
            ]
          },
          "execution_count": 5,
          "metadata": {},
          "output_type": "execute_result"
        }
      ],
      "source": [
        "theta = inv(X.T@X)@X.T@y\n",
        "theta"
      ]
    },
    {
      "cell_type": "markdown",
      "id": "c1517a9f",
      "metadata": {
        "id": "c1517a9f"
      },
      "source": [
        "Hence, the model is $y = -1000+2000x-100x^2$."
      ]
    },
    {
      "cell_type": "markdown",
      "id": "ba8077f0",
      "metadata": {
        "id": "ba8077f0"
      },
      "source": [
        "## ```Example (Implementation by Sklearn Package)```"
      ]
    },
    {
      "cell_type": "markdown",
      "id": "ae44d90e",
      "metadata": {
        "id": "ae44d90e"
      },
      "source": [
        "We fit the same model above using the scikit-learn packages again."
      ]
    },
    {
      "cell_type": "markdown",
      "id": "aa8a8987",
      "metadata": {
        "id": "aa8a8987"
      },
      "source": [
        "### _Step 1: Define the data matrix $X$ and target vector $y$._"
      ]
    },
    {
      "cell_type": "code",
      "execution_count": null,
      "id": "6e48bc42",
      "metadata": {
        "id": "6e48bc42",
        "outputId": "3f118770-4aa3-4533-a8f1-b4f310e995a5"
      },
      "outputs": [
        {
          "data": {
            "text/plain": [
              "array([[ 1.,  2.],\n",
              "       [ 1.,  5.],\n",
              "       [ 1.,  8.],\n",
              "       [ 1., 11.],\n",
              "       [ 1., 14.],\n",
              "       [ 1., 17.]])"
            ]
          },
          "execution_count": 6,
          "metadata": {},
          "output_type": "execute_result"
        }
      ],
      "source": [
        "data = np.array([[2],[5],[8],[11],[14],[17]])\n",
        "X = np.hstack((np.ones(data.shape),data))\n",
        "X"
      ]
    },
    {
      "cell_type": "markdown",
      "id": "05940cfd",
      "metadata": {
        "id": "05940cfd"
      },
      "source": [
        "### _Step 2: Separate $X$ and $y$ into training set and testing set._"
      ]
    },
    {
      "cell_type": "markdown",
      "id": "aef1a3b2",
      "metadata": {
        "id": "aef1a3b2"
      },
      "source": [
        "In practice, it is suggested to separate the data set and target into training set and testing set in order to test the accuracy of the model. The code below will set 75% of the data to training set and 25% to testing set by default."
      ]
    },
    {
      "cell_type": "code",
      "execution_count": null,
      "id": "6d44a9df",
      "metadata": {
        "id": "6d44a9df"
      },
      "outputs": [],
      "source": [
        "from sklearn.model_selection import train_test_split\n",
        "X_train, X_test, y_train, y_test = train_test_split(X, y)"
      ]
    },
    {
      "cell_type": "markdown",
      "id": "597fd9d6",
      "metadata": {
        "id": "597fd9d6"
      },
      "source": [
        "### _Step 3: Standardize features by removing the mean and scaling to unit variance._"
      ]
    },
    {
      "cell_type": "markdown",
      "id": "f00ae353",
      "metadata": {
        "id": "f00ae353"
      },
      "source": [
        "In practice, it is suggested to subtract the mean and divide by the standard deviation on each feature in the data matrix $X$. This will $\\textbf{increase the speed}$ and $\\textbf{minize the error}$ in computing the model parameters."
      ]
    },
    {
      "cell_type": "code",
      "execution_count": null,
      "id": "b02bdf4c",
      "metadata": {
        "id": "b02bdf4c"
      },
      "outputs": [],
      "source": [
        "from sklearn.preprocessing import StandardScaler\n",
        "scaler = StandardScaler()\n",
        "X_train_scaled = scaler.fit_transform(X_train)    # Mean and s.d. of each feature are calculated.\n",
        "X_test_scaled = scaler.transform(X_test)          # Without the \"fit_\" in the code, mean and s.d. of X_train are still be\n",
        "                                                  # used, since we want the test data set is not correlated to the fitting\n",
        "                                                  # of the model."
      ]
    },
    {
      "cell_type": "markdown",
      "id": "b1f8af11",
      "metadata": {
        "id": "b1f8af11"
      },
      "source": [
        "### _Step 4: Model Fitting._"
      ]
    },
    {
      "cell_type": "code",
      "execution_count": null,
      "id": "db9446f2",
      "metadata": {
        "id": "db9446f2",
        "outputId": "6bce7eb6-83aa-4a30-bf0d-288c75be5f34"
      },
      "outputs": [
        {
          "data": {
            "text/plain": [
              "PolynomialFeatures()"
            ]
          },
          "execution_count": 9,
          "metadata": {},
          "output_type": "execute_result"
        }
      ],
      "source": [
        "from sklearn.preprocessing import PolynomialFeatures\n",
        "poly = PolynomialFeatures(degree = 2)\n",
        "X_train_poly = poly.fit_transform(X_train_scaled)\n",
        "X_test_poly = poly.transform(X_test_scaled)\n",
        "poly.fit(X_train_poly, y_train)"
      ]
    },
    {
      "cell_type": "code",
      "execution_count": null,
      "id": "76f6763c",
      "metadata": {
        "id": "76f6763c",
        "outputId": "e61b5144-810b-4b94-da1b-098406997127"
      },
      "outputs": [
        {
          "data": {
            "text/plain": [
              "LinearRegression()"
            ]
          },
          "execution_count": 10,
          "metadata": {},
          "output_type": "execute_result"
        }
      ],
      "source": [
        "from sklearn.linear_model import LinearRegression\n",
        "model = LinearRegression()\n",
        "model.fit(X_train_poly, y_train)       # This is the degree 2 polynomial model we want."
      ]
    },
    {
      "cell_type": "code",
      "execution_count": null,
      "id": "c9e7c39a",
      "metadata": {
        "id": "c9e7c39a",
        "outputId": "f50232f3-9ec1-4d22-93d9-df24df1645ac"
      },
      "outputs": [
        {
          "data": {
            "text/plain": [
              "array([[8600.],\n",
              "       [7400.]])"
            ]
          },
          "execution_count": 11,
          "metadata": {},
          "output_type": "execute_result"
        }
      ],
      "source": [
        "y_pred = model.predict(X_test_poly)\n",
        "y_pred                                 # The model predicts the test data accurately."
      ]
    },
    {
      "cell_type": "markdown",
      "id": "bb439aa0",
      "metadata": {
        "id": "bb439aa0"
      },
      "source": [
        "### _Step 5: Model Evaluation. (Check whether the model is good enough compared to other candidate model.)_"
      ]
    },
    {
      "cell_type": "code",
      "execution_count": null,
      "id": "835d7baa",
      "metadata": {
        "id": "835d7baa",
        "outputId": "0d9fba52-931a-4a57-ea2c-5b64a7e7888c"
      },
      "outputs": [
        {
          "data": {
            "text/plain": [
              "2.0679515313825692e-24"
            ]
          },
          "execution_count": 12,
          "metadata": {},
          "output_type": "execute_result"
        }
      ],
      "source": [
        "from sklearn.metrics import mean_squared_error\n",
        "mse = mean_squared_error(y_test, y_pred)         # Compute the mean squared error of the model on the test data set.\n",
        "mse"
      ]
    },
    {
      "cell_type": "code",
      "execution_count": null,
      "id": "824b2564",
      "metadata": {
        "id": "824b2564",
        "outputId": "f04aa793-3c17-465a-a229-c888ac2dbfe9"
      },
      "outputs": [
        {
          "data": {
            "text/plain": [
              "4.1359030627651384e-24"
            ]
          },
          "execution_count": 13,
          "metadata": {},
          "output_type": "execute_result"
        }
      ],
      "source": [
        "rss = ((y_test-y_pred)**2).sum()                 # Compute the residual sum of sq\n",
        "rss"
      ]
    },
    {
      "cell_type": "markdown",
      "id": "362db0b9",
      "metadata": {
        "id": "362db0b9"
      },
      "source": [
        "# Exercise"
      ]
    },
    {
      "cell_type": "markdown",
      "id": "566656b4",
      "metadata": {
        "id": "566656b4"
      },
      "source": [
        "1. Consider the following two data sets. Which one should be represented by a linear model? Which one should be represented by a quadratic model? Why?"
      ]
    },
    {
      "cell_type": "markdown",
      "id": "4f7251fd",
      "metadata": {
        "id": "4f7251fd"
      },
      "source": [
        "(i) $(0.8, -0,752), (1, -0,8), (1.1, -0.818), (1.3, -0.842), (1.6, -0.848), (1.8, -0.832), (2, -0.8), (2.1, -0.778), (2.5, -0.65), (2.9, -0.458)$"
      ]
    },
    {
      "cell_type": "markdown",
      "id": "faccf23f",
      "metadata": {
        "id": "faccf23f"
      },
      "source": [
        "(ii) $(0.8, 3.08), (1, 3), (1.1, 2.96), (1.3, 2.88), (1.6, 2.76), (1.8, 2.68), (2, 2.6), (2.1, 2.56), (2.5, 2.4), (2.9, 2.24)$"
      ]
    },
    {
      "cell_type": "code",
      "execution_count": null,
      "id": "8a24fdb5",
      "metadata": {
        "id": "8a24fdb5",
        "outputId": "c7024c46-b4a9-42e5-9416-541eba18f15c"
      },
      "outputs": [
        {
          "name": "stdout",
          "output_type": "stream",
          "text": [
            "RSS for linear model = 0.06475521995682415\n",
            "RSS for quadratic model = 8.363774488089337e-28\n",
            "\n",
            "Quadratic model should be selected as its RSS is smaller.\n"
          ]
        }
      ],
      "source": [
        "# (a)\n",
        "X1 = np.array([[0.8], [1], [1.1], [1.3], [1.6], [1.8], [2], [2.1], [2.5], [2.9]])\n",
        "X1 = np.hstack((np.ones(X1.shape), X1, X1**2))\n",
        "y1 = np.array([[-0.752], [-0.8], [-0.818], [-0.842], [-0.848], [-0.832], [-0.8], [-0.778], [-0.65], [-0.458]])\n",
        "th1_lin = inv(X1[:, :2].T@X1[:, :2])@X1[:, :2].T@y1\n",
        "th1_qua = inv(X1.T@X1)@X1.T@y1\n",
        "rss1_lin = ((y1 - X1[:, :2]@th1_lin)**2).sum()\n",
        "rss1_qua = ((y1 - X1@th1_qua)**2).sum()\n",
        "\n",
        "print('RSS for linear model =', rss1_lin)\n",
        "print('RSS for quadratic model =', rss1_qua)\n",
        "print('')\n",
        "print('Quadratic model should be selected as its RSS is smaller.')"
      ]
    },
    {
      "cell_type": "code",
      "execution_count": null,
      "id": "b1e9d193",
      "metadata": {
        "id": "b1e9d193",
        "outputId": "9c04f4c1-fc94-4b15-c53c-dfb7db4daf4e"
      },
      "outputs": [
        {
          "name": "stdout",
          "output_type": "stream",
          "text": [
            "RSS for linear model = 1.9721522630525295e-31\n",
            "RSS for quadratic model = 9.985006907834957e-27\n",
            "\n",
            "Linear model should be selected as its RSS is smaller.\n"
          ]
        }
      ],
      "source": [
        "# (b)\n",
        "y2 = np.array([[3.08], [3], [2.96], [2.88], [2.76], [2.68], [2.6], [2.56], [2.4], [2.24]])\n",
        "th2_lin = inv(X1[:, :2].T@X1[:, :2])@X1[:, :2].T@y2\n",
        "th2_qua = inv(X1.T@X1)@X1.T@y2\n",
        "rss2_lin = ((y2 - X1[:, :2]@th2_lin)**2).sum()\n",
        "rss2_qua = ((y2 - X1@th2_qua)**2).sum()\n",
        "\n",
        "print('RSS for linear model =', rss2_lin)\n",
        "print('RSS for quadratic model =', rss2_qua)\n",
        "print('')\n",
        "print('Linear model should be selected as its RSS is smaller.')"
      ]
    },
    {
      "cell_type": "markdown",
      "id": "957da294",
      "metadata": {
        "id": "957da294"
      },
      "source": [
        "2. Consider the following ten data points.$\\\\$\n",
        "$$(-3, 46), (-2, 13), (-1, 0), (0, 1), (6, -35), (7, -104), (10, -539), (11, -780)\\\\$$\n",
        "Build a model to fit these data points using a $\\textbf{polynomial}$."
      ]
    },
    {
      "cell_type": "code",
      "execution_count": null,
      "id": "9ae7e26c",
      "metadata": {
        "id": "9ae7e26c"
      },
      "outputs": [],
      "source": [
        "import numpy as np\n",
        "import matplotlib.pyplot as plt\n",
        "from sklearn.model_selection import train_test_split\n",
        "from sklearn.preprocessing import PolynomialFeatures\n",
        "from sklearn.linear_model import LinearRegression\n",
        "from sklearn.metrics import mean_squared_error"
      ]
    },
    {
      "cell_type": "code",
      "execution_count": null,
      "id": "714b73e5",
      "metadata": {
        "id": "714b73e5"
      },
      "outputs": [],
      "source": [
        "X = np.array([[-3], [-2], [-1], [0], [6], [7], [10], [11]])\n",
        "y = np.array([[46], [13], [0], [1], [-35], [-104], [-539], [-780]])"
      ]
    },
    {
      "cell_type": "code",
      "execution_count": null,
      "id": "140e2e5a",
      "metadata": {
        "id": "140e2e5a"
      },
      "outputs": [],
      "source": [
        "# training set and testing set\n",
        "X_train, X_test, y_train, y_test = train_test_split(X, y, random_state = 42)\n",
        "\n",
        "# \"random_state\" will fix the separation of training set and testing set.\n",
        "# That means even you execute this cell 10 times, the training set and testing set are still the same distribution."
      ]
    },
    {
      "cell_type": "code",
      "execution_count": null,
      "id": "7ddb706b",
      "metadata": {
        "id": "7ddb706b"
      },
      "outputs": [],
      "source": [
        "# standardizing\n",
        "from sklearn.preprocessing import StandardScaler\n",
        "scaler = StandardScaler()\n",
        "X_train_scaled = scaler.fit_transform(X_train)\n",
        "X_test_scaled = scaler.transform(X_test)"
      ]
    },
    {
      "cell_type": "code",
      "execution_count": null,
      "id": "1e60970a",
      "metadata": {
        "id": "1e60970a"
      },
      "outputs": [],
      "source": [
        "degrees = range(1, 10)\n",
        "mse_values = []"
      ]
    },
    {
      "cell_type": "code",
      "execution_count": null,
      "id": "aac13a63",
      "metadata": {
        "id": "aac13a63",
        "outputId": "d2c6bf7d-f8ed-4af7-ffe5-f70eedd215a8"
      },
      "outputs": [
        {
          "name": "stdout",
          "output_type": "stream",
          "text": [
            "Degree 1\n",
            "[[  0.         -52.04753029]] [-18.31780056]\n",
            "\n",
            "Degree 2\n",
            "[[ 0.         15.24637343 -8.04706995]] [81.81684811]\n",
            "\n",
            "Degree 3\n",
            "[[ 0.  6.  4. -1.]] [1.]\n",
            "\n",
            "Degree 4\n",
            "[[ 0.00000000e+00  6.00000000e+00  4.00000000e+00 -1.00000000e+00\n",
            "  -2.33866286e-15]] [1.]\n",
            "\n",
            "Degree 5\n",
            "[[ 0.00000000e+00  6.00000000e+00  4.00000000e+00 -1.00000000e+00\n",
            "   4.22685151e-13 -1.53165993e-14]] [1.]\n",
            "\n",
            "Degree 6\n",
            "[[-1.60054704e-11  9.13619481e-01 -9.63074325e-01 -4.78517553e-01\n",
            "   3.36523156e-01 -5.90842182e-02  2.56887905e-03]] [1.]\n",
            "\n",
            "Degree 7\n",
            "[[-1.61752938e-10  4.97141790e-01 -4.40296335e-01  4.70816107e-01\n",
            "   2.68815706e-01 -1.25396768e-01  1.35724854e-02 -4.69272349e-04]] [1.]\n",
            "\n",
            "Degree 8\n",
            "[[-1.25845043e-09  3.02189222e-01 -2.99359602e-01  2.70068134e-01\n",
            "  -2.82924279e-01 -9.38111980e-02  5.35011434e-02 -6.95421426e-03\n",
            "   2.74682077e-04]] [1.]\n",
            "\n",
            "Degree 9\n",
            "[[ 1.77217910e-08  2.23064513e-01 -2.21562041e-01  2.19602147e-01\n",
            "  -2.00303215e-01  2.07317966e-01  3.86698421e-02 -2.91870709e-02\n",
            "   3.84245511e-03 -1.50513086e-04]] [0.99999998]\n",
            "\n"
          ]
        }
      ],
      "source": [
        "# This for loop runs the sklearn packages to fit the polynomial model from degree 1 to 9.\n",
        "\n",
        "for degree in degrees:\n",
        "    poly = PolynomialFeatures(degree)\n",
        "    X_train_poly = poly.fit_transform(X_train)\n",
        "    X_test_poly = poly.transform(X_test)\n",
        "\n",
        "    model = LinearRegression()\n",
        "    model.fit(X_train_poly, y_train)\n",
        "    y_pred = model.predict(X_test_poly)\n",
        "    print('Degree', degree)\n",
        "    print(model.coef_, model.intercept_)\n",
        "    print('')\n",
        "\n",
        "    mse = mean_squared_error(y_test, y_pred)\n",
        "    mse_values.append(mse)"
      ]
    },
    {
      "cell_type": "code",
      "execution_count": null,
      "id": "94810e00",
      "metadata": {
        "id": "94810e00",
        "outputId": "855670ff-80cc-47c0-e319-84e6b1b400cb"
      },
      "outputs": [
        {
          "data": {
            "image/png": "[encoded data removed]",
            "text/plain": [
              "<Figure size 640x480 with 1 Axes>"
            ]
          },
          "metadata": {},
          "output_type": "display_data"
        }
      ],
      "source": [
        "# Plot the mse values of each degree polynomial model.\n",
        "# We would like to find the model with least value of mse.\n",
        "# In general, we would like a lower degree model for simplicity. (avoid overfitting)\n",
        "\n",
        "import matplotlib.pyplot as plt\n",
        "plt.plot(degrees, mse_values, marker='o')\n",
        "plt.xlabel('Polynomial Degree')\n",
        "plt.ylabel('Mean Squared Error')\n",
        "plt.title('MSE vs Polynomial Degree')\n",
        "plt.xticks(degrees)\n",
        "plt.grid()\n",
        "plt.show()\n",
        "\n",
        "\n",
        "# You may find that from the following graph, degree 3 polynomial model should be the best.\n",
        "# And from the previous cell, we obtain the model is -x^3 + 4x^2 + 6x + 1."
      ]
    },
    {
      "cell_type": "markdown",
      "id": "5e256570",
      "metadata": {
        "id": "5e256570"
      },
      "source": [
        "3. Consider the following eight data points.$\\\\$\n",
        "$$(-4, 385), (-2.5, 47.875), (-1.5, 4.375), (-1, 1), (1, 5), (2, 49), (5, 1501), (6, 3025)\\\\$$\n",
        "Build a model to fit these data points using a $\\textbf{polynomial}$."
      ]
    },
    {
      "cell_type": "code",
      "execution_count": null,
      "id": "337f0945",
      "metadata": {
        "id": "337f0945"
      },
      "outputs": [],
      "source": [
        "X = np.array([[-4], [-2.5], [-1.5], [-1], [1], [2], [5], [6]])\n",
        "y = np.array([[385], [47.875], [4.375], [1], [5], [49], [1501], [3025]])"
      ]
    },
    {
      "cell_type": "code",
      "execution_count": null,
      "id": "ca00cc89",
      "metadata": {
        "id": "ca00cc89"
      },
      "outputs": [],
      "source": [
        "X_train, X_test, y_train, y_test = train_test_split(X, y, random_state = 42)"
      ]
    },
    {
      "cell_type": "code",
      "execution_count": null,
      "id": "5c1c5f91",
      "metadata": {
        "id": "5c1c5f91"
      },
      "outputs": [],
      "source": [
        "scaler = StandardScaler()\n",
        "X_train_scaled = scaler.fit_transform(X_train)\n",
        "X_test_scaled = scaler.transform(X_test)"
      ]
    },
    {
      "cell_type": "code",
      "execution_count": null,
      "id": "43864451",
      "metadata": {
        "id": "43864451"
      },
      "outputs": [],
      "source": [
        "degrees = range(1, 10)\n",
        "mse_values = []"
      ]
    },
    {
      "cell_type": "code",
      "execution_count": null,
      "id": "b774932b",
      "metadata": {
        "id": "b774932b",
        "outputId": "319a72f1-adef-4949-f943-fcddd983ea8c"
      },
      "outputs": [
        {
          "name": "stdout",
          "output_type": "stream",
          "text": [
            "Degree 1\n",
            "[[  0.         257.20516676]] [584.45776381]\n",
            "\n",
            "Degree 2\n",
            "[[ 0.         96.09194129 61.65416662]] [-102.75528589]\n",
            "\n",
            "Degree 3\n",
            "[[   0.         -101.36014448   42.3671116     9.77035189]] [-106.14742646]\n",
            "\n",
            "Degree 4\n",
            "[[ 0.00000000e+00 -6.54877962e-14 -1.17081478e-14  2.00000000e+00\n",
            "   2.00000000e+00]] [1.]\n",
            "\n",
            "Degree 5\n",
            "[[ 0.00000000e+00 -4.85953813e-14 -2.20360620e-14  2.00000000e+00\n",
            "   2.00000000e+00  3.53915660e-16]] [1.]\n",
            "\n",
            "Degree 6\n",
            "[[ 8.01442246e-14  2.47409962e-01 -5.11064012e-01  1.73884504e+00\n",
            "   2.06372681e+00  1.37449979e-02 -2.49909052e-03]] [1.44983629]\n",
            "\n",
            "Degree 7\n",
            "[[-1.77342863e-12  1.22184578e+00  4.49468472e-01  6.18701300e-01\n",
            "   1.36196098e+00  1.65768267e-01  3.38750128e-02 -6.31535135e-03]] [1.15469553]\n",
            "\n",
            "Degree 8\n",
            "[[-2.20844623e-11  1.34032649e+00  2.95578610e-01  8.77953376e-01\n",
            "   8.19699090e-01 -2.33553098e-01  1.18153940e-01  1.52732316e-02\n",
            "  -3.70288787e-03]] [1.77027125]\n",
            "\n",
            "Degree 9\n",
            "[[ 8.30232315e-11  8.84724753e-01  9.06310443e-02  7.49126458e-01\n",
            "   2.89729904e-01  4.53603797e-01  6.52920556e-01 -9.22468539e-02\n",
            "  -3.21384850e-02  4.79184658e-03]] [1.99885698]\n",
            "\n"
          ]
        }
      ],
      "source": [
        "for degree in degrees:\n",
        "    poly = PolynomialFeatures(degree)\n",
        "    X_train_poly = poly.fit_transform(X_train)\n",
        "    X_test_poly = poly.transform(X_test)\n",
        "\n",
        "    model = LinearRegression()\n",
        "    model.fit(X_train_poly, y_train)\n",
        "    y_pred = model.predict(X_test_poly)\n",
        "    print('Degree', degree)\n",
        "    print(model.coef_, model.intercept_)\n",
        "    print('')\n",
        "\n",
        "    mse = mean_squared_error(y_test, y_pred)\n",
        "    mse_values.append(mse)"
      ]
    },
    {
      "cell_type": "code",
      "execution_count": null,
      "id": "c5f7affe",
      "metadata": {
        "id": "c5f7affe",
        "outputId": "1a6a1cfa-4e54-4578-dab5-4a4ac64118e2"
      },
      "outputs": [
        {
          "data": {
            "image/png": "[encoded data removed]",
            "text/plain": [
              "<Figure size 640x480 with 1 Axes>"
            ]
          },
          "metadata": {},
          "output_type": "display_data"
        }
      ],
      "source": [
        "import matplotlib.pyplot as plt\n",
        "plt.plot(degrees, mse_values, marker='o')\n",
        "plt.xlabel('Polynomial Degree')\n",
        "plt.ylabel('Mean Squared Error')\n",
        "plt.title('MSE vs Polynomial Degree')\n",
        "plt.xticks(degrees)\n",
        "plt.grid()\n",
        "plt.show()\n",
        "\n",
        "# From the graph below, we should select degree 4 polynomial, and the model is 2x^4 + 2x^3 + 1."
      ]
    },
    {
      "cell_type": "markdown",
      "id": "79884f8d",
      "metadata": {
        "id": "79884f8d"
      },
      "source": [
        "4. We are going to build a model using a famous data set, \"Iris Flower Data Set\". The following description is copied from Wikipedia.\n",
        "\n",
        "* The Iris flower data set or Fisher's Iris data set is a multivariate data set used and made famous by the British statistician and biologist Ronald Fisher in his 1936 paper.\n",
        "\n",
        "* The data set consists of 50 samples from each of three species of Iris (Iris setosa, Iris virginica and Iris versicolor). Four features were measured from each sample: the length and the width of the sepals and petals, in centimeters. Based on the combination of these four features, Fisher developed a linear discriminant model to distinguish each species.\n",
        "\n",
        "* In the data set, \"data\" is the input of the model, \"target\" is the species predicted. In the column \"target\", \"0\" stands for \"setosa\", \"1\" stands for versicolor, \"2\" stands for \"virginica\".\n",
        "\n",
        "<img src='https://drive.google.com/uc?id=1jPmMDqG5PYjnVGDlmAerhdz6aJbli6ur'>\n",
        "\n",
        "Now, we would like to build a multiple linear regression model to predict the the species of iris flower."
      ]
    },
    {
      "cell_type": "markdown",
      "id": "1ebd36a4",
      "metadata": {
        "id": "1ebd36a4"
      },
      "source": [
        "(a) Execute the following codes to import the data set. \"keys()\" is a command to read the filter in the data set."
      ]
    },
    {
      "cell_type": "code",
      "execution_count": null,
      "id": "affa67c6",
      "metadata": {
        "id": "affa67c6",
        "outputId": "220c105a-c021-4967-aec9-5e3012e3fac2"
      },
      "outputs": [
        {
          "data": {
            "text/plain": [
              "dict_keys(['data', 'target', 'frame', 'target_names', 'DESCR', 'feature_names', 'filename', 'data_module'])"
            ]
          },
          "execution_count": 46,
          "metadata": {},
          "output_type": "execute_result"
        }
      ],
      "source": [
        "from sklearn.datasets import load_iris\n",
        "iris_data = load_iris()\n",
        "iris_data.keys()"
      ]
    },
    {
      "cell_type": "code",
      "execution_count": null,
      "id": "bf220519",
      "metadata": {
        "id": "bf220519",
        "outputId": "a94db59e-3227-4828-fea2-02ba7e329cab"
      },
      "outputs": [
        {
          "data": {
            "text/plain": [
              "['sepal length (cm)',\n",
              " 'sepal width (cm)',\n",
              " 'petal length (cm)',\n",
              " 'petal width (cm)']"
            ]
          },
          "execution_count": 47,
          "metadata": {},
          "output_type": "execute_result"
        }
      ],
      "source": [
        "iris_data.feature_names"
      ]
    },
    {
      "cell_type": "code",
      "execution_count": null,
      "id": "f9284d90",
      "metadata": {
        "id": "f9284d90",
        "outputId": "ef5cdd51-6346-4bf2-83c4-f10443bfde64"
      },
      "outputs": [
        {
          "data": {
            "text/plain": [
              "array([[5.1, 3.5, 1.4, 0.2],\n",
              "       [4.9, 3. , 1.4, 0.2],\n",
              "       [4.7, 3.2, 1.3, 0.2],\n",
              "       [4.6, 3.1, 1.5, 0.2],\n",
              "       [5. , 3.6, 1.4, 0.2],\n",
              "       [5.4, 3.9, 1.7, 0.4],\n",
              "       [4.6, 3.4, 1.4, 0.3],\n",
              "       [5. , 3.4, 1.5, 0.2],\n",
              "       [4.4, 2.9, 1.4, 0.2],\n",
              "       [4.9, 3.1, 1.5, 0.1],\n",
              "       [5.4, 3.7, 1.5, 0.2],\n",
              "       [4.8, 3.4, 1.6, 0.2],\n",
              "       [4.8, 3. , 1.4, 0.1],\n",
              "       [4.3, 3. , 1.1, 0.1],\n",
              "       [5.8, 4. , 1.2, 0.2],\n",
              "       [5.7, 4.4, 1.5, 0.4],\n",
              "       [5.4, 3.9, 1.3, 0.4],\n",
              "       [5.1, 3.5, 1.4, 0.3],\n",
              "       [5.7, 3.8, 1.7, 0.3],\n",
              "       [5.1, 3.8, 1.5, 0.3],\n",
              "       [5.4, 3.4, 1.7, 0.2],\n",
              "       [5.1, 3.7, 1.5, 0.4],\n",
              "       [4.6, 3.6, 1. , 0.2],\n",
              "       [5.1, 3.3, 1.7, 0.5],\n",
              "       [4.8, 3.4, 1.9, 0.2],\n",
              "       [5. , 3. , 1.6, 0.2],\n",
              "       [5. , 3.4, 1.6, 0.4],\n",
              "       [5.2, 3.5, 1.5, 0.2],\n",
              "       [5.2, 3.4, 1.4, 0.2],\n",
              "       [4.7, 3.2, 1.6, 0.2],\n",
              "       [4.8, 3.1, 1.6, 0.2],\n",
              "       [5.4, 3.4, 1.5, 0.4],\n",
              "       [5.2, 4.1, 1.5, 0.1],\n",
              "       [5.5, 4.2, 1.4, 0.2],\n",
              "       [4.9, 3.1, 1.5, 0.2],\n",
              "       [5. , 3.2, 1.2, 0.2],\n",
              "       [5.5, 3.5, 1.3, 0.2],\n",
              "       [4.9, 3.6, 1.4, 0.1],\n",
              "       [4.4, 3. , 1.3, 0.2],\n",
              "       [5.1, 3.4, 1.5, 0.2],\n",
              "       [5. , 3.5, 1.3, 0.3],\n",
              "       [4.5, 2.3, 1.3, 0.3],\n",
              "       [4.4, 3.2, 1.3, 0.2],\n",
              "       [5. , 3.5, 1.6, 0.6],\n",
              "       [5.1, 3.8, 1.9, 0.4],\n",
              "       [4.8, 3. , 1.4, 0.3],\n",
              "       [5.1, 3.8, 1.6, 0.2],\n",
              "       [4.6, 3.2, 1.4, 0.2],\n",
              "       [5.3, 3.7, 1.5, 0.2],\n",
              "       [5. , 3.3, 1.4, 0.2],\n",
              "       [7. , 3.2, 4.7, 1.4],\n",
              "       [6.4, 3.2, 4.5, 1.5],\n",
              "       [6.9, 3.1, 4.9, 1.5],\n",
              "       [5.5, 2.3, 4. , 1.3],\n",
              "       [6.5, 2.8, 4.6, 1.5],\n",
              "       [5.7, 2.8, 4.5, 1.3],\n",
              "       [6.3, 3.3, 4.7, 1.6],\n",
              "       [4.9, 2.4, 3.3, 1. ],\n",
              "       [6.6, 2.9, 4.6, 1.3],\n",
              "       [5.2, 2.7, 3.9, 1.4],\n",
              "       [5. , 2. , 3.5, 1. ],\n",
              "       [5.9, 3. , 4.2, 1.5],\n",
              "       [6. , 2.2, 4. , 1. ],\n",
              "       [6.1, 2.9, 4.7, 1.4],\n",
              "       [5.6, 2.9, 3.6, 1.3],\n",
              "       [6.7, 3.1, 4.4, 1.4],\n",
              "       [5.6, 3. , 4.5, 1.5],\n",
              "       [5.8, 2.7, 4.1, 1. ],\n",
              "       [6.2, 2.2, 4.5, 1.5],\n",
              "       [5.6, 2.5, 3.9, 1.1],\n",
              "       [5.9, 3.2, 4.8, 1.8],\n",
              "       [6.1, 2.8, 4. , 1.3],\n",
              "       [6.3, 2.5, 4.9, 1.5],\n",
              "       [6.1, 2.8, 4.7, 1.2],\n",
              "       [6.4, 2.9, 4.3, 1.3],\n",
              "       [6.6, 3. , 4.4, 1.4],\n",
              "       [6.8, 2.8, 4.8, 1.4],\n",
              "       [6.7, 3. , 5. , 1.7],\n",
              "       [6. , 2.9, 4.5, 1.5],\n",
              "       [5.7, 2.6, 3.5, 1. ],\n",
              "       [5.5, 2.4, 3.8, 1.1],\n",
              "       [5.5, 2.4, 3.7, 1. ],\n",
              "       [5.8, 2.7, 3.9, 1.2],\n",
              "       [6. , 2.7, 5.1, 1.6],\n",
              "       [5.4, 3. , 4.5, 1.5],\n",
              "       [6. , 3.4, 4.5, 1.6],\n",
              "       [6.7, 3.1, 4.7, 1.5],\n",
              "       [6.3, 2.3, 4.4, 1.3],\n",
              "       [5.6, 3. , 4.1, 1.3],\n",
              "       [5.5, 2.5, 4. , 1.3],\n",
              "       [5.5, 2.6, 4.4, 1.2],\n",
              "       [6.1, 3. , 4.6, 1.4],\n",
              "       [5.8, 2.6, 4. , 1.2],\n",
              "       [5. , 2.3, 3.3, 1. ],\n",
              "       [5.6, 2.7, 4.2, 1.3],\n",
              "       [5.7, 3. , 4.2, 1.2],\n",
              "       [5.7, 2.9, 4.2, 1.3],\n",
              "       [6.2, 2.9, 4.3, 1.3],\n",
              "       [5.1, 2.5, 3. , 1.1],\n",
              "       [5.7, 2.8, 4.1, 1.3],\n",
              "       [6.3, 3.3, 6. , 2.5],\n",
              "       [5.8, 2.7, 5.1, 1.9],\n",
              "       [7.1, 3. , 5.9, 2.1],\n",
              "       [6.3, 2.9, 5.6, 1.8],\n",
              "       [6.5, 3. , 5.8, 2.2],\n",
              "       [7.6, 3. , 6.6, 2.1],\n",
              "       [4.9, 2.5, 4.5, 1.7],\n",
              "       [7.3, 2.9, 6.3, 1.8],\n",
              "       [6.7, 2.5, 5.8, 1.8],\n",
              "       [7.2, 3.6, 6.1, 2.5],\n",
              "       [6.5, 3.2, 5.1, 2. ],\n",
              "       [6.4, 2.7, 5.3, 1.9],\n",
              "       [6.8, 3. , 5.5, 2.1],\n",
              "       [5.7, 2.5, 5. , 2. ],\n",
              "       [5.8, 2.8, 5.1, 2.4],\n",
              "       [6.4, 3.2, 5.3, 2.3],\n",
              "       [6.5, 3. , 5.5, 1.8],\n",
              "       [7.7, 3.8, 6.7, 2.2],\n",
              "       [7.7, 2.6, 6.9, 2.3],\n",
              "       [6. , 2.2, 5. , 1.5],\n",
              "       [6.9, 3.2, 5.7, 2.3],\n",
              "       [5.6, 2.8, 4.9, 2. ],\n",
              "       [7.7, 2.8, 6.7, 2. ],\n",
              "       [6.3, 2.7, 4.9, 1.8],\n",
              "       [6.7, 3.3, 5.7, 2.1],\n",
              "       [7.2, 3.2, 6. , 1.8],\n",
              "       [6.2, 2.8, 4.8, 1.8],\n",
              "       [6.1, 3. , 4.9, 1.8],\n",
              "       [6.4, 2.8, 5.6, 2.1],\n",
              "       [7.2, 3. , 5.8, 1.6],\n",
              "       [7.4, 2.8, 6.1, 1.9],\n",
              "       [7.9, 3.8, 6.4, 2. ],\n",
              "       [6.4, 2.8, 5.6, 2.2],\n",
              "       [6.3, 2.8, 5.1, 1.5],\n",
              "       [6.1, 2.6, 5.6, 1.4],\n",
              "       [7.7, 3. , 6.1, 2.3],\n",
              "       [6.3, 3.4, 5.6, 2.4],\n",
              "       [6.4, 3.1, 5.5, 1.8],\n",
              "       [6. , 3. , 4.8, 1.8],\n",
              "       [6.9, 3.1, 5.4, 2.1],\n",
              "       [6.7, 3.1, 5.6, 2.4],\n",
              "       [6.9, 3.1, 5.1, 2.3],\n",
              "       [5.8, 2.7, 5.1, 1.9],\n",
              "       [6.8, 3.2, 5.9, 2.3],\n",
              "       [6.7, 3.3, 5.7, 2.5],\n",
              "       [6.7, 3. , 5.2, 2.3],\n",
              "       [6.3, 2.5, 5. , 1.9],\n",
              "       [6.5, 3. , 5.2, 2. ],\n",
              "       [6.2, 3.4, 5.4, 2.3],\n",
              "       [5.9, 3. , 5.1, 1.8]])"
            ]
          },
          "execution_count": 48,
          "metadata": {},
          "output_type": "execute_result"
        }
      ],
      "source": [
        "iris_data.data"
      ]
    },
    {
      "cell_type": "code",
      "execution_count": null,
      "id": "03ea1620",
      "metadata": {
        "id": "03ea1620",
        "outputId": "810e3fcb-a869-4c07-b8f5-b445aede36ad"
      },
      "outputs": [
        {
          "data": {
            "text/plain": [
              "array([0, 0, 0, 0, 0, 0, 0, 0, 0, 0, 0, 0, 0, 0, 0, 0, 0, 0, 0, 0, 0, 0,\n",
              "       0, 0, 0, 0, 0, 0, 0, 0, 0, 0, 0, 0, 0, 0, 0, 0, 0, 0, 0, 0, 0, 0,\n",
              "       0, 0, 0, 0, 0, 0, 1, 1, 1, 1, 1, 1, 1, 1, 1, 1, 1, 1, 1, 1, 1, 1,\n",
              "       1, 1, 1, 1, 1, 1, 1, 1, 1, 1, 1, 1, 1, 1, 1, 1, 1, 1, 1, 1, 1, 1,\n",
              "       1, 1, 1, 1, 1, 1, 1, 1, 1, 1, 1, 1, 2, 2, 2, 2, 2, 2, 2, 2, 2, 2,\n",
              "       2, 2, 2, 2, 2, 2, 2, 2, 2, 2, 2, 2, 2, 2, 2, 2, 2, 2, 2, 2, 2, 2,\n",
              "       2, 2, 2, 2, 2, 2, 2, 2, 2, 2, 2, 2, 2, 2, 2, 2, 2, 2])"
            ]
          },
          "execution_count": 49,
          "metadata": {},
          "output_type": "execute_result"
        }
      ],
      "source": [
        "iris_data.target"
      ]
    },
    {
      "cell_type": "markdown",
      "id": "39345980",
      "metadata": {
        "id": "39345980"
      },
      "source": [
        "(b) Define the data matrix $X$ and target vector $y$."
      ]
    },
    {
      "cell_type": "code",
      "execution_count": null,
      "id": "a6d98789",
      "metadata": {
        "id": "a6d98789"
      },
      "outputs": [],
      "source": [
        "X = iris_data.data\n",
        "y = iris_data.target"
      ]
    },
    {
      "cell_type": "markdown",
      "id": "e53a2d3b",
      "metadata": {
        "id": "e53a2d3b"
      },
      "source": [
        "(c) Solve the model $X\\theta = y$ by using the theoretical optimal solution."
      ]
    },
    {
      "cell_type": "code",
      "execution_count": null,
      "id": "3cbb95b3",
      "metadata": {
        "id": "3cbb95b3",
        "outputId": "b9788c49-5783-4ba0-a369-8a8d162e5351"
      },
      "outputs": [
        {
          "name": "stdout",
          "output_type": "stream",
          "text": [
            "[-0.0844926  -0.02356211  0.22487123  0.59972247]\n"
          ]
        }
      ],
      "source": [
        "th = inv(X.T@X)@X.T@y\n",
        "print(th)"
      ]
    },
    {
      "cell_type": "markdown",
      "id": "4d3d0485",
      "metadata": {
        "id": "4d3d0485"
      },
      "source": [
        "5. Redo the work in Q4. But this time please use the scikit-learn packages to complete the task."
      ]
    },
    {
      "cell_type": "markdown",
      "id": "a0195f41",
      "metadata": {
        "id": "a0195f41"
      },
      "source": [
        "(a) Separate the data set into training set and testing set."
      ]
    },
    {
      "cell_type": "code",
      "execution_count": null,
      "id": "e018eecd",
      "metadata": {
        "id": "e018eecd"
      },
      "outputs": [],
      "source": [
        "X = iris_data.data\n",
        "y = iris_data.target"
      ]
    },
    {
      "cell_type": "code",
      "execution_count": null,
      "id": "2883ed2c",
      "metadata": {
        "id": "2883ed2c"
      },
      "outputs": [],
      "source": [
        "X_train, X_test, y_train, y_test = train_test_split(X, y, random_state = 42)"
      ]
    },
    {
      "cell_type": "markdown",
      "id": "2f96e43a",
      "metadata": {
        "id": "2f96e43a"
      },
      "source": [
        "(b) Standardize the features. (i.e. Removing the mean and divide by the standard deviation.)"
      ]
    },
    {
      "cell_type": "code",
      "execution_count": null,
      "id": "f8270112",
      "metadata": {
        "id": "f8270112"
      },
      "outputs": [],
      "source": [
        "scaler = StandardScaler()\n",
        "X_train_scaled = scaler.fit_transform(X_train)\n",
        "X_test_scaled = scaler.transform(X_test)"
      ]
    },
    {
      "cell_type": "markdown",
      "id": "c60f395b",
      "metadata": {
        "id": "c60f395b"
      },
      "source": [
        "(c) Model fitting."
      ]
    },
    {
      "cell_type": "code",
      "execution_count": null,
      "id": "d04870d7",
      "metadata": {
        "id": "d04870d7"
      },
      "outputs": [],
      "source": [
        "from sklearn.model_selection import train_test_split\n",
        "from sklearn.preprocessing import PolynomialFeatures\n",
        "from sklearn.linear_model import LinearRegression\n",
        "from sklearn.metrics import mean_squared_error, r2_score"
      ]
    },
    {
      "cell_type": "code",
      "execution_count": null,
      "id": "fdf4478d",
      "metadata": {
        "id": "fdf4478d",
        "outputId": "18414c1c-bef8-4d48-e176-370639e3517a"
      },
      "outputs": [
        {
          "data": {
            "text/plain": [
              "LinearRegression()"
            ]
          },
          "execution_count": 57,
          "metadata": {},
          "output_type": "execute_result"
        }
      ],
      "source": [
        "model = LinearRegression()\n",
        "model.fit(X_train, y_train)"
      ]
    },
    {
      "cell_type": "code",
      "execution_count": null,
      "id": "16460f3e",
      "metadata": {
        "id": "16460f3e",
        "outputId": "c9645480-9325-4ef9-88f8-5fa78e29f2a0"
      },
      "outputs": [
        {
          "data": {
            "text/plain": [
              "array([-0.11548607, -0.05327186,  0.26631062,  0.52537257])"
            ]
          },
          "execution_count": 58,
          "metadata": {},
          "output_type": "execute_result"
        }
      ],
      "source": [
        "model.coef_"
      ]
    },
    {
      "cell_type": "code",
      "execution_count": null,
      "id": "778aba38",
      "metadata": {
        "id": "778aba38",
        "outputId": "e2e632f3-a302-4be9-eb6d-76ce4cbc60dd"
      },
      "outputs": [
        {
          "data": {
            "text/plain": [
              "0.21023176385323006"
            ]
          },
          "execution_count": 59,
          "metadata": {},
          "output_type": "execute_result"
        }
      ],
      "source": [
        "model.intercept_"
      ]
    },
    {
      "cell_type": "code",
      "execution_count": null,
      "id": "e9da802e",
      "metadata": {
        "id": "e9da802e",
        "outputId": "cc6fb348-db17-4921-9d36-a22446821b6a"
      },
      "outputs": [
        {
          "name": "stdout",
          "output_type": "stream",
          "text": [
            "[ 1.23871249 -0.04013211  2.22838234  1.34928356  1.28957782  0.01509759\n",
            "  1.05072392  1.81477615  1.36347665  1.06563701  1.69803163 -0.07854485\n",
            " -0.16011484 -0.06878958 -0.02410259  1.39912838  2.00017795  1.04685134\n",
            "  1.28418206  1.9691188   0.02814876  1.59654379  0.08792308  1.91658154\n",
            "  1.85059181  1.86983162  1.79356763  2.03404607  0.02652966  0.02192734\n",
            " -0.14139774 -0.07282009  1.17862062  0.00594578 -0.0170986   1.67925082\n",
            "  1.28710758 -0.07220689]\n"
          ]
        }
      ],
      "source": [
        "y_pred = model.predict(X_test)\n",
        "print(y_pred)"
      ]
    },
    {
      "cell_type": "markdown",
      "id": "e59c5657",
      "metadata": {
        "id": "e59c5657"
      },
      "source": [
        "(d) Model Evaluation."
      ]
    },
    {
      "cell_type": "code",
      "execution_count": null,
      "id": "e6cda15a",
      "metadata": {
        "id": "e6cda15a",
        "outputId": "6f137a2c-ea79-4685-9ea8-44efb6f407f0"
      },
      "outputs": [
        {
          "name": "stdout",
          "output_type": "stream",
          "text": [
            "Mean Squared Error: 0.03611030626905015\n",
            "R^2 Score: 0.9487283360348984\n"
          ]
        }
      ],
      "source": [
        "mse = mean_squared_error(y_test, y_pred)\n",
        "r2 = r2_score(y_test, y_pred)\n",
        "\n",
        "print(\"Mean Squared Error:\", mse)\n",
        "print(\"R^2 Score:\", r2)"
      ]
    },
    {
      "cell_type": "code",
      "execution_count": null,
      "id": "580e031d",
      "metadata": {
        "id": "580e031d"
      },
      "outputs": [],
      "source": [
        "# Note that 0 <= R^2 <= 1. The model is good if its R^2 score close to one."
      ]
    }
  ],
  "metadata": {
    "kernelspec": {
      "display_name": "Python 3 (ipykernel)",
      "language": "python",
      "name": "python3"
    },
    "language_info": {
      "codemirror_mode": {
        "name": "ipython",
        "version": 3
      },
      "file_extension": ".py",
      "mimetype": "text/x-python",
      "name": "python",
      "nbconvert_exporter": "python",
      "pygments_lexer": "ipython3",
      "version": "3.9.13"
    },
    "colab": {
      "provenance": []
    }
  },
  "nbformat": 4,
  "nbformat_minor": 5
}