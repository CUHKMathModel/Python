{
  "cells": [
    {
      "cell_type": "markdown",
      "id": "5f269562",
      "metadata": {
        "id": "5f269562"
      },
      "source": [
        "# Notes"
      ]
    },
    {
      "cell_type": "markdown",
      "id": "144b033a",
      "metadata": {
        "id": "144b033a"
      },
      "source": [
        "The mathematical principle of regression is called $\\textbf{ordinary least squares}$. Suppose we have to solve the model\n",
        "$$X\\theta = y,$$\n",
        "where $X$ is the data matrix and $y$ is the target value of our prediction. We find the parameters $\\theta$ in the regression model by minimizing the error function\n",
        "$$E(\\theta) = ||X\\theta-y||,$$\n",
        "which is a vector norm."
      ]
    },
    {
      "cell_type": "markdown",
      "id": "b0ffa498",
      "metadata": {
        "id": "b0ffa498"
      },
      "source": [
        "In general, any types of regression model are based on the concept of ordinary least squares. For example,"
      ]
    },
    {
      "cell_type": "markdown",
      "source": [
        "(i) $y = ax + b$ (linear model)"
      ],
      "metadata": {
        "id": "SFpaXPACERXH"
      },
      "id": "SFpaXPACERXH"
    },
    {
      "cell_type": "markdown",
      "source": [
        "(iii) $y = a_0 + a_1 x + \\dots + a_n x^n$ (polynomial model)"
      ],
      "metadata": {
        "id": "e3ZnjWz1D_b3"
      },
      "id": "e3ZnjWz1D_b3"
    },
    {
      "cell_type": "markdown",
      "id": "fc7577dc",
      "metadata": {
        "id": "fc7577dc"
      },
      "source": [
        "(iii) $y = \\theta_0 + \\theta_1x_1 +...+\\theta_nx_n$ (multiple linear regression)"
      ]
    },
    {
      "cell_type": "markdown",
      "id": "cd61a097",
      "metadata": {
        "id": "cd61a097"
      },
      "source": [
        "(iv) $y = k x^m$ (power model)"
      ]
    },
    {
      "cell_type": "markdown",
      "id": "47fb1fb7",
      "metadata": {
        "id": "47fb1fb7"
      },
      "source": [
        "(v) $y = a + k(b^x)$ (exponential model)"
      ]
    },
    {
      "cell_type": "markdown",
      "id": "bd5e46e8",
      "metadata": {
        "id": "bd5e46e8"
      },
      "source": [
        "(vi) $y = m\\log x + c$ (logarithmic model)"
      ]
    },
    {
      "cell_type": "markdown",
      "id": "9b25cdb3",
      "metadata": {
        "id": "9b25cdb3"
      },
      "source": [
        "##```Example (Implementation by Hand)```"
      ]
    },
    {
      "cell_type": "markdown",
      "id": "54ebd966",
      "metadata": {
        "id": "54ebd966"
      },
      "source": [
        "Suppose we are going to model the estimated profit $y$ (in US dollars) for a concert when the charge is $x$ dollars per ticket.  The data points are as follows.\n",
        "$$(2, 2600), (5, 6500), (8, 8600), (11, 8900), (14, 7400), (17, 4100)$$"
      ]
    },
    {
      "cell_type": "markdown",
      "id": "5ee77a12",
      "metadata": {
        "id": "5ee77a12"
      },
      "source": [
        "We want to fit the model $y = \\theta_0 + \\theta_1x + \\theta_2x^2$."
      ]
    },
    {
      "cell_type": "markdown",
      "id": "cd2682a3",
      "metadata": {
        "id": "cd2682a3"
      },
      "source": [
        "### _Step 1: Define the data matrix $X$ and target vector $y$._"
      ]
    },
    {
      "cell_type": "code",
      "execution_count": null,
      "id": "3070c092",
      "metadata": {
        "id": "3070c092"
      },
      "outputs": [],
      "source": [
        "import numpy as np"
      ]
    },
    {
      "cell_type": "code",
      "execution_count": null,
      "id": "8b5dcdf6",
      "metadata": {
        "id": "8b5dcdf6",
        "outputId": "6b76c2e1-1fef-4fd3-a86b-4890aa6b0559"
      },
      "outputs": [
        {
          "data": {
            "text/plain": [
              "array([[  1.,   2.,   4.],\n",
              "       [  1.,   5.,  25.],\n",
              "       [  1.,   8.,  64.],\n",
              "       [  1.,  11., 121.],\n",
              "       [  1.,  14., 196.],\n",
              "       [  1.,  17., 289.]])"
            ]
          },
          "execution_count": 2,
          "metadata": {},
          "output_type": "execute_result"
        }
      ],
      "source": [
        "data = np.array([[2],[5],[8],[11],[14],[17]])\n",
        "X = np.hstack((np.ones(data.shape),data,data**2))      # np.hstack() combine the three columns horizontally into X\n",
        "X"
      ]
    },
    {
      "cell_type": "code",
      "execution_count": null,
      "id": "338e5b7a",
      "metadata": {
        "id": "338e5b7a",
        "outputId": "9f3140ee-4a73-4fac-d2a1-9b083593eba5"
      },
      "outputs": [
        {
          "data": {
            "text/plain": [
              "array([[2600],\n",
              "       [6500],\n",
              "       [8600],\n",
              "       [8900],\n",
              "       [7400],\n",
              "       [4100]])"
            ]
          },
          "execution_count": 3,
          "metadata": {},
          "output_type": "execute_result"
        }
      ],
      "source": [
        "y = np.array([[2600], [6500], [8600], [8900], [7400], [4100]])\n",
        "y"
      ]
    },
    {
      "cell_type": "markdown",
      "id": "b95a7d62",
      "metadata": {
        "id": "b95a7d62"
      },
      "source": [
        "### _Step 2: The optimal solution to minimize the error function $E(\\theta)$ is_\n",
        "$$\\theta^* = (X^TX)^{-1}X^Ty.$$"
      ]
    },
    {
      "cell_type": "code",
      "execution_count": null,
      "id": "3efb6152",
      "metadata": {
        "id": "3efb6152"
      },
      "outputs": [],
      "source": [
        "from numpy.linalg import inv"
      ]
    },
    {
      "cell_type": "code",
      "execution_count": null,
      "id": "cf2f6b87",
      "metadata": {
        "id": "cf2f6b87",
        "outputId": "f455918c-b21a-416d-be17-2df467db2025"
      },
      "outputs": [
        {
          "data": {
            "text/plain": [
              "array([[-1000.],\n",
              "       [ 2000.],\n",
              "       [ -100.]])"
            ]
          },
          "execution_count": 5,
          "metadata": {},
          "output_type": "execute_result"
        }
      ],
      "source": [
        "theta = inv(X.T@X)@X.T@y\n",
        "theta"
      ]
    },
    {
      "cell_type": "markdown",
      "id": "c1517a9f",
      "metadata": {
        "id": "c1517a9f"
      },
      "source": [
        "Hence, the model is $y = -1000+2000x-100x^2$."
      ]
    },
    {
      "cell_type": "markdown",
      "id": "ba8077f0",
      "metadata": {
        "id": "ba8077f0"
      },
      "source": [
        "## ```Example (Implementation by Sklearn Package)```"
      ]
    },
    {
      "cell_type": "markdown",
      "id": "ae44d90e",
      "metadata": {
        "id": "ae44d90e"
      },
      "source": [
        "We fit the same model above using the scikit-learn packages again."
      ]
    },
    {
      "cell_type": "markdown",
      "id": "aa8a8987",
      "metadata": {
        "id": "aa8a8987"
      },
      "source": [
        "### _Step 1: Define the data matrix $X$ and target vector $y$._"
      ]
    },
    {
      "cell_type": "markdown",
      "id": "05940cfd",
      "metadata": {
        "id": "05940cfd"
      },
      "source": [
        "### _Step 2: Separate $X$ and $y$ into training set and testing set._"
      ]
    },
    {
      "cell_type": "markdown",
      "id": "aef1a3b2",
      "metadata": {
        "id": "aef1a3b2"
      },
      "source": [
        "In practice, it is suggested to separate the data set and target into training set and testing set in order to test the accuracy of the model. The code below will set 75% of the data to training set and 25% to testing set by default."
      ]
    },
    {
      "cell_type": "code",
      "execution_count": null,
      "id": "6d44a9df",
      "metadata": {
        "id": "6d44a9df"
      },
      "outputs": [],
      "source": [
        "from sklearn.model_selection import train_test_split\n",
        "X_train, X_test, y_train, y_test = train_test_split(X, y)"
      ]
    },
    {
      "cell_type": "markdown",
      "id": "597fd9d6",
      "metadata": {
        "id": "597fd9d6"
      },
      "source": [
        "### _Step 3: Standardize features by removing the mean and scaling to unit variance._"
      ]
    },
    {
      "cell_type": "markdown",
      "id": "f00ae353",
      "metadata": {
        "id": "f00ae353"
      },
      "source": [
        "In practice, it is suggested to subtract the mean and divide by the standard deviation on each feature in the data matrix $X$. This will $\\textbf{increase the speed}$ and $\\textbf{minimize the error}$ in computing the model parameters."
      ]
    },
    {
      "cell_type": "code",
      "execution_count": null,
      "id": "b02bdf4c",
      "metadata": {
        "id": "b02bdf4c"
      },
      "outputs": [],
      "source": [
        "from sklearn.preprocessing import StandardScaler\n",
        "scaler = StandardScaler()\n",
        "X_train_scaled = scaler.fit_transform(X_train)    # Mean and s.d. of each feature are calculated.\n",
        "X_test_scaled = scaler.transform(X_test)          # Without the \"fit_\" in the code, mean and s.d. of X_train are still be\n",
        "                                                  # used, since we want the test data set is not correlated to the fitting\n",
        "                                                  # of the model."
      ]
    },
    {
      "cell_type": "markdown",
      "id": "b1f8af11",
      "metadata": {
        "id": "b1f8af11"
      },
      "source": [
        "### _Step 4: Model Fitting._"
      ]
    },
    {
      "cell_type": "code",
      "execution_count": null,
      "id": "db9446f2",
      "metadata": {
        "id": "db9446f2"
      },
      "outputs": [],
      "source": [
        "from sklearn.preprocessing import PolynomialFeatures\n",
        "poly = PolynomialFeatures(degree = 2)\n",
        "X_train_poly = poly.fit_transform(X_train_scaled)\n",
        "X_test_poly = poly.transform(X_test_scaled)\n",
        "poly.fit(X_train_poly, y_train)"
      ]
    },
    {
      "cell_type": "code",
      "execution_count": null,
      "id": "76f6763c",
      "metadata": {
        "id": "76f6763c",
        "outputId": "718beaa6-5b6d-4545-d060-4e4e6ec0b6e5"
      },
      "outputs": [
        {
          "data": {
            "text/plain": [
              "LinearRegression()"
            ]
          },
          "execution_count": 18,
          "metadata": {},
          "output_type": "execute_result"
        }
      ],
      "source": [
        "from sklearn.linear_model import LinearRegression\n",
        "model = LinearRegression()\n",
        "model.fit(X_train_poly, y_train)       # This is the degree 2 polynomial model we want."
      ]
    },
    {
      "cell_type": "code",
      "execution_count": null,
      "id": "c9e7c39a",
      "metadata": {
        "id": "c9e7c39a",
        "outputId": "09809615-70cf-44f8-bf30-6d266cf467d3"
      },
      "outputs": [
        {
          "data": {
            "text/plain": [
              "array([[8622.15548601],\n",
              "       [4321.55486006]])"
            ]
          },
          "execution_count": 21,
          "metadata": {},
          "output_type": "execute_result"
        }
      ],
      "source": [
        "y_pred = model.predict(X_test_poly)\n",
        "y_pred"
      ]
    },
    {
      "cell_type": "markdown",
      "id": "bb439aa0",
      "metadata": {
        "id": "bb439aa0"
      },
      "source": [
        "### _Step 5: Model Evaluation. (Check whether the model is good enough compared to other candidate model.)_"
      ]
    },
    {
      "cell_type": "code",
      "execution_count": null,
      "id": "835d7baa",
      "metadata": {
        "id": "835d7baa",
        "outputId": "bf703908-dbb9-413a-a936-0b8044ded216"
      },
      "outputs": [
        {
          "data": {
            "text/plain": [
              "24788.71078727034"
            ]
          },
          "execution_count": 23,
          "metadata": {},
          "output_type": "execute_result"
        }
      ],
      "source": [
        "from sklearn.metrics import mean_squared_error\n",
        "mse = mean_squared_error(y_test, y_pred)         # Compute the mean squared error of the model on the test data set.\n",
        "mse"
      ]
    },
    {
      "cell_type": "code",
      "execution_count": null,
      "id": "824b2564",
      "metadata": {
        "id": "824b2564",
        "outputId": "058202c4-463b-4888-8916-55d0a984e9e6"
      },
      "outputs": [
        {
          "data": {
            "text/plain": [
              "49577.42157454068"
            ]
          },
          "execution_count": 25,
          "metadata": {},
          "output_type": "execute_result"
        }
      ],
      "source": [
        "rss = ((y_test-y_pred)**2).sum()                 # Compute the residual sum of sq\n",
        "rss"
      ]
    },
    {
      "cell_type": "markdown",
      "id": "362db0b9",
      "metadata": {
        "id": "362db0b9"
      },
      "source": [
        "# Exercise"
      ]
    },
    {
      "cell_type": "markdown",
      "id": "566656b4",
      "metadata": {
        "id": "566656b4"
      },
      "source": [
        "1. Consider the following two data sets. Which one should be represented by a linear model? Which one should be represented by a quadratic model? Why?"
      ]
    },
    {
      "cell_type": "markdown",
      "id": "4f7251fd",
      "metadata": {
        "id": "4f7251fd"
      },
      "source": [
        "(i) $(0.8, -0,752), (1, -0,8), (1.1, -0.818), (1.3, -0.842), (1.6, -0.848), (1.8, -0.832), (2, -0.8), (2.1, -0.778), (2.5, -0.65), (2.9, -0.458)$"
      ]
    },
    {
      "cell_type": "markdown",
      "id": "faccf23f",
      "metadata": {
        "id": "faccf23f"
      },
      "source": [
        "(ii) $(0.8, 3.08), (1, 3), (1.1, 2.96), (1.3, 2.88), (1.6, 2.76), (1.8, 2.68), (2, 2.6), (2.1, 2.56), (2.5, 2.4), (2.9, 2.24)$"
      ]
    },
    {
      "cell_type": "code",
      "execution_count": null,
      "id": "8a24fdb5",
      "metadata": {
        "id": "8a24fdb5"
      },
      "outputs": [],
      "source": []
    },
    {
      "cell_type": "markdown",
      "id": "957da294",
      "metadata": {
        "id": "957da294"
      },
      "source": [
        "2. Consider the following eight data points.$\\\\$\n",
        "$$(-3, 46), (-2, 13), (-1, 0), (0, 1), (6, -35), (7, -104), (10, -539), (11, -780)\\\\$$\n",
        "Build a model to fit these data points using a $\\textbf{polynomial}$."
      ]
    },
    {
      "cell_type": "code",
      "execution_count": null,
      "id": "7d03881c",
      "metadata": {
        "id": "7d03881c"
      },
      "outputs": [],
      "source": []
    },
    {
      "cell_type": "markdown",
      "id": "5e256570",
      "metadata": {
        "id": "5e256570"
      },
      "source": [
        "3. Consider the following eight data points.$\\\\$\n",
        "$$(-4, 385), (-2.5, 47.875), (-1.5, 4.375), (-1, 1), (1, 5), (2, 49), (5, 1501), (6, 3025)\\\\$$\n",
        "Build a model to fit these data points using a $\\textbf{polynomial}$."
      ]
    },
    {
      "cell_type": "code",
      "execution_count": null,
      "id": "337f0945",
      "metadata": {
        "id": "337f0945"
      },
      "outputs": [],
      "source": []
    },
    {
      "cell_type": "markdown",
      "source": [
        "4. We are going to build a model using a famous data set, \"Iris Flower Data Set\". The following description is copied from Wikipedia.\n",
        "\n",
        "* The Iris flower data set or Fisher's Iris data set is a multivariate data set used and made famous by the British statistician and biologist Ronald Fisher in his 1936 paper.\n",
        "\n",
        "* The data set consists of 50 samples from each of three species of Iris (Iris setosa, Iris virginica and Iris versicolor). Four features were measured from each sample: the length and the width of the sepals and petals, in centimeters. Based on the combination of these four features, Fisher developed a linear discriminant model to distinguish each species.\n",
        "\n",
        "* In the data set, \"data\" is the input of the model, \"target\" is the species predicted. In the column \"target\", \"0\" stands for \"setosa\", \"1\" stands for versicolor, \"2\" stands for \"virginica\".\n",
        "\n",
        "<img src='https://drive.google.com/uc?id=1jPmMDqG5PYjnVGDlmAerhdz6aJbli6ur'>\n",
        "\n",
        "Now, we would like to build a multiple linear regression model to predict the the species of iris flower."
      ],
      "metadata": {
        "id": "vGhQt0Pm_dpa"
      },
      "id": "vGhQt0Pm_dpa"
    },
    {
      "cell_type": "markdown",
      "id": "1ebd36a4",
      "metadata": {
        "id": "1ebd36a4"
      },
      "source": [
        "(a) Execute the following codes to import the data set. \"keys()\" is a command to read the filter in the data set."
      ]
    },
    {
      "cell_type": "code",
      "execution_count": null,
      "id": "affa67c6",
      "metadata": {
        "id": "affa67c6"
      },
      "outputs": [],
      "source": [
        "# from sklearn.datasets import load_iris\n",
        "# iris_data = load_iris()\n",
        "# iris_data.keys()"
      ]
    },
    {
      "cell_type": "code",
      "execution_count": null,
      "id": "bf220519",
      "metadata": {
        "id": "bf220519"
      },
      "outputs": [],
      "source": [
        "# iris_data.feature_names"
      ]
    },
    {
      "cell_type": "code",
      "execution_count": null,
      "id": "f9284d90",
      "metadata": {
        "id": "f9284d90"
      },
      "outputs": [],
      "source": [
        "# iris_data.data"
      ]
    },
    {
      "cell_type": "code",
      "execution_count": null,
      "id": "03ea1620",
      "metadata": {
        "id": "03ea1620"
      },
      "outputs": [],
      "source": [
        "# iris_data.target"
      ]
    },
    {
      "cell_type": "markdown",
      "id": "39345980",
      "metadata": {
        "id": "39345980"
      },
      "source": [
        "(b) Define the data matrix $X$ and target vector $y$."
      ]
    },
    {
      "cell_type": "code",
      "execution_count": null,
      "id": "a6d98789",
      "metadata": {
        "id": "a6d98789"
      },
      "outputs": [],
      "source": []
    },
    {
      "cell_type": "markdown",
      "id": "e53a2d3b",
      "metadata": {
        "id": "e53a2d3b"
      },
      "source": [
        "(c) Solve the model $X\\theta = y$ by using the theoretical optimal solution."
      ]
    },
    {
      "cell_type": "code",
      "execution_count": null,
      "id": "3cbb95b3",
      "metadata": {
        "id": "3cbb95b3"
      },
      "outputs": [],
      "source": []
    },
    {
      "cell_type": "markdown",
      "id": "4d3d0485",
      "metadata": {
        "id": "4d3d0485"
      },
      "source": [
        "5. Redo the work in Q4. But this time please use the scikit-learn packages to complete the task."
      ]
    },
    {
      "cell_type": "markdown",
      "id": "a0195f41",
      "metadata": {
        "id": "a0195f41"
      },
      "source": [
        "(a) Separate the data set into training set and testing set."
      ]
    },
    {
      "cell_type": "code",
      "execution_count": null,
      "id": "2883ed2c",
      "metadata": {
        "id": "2883ed2c"
      },
      "outputs": [],
      "source": []
    },
    {
      "cell_type": "markdown",
      "id": "2f96e43a",
      "metadata": {
        "id": "2f96e43a"
      },
      "source": [
        "(b) Standardize the features. (i.e. Removing the mean and divide by the standard deviation.)"
      ]
    },
    {
      "cell_type": "code",
      "execution_count": null,
      "id": "f8270112",
      "metadata": {
        "id": "f8270112"
      },
      "outputs": [],
      "source": []
    },
    {
      "cell_type": "markdown",
      "id": "c60f395b",
      "metadata": {
        "id": "c60f395b"
      },
      "source": [
        "(c) Model fitting."
      ]
    },
    {
      "cell_type": "code",
      "execution_count": null,
      "id": "d04870d7",
      "metadata": {
        "id": "d04870d7"
      },
      "outputs": [],
      "source": []
    },
    {
      "cell_type": "markdown",
      "id": "e59c5657",
      "metadata": {
        "id": "e59c5657"
      },
      "source": [
        "(d) Model Evaluation."
      ]
    },
    {
      "cell_type": "code",
      "execution_count": null,
      "id": "e6cda15a",
      "metadata": {
        "id": "e6cda15a"
      },
      "outputs": [],
      "source": []
    }
  ],
  "metadata": {
    "kernelspec": {
      "display_name": "Python 3 (ipykernel)",
      "language": "python",
      "name": "python3"
    },
    "language_info": {
      "codemirror_mode": {
        "name": "ipython",
        "version": 3
      },
      "file_extension": ".py",
      "mimetype": "text/x-python",
      "name": "python",
      "nbconvert_exporter": "python",
      "pygments_lexer": "ipython3",
      "version": "3.9.13"
    },
    "colab": {
      "provenance": []
    }
  },
  "nbformat": 4,
  "nbformat_minor": 5
}