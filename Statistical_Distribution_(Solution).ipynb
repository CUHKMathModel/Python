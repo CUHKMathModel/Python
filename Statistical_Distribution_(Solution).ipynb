{
  "cells": [
    {
      "cell_type": "markdown",
      "id": "a2ecc94a",
      "metadata": {
        "id": "a2ecc94a"
      },
      "source": [
        "# Notes"
      ]
    },
    {
      "cell_type": "markdown",
      "id": "8563ae51",
      "metadata": {
        "id": "8563ae51"
      },
      "source": [
        "Probability distributions are some probability models that can predict the probability of an event occurs."
      ]
    },
    {
      "cell_type": "markdown",
      "id": "d1b85a24",
      "metadata": {
        "id": "d1b85a24"
      },
      "source": [
        "There are two types of distribution, discrete or continuous. For discrete, the input of the model should be an integer while any decimal numbers for continuous. We usually consider the probability mass function (PMF), probility density function (PDF), cumulative distribution function (CDF), mean and variance of the distributions.\n",
        "\n",
        "PMF and PDF are similar functions that compute the probability of the event \"$X = k$\", where $X$ is a discrete and continuous random variable respectively.\n",
        "\n",
        "CDF is a function that compute the probability of the event \"$X \\leq k$\". This time for discrete and continuous random variable $X$, we use the same notation \"CDF\". In mathematics, summation of PMF and integrating of PDF is the cumputation method of finding the CDF of the distribution.\n",
        "\n",
        "Mean and variance of the distributions are often parametrized by the parameters in the distribution. We will mention in each case."
      ]
    },
    {
      "cell_type": "markdown",
      "id": "7885f247",
      "metadata": {
        "id": "7885f247"
      },
      "source": [
        "We list out some important and commonly used properties of PMF/PDF and CDF.\n",
        "* summation of PMF from $-\\infty$ to x / integrating PDF from $-\\infty$ to x = CDF($X = x$)\n",
        "* summation of PMF from $-\\infty$ to $+\\infty$ = 1 / integrating PDF from $-\\infty$ to $+\\infty$ = 1\n",
        "* Derivative of CDF = PMF/PDF, CDF is equal to the antiderivative of PDF"
      ]
    },
    {
      "cell_type": "markdown",
      "id": "ebb598d7",
      "metadata": {
        "id": "ebb598d7"
      },
      "source": [
        "The following are some selected commonly used distributions."
      ]
    },
    {
      "cell_type": "markdown",
      "id": "a8e5caea",
      "metadata": {
        "id": "a8e5caea"
      },
      "source": [
        "### 1. Normal Distribution"
      ]
    },
    {
      "cell_type": "markdown",
      "id": "5d546c10",
      "metadata": {
        "id": "5d546c10"
      },
      "source": [
        "Normal distribution is a probability distribution of a continuous random variable $X$. The PDF is\n",
        "$$P(X = x) = \\frac{1}{\\sqrt{2\\pi \\sigma^2}}\\exp[-\\frac{(x-\\mu)^2}{2}],$$\n",
        "where $\\mu$ and $\\sigma^2$ is the mean and variance of the distribution. We may generates some random numbers obeying the normal distribution with mean $\\mu$ and standard deviation $\\sigma$."
      ]
    },
    {
      "cell_type": "code",
      "execution_count": null,
      "id": "52cdcc79",
      "metadata": {
        "id": "52cdcc79"
      },
      "outputs": [],
      "source": [
        "import numpy as np\n",
        "import matplotlib.pyplot as plt\n",
        "import scipy.stats as stats"
      ]
    },
    {
      "cell_type": "code",
      "execution_count": null,
      "id": "ebe5ab4c",
      "metadata": {
        "id": "ebe5ab4c"
      },
      "outputs": [],
      "source": [
        "mu, sigma = 0, 1"
      ]
    },
    {
      "cell_type": "code",
      "execution_count": null,
      "id": "8546822d",
      "metadata": {
        "id": "8546822d"
      },
      "outputs": [],
      "source": [
        "s = np.random.normal(0, 1, 1000)"
      ]
    },
    {
      "cell_type": "code",
      "execution_count": null,
      "id": "9b230b45",
      "metadata": {
        "id": "9b230b45",
        "outputId": "eee4971a-a002-43b1-f0df-bfadae1a314b"
      },
      "outputs": [
        {
          "data": {
            "image/png": "[encoded data removed]",
            "text/plain": [
              "<Figure size 640x480 with 1 Axes>"
            ]
          },
          "metadata": {},
          "output_type": "display_data"
        }
      ],
      "source": [
        "count, bins, ignored = plt.hist(s, 100)\n",
        "plt.plot(bins, 1/(sigma * np.sqrt(2 * np.pi)) *\n",
        "               np.exp( - (bins - mu)**2 / (2 * sigma**2) ),\n",
        "         linewidth=2, color='r')\n",
        "plt.show()"
      ]
    },
    {
      "cell_type": "markdown",
      "id": "32c7e058",
      "metadata": {
        "id": "32c7e058"
      },
      "source": [
        "We may find the value of $x$ such that $P(X = x) = k$, where $k$ is a certain constant. The computation is using the PDF of the distribution. We may also compute the probability of generating a random value in the distribution such that it is less than or greater than a certain constant $k$. The computation is using the CDF of the distribution."
      ]
    },
    {
      "cell_type": "code",
      "execution_count": null,
      "id": "6872061f",
      "metadata": {
        "id": "6872061f",
        "outputId": "f6d7b4d0-8848-4d0f-fa66-8c72536e05ad"
      },
      "outputs": [
        {
          "data": {
            "text/plain": [
              "-1.9599639845400545"
            ]
          },
          "execution_count": 5,
          "metadata": {},
          "output_type": "execute_result"
        }
      ],
      "source": [
        "stats.norm.ppf(0.025)    # P(X = -1.96) = 0.025"
      ]
    },
    {
      "cell_type": "code",
      "execution_count": null,
      "id": "42c571ae",
      "metadata": {
        "id": "42c571ae",
        "outputId": "d0021a5f-e18a-4587-9bd2-c82c86e54b2d"
      },
      "outputs": [
        {
          "data": {
            "text/plain": [
              "1.959963984540054"
            ]
          },
          "execution_count": 6,
          "metadata": {},
          "output_type": "execute_result"
        }
      ],
      "source": [
        "stats.norm.ppf(0.975)    # P(X = 1.96) = 0.975"
      ]
    },
    {
      "cell_type": "code",
      "execution_count": null,
      "id": "71e3b56e",
      "metadata": {
        "id": "71e3b56e",
        "outputId": "099a1394-b53a-4fde-b8d4-db9ddf1c5130"
      },
      "outputs": [
        {
          "data": {
            "text/plain": [
              "0.9986501019683699"
            ]
          },
          "execution_count": 7,
          "metadata": {},
          "output_type": "execute_result"
        }
      ],
      "source": [
        "stats.norm.cdf(3)        # CDF(3) = P(X <= 3) = 0.9987"
      ]
    },
    {
      "cell_type": "code",
      "execution_count": null,
      "id": "3c8bc0b4",
      "metadata": {
        "id": "3c8bc0b4",
        "outputId": "eb2a8505-6b37-431c-a50f-04306422c548"
      },
      "outputs": [
        {
          "data": {
            "text/plain": [
              "0.15865525393145707"
            ]
          },
          "execution_count": 8,
          "metadata": {},
          "output_type": "execute_result"
        }
      ],
      "source": [
        "stats.norm.cdf(-1)       # CDF(-1) = P(X <= -1) = 0.1587"
      ]
    },
    {
      "cell_type": "markdown",
      "id": "a5f8fe51",
      "metadata": {
        "id": "a5f8fe51"
      },
      "source": [
        "### 2. Binomial Distribution"
      ]
    },
    {
      "cell_type": "markdown",
      "id": "d6bef940",
      "metadata": {
        "id": "d6bef940"
      },
      "source": [
        "Binomial distribution is a probability distribution of a discrete random variable $X$. The PMF of a binomial process repeated $n$ times and \"success\" $k$ times is\n",
        "$$P(X = k) = C^n_k p^k(1-p)^{n-k},$$\n",
        "where $p$ is the probaility of getting a \"success\"."
      ]
    },
    {
      "cell_type": "markdown",
      "id": "eb310c9f",
      "metadata": {
        "id": "eb310c9f"
      },
      "source": [
        "```Example```"
      ]
    },
    {
      "cell_type": "markdown",
      "id": "b6289431",
      "metadata": {
        "id": "b6289431"
      },
      "source": [
        "Suppose we are throwing a fair die 10000 times. We define \"success\" by throwing a \"6\", other outputs are not \"success\"."
      ]
    },
    {
      "cell_type": "code",
      "execution_count": null,
      "id": "9f3ca32f",
      "metadata": {
        "id": "9f3ca32f",
        "outputId": "21bf2d2c-ff53-4946-c0e0-e91ae6826541"
      },
      "outputs": [
        {
          "data": {
            "text/plain": [
              "1648"
            ]
          },
          "execution_count": 9,
          "metadata": {},
          "output_type": "execute_result"
        }
      ],
      "source": [
        "stats.binom.rvs(10000, 1/6)     # n = 10000, p = 1/6 => output = number of \"success\""
      ]
    },
    {
      "cell_type": "code",
      "execution_count": null,
      "id": "717b9b30",
      "metadata": {
        "id": "717b9b30",
        "outputId": "8b59c204-681d-4644-aba6-9bd6b5846ee1"
      },
      "outputs": [
        {
          "data": {
            "text/plain": [
              "0.8181599699159081"
            ]
          },
          "execution_count": 10,
          "metadata": {},
          "output_type": "execute_result"
        }
      ],
      "source": [
        "# The following code computes the probability of getting less than or equal to k success.\n",
        "# k = 1700, n = 10000, p = 1/6\n",
        "stats.binom.cdf(1700, 10000, 1/6)"
      ]
    },
    {
      "cell_type": "code",
      "execution_count": null,
      "id": "6eae0f7b",
      "metadata": {
        "id": "6eae0f7b",
        "outputId": "ec41c14b-0aec-4f16-d871-0b07e03475dd"
      },
      "outputs": [
        {
          "data": {
            "text/plain": [
              "3.827419560102069e-07"
            ]
          },
          "execution_count": 11,
          "metadata": {},
          "output_type": "execute_result"
        }
      ],
      "source": [
        "# The following code computes the probability of getting exactly k success in n trials.\n",
        "# k = 1500, n = 10000, p = 1/6\n",
        "stats.binom.pmf(1500, 10000, 1/6)"
      ]
    },
    {
      "cell_type": "code",
      "execution_count": null,
      "id": "0228e793",
      "metadata": {
        "id": "0228e793"
      },
      "outputs": [],
      "source": [
        "# Generate 10000 binomial sample with n = 10000 and p = 1/6\n",
        "b = stats.binom.rvs(10000, 1/6, size = 10000)"
      ]
    },
    {
      "cell_type": "code",
      "execution_count": null,
      "id": "c75a799d",
      "metadata": {
        "id": "c75a799d",
        "outputId": "de7e3366-c0c7-49c1-a2ab-a54471d2d90c"
      },
      "outputs": [
        {
          "data": {
            "image/png": "[encoded data removed]",
            "text/plain": [
              "<Figure size 640x480 with 1 Axes>"
            ]
          },
          "metadata": {},
          "output_type": "display_data"
        }
      ],
      "source": [
        "count, bins, ignored = plt.hist(b, 75)"
      ]
    },
    {
      "cell_type": "markdown",
      "id": "d374368a",
      "metadata": {
        "id": "d374368a"
      },
      "source": [
        "### 3. Poisson Distribution"
      ]
    },
    {
      "cell_type": "markdown",
      "id": "946e0157",
      "metadata": {
        "id": "946e0157"
      },
      "source": [
        "Poisson distribution is a probability distribution of a discrete random variable $X$. It models the number of success within a certain time interval. Suppose the event happens/we get \"success\" for an average $\\lambda$ times in a given time interval. Then the PMF is\n",
        "$$P(X = k) = \\frac{\\lambda^k e^{-\\lambda}}{k!},$$\n",
        "which is also the formula of computing the probability of getting $x$ success in the certain time interval."
      ]
    },
    {
      "cell_type": "markdown",
      "id": "828250eb",
      "metadata": {
        "id": "828250eb"
      },
      "source": [
        "```Example```"
      ]
    },
    {
      "cell_type": "markdown",
      "id": "6b3ea237",
      "metadata": {
        "id": "6b3ea237"
      },
      "source": [
        "Suppose a call center which receives an average of $\\lambda = 3$ calls per minute at all times of day. We assume the calls are independent, receiving one does not change the probability of when the next one will arrive. Under these assumptions, the number $k$ of calls received during any minute has a Poisson probability distribution."
      ]
    },
    {
      "cell_type": "code",
      "execution_count": null,
      "id": "18c1a6e5",
      "metadata": {
        "id": "18c1a6e5",
        "outputId": "555be6db-e52f-4c05-cfd9-091534e8d0b3"
      },
      "outputs": [
        {
          "data": {
            "text/plain": [
              "0.14936120510359185"
            ]
          },
          "execution_count": 17,
          "metadata": {},
          "output_type": "execute_result"
        }
      ],
      "source": [
        "# Probability of receiving 1 call at a certain minute\n",
        "stats.poisson.pmf(1, 3)"
      ]
    },
    {
      "cell_type": "code",
      "execution_count": null,
      "id": "2a9d990d",
      "metadata": {
        "id": "2a9d990d"
      },
      "outputs": [],
      "source": [
        "sum = 0"
      ]
    },
    {
      "cell_type": "code",
      "execution_count": null,
      "id": "e7bc6859",
      "metadata": {
        "id": "e7bc6859"
      },
      "outputs": [],
      "source": [
        "for i in range(1, 5):\n",
        "    sum = stats.poisson.pmf(i, 3) + sum"
      ]
    },
    {
      "cell_type": "code",
      "execution_count": null,
      "id": "b62d9d68",
      "metadata": {
        "id": "b62d9d68",
        "outputId": "145ddd75-870c-4b5e-bca2-68ab2b8029ae"
      },
      "outputs": [
        {
          "data": {
            "text/plain": [
              "0.7654761761559081"
            ]
          },
          "execution_count": 22,
          "metadata": {},
          "output_type": "execute_result"
        }
      ],
      "source": [
        "sum    # P(X = 1) + P(X = 2) + P(X = 3) + P(X = 4)"
      ]
    },
    {
      "cell_type": "code",
      "execution_count": null,
      "id": "2de00d9e",
      "metadata": {
        "id": "2de00d9e",
        "outputId": "a89dbcbe-5ab0-4580-9b65-1dd4b9860675"
      },
      "outputs": [
        {
          "data": {
            "text/plain": [
              "0.23452382384409187"
            ]
          },
          "execution_count": 24,
          "metadata": {},
          "output_type": "execute_result"
        }
      ],
      "source": [
        "1-sum  # P(X = 0) + P(X >= 5)"
      ]
    },
    {
      "cell_type": "markdown",
      "id": "9be24eb4",
      "metadata": {
        "id": "9be24eb4"
      },
      "source": [
        "# Exercise"
      ]
    },
    {
      "cell_type": "markdown",
      "id": "a6030922",
      "metadata": {
        "id": "a6030922"
      },
      "source": [
        "1. On average, two new accounts are opened per day at one bank branch."
      ]
    },
    {
      "cell_type": "markdown",
      "id": "dcf0c872",
      "metadata": {
        "id": "dcf0c872"
      },
      "source": [
        "(a). Find the probability that on a given day, the number of accounts will be opened is at least 3."
      ]
    },
    {
      "cell_type": "code",
      "execution_count": null,
      "id": "4a65bb17",
      "metadata": {
        "id": "4a65bb17"
      },
      "outputs": [],
      "source": [
        "sum = 0\n",
        "for i in range(3):\n",
        "    sum = stats.poisson.pmf(i, 2) + sum"
      ]
    },
    {
      "cell_type": "code",
      "execution_count": null,
      "id": "7760dfa9",
      "metadata": {
        "id": "7760dfa9",
        "outputId": "782b07fb-51bd-4d77-8b8d-707d8818a67f"
      },
      "outputs": [
        {
          "data": {
            "text/plain": [
              "0.3233235838169365"
            ]
          },
          "execution_count": 26,
          "metadata": {},
          "output_type": "execute_result"
        }
      ],
      "source": [
        "1-sum"
      ]
    },
    {
      "cell_type": "markdown",
      "id": "57e521a9",
      "metadata": {
        "id": "57e521a9"
      },
      "source": [
        "(b). Find the probability that in a given week (5 days in total), the number of accounts that will be opened is exactly 10."
      ]
    },
    {
      "cell_type": "code",
      "execution_count": null,
      "id": "1aa5142e",
      "metadata": {
        "id": "1aa5142e",
        "outputId": "3ee43e44-2c0f-4d29-a440-a870a508a689"
      },
      "outputs": [
        {
          "data": {
            "text/plain": [
              "0.12511003572113372"
            ]
          },
          "execution_count": 27,
          "metadata": {},
          "output_type": "execute_result"
        }
      ],
      "source": [
        "stats.poisson.pmf(10, 2*5)"
      ]
    },
    {
      "cell_type": "markdown",
      "id": "80329f8c",
      "metadata": {
        "id": "80329f8c"
      },
      "source": [
        "(c). Now the manager expects that 2 or more accounts will be opened everyday\n",
        "in the next week (5 days in total). Let $X$ denote the number of days when the manager’s\n",
        "expectation can be met. Compute the probability that $X$ is less than 3."
      ]
    },
    {
      "cell_type": "code",
      "execution_count": null,
      "id": "2e66ec1a",
      "metadata": {
        "id": "2e66ec1a"
      },
      "outputs": [],
      "source": [
        "d = 0\n",
        "for i in range(2):\n",
        "    d = stats.poisson.pmf(i, 2) + d"
      ]
    },
    {
      "cell_type": "code",
      "execution_count": null,
      "id": "ebaea4a2",
      "metadata": {
        "id": "ebaea4a2",
        "outputId": "4dee0c86-dbea-41d6-b545-76bf7472a1a2"
      },
      "outputs": [
        {
          "data": {
            "text/plain": [
              "0.4060058497098381"
            ]
          },
          "execution_count": 32,
          "metadata": {},
          "output_type": "execute_result"
        }
      ],
      "source": [
        "d    # Probability of \"2 or more accounts are opened on a day\""
      ]
    },
    {
      "cell_type": "code",
      "execution_count": null,
      "id": "838a1ea9",
      "metadata": {
        "id": "838a1ea9"
      },
      "outputs": [],
      "source": [
        "# Sum the three probabilities of \"k days in 5 days meet the target\", where k = 0, 1, 2.\n",
        "prob = 0\n",
        "for i in range(3):\n",
        "    prob = prob + stats.binom.pmf(i, 5, d)"
      ]
    },
    {
      "cell_type": "code",
      "execution_count": null,
      "id": "3eafcf74",
      "metadata": {
        "id": "3eafcf74",
        "outputId": "ccdeaab5-3ec6-4d8b-fbbf-179f7205558a"
      },
      "outputs": [
        {
          "data": {
            "text/plain": [
              "0.6721309076079318"
            ]
          },
          "execution_count": 34,
          "metadata": {},
          "output_type": "execute_result"
        }
      ],
      "source": [
        "prob"
      ]
    },
    {
      "cell_type": "markdown",
      "id": "704c9bc0",
      "metadata": {
        "id": "704c9bc0"
      },
      "source": [
        "2. Mary goes to school by bus. On any school day, she takes, with probabilities 0.6, 0.3 and 0.1, one of the three bus routes $R_1$, $R_2$ and $R_3$ respectively. Past experience reveals that, on any given day, the probabilities that Mary arrives at school late by taking routes $R_1$, $R_2$ and $R_3$ are 0.05, 0.2 and 0.3 respectively."
      ]
    },
    {
      "cell_type": "markdown",
      "id": "45638240",
      "metadata": {
        "id": "45638240"
      },
      "source": [
        "(a). Mary arrived at school late on a certain day. What is the probability that she took $R_3$ on that day?"
      ]
    },
    {
      "cell_type": "code",
      "execution_count": null,
      "id": "a78f89fb",
      "metadata": {
        "id": "a78f89fb",
        "outputId": "22029892-939b-4838-a809-54be1afcd73c"
      },
      "outputs": [
        {
          "data": {
            "text/plain": [
              "0.25"
            ]
          },
          "execution_count": 35,
          "metadata": {},
          "output_type": "execute_result"
        }
      ],
      "source": [
        "0.1*0.3/(0.6*0.05 + 0.3*0.2 + 0.1*0.3)"
      ]
    },
    {
      "cell_type": "markdown",
      "id": "aa014ed7",
      "metadata": {
        "id": "aa014ed7"
      },
      "source": [
        "(b). There are 20 school days in April. Find the probability that Mary will arrive at school late on at most two days in April."
      ]
    },
    {
      "cell_type": "code",
      "execution_count": null,
      "id": "c7deef2f",
      "metadata": {
        "id": "c7deef2f"
      },
      "outputs": [],
      "source": [
        "q = 0.6*0.05 + 0.3*0.2 + 0.1*0.3"
      ]
    },
    {
      "cell_type": "code",
      "execution_count": null,
      "id": "264b6249",
      "metadata": {
        "id": "264b6249"
      },
      "outputs": [],
      "source": [
        "binom = 0\n",
        "for i in range(3):\n",
        "    binom = binom + stats.binom.pmf(i, 20, q)"
      ]
    },
    {
      "cell_type": "code",
      "execution_count": null,
      "id": "b0e7be9a",
      "metadata": {
        "id": "b0e7be9a",
        "outputId": "3d18f801-e746-41c9-dd05-619db14e3170"
      },
      "outputs": [
        {
          "data": {
            "text/plain": [
              "0.5631315224061946"
            ]
          },
          "execution_count": 41,
          "metadata": {},
          "output_type": "execute_result"
        }
      ],
      "source": [
        "binom"
      ]
    },
    {
      "cell_type": "markdown",
      "id": "5c1ce6c1",
      "metadata": {
        "id": "5c1ce6c1"
      },
      "source": [
        "3. By algebraic calculations, we know that the theoretical expected value of throwing a fair die is 3.5. Using Python to simulate throwing 10000 times of a fair die, then compute the estimated expected value of the outcome. (should be close to 3.5)"
      ]
    },
    {
      "cell_type": "code",
      "execution_count": null,
      "id": "908a9945",
      "metadata": {
        "id": "908a9945"
      },
      "outputs": [],
      "source": [
        "np.random.seed(1)"
      ]
    },
    {
      "cell_type": "code",
      "execution_count": null,
      "id": "5feddf9e",
      "metadata": {
        "id": "5feddf9e"
      },
      "outputs": [],
      "source": [
        "n = 10000"
      ]
    },
    {
      "cell_type": "code",
      "execution_count": null,
      "id": "9eece2dc",
      "metadata": {
        "id": "9eece2dc",
        "outputId": "af9bf79c-ac4c-4068-cdda-197737c2da4a"
      },
      "outputs": [
        {
          "data": {
            "text/plain": [
              "array([1619, 1617, 1667, 1665, 1645, 1690], dtype=int64)"
            ]
          },
          "execution_count": 72,
          "metadata": {},
          "output_type": "execute_result"
        }
      ],
      "source": [
        "die = stats.binom.rvs(n, 1/6, size = 6)    # simulating the numbers of each outcome we get\n",
        "die"
      ]
    },
    {
      "cell_type": "code",
      "execution_count": null,
      "id": "ed210e89",
      "metadata": {
        "id": "ed210e89"
      },
      "outputs": [],
      "source": [
        "exp = 0\n",
        "for i in range(6):\n",
        "    exp = exp + (i+1)*die[i]/n"
      ]
    },
    {
      "cell_type": "code",
      "execution_count": null,
      "id": "cae44e9d",
      "metadata": {
        "id": "cae44e9d",
        "outputId": "2e31fa2e-3477-4dee-fff9-5a591c095f68"
      },
      "outputs": [
        {
          "data": {
            "text/plain": [
              "3.4879000000000007"
            ]
          },
          "execution_count": 78,
          "metadata": {},
          "output_type": "execute_result"
        }
      ],
      "source": [
        "exp"
      ]
    }
  ],
  "metadata": {
    "kernelspec": {
      "display_name": "Python 3 (ipykernel)",
      "language": "python",
      "name": "python3"
    },
    "language_info": {
      "codemirror_mode": {
        "name": "ipython",
        "version": 3
      },
      "file_extension": ".py",
      "mimetype": "text/x-python",
      "name": "python",
      "nbconvert_exporter": "python",
      "pygments_lexer": "ipython3",
      "version": "3.9.13"
    },
    "colab": {
      "provenance": []
    }
  },
  "nbformat": 4,
  "nbformat_minor": 5
}