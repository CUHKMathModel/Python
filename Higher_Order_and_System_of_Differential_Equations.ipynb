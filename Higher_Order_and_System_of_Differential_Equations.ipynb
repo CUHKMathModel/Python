{
  "cells": [
    {
      "cell_type": "markdown",
      "id": "44a9d342",
      "metadata": {
        "id": "44a9d342"
      },
      "source": [
        "# Notes"
      ]
    },
    {
      "cell_type": "markdown",
      "id": "6a15471e",
      "metadata": {
        "id": "6a15471e"
      },
      "source": [
        "## ```Example 1 (System of 1st Order ODE)```"
      ]
    },
    {
      "cell_type": "markdown",
      "id": "fd7196c9",
      "metadata": {
        "id": "fd7196c9"
      },
      "source": [
        "System of ODE is common in application in order to model a complicated phenomenon. Actually we may treat the problem as solving a matrix which each row is a simple 1st order IVP."
      ]
    },
    {
      "cell_type": "markdown",
      "id": "e221e049",
      "metadata": {
        "id": "e221e049"
      },
      "source": [
        "Suppose we are going to solve the following system for $x_1(t)$ and $x_2(t)$.\n",
        "\n",
        "$$\\left\\{\\begin{align*}\n",
        "x_1' &= x_1 + x_2^2 + 3t \\\\\n",
        "x_2' &= 3x_1 + x_2^3 - \\cos(t) \\\\\n",
        "x_1(0) &= 0 \\\\\n",
        "x_2(0) &= 0 \\\\\n",
        "\\end{align*}\\right.$$"
      ]
    },
    {
      "cell_type": "markdown",
      "id": "d78c073c",
      "metadata": {
        "id": "d78c073c"
      },
      "source": [
        "Actually the system can be expressed in the following matrix form.\n",
        "\n",
        "$$\n",
        "X' =\n",
        "\\begin{bmatrix} x_1' \\\\ x_2' \\end{bmatrix} =\n",
        "\\begin{bmatrix}  x_1 + x_2^2 + 3t \\\\ 3x_1 + x_2^3 - \\cos(t) \\end{bmatrix}\n",
        "$$\n",
        "\n",
        "Then we may repeat the steps in **\"First Order Differential Equation\"** to solve the solution matrix $X$ in the interval $0 \\leq t \\leq 1$."
      ]
    },
    {
      "cell_type": "code",
      "execution_count": null,
      "id": "903ebbe9",
      "metadata": {
        "id": "903ebbe9"
      },
      "outputs": [],
      "source": [
        "import numpy as np\n",
        "import matplotlib.pyplot as plt\n",
        "import scipy as sp\n",
        "from scipy.integrate import odeint"
      ]
    },
    {
      "cell_type": "code",
      "execution_count": null,
      "id": "8c6b18e0",
      "metadata": {
        "id": "8c6b18e0"
      },
      "outputs": [],
      "source": [
        "def dXdt(t, X):\n",
        "    x1, x2 = X      # The variables in the matrix X that we are going to solve for.\n",
        "    return [x1 + x2**2  + 3*t,\n",
        "           3*x1 + x2**3 - np.cos(t)]\n",
        "x1_0 = 0\n",
        "x2_0 = 0\n",
        "X_0 = (x1_0, x2_0)"
      ]
    },
    {
      "cell_type": "code",
      "execution_count": null,
      "id": "b24fc056",
      "metadata": {
        "id": "b24fc056"
      },
      "outputs": [],
      "source": [
        "t = np.linspace(0, 1, 100)\n",
        "sol = odeint(dXdt, X_0, t, tfirst=True)"
      ]
    },
    {
      "cell_type": "code",
      "execution_count": null,
      "id": "ff988ad8",
      "metadata": {
        "id": "ff988ad8"
      },
      "outputs": [],
      "source": [
        "x1_sol = sol.T[0]     # sol.T is a matrix with two rows, the first one is the approximation of x1\n",
        "x2_sol = sol.T[1]     # the second row is the approximation of x2"
      ]
    },
    {
      "cell_type": "code",
      "execution_count": null,
      "id": "0639db6d",
      "metadata": {
        "id": "0639db6d",
        "outputId": "a02d82ea-cb24-4e97-9af5-b5ac1dea240a",
        "colab": {
          "base_uri": "https://localhost:8080/",
          "height": 463
        }
      },
      "outputs": [
        {
          "output_type": "display_data",
          "data": {
            "text/plain": [
              "<Figure size 640x480 with 1 Axes>"
            ],
            "image/png": "[encoded data removed]"
          },
          "metadata": {}
        }
      ],
      "source": [
        "plt.plot(t, x1_sol, label = 'x1')\n",
        "plt.plot(t, x2_sol, label = 'x2')\n",
        "plt.xlabel('$t$', fontsize = 20)\n",
        "plt.legend()\n",
        "plt.grid()\n",
        "plt.show()"
      ]
    },
    {
      "cell_type": "markdown",
      "id": "71cc6e7a",
      "metadata": {
        "id": "71cc6e7a"
      },
      "source": [
        "## ```Example 2 (Higher Order IVP)```"
      ]
    },
    {
      "cell_type": "markdown",
      "id": "a1a180b9",
      "metadata": {
        "id": "a1a180b9"
      },
      "source": [
        "Any higher order IVP can be expressed as a system of 1st order IVP. Then we may use the previous methods to solve the orginal problem."
      ]
    },
    {
      "cell_type": "markdown",
      "id": "fed10b76",
      "metadata": {
        "id": "fed10b76"
      },
      "source": [
        "Suppose we need to solve the following 2nd order IVP.\n",
        "\n",
        "$$x'' = -(x')^2 + \\sin(x)$$\n",
        "\n",
        "We may express this equation into the following by defining two new functions $x_1 = x$ and $x_2 = x'$.\n",
        "\n",
        "$$\n",
        "\\left\\{\\begin{align*}\n",
        "x_1' &= x_2 \\\\\n",
        "x_2' &= -(x_2)^2 + \\sin(x_1)\n",
        "\\end{align*}\\right.\n",
        "$$\n",
        "\n",
        "We may observe that a 2nd order differential equation can be expressed as two 1st order differential equations. In general,\n",
        "* **_defining new variables to replace degree 0 to degree $(n-1)$ derivative_**\n",
        "* **_$n$-th order differential equation can be expressed as $n$ first order differential equations_**"
      ]
    },
    {
      "cell_type": "markdown",
      "id": "dc1eced6",
      "metadata": {
        "id": "dc1eced6"
      },
      "source": [
        "Let's solve the following example in the interval $0 \\leq t \\leq 1$.\n",
        "\n",
        "$$\n",
        "\\left\\{\\begin{align*}\n",
        "x'' &= -(x')^2 + \\sin(x) \\\\\n",
        "x(0) &= 0 \\\\\n",
        "x'(0) &= 5\n",
        "\\end{align*}\\right.\n",
        "$$"
      ]
    },
    {
      "cell_type": "markdown",
      "id": "1c8ce8e2",
      "metadata": {
        "id": "1c8ce8e2"
      },
      "source": [
        "### _Step 1: Transform the Higher Order IVP into System of 1st Order IVP_"
      ]
    },
    {
      "cell_type": "markdown",
      "id": "81216070",
      "metadata": {
        "id": "81216070"
      },
      "source": [
        "Let $x_1 = x$ and $x_2 = x'$. Then the 2nd order IVP becomes\n",
        "\n",
        "$$\n",
        "\\left\\{\\begin{align*}\n",
        "x_1' &= x_2 \\\\\n",
        "x_2' &= -(x_2)^2 + \\sin(x_1) \\\\\n",
        "x_1(0) &= 0 \\\\\n",
        "x_2(0) &= 5\n",
        "\\end{align*}\\right.\n",
        "$$"
      ]
    },
    {
      "cell_type": "markdown",
      "id": "f3baae89",
      "metadata": {
        "id": "f3baae89"
      },
      "source": [
        "### _Step 2: Solve the IVP using Python_"
      ]
    },
    {
      "cell_type": "code",
      "execution_count": null,
      "id": "4fd596a9",
      "metadata": {
        "id": "4fd596a9"
      },
      "outputs": [],
      "source": [
        "def dXdt(t, X):\n",
        "    x1, x2 = X\n",
        "    return [x2,\n",
        "           -x2**2 + np.sin(x1)]\n",
        "x1_0 = 0\n",
        "x2_0 = 5\n",
        "X_0 = (x1_0, x2_0)"
      ]
    },
    {
      "cell_type": "code",
      "execution_count": null,
      "id": "e2489472",
      "metadata": {
        "id": "e2489472"
      },
      "outputs": [],
      "source": [
        "t = np.linspace(0, 1, 100)\n",
        "sol = odeint(dXdt, X_0, t, tfirst=True)"
      ]
    },
    {
      "cell_type": "code",
      "execution_count": null,
      "id": "ea44e73c",
      "metadata": {
        "id": "ea44e73c"
      },
      "outputs": [],
      "source": [
        "x1_sol = sol.T[0]    # approximated values of x(t) from t=0 to t=1\n",
        "x2_sol = sol.T[1]   # approximated values of x'(t) from t=0 to t=1"
      ]
    },
    {
      "cell_type": "markdown",
      "id": "a35811be",
      "metadata": {
        "id": "a35811be"
      },
      "source": [
        "### _Step 3: Plot the solution_"
      ]
    },
    {
      "cell_type": "code",
      "execution_count": null,
      "id": "1f46084f",
      "metadata": {
        "id": "1f46084f",
        "outputId": "0789e6c0-c35e-4967-a1e5-a9b14f070032",
        "colab": {
          "base_uri": "https://localhost:8080/",
          "height": 463
        }
      },
      "outputs": [
        {
          "output_type": "display_data",
          "data": {
            "text/plain": [
              "<Figure size 640x480 with 1 Axes>"
            ],
            "image/png": "[encoded data removed]"
          },
          "metadata": {}
        }
      ],
      "source": [
        "plt.plot(t, x1_sol, label = 'x(t)')\n",
        "plt.plot(t, x2_sol, label = \"x'(t)\")\n",
        "plt.xlabel('$t$', fontsize = 20)\n",
        "plt.legend()\n",
        "plt.grid()\n",
        "plt.show()"
      ]
    },
    {
      "cell_type": "markdown",
      "id": "71c0aaef",
      "metadata": {
        "id": "71c0aaef"
      },
      "source": [
        "# Exercise"
      ]
    },
    {
      "cell_type": "markdown",
      "id": "a620ba3a",
      "metadata": {
        "id": "a620ba3a"
      },
      "source": [
        "1. Find the numerical approximation of the following 2nd order IVP for the solution $y(t)$ in the interval $0\\leq t \\leq 1$.\n",
        "\n",
        "$$\n",
        "\\left\\{\\begin{align*}\n",
        "y'' + y' &= ty \\\\\n",
        "y(0) &= 0 \\\\\n",
        "y'(0) &= -2\n",
        "\\end{align*}\\right.\n",
        "$$"
      ]
    },
    {
      "cell_type": "code",
      "source": [],
      "metadata": {
        "id": "En-0jMqZlTXE"
      },
      "id": "En-0jMqZlTXE",
      "execution_count": null,
      "outputs": []
    },
    {
      "cell_type": "markdown",
      "id": "e62c13c0",
      "metadata": {
        "id": "e62c13c0"
      },
      "source": [
        "2. Find the numerical approximation of the following 3rd order IVP for the solution $y(t)$ in the interval $2\\leq t \\leq 2.5$.\n",
        "\n",
        "$$\n",
        "\\left\\{\\begin{align*}\n",
        "(\\sin(t))y''' + \\cos(ty) + \\sin(t^2 + y'') + (y')^4 &= \\ln(t)\\\\\n",
        "y(2) &= 7 \\\\\n",
        "y'(2) &= 3 \\\\\n",
        "y''(2) &= -4\n",
        "\\end{align*}\\right.\n",
        "$$"
      ]
    },
    {
      "cell_type": "code",
      "source": [],
      "metadata": {
        "id": "5bjYN-g5lT7L"
      },
      "id": "5bjYN-g5lT7L",
      "execution_count": null,
      "outputs": []
    },
    {
      "cell_type": "markdown",
      "id": "915bb5b9",
      "metadata": {
        "id": "915bb5b9"
      },
      "source": [
        "3. Find the numerical approximation of $x(t)$ and $y(t)$ from the following system of differential equations in the interval $0 \\leq t \\leq 0.2$.\n",
        "\n",
        "$$\n",
        "\\left\\{\\begin{align*}\n",
        "x'(t) &= x + y^2 -t^3 \\\\\n",
        "y'(t) &= y + x^3 + \\cos(t) \\\\\n",
        "x(0) &= -6 \\\\\n",
        "y(0) &= 5\n",
        "\\end{align*}\\right.\n",
        "$$"
      ]
    },
    {
      "cell_type": "code",
      "source": [],
      "metadata": {
        "id": "d1JnxyyrlUfJ"
      },
      "id": "d1JnxyyrlUfJ",
      "execution_count": null,
      "outputs": []
    },
    {
      "cell_type": "markdown",
      "id": "44711464",
      "metadata": {
        "id": "44711464"
      },
      "source": [
        "4. Let's take a closer look at the situation of the baleen whales and Antarctic krill.\n",
        "\n",
        "   The whales eat the krill, and the krill live on the plankton in the sea.If the whales eat so many krill that the krill cease to be abundant, the food supply of the whales is greatly reduced. Then the whales will starve or leave the area in search of a new supply of krill. As the population of baleen whales dwindles, the krill population makes a comeback because not so many of them are being eaten. As the krill population increases, the food supply for the whales grows and, consequently, so does the baleen whale population. Also, more baleen whales are eating increasingly more krill again.\n",
        "\n",
        "\n",
        "<img src='https://drive.google.com/uc?id=1S16ih6eqJiJX01KfDkQbgzhzgOydKr2O'>\n"
      ]
    },
    {
      "cell_type": "markdown",
      "id": "e5276278",
      "metadata": {
        "id": "e5276278"
      },
      "source": [
        "(a) Given the initial conditions $x(0) = 1$ and $y(0) = 2$. The model parameters are $a = 3$, $b = 1$, $m = 2$ and $n = 1$. Estimate the values of $x(t)$ and $y(t)$ from $0 \\leq t \\leq 8$ and plot the graph of $x(t)$ and $y(t)$ against $t$ in the same figure. You may generate more than 100 points from 0 to 8 to decrease the approximation error, example using 1000 points. What properties of the functions $x(t)$ and $y(t)$ have you found?"
      ]
    },
    {
      "cell_type": "code",
      "source": [],
      "metadata": {
        "id": "btnMVjtJlVTl"
      },
      "id": "btnMVjtJlVTl",
      "execution_count": null,
      "outputs": []
    },
    {
      "cell_type": "markdown",
      "id": "8d645588",
      "metadata": {
        "id": "8d645588"
      },
      "source": [
        "(b) Plot the graph \"$y$ against $x$\", the point $(0,0)$ and $(\\frac{m}{n}, \\frac{a}{b})$. Observe the location of the two points and the curve."
      ]
    },
    {
      "cell_type": "code",
      "source": [],
      "metadata": {
        "id": "JYhDv_KNlVyg"
      },
      "id": "JYhDv_KNlVyg",
      "execution_count": null,
      "outputs": []
    },
    {
      "cell_type": "markdown",
      "id": "53ca1911",
      "metadata": {
        "id": "53ca1911"
      },
      "source": [
        "#### ```Enrichment```\n",
        "\n",
        "Finding **equilibrium points** is a common analysis technique when dealing with system of differential equations models. Suppose we have the following system.\n",
        "\n",
        "$$\n",
        "\\left\\{\\begin{align*}\n",
        "x_1'(t) &= f_1(t, x_1, \\dots, x_n) \\\\\n",
        "\\vdots \\\\\n",
        "x_n'(t) &= f_n(t, x_1, \\dots, x_n)\n",
        "\\end{align*}\\right.\n",
        "$$\n",
        "\n",
        "The equilibrium points are the points $(x_1(t^*), \\dots, x_n(t^*))$ such that $x_1' = \\dots = x_n' = 0$. In the krill and whale example, we have $x'(t) = y'(t) = 0$ when $(x(t), y(t)) = (0,0)$ or $(\\frac{m}{n}, \\frac{a}{b})$. The second steps to analyze is determining the equilibrium points as **stable**, **asymptotically stable** or **unstable**. You may search for the method or ask AI \"How to determine the types of equilibrium points of a system of differential equations?\" for your interest. The method should involving eigenvalues.\n",
        "\n",
        "In this case, both $(0,0)$ and $(\\frac{m}{n}, \\frac{a}{b})$ are unstable equilibrium points. The elliptic shape of the graph \"$y$ against $x$\" is due to the periodic property of $x(t)$ and $y(t)$."
      ]
    },
    {
      "cell_type": "code",
      "source": [],
      "metadata": {
        "id": "dPlTOeILsI1-"
      },
      "id": "dPlTOeILsI1-",
      "execution_count": null,
      "outputs": []
    }
  ],
  "metadata": {
    "colab": {
      "provenance": []
    },
    "kernelspec": {
      "display_name": "Python 3 (ipykernel)",
      "language": "python",
      "name": "python3"
    },
    "language_info": {
      "codemirror_mode": {
        "name": "ipython",
        "version": 3
      },
      "file_extension": ".py",
      "mimetype": "text/x-python",
      "name": "python",
      "nbconvert_exporter": "python",
      "pygments_lexer": "ipython3",
      "version": "3.9.13"
    }
  },
  "nbformat": 4,
  "nbformat_minor": 5
}