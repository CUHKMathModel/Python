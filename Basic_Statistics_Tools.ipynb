{
  "cells": [
    {
      "cell_type": "markdown",
      "id": "7debc8b0",
      "metadata": {
        "id": "7debc8b0"
      },
      "source": [
        "# Notes"
      ]
    },
    {
      "cell_type": "markdown",
      "id": "5f82cf5b",
      "metadata": {
        "id": "5f82cf5b"
      },
      "source": [
        "```Lists```"
      ]
    },
    {
      "cell_type": "markdown",
      "id": "ce1e778a",
      "metadata": {
        "id": "ce1e778a"
      },
      "source": [
        "The built-in package \"statistics\" in Python can help us compute the basic statistical values of a list. Let see the following examples."
      ]
    },
    {
      "cell_type": "code",
      "execution_count": null,
      "id": "b9d477fc",
      "metadata": {
        "id": "b9d477fc"
      },
      "outputs": [],
      "source": [
        "import numpy as np\n",
        "import statistics as st"
      ]
    },
    {
      "cell_type": "code",
      "execution_count": null,
      "id": "43a9cdc9",
      "metadata": {
        "id": "43a9cdc9",
        "outputId": "20455f97-70e0-428f-b7ca-0e4d7ba3313a",
        "colab": {
          "base_uri": "https://localhost:8080/"
        }
      },
      "outputs": [
        {
          "output_type": "execute_result",
          "data": {
            "text/plain": [
              "[1, 2, 3, 3, 4, 5, 10]"
            ]
          },
          "metadata": {},
          "execution_count": 2
        }
      ],
      "source": [
        "a = [1, 2, 3, 3, 4, 5, 10]\n",
        "a\n",
        "\n",
        "# \"statistics\" package works for lists but not NumPy arrays\n",
        "# If you are handling a large data set which is usually a NumPy array, then you may use the\n",
        "# commands in \"numpy\" package."
      ]
    },
    {
      "cell_type": "code",
      "execution_count": null,
      "id": "4911d764",
      "metadata": {
        "id": "4911d764",
        "outputId": "5cf830f4-0d4b-4bd9-e07d-0a30936385d0",
        "colab": {
          "base_uri": "https://localhost:8080/"
        }
      },
      "outputs": [
        {
          "output_type": "execute_result",
          "data": {
            "text/plain": [
              "4"
            ]
          },
          "metadata": {},
          "execution_count": 3
        }
      ],
      "source": [
        "st.mean(a)    # mean of all elements in list a"
      ]
    },
    {
      "cell_type": "code",
      "execution_count": null,
      "id": "81ad9716",
      "metadata": {
        "id": "81ad9716",
        "outputId": "adf68c77-f68d-4064-cba9-9dfa424aefa5",
        "colab": {
          "base_uri": "https://localhost:8080/"
        }
      },
      "outputs": [
        {
          "output_type": "execute_result",
          "data": {
            "text/plain": [
              "3"
            ]
          },
          "metadata": {},
          "execution_count": 4
        }
      ],
      "source": [
        "st.mode(a)    # mode of all elements in list a"
      ]
    },
    {
      "cell_type": "code",
      "execution_count": null,
      "id": "d2fa18ea",
      "metadata": {
        "id": "d2fa18ea",
        "outputId": "1cec49ca-8bfd-46d0-c732-46394d46b46f",
        "colab": {
          "base_uri": "https://localhost:8080/"
        }
      },
      "outputs": [
        {
          "output_type": "execute_result",
          "data": {
            "text/plain": [
              "3"
            ]
          },
          "metadata": {},
          "execution_count": 5
        }
      ],
      "source": [
        "st.median(a)  # median of all elements in list a"
      ]
    },
    {
      "cell_type": "code",
      "execution_count": null,
      "id": "0caeab8c",
      "metadata": {
        "id": "0caeab8c",
        "outputId": "d9fb4463-b6cf-4f0e-dde8-6a196430ab88",
        "colab": {
          "base_uri": "https://localhost:8080/"
        }
      },
      "outputs": [
        {
          "output_type": "execute_result",
          "data": {
            "text/plain": [
              "2.943920288775949"
            ]
          },
          "metadata": {},
          "execution_count": 6
        }
      ],
      "source": [
        "st.stdev(a)   # sample sd of all elements in list a"
      ]
    },
    {
      "cell_type": "code",
      "execution_count": null,
      "id": "c91a1a57",
      "metadata": {
        "id": "c91a1a57",
        "outputId": "be6de6f5-69bf-4898-fb26-bd5a990b633d",
        "colab": {
          "base_uri": "https://localhost:8080/"
        }
      },
      "outputs": [
        {
          "output_type": "execute_result",
          "data": {
            "text/plain": [
              "8.666666666666666"
            ]
          },
          "metadata": {},
          "execution_count": 7
        }
      ],
      "source": [
        "st.variance(a)  # sample variance of all elements in list a"
      ]
    },
    {
      "cell_type": "code",
      "execution_count": null,
      "id": "66672ea7",
      "metadata": {
        "id": "66672ea7",
        "outputId": "8e5c4fc4-57e0-4089-e76b-d90972e38f41",
        "colab": {
          "base_uri": "https://localhost:8080/"
        }
      },
      "outputs": [
        {
          "output_type": "execute_result",
          "data": {
            "text/plain": [
              "2.7255405754769875"
            ]
          },
          "metadata": {},
          "execution_count": 8
        }
      ],
      "source": [
        "st.pstdev(a)  # population sd of all elements in list a"
      ]
    },
    {
      "cell_type": "code",
      "execution_count": null,
      "id": "f6aaf909",
      "metadata": {
        "id": "f6aaf909",
        "outputId": "dd1fd932-588d-4a8b-9a58-5f22ba54ce10",
        "colab": {
          "base_uri": "https://localhost:8080/"
        }
      },
      "outputs": [
        {
          "output_type": "execute_result",
          "data": {
            "text/plain": [
              "7.428571428571429"
            ]
          },
          "metadata": {},
          "execution_count": 9
        }
      ],
      "source": [
        "st.pvariance(a)  # population variance of all elements in list a"
      ]
    },
    {
      "cell_type": "code",
      "execution_count": null,
      "id": "5323383f",
      "metadata": {
        "id": "5323383f",
        "outputId": "5e3876b8-7085-4f8d-f1a1-059800ff46fc",
        "colab": {
          "base_uri": "https://localhost:8080/"
        }
      },
      "outputs": [
        {
          "output_type": "execute_result",
          "data": {
            "text/plain": [
              "[2.0, 3.0, 5.0]"
            ]
          },
          "metadata": {},
          "execution_count": 10
        }
      ],
      "source": [
        "st.quantiles(a, n = 4)    # lower quartile, median, upper quartile"
      ]
    },
    {
      "cell_type": "markdown",
      "id": "95dd376c",
      "metadata": {
        "id": "95dd376c"
      },
      "source": [
        "```NumPy Arrays```"
      ]
    },
    {
      "cell_type": "code",
      "execution_count": null,
      "id": "a7715292",
      "metadata": {
        "id": "a7715292"
      },
      "outputs": [],
      "source": [
        "from scipy import stats"
      ]
    },
    {
      "cell_type": "code",
      "execution_count": null,
      "id": "0e92bdd9",
      "metadata": {
        "id": "0e92bdd9",
        "outputId": "aeca73ea-2ed9-4473-fb90-7e5a8449bb44",
        "colab": {
          "base_uri": "https://localhost:8080/"
        }
      },
      "outputs": [
        {
          "output_type": "execute_result",
          "data": {
            "text/plain": [
              "array([ 1,  2,  3,  3,  4,  5, 10])"
            ]
          },
          "metadata": {},
          "execution_count": 12
        }
      ],
      "source": [
        "b = np.array([1, 2, 3, 3, 4, 5, 10])\n",
        "b"
      ]
    },
    {
      "cell_type": "code",
      "execution_count": null,
      "id": "c0675cc9",
      "metadata": {
        "id": "c0675cc9",
        "outputId": "87efb240-c8f2-4c11-a103-7c8eee9142d2",
        "colab": {
          "base_uri": "https://localhost:8080/"
        }
      },
      "outputs": [
        {
          "output_type": "execute_result",
          "data": {
            "text/plain": [
              "np.float64(4.0)"
            ]
          },
          "metadata": {},
          "execution_count": 13
        }
      ],
      "source": [
        "np.mean(b)"
      ]
    },
    {
      "cell_type": "code",
      "execution_count": null,
      "id": "7109eb62",
      "metadata": {
        "id": "7109eb62",
        "outputId": "f469dab2-8845-4e76-b9b8-148daa925784",
        "colab": {
          "base_uri": "https://localhost:8080/"
        }
      },
      "outputs": [
        {
          "output_type": "stream",
          "name": "stdout",
          "text": [
            "3\n",
            "2\n"
          ]
        }
      ],
      "source": [
        "m = stats.mode(b, keepdims = False)\n",
        "print(m.mode)     # mode of array b = 3\n",
        "print(m.count)    # the number of appearance of \"3\" = 2"
      ]
    },
    {
      "cell_type": "code",
      "execution_count": null,
      "id": "5cd8b877",
      "metadata": {
        "id": "5cd8b877",
        "outputId": "2259a09d-0ca9-40b7-8bfa-98bc5bf225f5",
        "colab": {
          "base_uri": "https://localhost:8080/"
        }
      },
      "outputs": [
        {
          "output_type": "execute_result",
          "data": {
            "text/plain": [
              "np.float64(3.0)"
            ]
          },
          "metadata": {},
          "execution_count": 15
        }
      ],
      "source": [
        "np.median(b)"
      ]
    },
    {
      "cell_type": "code",
      "execution_count": null,
      "id": "53fd69cb",
      "metadata": {
        "id": "53fd69cb",
        "outputId": "27000c01-c358-4af4-f7da-d5ebeac0fdc9",
        "colab": {
          "base_uri": "https://localhost:8080/"
        }
      },
      "outputs": [
        {
          "output_type": "execute_result",
          "data": {
            "text/plain": [
              "np.float64(2.7255405754769875)"
            ]
          },
          "metadata": {},
          "execution_count": 16
        }
      ],
      "source": [
        "np.std(b)    # population standard deviation"
      ]
    },
    {
      "cell_type": "code",
      "execution_count": null,
      "id": "ba0fb71b",
      "metadata": {
        "id": "ba0fb71b",
        "outputId": "c3c1b054-5221-41a5-b158-40bd6102d2d3",
        "colab": {
          "base_uri": "https://localhost:8080/"
        }
      },
      "outputs": [
        {
          "output_type": "execute_result",
          "data": {
            "text/plain": [
              "np.float64(7.428571428571429)"
            ]
          },
          "metadata": {},
          "execution_count": 17
        }
      ],
      "source": [
        "np.var(b)    # population variance"
      ]
    },
    {
      "cell_type": "code",
      "execution_count": null,
      "id": "f14f83e9",
      "metadata": {
        "id": "f14f83e9",
        "outputId": "50102da6-49df-4224-915a-2da79df8919d",
        "colab": {
          "base_uri": "https://localhost:8080/"
        }
      },
      "outputs": [
        {
          "output_type": "execute_result",
          "data": {
            "text/plain": [
              "np.float64(2.943920288775949)"
            ]
          },
          "metadata": {},
          "execution_count": 18
        }
      ],
      "source": [
        "np.sqrt(np.var(b)*len(b)/(len(b)-1))    # sample standard deviation"
      ]
    },
    {
      "cell_type": "code",
      "execution_count": null,
      "id": "03e79209",
      "metadata": {
        "id": "03e79209",
        "outputId": "22a13542-047f-44bf-c362-ccf7a3dac6a5",
        "colab": {
          "base_uri": "https://localhost:8080/"
        }
      },
      "outputs": [
        {
          "output_type": "execute_result",
          "data": {
            "text/plain": [
              "np.float64(8.666666666666666)"
            ]
          },
          "metadata": {},
          "execution_count": 19
        }
      ],
      "source": [
        "np.var(b)*len(b)/(len(b)-1)    # sample variance"
      ]
    },
    {
      "cell_type": "code",
      "execution_count": null,
      "id": "ddcf55eb",
      "metadata": {
        "id": "ddcf55eb",
        "outputId": "b7b2bdfa-9745-40fb-8ce1-725288e9edbb",
        "colab": {
          "base_uri": "https://localhost:8080/"
        }
      },
      "outputs": [
        {
          "output_type": "execute_result",
          "data": {
            "text/plain": [
              "np.float64(2.5)"
            ]
          },
          "metadata": {},
          "execution_count": 20
        }
      ],
      "source": [
        "np.percentile(b, 25)    # 25th percentile"
      ]
    },
    {
      "cell_type": "code",
      "execution_count": null,
      "id": "5b4fae45",
      "metadata": {
        "id": "5b4fae45",
        "outputId": "6fecb3fd-f9f1-4f56-a1d4-63b10dbb9478",
        "colab": {
          "base_uri": "https://localhost:8080/"
        }
      },
      "outputs": [
        {
          "output_type": "execute_result",
          "data": {
            "text/plain": [
              "np.float64(3.0)"
            ]
          },
          "metadata": {},
          "execution_count": 21
        }
      ],
      "source": [
        "np.percentile(b, 50)    # 50th percentile"
      ]
    },
    {
      "cell_type": "code",
      "execution_count": null,
      "id": "d6c70256",
      "metadata": {
        "id": "d6c70256",
        "outputId": "ae4938d9-89b2-4bca-e659-14875b303798",
        "colab": {
          "base_uri": "https://localhost:8080/"
        }
      },
      "outputs": [
        {
          "output_type": "execute_result",
          "data": {
            "text/plain": [
              "np.float64(4.5)"
            ]
          },
          "metadata": {},
          "execution_count": 22
        }
      ],
      "source": [
        "np.percentile(b, 75)    # 75th percentile"
      ]
    },
    {
      "cell_type": "markdown",
      "id": "96624229",
      "metadata": {
        "id": "96624229"
      },
      "source": [
        "# Exercise"
      ]
    },
    {
      "cell_type": "markdown",
      "id": "685c519a",
      "metadata": {
        "id": "685c519a"
      },
      "source": [
        "1. Suppose we throw a fair die $n$ times.\n",
        "\n",
        "<img src='https://drive.google.com/uc?id=1LrOhO7jUP79pUO75Ix0JabWJmIBr-5L2'>"
      ]
    },
    {
      "cell_type": "markdown",
      "id": "e64ca931",
      "metadata": {
        "id": "e64ca931"
      },
      "source": [
        "(a) Let $n = 10000$. Generate an array storing each result of throwing the fair die."
      ]
    },
    {
      "cell_type": "code",
      "execution_count": null,
      "id": "755c0721",
      "metadata": {
        "id": "755c0721"
      },
      "outputs": [],
      "source": []
    },
    {
      "cell_type": "markdown",
      "id": "2992dfa0",
      "metadata": {
        "id": "2992dfa0"
      },
      "source": [
        "(b) Compute the smaple mean, median and mode of the results."
      ]
    },
    {
      "cell_type": "code",
      "source": [],
      "metadata": {
        "id": "R5otUIVebLIw"
      },
      "id": "R5otUIVebLIw",
      "execution_count": null,
      "outputs": []
    },
    {
      "cell_type": "markdown",
      "id": "178d1a28",
      "metadata": {
        "id": "178d1a28"
      },
      "source": [
        "(c) Compute the standard deviation, lower quartile and upper quartile of the resuts."
      ]
    },
    {
      "cell_type": "code",
      "execution_count": null,
      "id": "859a6a2c",
      "metadata": {
        "id": "859a6a2c"
      },
      "outputs": [],
      "source": []
    }
  ],
  "metadata": {
    "kernelspec": {
      "display_name": "Python 3 (ipykernel)",
      "language": "python",
      "name": "python3"
    },
    "language_info": {
      "codemirror_mode": {
        "name": "ipython",
        "version": 3
      },
      "file_extension": ".py",
      "mimetype": "text/x-python",
      "name": "python",
      "nbconvert_exporter": "python",
      "pygments_lexer": "ipython3",
      "version": "3.9.13"
    },
    "colab": {
      "provenance": []
    }
  },
  "nbformat": 4,
  "nbformat_minor": 5
}