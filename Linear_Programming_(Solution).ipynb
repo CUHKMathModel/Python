{
  "cells": [
    {
      "cell_type": "markdown",
      "id": "a51c237d",
      "metadata": {
        "id": "a51c237d"
      },
      "source": [
        "# Notes"
      ]
    },
    {
      "cell_type": "markdown",
      "id": "dfd2d2bc",
      "metadata": {
        "id": "dfd2d2bc"
      },
      "source": [
        "Linear programming is a set of techniques used in mathematical optimization. We usually use linear programming to maximize/minimize the objective function with some given constraints."
      ]
    },
    {
      "cell_type": "markdown",
      "id": "4a5c4e70",
      "metadata": {
        "id": "4a5c4e70"
      },
      "source": [
        "## ```Example 1 (Two Variables)```"
      ]
    },
    {
      "cell_type": "markdown",
      "id": "3454835e",
      "metadata": {
        "id": "3454835e"
      },
      "source": [
        "### Sample Problem"
      ]
    },
    {
      "cell_type": "markdown",
      "id": "98bb33e1",
      "metadata": {
        "id": "98bb33e1"
      },
      "source": [
        "Maximize $z = x + 2y$\n",
        "\n",
        "subject to\n",
        "$\\begin{gather}\n",
        "2x + y \\le 20 \\\\\n",
        "-4x + 5y \\le 10 \\\\\n",
        "-x + 2y \\ge -2 \\\\\n",
        "x \\ge 0 \\\\\n",
        "y \\ge 0\n",
        "\\end{gather}$."
      ]
    },
    {
      "cell_type": "markdown",
      "id": "893d5252",
      "metadata": {
        "id": "893d5252"
      },
      "source": [
        "In this example, we are going to find the maximum value of the function $z$ with the given constraints on $x$ and $y$."
      ]
    },
    {
      "cell_type": "code",
      "execution_count": null,
      "id": "ad62eb78",
      "metadata": {
        "id": "ad62eb78"
      },
      "outputs": [],
      "source": [
        "from scipy.optimize import linprog"
      ]
    },
    {
      "cell_type": "markdown",
      "id": "5c50711a",
      "metadata": {
        "id": "5c50711a"
      },
      "source": [
        "### _Step 1: Define the Coefficients of the Objective Function_"
      ]
    },
    {
      "cell_type": "code",
      "execution_count": null,
      "id": "4f86f2a6",
      "metadata": {
        "id": "4f86f2a6"
      },
      "outputs": [],
      "source": [
        "obj_coeff = [-1, -2]\n",
        "\n",
        "# Note that Python always minimizes the objective function. Hence, we need to transform the problem to \"minimizing -x-2y\"."
      ]
    },
    {
      "cell_type": "markdown",
      "id": "a21a3f5f",
      "metadata": {
        "id": "a21a3f5f"
      },
      "source": [
        "### _Step 2: Define the Coefficients of the Constraints_"
      ]
    },
    {
      "cell_type": "code",
      "execution_count": null,
      "id": "93920c92",
      "metadata": {
        "id": "93920c92"
      },
      "outputs": [],
      "source": [
        "con_coeff = [\n",
        "    [2, 1],\n",
        "    [-4, -5],\n",
        "    [-1, 2]\n",
        "]"
      ]
    },
    {
      "cell_type": "markdown",
      "id": "172e4a19",
      "metadata": {
        "id": "172e4a19"
      },
      "source": [
        "### _Step 3: Define the Bounds of the Constraints_"
      ]
    },
    {
      "cell_type": "code",
      "execution_count": null,
      "id": "dac26e42",
      "metadata": {
        "id": "dac26e42"
      },
      "outputs": [],
      "source": [
        "con_bd = [20, 10, -2]"
      ]
    },
    {
      "cell_type": "markdown",
      "id": "2a7b4af0",
      "metadata": {
        "id": "2a7b4af0"
      },
      "source": [
        "### _Step 4: Define the Bounds of the Variables_"
      ]
    },
    {
      "cell_type": "code",
      "execution_count": null,
      "id": "10ce2b03",
      "metadata": {
        "id": "10ce2b03"
      },
      "outputs": [],
      "source": [
        "x_bd = (0, None)  # lower bound = 0, upper bound = none\n",
        "y_bd = (0, None)\n",
        "bd = [x_bd, y_bd]"
      ]
    },
    {
      "cell_type": "markdown",
      "id": "5b191c8e",
      "metadata": {
        "id": "5b191c8e"
      },
      "source": [
        "### _Step 5: Call Out the Solver_"
      ]
    },
    {
      "cell_type": "code",
      "execution_count": null,
      "id": "d3fc2acc",
      "metadata": {
        "id": "d3fc2acc"
      },
      "outputs": [],
      "source": [
        "results = linprog(obj_coeff, A_ub = con_coeff, b_ub = con_bd, bounds = bd, method = 'highs')"
      ]
    },
    {
      "cell_type": "code",
      "execution_count": null,
      "id": "47d1d846",
      "metadata": {
        "id": "47d1d846",
        "outputId": "dfecb558-b93d-43eb-88ba-898dd92fb037"
      },
      "outputs": [
        {
          "name": "stdout",
          "output_type": "stream",
          "text": [
            "Maximum value:  14.799999999999999\n",
            "x: 8.4\n",
            "y: 3.1999999999999993\n"
          ]
        }
      ],
      "source": [
        "print('Maximum value: ', -results.fun)  # Note that a negative sign should be added as Python only computes minimum value.\n",
        "print('x:', results.x[0])\n",
        "print('y:', results.x[1])"
      ]
    },
    {
      "cell_type": "markdown",
      "id": "8c3e9368",
      "metadata": {
        "id": "8c3e9368"
      },
      "source": [
        "## ```Example 2 (Three Variables)```"
      ]
    },
    {
      "cell_type": "markdown",
      "id": "c4f53ed0",
      "metadata": {
        "id": "c4f53ed0"
      },
      "source": [
        "### Sample Problem"
      ]
    },
    {
      "cell_type": "markdown",
      "id": "3469a839",
      "metadata": {
        "id": "3469a839"
      },
      "source": [
        "Minimize $z = 3x_1 + x_2 - 2x_3$\n",
        "\n",
        "subject to\n",
        "$\\begin{gather}\n",
        "5x_1 - x_2 + 3x_3 \\le 5 \\\\\n",
        "-2x_1 + 4x_3 \\le -3 \\\\\n",
        "\\end{gather}$."
      ]
    },
    {
      "cell_type": "code",
      "execution_count": null,
      "id": "8c9ea155",
      "metadata": {
        "id": "8c9ea155"
      },
      "outputs": [],
      "source": [
        "z_cf = [3, 1, -2]\n",
        "con_cf = [\n",
        "    [5, -1, 3],\n",
        "    [-2, 0, 4]\n",
        "]\n",
        "con_const = [5, -3]\n",
        "solu = linprog(z_cf, A_ub = con_cf, b_ub = con_const, method = 'highs')"
      ]
    },
    {
      "cell_type": "code",
      "execution_count": null,
      "id": "33fc2489",
      "metadata": {
        "id": "33fc2489",
        "outputId": "c6d678c1-4836-4144-f57e-e5d987d6edf9"
      },
      "outputs": [
        {
          "name": "stdout",
          "output_type": "stream",
          "text": [
            "Minimum value:  7.0\n",
            "x1: 1.5\n",
            "x2: 2.5\n",
            "x3: 0.0\n"
          ]
        }
      ],
      "source": [
        "print('Minimum value: ', solu.fun)\n",
        "print('x1:', solu.x[0])\n",
        "print('x2:', solu.x[1])\n",
        "print('x3:', solu.x[2])"
      ]
    },
    {
      "cell_type": "markdown",
      "id": "8a1c80cd",
      "metadata": {
        "id": "8a1c80cd"
      },
      "source": [
        "## ```Example 3 (Integer Programming)```"
      ]
    },
    {
      "cell_type": "markdown",
      "id": "2894840b",
      "metadata": {
        "id": "2894840b"
      },
      "source": [
        "Sometime we would like the solution of the optimization to be integers. Hence, we should use integer programming to achieve that. Package \"pulp\" will be used in the following example, which is more powerful than the solver in package \"scipy\". \"pulp\" can solve both ordinary linear programming and integer programming."
      ]
    },
    {
      "cell_type": "markdown",
      "id": "b174add3",
      "metadata": {
        "id": "b174add3"
      },
      "source": [
        "### Sample Problem"
      ]
    },
    {
      "cell_type": "markdown",
      "id": "ee1faebc",
      "metadata": {
        "id": "ee1faebc"
      },
      "source": [
        "ABC company provides three products X, Y and Z. Each unit of X requires 30 minutes of processing time on machine A and 50 minutes of processing time on machine B. Each unit of Y requires 20 minutes on machine A and 35 minutes on machine B. Each unit of Z requires 35 minutes on machine A and 10 minutes on machine B.\n",
        "\n",
        "At the beginning of the week, ABC company has 20 units of X, 70 units of Y and 10 units of Z in stock. Available processing time on machine A for the week is 40 hours and machine B 50 hours. The demand for X, Y and Z are forecasted to be 50 units, 90 units and 20 units. How many product X, Y and Z should ABC company produce in order to maximize the total number of products in stock?"
      ]
    },
    {
      "cell_type": "code",
      "execution_count": null,
      "id": "4a9c2f9a",
      "metadata": {
        "id": "4a9c2f9a",
        "outputId": "47b77803-f193-4551-af55-eef15863360e"
      },
      "outputs": [
        {
          "name": "stdout",
          "output_type": "stream",
          "text": [
            "Collecting pulp\n",
            "  Downloading pulp-3.1.1-py3-none-any.whl (16.4 MB)\n",
            "     ---------------------------------------- 16.4/16.4 MB 5.8 MB/s eta 0:00:00\n",
            "Installing collected packages: pulp\n",
            "Successfully installed pulp-3.1.1\n"
          ]
        }
      ],
      "source": [
        "!pip install pulp\n",
        "import pandas as pd\n",
        "import numpy as np"
      ]
    },
    {
      "cell_type": "code",
      "execution_count": null,
      "id": "696f481f",
      "metadata": {
        "id": "696f481f"
      },
      "outputs": [],
      "source": [
        "from pulp import *"
      ]
    },
    {
      "cell_type": "code",
      "execution_count": null,
      "id": "6f6e6cb4",
      "metadata": {
        "id": "6f6e6cb4"
      },
      "outputs": [],
      "source": [
        "model = LpProblem('Production', LpMaximize)       # LpProblem(<problem_name>, LpMaximize/LpMinimize)\n",
        "x = LpVariable('Product X', 30, None, LpInteger)  # LpVariable(<variable_name>, <lower_bound>, <upper_bound>, LpContinuous/LpInteger)\n",
        "y = LpVariable('Product Y', 20, None, LpInteger)\n",
        "z = LpVariable('Product Z', 10, None, LpInteger)\n",
        "# Originally, we have three constraints, x+20 >= 50, y+70 >= 90 and z+10 >= 20.\n",
        "# We may simplify the three constraints to the lower bound of x, y and z.\n",
        "\n",
        "model += x + 20 + y + 70 + z + 10                 # define the objective functions to be maximized\n",
        "# We need to maximize total units of products = x + 20 + y + 70 + z + 10.\n",
        "\n",
        "model += 30*x + 20*y + 35*z <= 2400, 'Machine A Time'  # constraints 1: Machine A Time (constraint name)\n",
        "model += 50*x + 35*y + 10*z <= 3000, 'Machine B Time'  # constraints 2"
      ]
    },
    {
      "cell_type": "code",
      "execution_count": null,
      "id": "6da17f4c",
      "metadata": {
        "id": "6da17f4c",
        "outputId": "dad8f0c5-f2a8-4790-f0a8-0b885169b361"
      },
      "outputs": [
        {
          "data": {
            "text/plain": [
              "1"
            ]
          },
          "execution_count": 19,
          "metadata": {},
          "output_type": "execute_result"
        }
      ],
      "source": [
        "model.solve()"
      ]
    },
    {
      "cell_type": "code",
      "execution_count": null,
      "id": "e9a76fbc",
      "metadata": {
        "id": "e9a76fbc",
        "outputId": "0347e0b5-38f2-4acf-fa94-8c6d4f61b8e8"
      },
      "outputs": [
        {
          "name": "stdout",
          "output_type": "stream",
          "text": [
            "Product_X = 30.0\n",
            "Product_Y = 36.0\n",
            "Product_Z = 22.0\n"
          ]
        }
      ],
      "source": [
        "for v in model.variables():\n",
        "    print(v.name, '=', v.varValue)"
      ]
    },
    {
      "cell_type": "markdown",
      "id": "4fd9801a",
      "metadata": {
        "id": "4fd9801a"
      },
      "source": [
        "# Exercise"
      ]
    },
    {
      "cell_type": "markdown",
      "id": "49ec6d37",
      "metadata": {
        "id": "49ec6d37"
      },
      "source": [
        "1. A factory produces 2 types of watches, Classic and Sporty. For producing each Classic watch, it requires 4 hours of man-power for assembly, 2 hours for finishing and 1 hour for testing; for each Sporty watch, it requires 3 hours for assembly, 3 hours for finishing and 3 hours for testing. There are 265 hours of man powers for assembly, 120 hours for finishing and 70 hours for testing. If the profits of selling each Classic watch and Sporty watch are $\\text{\\$}$5000 and \\$6500 respectively, find the number of each type of watch that the factory should produce such that the total profit can be maximized."
      ]
    },
    {
      "cell_type": "code",
      "execution_count": null,
      "id": "5d8f1667",
      "metadata": {
        "id": "5d8f1667"
      },
      "outputs": [],
      "source": [
        "# Let x = number of Classic produced and y = number of Sporty produced.\n",
        "# objective function = 5000x + 6500y\n",
        "\n",
        "# constraints:\n",
        "# 4x + 3y <= 265\n",
        "# 2x + 3y <= 120\n",
        "# x + 3y <= 70\n",
        "# x and y are non-negative integers"
      ]
    },
    {
      "cell_type": "code",
      "execution_count": null,
      "id": "53e041c9",
      "metadata": {
        "id": "53e041c9"
      },
      "outputs": [],
      "source": [
        "lp1 = LpProblem('Watch', LpMaximize)\n",
        "x = LpVariable('Classic', 0, None, LpInteger)\n",
        "y = LpVariable('Sporty', 0, None, LpInteger)\n",
        "lp1 += 5000*x + 6500*y\n",
        "lp1 += 4*x + 3*y <= 265\n",
        "lp1 += 2*x + 3*y <= 120\n",
        "lp1 += x + 3*y <= 70"
      ]
    },
    {
      "cell_type": "code",
      "execution_count": null,
      "id": "bb4dcde1",
      "metadata": {
        "id": "bb4dcde1",
        "outputId": "6a4be2d1-128b-40d5-d110-fc8c7d07f015"
      },
      "outputs": [
        {
          "name": "stdout",
          "output_type": "stream",
          "text": [
            "Classic = 60.0\n",
            "Sporty = 0.0\n"
          ]
        }
      ],
      "source": [
        "lp1.solve()\n",
        "for i in lp1.variables():\n",
        "    print(i.name, '=', i.varValue)"
      ]
    },
    {
      "cell_type": "markdown",
      "id": "0e4b1258",
      "metadata": {
        "id": "0e4b1258"
      },
      "source": [
        "2. The advertising alternatives for a company include television, radio, and newspaper advertisements. The costs and estimates for audience coverage are given in the following table."
      ]
    },
    {
      "cell_type": "code",
      "execution_count": null,
      "id": "89b067ae",
      "metadata": {
        "id": "89b067ae",
        "outputId": "33c2bf3b-dda1-4e9b-9e94-c25121be0ba7"
      },
      "outputs": [
        {
          "name": "stdout",
          "output_type": "stream",
          "text": [
            "                            Television  Newspaper  Radio\n",
            "Cost per advertisement ($)        2000        600    300\n",
            "Audience per advertisement      100000      40000  18000\n"
          ]
        }
      ],
      "source": [
        "import pandas as pd\n",
        "data = {'Television':[2000, 100000], 'Newspaper':[600, 40000], 'Radio':[300, 18000]}\n",
        "df = pd.DataFrame(data, index = ['Cost per advertisement ($)', 'Audience per advertisement'])\n",
        "print(df)"
      ]
    },
    {
      "cell_type": "markdown",
      "id": "b1bb7e25",
      "metadata": {
        "id": "b1bb7e25"
      },
      "source": [
        "The local newspaper limits the number of weekly advertisements from a single company to ten.\n",
        "Moreover, in order to balance the advertising among the three types of media, no more than half of the\n",
        "total number of advertisements should occur on the radio, and at least 10% should occur on television.\n",
        "The weekly advertising budget is $18,200. How many advertisements should be run in each of the three\n",
        "types of media to maximize the total audience?"
      ]
    },
    {
      "cell_type": "code",
      "execution_count": null,
      "id": "aa64a48a",
      "metadata": {
        "id": "aa64a48a"
      },
      "outputs": [],
      "source": [
        "# Let x = number of television ads, y = number of newspaper ads and z = number of radio ads.\n",
        "# objective function = 100000x + 40000y + 18000z\n",
        "\n",
        "# constraints:\n",
        "# 2000x + 600y + 300z <= 18200\n",
        "# y <= 10\n",
        "# z <= 0.5(x + y + z)\n",
        "# x >= 0.1(x + y + z)\n",
        "# x, y and z are non-negative integers."
      ]
    },
    {
      "cell_type": "code",
      "execution_count": null,
      "id": "188b1487",
      "metadata": {
        "id": "188b1487"
      },
      "outputs": [],
      "source": [
        "lp2 = LpProblem('Ads', LpMaximize)\n",
        "x = LpVariable('Television', 0, None, LpInteger)\n",
        "y = LpVariable('Newspaper', 0, 10, LpInteger)\n",
        "z = LpVariable('Radio', 0, None, LpInteger)\n",
        "lp2 += 100000*x + 40000*y + 18000*z\n",
        "lp2 += 2000*x + 600*y + 300*z <= 18200\n",
        "lp2 += z <= 0.5*(x + y + z)\n",
        "lp2 += x >= 0.1*(x + y + z)"
      ]
    },
    {
      "cell_type": "code",
      "execution_count": null,
      "id": "1617d70f",
      "metadata": {
        "id": "1617d70f",
        "outputId": "5a9cde65-9788-4626-8fcc-2666bef3ef68"
      },
      "outputs": [
        {
          "name": "stdout",
          "output_type": "stream",
          "text": [
            "Newspaper = 10.0\n",
            "Radio = 14.0\n",
            "Television = 4.0\n"
          ]
        }
      ],
      "source": [
        "lp2.solve()\n",
        "for i in lp2.variables():\n",
        "    print(i.name, '=', i.varValue)"
      ]
    }
  ],
  "metadata": {
    "kernelspec": {
      "display_name": "Python 3 (ipykernel)",
      "language": "python",
      "name": "python3"
    },
    "language_info": {
      "codemirror_mode": {
        "name": "ipython",
        "version": 3
      },
      "file_extension": ".py",
      "mimetype": "text/x-python",
      "name": "python",
      "nbconvert_exporter": "python",
      "pygments_lexer": "ipython3",
      "version": "3.9.13"
    },
    "colab": {
      "provenance": []
    }
  },
  "nbformat": 4,
  "nbformat_minor": 5
}